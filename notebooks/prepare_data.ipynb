{
 "cells": [
  {
   "cell_type": "code",
   "execution_count": 1,
   "metadata": {
    "collapsed": true,
    "ExecuteTime": {
     "end_time": "2023-07-13T07:31:22.367508954Z",
     "start_time": "2023-07-13T07:31:22.362324650Z"
    }
   },
   "outputs": [],
   "source": [
    "import json\n",
    "import pickle\n",
    "\n",
    "import scipy\n",
    "\n",
    "import numpy as np\n",
    "import pandas as pd\n",
    "\n"
   ]
  },
  {
   "cell_type": "code",
   "execution_count": 49,
   "outputs": [],
   "source": [
    "def read_in_csv():\n",
    "    data = pd.read_csv(\"../data/data.csv\")\n",
    "    data.rename(columns={0: 'Date'}, inplace=False)\n",
    "    cols = data.columns.tolist()\n",
    "    cols = cols[-1:] + cols[1:-1]\n",
    "    data = data[cols]\n",
    "    data[\"Date\"] = pd.to_datetime(data[\"Date\"])\n",
    "    data = data.set_index(\"Date\")\n",
    "    data.index = data.index - pd.Timedelta(days=1)\n",
    "\n",
    "    return data\n"
   ],
   "metadata": {
    "collapsed": false,
    "ExecuteTime": {
     "end_time": "2023-07-13T07:48:51.112803499Z",
     "start_time": "2023-07-13T07:48:51.109215864Z"
    }
   }
  },
  {
   "cell_type": "code",
   "execution_count": 50,
   "outputs": [],
   "source": [
    "def consecutive_nans(row):\n",
    "    current_consec = 0\n",
    "    location_of_nans = {}\n",
    "\n",
    "    for key, value in row.items():\n",
    "        if pd.isna(value):\n",
    "\n",
    "            if current_consec == 0:\n",
    "                start_date = key\n",
    "                location_of_nans[key] = pd.Timedelta(1, 'd')\n",
    "            else:\n",
    "                location_of_nans[start_date] += pd.Timedelta(1, 'd')\n",
    "            current_consec += 1\n",
    "        else:\n",
    "            current_consec = 0\n",
    "\n",
    "    return location_of_nans\n"
   ],
   "metadata": {
    "collapsed": false,
    "ExecuteTime": {
     "end_time": "2023-07-13T07:48:51.324536688Z",
     "start_time": "2023-07-13T07:48:51.315003678Z"
    }
   }
  },
  {
   "cell_type": "code",
   "execution_count": 51,
   "outputs": [],
   "source": [
    "def calculate_missing_values(df, to_fill, missing_data):\n",
    "    data_nans_removed = df\n",
    "    for station in to_fill.index:\n",
    "        usable_indices = to_fill.loc[station, 'usable']\n",
    "        x_index = to_fill.loc[station, 'x']\n",
    "        x = df.loc[usable_indices, x_index]\n",
    "        y = df.loc[usable_indices, station]\n",
    "        slope, intercept, _, _, _ = scipy.stats.linregress(x, y)\n",
    "\n",
    "        for start_date, consecutive_day in missing_data.loc[station].items():\n",
    "            end_date = start_date + consecutive_day\n",
    "            day = start_date\n",
    "            while day < end_date:\n",
    "                data_nans_removed.loc[day, station] = intercept + slope * data_nans_removed.loc[day, x_index]\n",
    "                day = day + pd.Timedelta(1, 'd')\n",
    "    return data_nans_removed\n",
    "\n"
   ],
   "metadata": {
    "collapsed": false,
    "ExecuteTime": {
     "end_time": "2023-07-13T07:48:51.602492511Z",
     "start_time": "2023-07-13T07:48:51.561624870Z"
    }
   }
  },
  {
   "cell_type": "code",
   "execution_count": 52,
   "outputs": [],
   "source": [
    "def find_best_correlations(df, md, lt, check_only_complete):\n",
    "    to_fill = pd.DataFrame(columns=['x', 'usable'])\n",
    "\n",
    "    for station, missing in md.items():\n",
    "        if missing == {}:\n",
    "            continue\n",
    "\n",
    "        correlations = pd.DataFrame(columns=['correlation', 'p_value', 'usable'], index=[])\n",
    "\n",
    "        for col in df.columns:\n",
    "            if col == station or (check_only_complete and any((lt[station] & lt[col]))):\n",
    "                continue\n",
    "            data_for_regression = df.loc[df.index[~(lt[station] | lt[col])]][[station, col]]\n",
    "            corr, p_value = scipy.stats.pearsonr(data_for_regression[col], data_for_regression[station])\n",
    "            df2 = pd.DataFrame([[corr, p_value, data_for_regression.index]],\n",
    "                               columns=['correlation', 'p_value', 'usable'], index=[col])\n",
    "            correlations = pd.concat([correlations, df2])\n",
    "\n",
    "        st_max_corr = correlations['correlation'].idxmax()\n",
    "\n",
    "        if correlations['p_value'].loc[st_max_corr] >= 0.05:\n",
    "            print(\"P-Value is too large\")\n",
    "\n",
    "        df3 = pd.DataFrame([[st_max_corr, correlations.loc[st_max_corr, 'usable']]], columns=['x', 'usable'],\n",
    "                           index=[station])\n",
    "        to_fill = pd.concat([to_fill, df3])\n",
    "    return to_fill\n"
   ],
   "metadata": {
    "collapsed": false,
    "ExecuteTime": {
     "end_time": "2023-07-13T07:48:51.792842176Z",
     "start_time": "2023-07-13T07:48:51.748657526Z"
    }
   }
  },
  {
   "cell_type": "code",
   "execution_count": 53,
   "outputs": [],
   "source": [
    "def fill_data(df):\n",
    "    md = df.apply(consecutive_nans, 0)\n",
    "    lt = df.isna()\n",
    "\n",
    "    tf = find_best_correlations(df, md, lt, False)\n",
    "\n",
    "    df_no_nans = calculate_missing_values(df, tf, md)\n",
    "\n",
    "    md = df_no_nans.apply(consecutive_nans, 0)\n",
    "    lt = df_no_nans.isna()\n",
    "\n",
    "    tf = find_best_correlations(df_no_nans, md, lt, True)\n",
    "\n",
    "    df_no_nans = calculate_missing_values(df_no_nans, tf, md)\n",
    "    return df_no_nans"
   ],
   "metadata": {
    "collapsed": false,
    "ExecuteTime": {
     "end_time": "2023-07-13T07:48:52.003909825Z",
     "start_time": "2023-07-13T07:48:52.000585393Z"
    }
   }
  },
  {
   "cell_type": "code",
   "execution_count": 57,
   "outputs": [],
   "source": [
    "data = read_in_csv()\n",
    "\n",
    "data_training = data.loc[data.index <= '2005']\n",
    "data_validation = data.loc[data.index > '2005']\n",
    "\n"
   ],
   "metadata": {
    "collapsed": false,
    "ExecuteTime": {
     "end_time": "2023-07-13T07:51:24.743374039Z",
     "start_time": "2023-07-13T07:51:24.614415153Z"
    }
   }
  },
  {
   "cell_type": "code",
   "execution_count": 60,
   "outputs": [
    {
     "data": {
      "text/plain": "             1515   1516   1518   1521   1719        1720   1722   1723  \\\nDate                                                                      \n1950-12-31 -114.0   -8.0  -88.0  130.0  238.5  231.995463  204.5  194.5   \n1951-01-01 -122.0  -22.0 -102.0  110.0  200.5  198.151138  182.5  160.5   \n1951-01-02 -129.0  -32.0 -119.0   80.0  164.5  166.088094  164.5  114.5   \n1951-01-03 -134.0  -36.0 -124.0   60.0  132.5  137.587610  128.5   88.5   \n1951-01-04 -153.0  -52.0 -135.0   50.0  110.5  117.993528  108.5   80.5   \n...           ...    ...    ...    ...    ...         ...    ...    ...   \n2004-12-28   58.0   38.0 -132.0  304.0  487.0  464.000000  155.0  226.0   \n2004-12-29  101.0  172.0   68.0  380.0  524.0  466.000000  233.0  238.0   \n2004-12-30   40.0  150.0   90.0  423.0  529.0  461.000000  298.0  244.0   \n2004-12-31  -38.0  101.0   60.0  413.0  527.0  465.000000  291.0  354.0   \n2005-01-01  -80.0   45.0    9.0  387.0  513.0  460.000000  274.0  322.0   \n\n             2040  2046  ...        2751   2545        2740  210896  \\\nDate                     ...                                          \n1950-12-31  305.0   408  ...  408.160551   18.0   77.490733   362.0   \n1951-01-01  260.0   376  ...  370.673263   20.0   63.335961   349.0   \n1951-01-02  220.0   334  ...  349.251956   16.0   64.622758   328.0   \n1951-01-03  182.0   286  ...  326.759583   16.0   61.405765   302.0   \n1951-01-04  147.0   239  ...  308.551472    6.0   65.909556   270.0   \n...           ...   ...  ...         ...    ...         ...     ...   \n2004-12-28  453.0    88  ...  254.000000  187.0  162.000000   303.0   \n2004-12-29  466.0   127  ...  256.000000  216.0  177.000000   295.0   \n2004-12-30  495.0   224  ...  260.000000  262.0  172.000000   295.0   \n2004-12-31  496.0   304  ...  251.000000  260.0  166.000000   296.0   \n2005-01-01  489.0   320  ...  244.000000  222.0  176.000000   297.0   \n\n                744612      744616      744618      744624  210888  210900  \nDate                                                                        \n1950-12-31  116.428971  191.827112  203.048181  146.523739   438.0   414.0  \n1951-01-01  108.782307  184.488641  194.801046  134.498247   417.0   400.0  \n1951-01-02  101.723849  177.714668  187.188306  123.397794   390.0   388.0  \n1951-01-03   95.841800  172.069691  180.844356  114.147416   360.0   370.0  \n1951-01-04   90.547955  166.989211  175.134801  105.822075   322.0   349.0  \n...                ...         ...         ...         ...     ...     ...  \n2004-12-28  -48.000000  140.000000  164.000000   70.670639   270.0   213.0  \n2004-12-29  -44.000000  140.000000  167.000000   83.621168   261.0   214.0  \n2004-12-30  -47.000000  130.000000  159.000000   86.396281   274.0   228.0  \n2004-12-31  -52.000000  130.000000  144.000000   82.696130   292.0   255.0  \n2005-01-01  -53.000000  127.000000  146.000000   82.696130   307.0   288.0  \n\n[19726 rows x 56 columns]",
      "text/html": "<div>\n<style scoped>\n    .dataframe tbody tr th:only-of-type {\n        vertical-align: middle;\n    }\n\n    .dataframe tbody tr th {\n        vertical-align: top;\n    }\n\n    .dataframe thead th {\n        text-align: right;\n    }\n</style>\n<table border=\"1\" class=\"dataframe\">\n  <thead>\n    <tr style=\"text-align: right;\">\n      <th></th>\n      <th>1515</th>\n      <th>1516</th>\n      <th>1518</th>\n      <th>1521</th>\n      <th>1719</th>\n      <th>1720</th>\n      <th>1722</th>\n      <th>1723</th>\n      <th>2040</th>\n      <th>2046</th>\n      <th>...</th>\n      <th>2751</th>\n      <th>2545</th>\n      <th>2740</th>\n      <th>210896</th>\n      <th>744612</th>\n      <th>744616</th>\n      <th>744618</th>\n      <th>744624</th>\n      <th>210888</th>\n      <th>210900</th>\n    </tr>\n    <tr>\n      <th>Date</th>\n      <th></th>\n      <th></th>\n      <th></th>\n      <th></th>\n      <th></th>\n      <th></th>\n      <th></th>\n      <th></th>\n      <th></th>\n      <th></th>\n      <th></th>\n      <th></th>\n      <th></th>\n      <th></th>\n      <th></th>\n      <th></th>\n      <th></th>\n      <th></th>\n      <th></th>\n      <th></th>\n      <th></th>\n    </tr>\n  </thead>\n  <tbody>\n    <tr>\n      <th>1950-12-31</th>\n      <td>-114.0</td>\n      <td>-8.0</td>\n      <td>-88.0</td>\n      <td>130.0</td>\n      <td>238.5</td>\n      <td>231.995463</td>\n      <td>204.5</td>\n      <td>194.5</td>\n      <td>305.0</td>\n      <td>408</td>\n      <td>...</td>\n      <td>408.160551</td>\n      <td>18.0</td>\n      <td>77.490733</td>\n      <td>362.0</td>\n      <td>116.428971</td>\n      <td>191.827112</td>\n      <td>203.048181</td>\n      <td>146.523739</td>\n      <td>438.0</td>\n      <td>414.0</td>\n    </tr>\n    <tr>\n      <th>1951-01-01</th>\n      <td>-122.0</td>\n      <td>-22.0</td>\n      <td>-102.0</td>\n      <td>110.0</td>\n      <td>200.5</td>\n      <td>198.151138</td>\n      <td>182.5</td>\n      <td>160.5</td>\n      <td>260.0</td>\n      <td>376</td>\n      <td>...</td>\n      <td>370.673263</td>\n      <td>20.0</td>\n      <td>63.335961</td>\n      <td>349.0</td>\n      <td>108.782307</td>\n      <td>184.488641</td>\n      <td>194.801046</td>\n      <td>134.498247</td>\n      <td>417.0</td>\n      <td>400.0</td>\n    </tr>\n    <tr>\n      <th>1951-01-02</th>\n      <td>-129.0</td>\n      <td>-32.0</td>\n      <td>-119.0</td>\n      <td>80.0</td>\n      <td>164.5</td>\n      <td>166.088094</td>\n      <td>164.5</td>\n      <td>114.5</td>\n      <td>220.0</td>\n      <td>334</td>\n      <td>...</td>\n      <td>349.251956</td>\n      <td>16.0</td>\n      <td>64.622758</td>\n      <td>328.0</td>\n      <td>101.723849</td>\n      <td>177.714668</td>\n      <td>187.188306</td>\n      <td>123.397794</td>\n      <td>390.0</td>\n      <td>388.0</td>\n    </tr>\n    <tr>\n      <th>1951-01-03</th>\n      <td>-134.0</td>\n      <td>-36.0</td>\n      <td>-124.0</td>\n      <td>60.0</td>\n      <td>132.5</td>\n      <td>137.587610</td>\n      <td>128.5</td>\n      <td>88.5</td>\n      <td>182.0</td>\n      <td>286</td>\n      <td>...</td>\n      <td>326.759583</td>\n      <td>16.0</td>\n      <td>61.405765</td>\n      <td>302.0</td>\n      <td>95.841800</td>\n      <td>172.069691</td>\n      <td>180.844356</td>\n      <td>114.147416</td>\n      <td>360.0</td>\n      <td>370.0</td>\n    </tr>\n    <tr>\n      <th>1951-01-04</th>\n      <td>-153.0</td>\n      <td>-52.0</td>\n      <td>-135.0</td>\n      <td>50.0</td>\n      <td>110.5</td>\n      <td>117.993528</td>\n      <td>108.5</td>\n      <td>80.5</td>\n      <td>147.0</td>\n      <td>239</td>\n      <td>...</td>\n      <td>308.551472</td>\n      <td>6.0</td>\n      <td>65.909556</td>\n      <td>270.0</td>\n      <td>90.547955</td>\n      <td>166.989211</td>\n      <td>175.134801</td>\n      <td>105.822075</td>\n      <td>322.0</td>\n      <td>349.0</td>\n    </tr>\n    <tr>\n      <th>...</th>\n      <td>...</td>\n      <td>...</td>\n      <td>...</td>\n      <td>...</td>\n      <td>...</td>\n      <td>...</td>\n      <td>...</td>\n      <td>...</td>\n      <td>...</td>\n      <td>...</td>\n      <td>...</td>\n      <td>...</td>\n      <td>...</td>\n      <td>...</td>\n      <td>...</td>\n      <td>...</td>\n      <td>...</td>\n      <td>...</td>\n      <td>...</td>\n      <td>...</td>\n      <td>...</td>\n    </tr>\n    <tr>\n      <th>2004-12-28</th>\n      <td>58.0</td>\n      <td>38.0</td>\n      <td>-132.0</td>\n      <td>304.0</td>\n      <td>487.0</td>\n      <td>464.000000</td>\n      <td>155.0</td>\n      <td>226.0</td>\n      <td>453.0</td>\n      <td>88</td>\n      <td>...</td>\n      <td>254.000000</td>\n      <td>187.0</td>\n      <td>162.000000</td>\n      <td>303.0</td>\n      <td>-48.000000</td>\n      <td>140.000000</td>\n      <td>164.000000</td>\n      <td>70.670639</td>\n      <td>270.0</td>\n      <td>213.0</td>\n    </tr>\n    <tr>\n      <th>2004-12-29</th>\n      <td>101.0</td>\n      <td>172.0</td>\n      <td>68.0</td>\n      <td>380.0</td>\n      <td>524.0</td>\n      <td>466.000000</td>\n      <td>233.0</td>\n      <td>238.0</td>\n      <td>466.0</td>\n      <td>127</td>\n      <td>...</td>\n      <td>256.000000</td>\n      <td>216.0</td>\n      <td>177.000000</td>\n      <td>295.0</td>\n      <td>-44.000000</td>\n      <td>140.000000</td>\n      <td>167.000000</td>\n      <td>83.621168</td>\n      <td>261.0</td>\n      <td>214.0</td>\n    </tr>\n    <tr>\n      <th>2004-12-30</th>\n      <td>40.0</td>\n      <td>150.0</td>\n      <td>90.0</td>\n      <td>423.0</td>\n      <td>529.0</td>\n      <td>461.000000</td>\n      <td>298.0</td>\n      <td>244.0</td>\n      <td>495.0</td>\n      <td>224</td>\n      <td>...</td>\n      <td>260.000000</td>\n      <td>262.0</td>\n      <td>172.000000</td>\n      <td>295.0</td>\n      <td>-47.000000</td>\n      <td>130.000000</td>\n      <td>159.000000</td>\n      <td>86.396281</td>\n      <td>274.0</td>\n      <td>228.0</td>\n    </tr>\n    <tr>\n      <th>2004-12-31</th>\n      <td>-38.0</td>\n      <td>101.0</td>\n      <td>60.0</td>\n      <td>413.0</td>\n      <td>527.0</td>\n      <td>465.000000</td>\n      <td>291.0</td>\n      <td>354.0</td>\n      <td>496.0</td>\n      <td>304</td>\n      <td>...</td>\n      <td>251.000000</td>\n      <td>260.0</td>\n      <td>166.000000</td>\n      <td>296.0</td>\n      <td>-52.000000</td>\n      <td>130.000000</td>\n      <td>144.000000</td>\n      <td>82.696130</td>\n      <td>292.0</td>\n      <td>255.0</td>\n    </tr>\n    <tr>\n      <th>2005-01-01</th>\n      <td>-80.0</td>\n      <td>45.0</td>\n      <td>9.0</td>\n      <td>387.0</td>\n      <td>513.0</td>\n      <td>460.000000</td>\n      <td>274.0</td>\n      <td>322.0</td>\n      <td>489.0</td>\n      <td>320</td>\n      <td>...</td>\n      <td>244.000000</td>\n      <td>222.0</td>\n      <td>176.000000</td>\n      <td>297.0</td>\n      <td>-53.000000</td>\n      <td>127.000000</td>\n      <td>146.000000</td>\n      <td>82.696130</td>\n      <td>307.0</td>\n      <td>288.0</td>\n    </tr>\n  </tbody>\n</table>\n<p>19726 rows × 56 columns</p>\n</div>"
     },
     "execution_count": 60,
     "metadata": {},
     "output_type": "execute_result"
    }
   ],
   "source": [
    "data_training_filled = fill_data(data_training)"
   ],
   "metadata": {
    "collapsed": false,
    "ExecuteTime": {
     "end_time": "2023-07-13T07:52:40.011104350Z",
     "start_time": "2023-07-13T07:52:36.059217399Z"
    }
   }
  },
  {
   "cell_type": "code",
   "execution_count": 64,
   "outputs": [],
   "source": [
    "data_validation_filled = fill_data(data_validation)"
   ],
   "metadata": {
    "collapsed": false,
    "ExecuteTime": {
     "end_time": "2023-07-13T07:54:13.347189021Z",
     "start_time": "2023-07-13T07:54:11.364784495Z"
    }
   }
  },
  {
   "cell_type": "code",
   "execution_count": 63,
   "outputs": [],
   "source": [
    "stations_to_remove = ['744620',\n",
    "'744622',\n",
    "'2747',\n",
    "'2740',\n",
    "'210896',\n",
    "'744612',\n",
    "'744616',\n",
    "'744618']\n",
    "\n",
    "data_validation = data_validation.drop(stations_to_remove,axis=1)\n",
    "data_training_filled = data_training_filled.drop(stations_to_remove,axis=1)\n"
   ],
   "metadata": {
    "collapsed": false,
    "ExecuteTime": {
     "end_time": "2023-07-13T07:54:08.495878197Z",
     "start_time": "2023-07-13T07:54:08.453776855Z"
    }
   }
  },
  {
   "cell_type": "code",
   "execution_count": 66,
   "outputs": [
    {
     "data": {
      "text/plain": "48"
     },
     "execution_count": 66,
     "metadata": {},
     "output_type": "execute_result"
    }
   ],
   "source": [
    "(data_validation_filled.isna().sum() == 0).sum()"
   ],
   "metadata": {
    "collapsed": false,
    "ExecuteTime": {
     "end_time": "2023-07-13T07:54:44.500557431Z",
     "start_time": "2023-07-13T07:54:44.487848323Z"
    }
   }
  },
  {
   "cell_type": "code",
   "execution_count": 67,
   "outputs": [
    {
     "data": {
      "text/plain": "48"
     },
     "execution_count": 67,
     "metadata": {},
     "output_type": "execute_result"
    }
   ],
   "source": [
    "(data_training_filled.isna().sum() == 0).sum()"
   ],
   "metadata": {
    "collapsed": false,
    "ExecuteTime": {
     "end_time": "2023-07-13T07:55:10.462996826Z",
     "start_time": "2023-07-13T07:55:10.447830071Z"
    }
   }
  },
  {
   "cell_type": "code",
   "execution_count": 68,
   "outputs": [],
   "source": [
    "data_validation_filled.to_csv('../data/data_validation.csv')\n",
    "data_training_filled.to_csv('../data/data_training.csv')"
   ],
   "metadata": {
    "collapsed": false,
    "ExecuteTime": {
     "end_time": "2023-07-13T07:56:30.290951327Z",
     "start_time": "2023-07-13T07:56:29.550936336Z"
    }
   }
  }
 ],
 "metadata": {
  "kernelspec": {
   "display_name": "Python 3",
   "language": "python",
   "name": "python3"
  },
  "language_info": {
   "codemirror_mode": {
    "name": "ipython",
    "version": 2
   },
   "file_extension": ".py",
   "mimetype": "text/x-python",
   "name": "python",
   "nbconvert_exporter": "python",
   "pygments_lexer": "ipython2",
   "version": "2.7.6"
  }
 },
 "nbformat": 4,
 "nbformat_minor": 0
}
