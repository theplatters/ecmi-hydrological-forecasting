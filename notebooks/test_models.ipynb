{
 "cells": [
  {
   "cell_type": "code",
   "execution_count": 259,
   "id": "28bde633",
   "metadata": {
    "ExecuteTime": {
     "end_time": "2023-07-14T10:06:08.616262289Z",
     "start_time": "2023-07-14T10:06:08.612402570Z"
    }
   },
   "outputs": [],
   "source": [
    "import os\n",
    "import sys\n",
    "PROJECT_PATH = os.path.dirname(os.path.dirname(os.path.realpath(\"__file__\")))\n",
    "sys.path.append(PROJECT_PATH)\n",
    "\n",
    "import json\n",
    "import pickle\n",
    "\n",
    "import numpy as np\n",
    "import pandas as pd\n",
    "import torch\n",
    "from torchsummary import summary\n",
    "\n",
    "from src.data.downloader import Downloader\n",
    "from src.model.baseline_model import BaselineModel\n",
    "from src.model.linear_model import LinearModel\n",
    "from src.model.mlp_model import MLPModel\n",
    "from src.model.lstm_model import HydroForecast\n",
    "from src.evaluation.evaluator import Evaluator"
   ]
  },
  {
   "cell_type": "code",
   "execution_count": 11,
   "id": "590c88e7",
   "metadata": {
    "ExecuteTime": {
     "end_time": "2023-07-14T07:28:05.013281526Z",
     "start_time": "2023-07-14T07:28:05.007562443Z"
    }
   },
   "outputs": [],
   "source": [
    "%%capture\n",
    "gdrive_link = \"https://drive.google.com/uc?export=download&id=\"\n",
    "Downloader(gdrive_id=\"1XMqFFSc65UVE3EYh_tgPHtVRnonshjEO\", file_name=\"all_analysis_for_paper.json\") \n",
    "Downloader(files=json.load(open(os.path.join(PROJECT_PATH, \"data\", \"all_analysis_for_paper.json\"))))"
   ]
  },
  {
   "cell_type": "markdown",
   "id": "3295d5b6",
   "metadata": {},
   "source": [
    "# Data loading, preprocessing"
   ]
  },
  {
   "cell_type": "code",
   "execution_count": 206,
   "id": "a525f588",
   "metadata": {
    "ExecuteTime": {
     "end_time": "2023-07-14T09:48:16.035572746Z",
     "start_time": "2023-07-14T09:48:15.893437527Z"
    }
   },
   "outputs": [
    {
     "data": {
      "text/plain": "             1515  1516   1518   1521   1719   1720   1722   1723   2040  \\\nDate                                                                       \n2005-01-01  -80.0  45.0    9.0  387.0  513.0  460.0  274.0  322.0  489.0   \n2005-01-02 -111.0   5.0  -36.0  362.0  505.0  462.0  243.0  310.0  482.0   \n2005-01-03 -123.0  -9.0  -67.0  341.0  499.0  465.0  214.0  270.0  466.0   \n2005-01-04 -132.0 -11.0  -72.0  336.0  498.0  464.0  203.0  260.0  464.0   \n2005-01-05 -127.0  -6.0  -76.0  331.0  496.0  466.0  193.0  258.0  458.0   \n...           ...   ...    ...    ...    ...    ...    ...    ...    ...   \n2020-12-26  -27.0  75.0  -69.0  309.0  478.0  460.0  138.0  204.0  451.0   \n2020-12-27  -94.0  21.0  -50.0  333.0  488.0  460.0  206.0  252.0  464.0   \n2020-12-28 -137.0 -20.0  -92.0  311.0  481.0  459.0  201.0  250.0  461.0   \n2020-12-29 -140.0 -31.0 -118.0  303.0  481.0  462.0  182.0  239.0  457.0   \n2020-12-30  -99.0  -9.0 -117.0  300.0  478.0  457.0  205.0  248.0  466.0   \n\n            2046  ...  1732   1734   2049   2741   2742   2751   2545  \\\nDate              ...                                                   \n2005-01-01   320  ... -47.0   35.0  142.0   86.0  229.0  244.0  222.0   \n2005-01-02   299  ... -46.0   30.0  139.0   85.0  227.0  241.0  198.0   \n2005-01-03   274  ... -47.0   27.0  137.0   75.0  225.0  242.0  198.0   \n2005-01-04   226  ... -50.0   27.0  134.0  109.0  246.0  241.0  198.0   \n2005-01-05   210  ... -38.0   27.0  133.0  149.0  246.0  303.0  202.0   \n...          ...  ...   ...    ...    ...    ...    ...    ...    ...   \n2020-12-26   -78  ... -70.0   52.0  136.0   74.0  194.0  198.0  -18.0   \n2020-12-27    20  ... -88.0   42.0  133.0   82.0  194.0  216.0  -17.0   \n2020-12-28   120  ... -86.0   40.0  133.0   83.0  197.0  215.0  -22.0   \n2020-12-29   132  ...   0.0   53.0  133.0   85.0  197.0  203.0  -24.0   \n2020-12-30   136  ...  12.0  124.0  145.0   80.0  197.0  198.0  -21.0   \n\n               744624      210888      210900  \nDate                                           \n2005-01-01  82.696130  307.000000  288.000000  \n2005-01-02  69.923412  309.000000  306.000000  \n2005-01-03  72.505006  304.000000  306.000000  \n2005-01-04  63.899692  293.000000  293.000000  \n2005-01-05  63.039160  287.000000  282.000000  \n...               ...         ...         ...  \n2020-12-26  31.000000  227.059349  212.846617  \n2020-12-27  19.000000  235.703288  221.319022  \n2020-12-28  24.000000  256.980675  242.174172  \n2020-12-29  32.000000  273.603634  258.467258  \n2020-12-30  50.000000  280.252817  264.984492  \n\n[5843 rows x 48 columns]",
      "text/html": "<div>\n<style scoped>\n    .dataframe tbody tr th:only-of-type {\n        vertical-align: middle;\n    }\n\n    .dataframe tbody tr th {\n        vertical-align: top;\n    }\n\n    .dataframe thead th {\n        text-align: right;\n    }\n</style>\n<table border=\"1\" class=\"dataframe\">\n  <thead>\n    <tr style=\"text-align: right;\">\n      <th></th>\n      <th>1515</th>\n      <th>1516</th>\n      <th>1518</th>\n      <th>1521</th>\n      <th>1719</th>\n      <th>1720</th>\n      <th>1722</th>\n      <th>1723</th>\n      <th>2040</th>\n      <th>2046</th>\n      <th>...</th>\n      <th>1732</th>\n      <th>1734</th>\n      <th>2049</th>\n      <th>2741</th>\n      <th>2742</th>\n      <th>2751</th>\n      <th>2545</th>\n      <th>744624</th>\n      <th>210888</th>\n      <th>210900</th>\n    </tr>\n    <tr>\n      <th>Date</th>\n      <th></th>\n      <th></th>\n      <th></th>\n      <th></th>\n      <th></th>\n      <th></th>\n      <th></th>\n      <th></th>\n      <th></th>\n      <th></th>\n      <th></th>\n      <th></th>\n      <th></th>\n      <th></th>\n      <th></th>\n      <th></th>\n      <th></th>\n      <th></th>\n      <th></th>\n      <th></th>\n      <th></th>\n    </tr>\n  </thead>\n  <tbody>\n    <tr>\n      <th>2005-01-01</th>\n      <td>-80.0</td>\n      <td>45.0</td>\n      <td>9.0</td>\n      <td>387.0</td>\n      <td>513.0</td>\n      <td>460.0</td>\n      <td>274.0</td>\n      <td>322.0</td>\n      <td>489.0</td>\n      <td>320</td>\n      <td>...</td>\n      <td>-47.0</td>\n      <td>35.0</td>\n      <td>142.0</td>\n      <td>86.0</td>\n      <td>229.0</td>\n      <td>244.0</td>\n      <td>222.0</td>\n      <td>82.696130</td>\n      <td>307.000000</td>\n      <td>288.000000</td>\n    </tr>\n    <tr>\n      <th>2005-01-02</th>\n      <td>-111.0</td>\n      <td>5.0</td>\n      <td>-36.0</td>\n      <td>362.0</td>\n      <td>505.0</td>\n      <td>462.0</td>\n      <td>243.0</td>\n      <td>310.0</td>\n      <td>482.0</td>\n      <td>299</td>\n      <td>...</td>\n      <td>-46.0</td>\n      <td>30.0</td>\n      <td>139.0</td>\n      <td>85.0</td>\n      <td>227.0</td>\n      <td>241.0</td>\n      <td>198.0</td>\n      <td>69.923412</td>\n      <td>309.000000</td>\n      <td>306.000000</td>\n    </tr>\n    <tr>\n      <th>2005-01-03</th>\n      <td>-123.0</td>\n      <td>-9.0</td>\n      <td>-67.0</td>\n      <td>341.0</td>\n      <td>499.0</td>\n      <td>465.0</td>\n      <td>214.0</td>\n      <td>270.0</td>\n      <td>466.0</td>\n      <td>274</td>\n      <td>...</td>\n      <td>-47.0</td>\n      <td>27.0</td>\n      <td>137.0</td>\n      <td>75.0</td>\n      <td>225.0</td>\n      <td>242.0</td>\n      <td>198.0</td>\n      <td>72.505006</td>\n      <td>304.000000</td>\n      <td>306.000000</td>\n    </tr>\n    <tr>\n      <th>2005-01-04</th>\n      <td>-132.0</td>\n      <td>-11.0</td>\n      <td>-72.0</td>\n      <td>336.0</td>\n      <td>498.0</td>\n      <td>464.0</td>\n      <td>203.0</td>\n      <td>260.0</td>\n      <td>464.0</td>\n      <td>226</td>\n      <td>...</td>\n      <td>-50.0</td>\n      <td>27.0</td>\n      <td>134.0</td>\n      <td>109.0</td>\n      <td>246.0</td>\n      <td>241.0</td>\n      <td>198.0</td>\n      <td>63.899692</td>\n      <td>293.000000</td>\n      <td>293.000000</td>\n    </tr>\n    <tr>\n      <th>2005-01-05</th>\n      <td>-127.0</td>\n      <td>-6.0</td>\n      <td>-76.0</td>\n      <td>331.0</td>\n      <td>496.0</td>\n      <td>466.0</td>\n      <td>193.0</td>\n      <td>258.0</td>\n      <td>458.0</td>\n      <td>210</td>\n      <td>...</td>\n      <td>-38.0</td>\n      <td>27.0</td>\n      <td>133.0</td>\n      <td>149.0</td>\n      <td>246.0</td>\n      <td>303.0</td>\n      <td>202.0</td>\n      <td>63.039160</td>\n      <td>287.000000</td>\n      <td>282.000000</td>\n    </tr>\n    <tr>\n      <th>...</th>\n      <td>...</td>\n      <td>...</td>\n      <td>...</td>\n      <td>...</td>\n      <td>...</td>\n      <td>...</td>\n      <td>...</td>\n      <td>...</td>\n      <td>...</td>\n      <td>...</td>\n      <td>...</td>\n      <td>...</td>\n      <td>...</td>\n      <td>...</td>\n      <td>...</td>\n      <td>...</td>\n      <td>...</td>\n      <td>...</td>\n      <td>...</td>\n      <td>...</td>\n      <td>...</td>\n    </tr>\n    <tr>\n      <th>2020-12-26</th>\n      <td>-27.0</td>\n      <td>75.0</td>\n      <td>-69.0</td>\n      <td>309.0</td>\n      <td>478.0</td>\n      <td>460.0</td>\n      <td>138.0</td>\n      <td>204.0</td>\n      <td>451.0</td>\n      <td>-78</td>\n      <td>...</td>\n      <td>-70.0</td>\n      <td>52.0</td>\n      <td>136.0</td>\n      <td>74.0</td>\n      <td>194.0</td>\n      <td>198.0</td>\n      <td>-18.0</td>\n      <td>31.000000</td>\n      <td>227.059349</td>\n      <td>212.846617</td>\n    </tr>\n    <tr>\n      <th>2020-12-27</th>\n      <td>-94.0</td>\n      <td>21.0</td>\n      <td>-50.0</td>\n      <td>333.0</td>\n      <td>488.0</td>\n      <td>460.0</td>\n      <td>206.0</td>\n      <td>252.0</td>\n      <td>464.0</td>\n      <td>20</td>\n      <td>...</td>\n      <td>-88.0</td>\n      <td>42.0</td>\n      <td>133.0</td>\n      <td>82.0</td>\n      <td>194.0</td>\n      <td>216.0</td>\n      <td>-17.0</td>\n      <td>19.000000</td>\n      <td>235.703288</td>\n      <td>221.319022</td>\n    </tr>\n    <tr>\n      <th>2020-12-28</th>\n      <td>-137.0</td>\n      <td>-20.0</td>\n      <td>-92.0</td>\n      <td>311.0</td>\n      <td>481.0</td>\n      <td>459.0</td>\n      <td>201.0</td>\n      <td>250.0</td>\n      <td>461.0</td>\n      <td>120</td>\n      <td>...</td>\n      <td>-86.0</td>\n      <td>40.0</td>\n      <td>133.0</td>\n      <td>83.0</td>\n      <td>197.0</td>\n      <td>215.0</td>\n      <td>-22.0</td>\n      <td>24.000000</td>\n      <td>256.980675</td>\n      <td>242.174172</td>\n    </tr>\n    <tr>\n      <th>2020-12-29</th>\n      <td>-140.0</td>\n      <td>-31.0</td>\n      <td>-118.0</td>\n      <td>303.0</td>\n      <td>481.0</td>\n      <td>462.0</td>\n      <td>182.0</td>\n      <td>239.0</td>\n      <td>457.0</td>\n      <td>132</td>\n      <td>...</td>\n      <td>0.0</td>\n      <td>53.0</td>\n      <td>133.0</td>\n      <td>85.0</td>\n      <td>197.0</td>\n      <td>203.0</td>\n      <td>-24.0</td>\n      <td>32.000000</td>\n      <td>273.603634</td>\n      <td>258.467258</td>\n    </tr>\n    <tr>\n      <th>2020-12-30</th>\n      <td>-99.0</td>\n      <td>-9.0</td>\n      <td>-117.0</td>\n      <td>300.0</td>\n      <td>478.0</td>\n      <td>457.0</td>\n      <td>205.0</td>\n      <td>248.0</td>\n      <td>466.0</td>\n      <td>136</td>\n      <td>...</td>\n      <td>12.0</td>\n      <td>124.0</td>\n      <td>145.0</td>\n      <td>80.0</td>\n      <td>197.0</td>\n      <td>198.0</td>\n      <td>-21.0</td>\n      <td>50.000000</td>\n      <td>280.252817</td>\n      <td>264.984492</td>\n    </tr>\n  </tbody>\n</table>\n<p>5843 rows × 48 columns</p>\n</div>"
     },
     "execution_count": 206,
     "metadata": {},
     "output_type": "execute_result"
    }
   ],
   "source": [
    "data_training = pd.read_csv(\"../data/data_training.csv\")\n",
    "data_validation = pd.read_csv('../data/data_validation.csv')\n",
    "\n",
    "data = pd.concat([data_training, data_validation])\n",
    "data[\"Date\"] = pd.to_datetime(data[\"Date\"])\n",
    "data = data.set_index('Date')\n",
    "meta = pd.read_csv(\"../data/meta.csv\")\n",
    "data =  data.loc[data.index >= '2005']\n",
    "\n",
    "data\n"
   ]
  },
  {
   "cell_type": "code",
   "execution_count": 208,
   "id": "edd67da8",
   "metadata": {
    "ExecuteTime": {
     "end_time": "2023-07-14T09:48:28.826055775Z",
     "start_time": "2023-07-14T09:48:28.825042821Z"
    }
   },
   "outputs": [],
   "source": [
    "s_data = data.copy()"
   ]
  },
  {
   "cell_type": "code",
   "execution_count": 209,
   "outputs": [],
   "source": [
    "norm_std = pd.read_csv('../data/params/paramsSTDS.csv',header=None)\n",
    "norm_mean = pd.read_csv('../data/params/paramsMean.csv',header=None)\n",
    "\n",
    "mean_szeged = pd.read_csv('../data/params/paramsYMean.csv')\n",
    "std_szeged = pd.read_csv('../data/params/paramsYSTDS.csv')\n",
    "\n",
    "\n",
    "\n",
    "s_data = (s_data - norm_mean.values.T).div(norm_std.values.T)"
   ],
   "metadata": {
    "collapsed": false,
    "ExecuteTime": {
     "end_time": "2023-07-14T09:48:28.826313998Z",
     "start_time": "2023-07-14T09:48:28.825591207Z"
    }
   }
  },
  {
   "cell_type": "code",
   "execution_count": 210,
   "id": "63018b07",
   "metadata": {
    "ExecuteTime": {
     "end_time": "2023-07-14T09:48:31.583671613Z",
     "start_time": "2023-07-14T09:48:31.573693235Z"
    }
   },
   "outputs": [
    {
     "data": {
      "text/plain": "torch.Size([5822, 15, 48])"
     },
     "execution_count": 210,
     "metadata": {},
     "output_type": "execute_result"
    }
   ],
   "source": [
    "s_data = s_data.iloc[0: -1 -6]\n",
    "windowed_data = np.lib.stride_tricks.sliding_window_view(\n",
    "    s_data, (15, 48)\n",
    ").reshape((-1, 15, 48))\n",
    "win_data_torch = torch.tensor(windowed_data, dtype=torch.float32)\n",
    "win_data_torch.shape"
   ]
  },
  {
   "cell_type": "code",
   "execution_count": 211,
   "id": "c722a1a7",
   "metadata": {
    "ExecuteTime": {
     "end_time": "2023-07-14T09:48:32.932260968Z",
     "start_time": "2023-07-14T09:48:32.919258884Z"
    }
   },
   "outputs": [],
   "source": [
    "y_true = pd.read_csv(os.path.join(PROJECT_PATH, \"data\", \"y_true_2005-01-01_2020-12-24.csv\"),\n",
    "                     header=0, index_col=0)\n",
    "y_true.index = pd.to_datetime(y_true.index)\n",
    "y_true.drop(y_true.head(15).index,inplace=True)"
   ]
  },
  {
   "cell_type": "markdown",
   "source": [
    "## Loading our lstm"
   ],
   "metadata": {
    "collapsed": false
   }
  },
  {
   "cell_type": "code",
   "execution_count": 11,
   "outputs": [
    {
     "data": {
      "text/plain": "HydroForecast(\n  (lstm): LSTM(48, 12, num_layers=5, batch_first=True)\n  (linear): Linear(in_features=12, out_features=7, bias=True)\n)"
     },
     "execution_count": 11,
     "metadata": {},
     "output_type": "execute_result"
    }
   ],
   "source": [
    "lstm = torch.load('../data/lstm_model.pth')\n",
    "lstm"
   ],
   "metadata": {
    "collapsed": false,
    "ExecuteTime": {
     "end_time": "2023-07-14T07:31:17.989937616Z",
     "start_time": "2023-07-14T07:31:17.983128392Z"
    }
   }
  },
  {
   "cell_type": "markdown",
   "source": [
    "## Load CNN"
   ],
   "metadata": {
    "collapsed": false
   }
  },
  {
   "cell_type": "code",
   "execution_count": null,
   "outputs": [],
   "source": [
    "cnn = torch.load('..')"
   ],
   "metadata": {
    "collapsed": false
   }
  },
  {
   "cell_type": "markdown",
   "source": [
    "## Get predictions"
   ],
   "metadata": {
    "collapsed": false
   }
  },
  {
   "cell_type": "code",
   "execution_count": 213,
   "id": "2f6aeb55",
   "metadata": {
    "ExecuteTime": {
     "end_time": "2023-07-14T09:48:40.124105747Z",
     "start_time": "2023-07-14T09:48:40.120340665Z"
    }
   },
   "outputs": [],
   "source": [
    "def get_predictions(model, st_id = \"2275\"):\n",
    "    pred = pd.DataFrame(\n",
    "        data=model(win_data_torch).detach().numpy(),\n",
    "        index=y_true.index,\n",
    "        columns=y_true.columns)\n",
    "\n",
    "    return pred\n",
    "    #return (pred + mean_szeged.iloc[0,0]) * std_szeged.iloc[0,0]"
   ]
  },
  {
   "cell_type": "code",
   "execution_count": 243,
   "id": "99d53edb",
   "metadata": {
    "ExecuteTime": {
     "end_time": "2023-07-14T09:53:24.475429025Z",
     "start_time": "2023-07-14T09:53:24.324241748Z"
    }
   },
   "outputs": [],
   "source": [
    "pred = get_predictions(model=lstm) * std_szeged.iloc[0,0] + mean_szeged.iloc[0,0]\n",
    "pred.drop(pred.head(1).index,inplace=True)\n",
    "pred.index = y_true.index.tolist()[0:-1]"
   ]
  },
  {
   "cell_type": "code",
   "execution_count": 255,
   "outputs": [
    {
     "data": {
      "text/plain": "1day    10.424544\n2day    10.778769\n3day    12.252495\n4day    14.028819\n5day    16.752850\n6day    21.535234\n7day    27.721312\ndtype: float64"
     },
     "execution_count": 255,
     "metadata": {},
     "output_type": "execute_result"
    }
   ],
   "source": [
    "(pred - y_true).abs().mean()"
   ],
   "metadata": {
    "collapsed": false,
    "ExecuteTime": {
     "end_time": "2023-07-14T09:56:30.359008234Z",
     "start_time": "2023-07-14T09:56:30.315068840Z"
    }
   }
  },
  {
   "cell_type": "code",
   "execution_count": 256,
   "outputs": [
    {
     "data": {
      "text/plain": "                  1day        2day        3day        4day        5day  \\\n2005-01-16  237.218475  230.892242  222.210815  214.501266  211.315491   \n2005-01-17  214.809296  199.537888  186.197571  179.280502  180.448929   \n2005-01-18  208.240646  198.924164  188.705902  185.018951  188.999603   \n2005-01-19  192.461761  180.218506  168.993622  164.619553  168.151733   \n2005-01-20  180.693802  172.037964  163.428360  161.092438  165.828934   \n...                ...         ...         ...         ...         ...   \n2020-12-19  117.023216  113.965782  110.781898  108.499237  107.526619   \n2020-12-20  114.820755  111.131889  109.138031  109.425301  111.166214   \n2020-12-21  113.346275  110.325478  109.524384  110.962044  113.535583   \n2020-12-22  109.478752  107.339523  108.768921  112.784172  117.553490   \n2020-12-23  111.749825  111.774643  113.031616  115.244041  117.816078   \n\n                  6day        7day  \n2005-01-16  212.531555  218.088974  \n2005-01-17  187.150635  197.257462  \n2005-01-18  195.589691  206.675034  \n2005-01-19  174.846207  186.167282  \n2005-01-20  172.355362  183.546616  \n...                ...         ...  \n2020-12-19  108.835838  110.496605  \n2020-12-20  114.387962  117.375298  \n2020-12-21  117.216187  120.581268  \n2020-12-22  122.831802  127.140511  \n2020-12-23  121.273506  124.490318  \n\n[5821 rows x 7 columns]",
      "text/html": "<div>\n<style scoped>\n    .dataframe tbody tr th:only-of-type {\n        vertical-align: middle;\n    }\n\n    .dataframe tbody tr th {\n        vertical-align: top;\n    }\n\n    .dataframe thead th {\n        text-align: right;\n    }\n</style>\n<table border=\"1\" class=\"dataframe\">\n  <thead>\n    <tr style=\"text-align: right;\">\n      <th></th>\n      <th>1day</th>\n      <th>2day</th>\n      <th>3day</th>\n      <th>4day</th>\n      <th>5day</th>\n      <th>6day</th>\n      <th>7day</th>\n    </tr>\n  </thead>\n  <tbody>\n    <tr>\n      <th>2005-01-16</th>\n      <td>237.218475</td>\n      <td>230.892242</td>\n      <td>222.210815</td>\n      <td>214.501266</td>\n      <td>211.315491</td>\n      <td>212.531555</td>\n      <td>218.088974</td>\n    </tr>\n    <tr>\n      <th>2005-01-17</th>\n      <td>214.809296</td>\n      <td>199.537888</td>\n      <td>186.197571</td>\n      <td>179.280502</td>\n      <td>180.448929</td>\n      <td>187.150635</td>\n      <td>197.257462</td>\n    </tr>\n    <tr>\n      <th>2005-01-18</th>\n      <td>208.240646</td>\n      <td>198.924164</td>\n      <td>188.705902</td>\n      <td>185.018951</td>\n      <td>188.999603</td>\n      <td>195.589691</td>\n      <td>206.675034</td>\n    </tr>\n    <tr>\n      <th>2005-01-19</th>\n      <td>192.461761</td>\n      <td>180.218506</td>\n      <td>168.993622</td>\n      <td>164.619553</td>\n      <td>168.151733</td>\n      <td>174.846207</td>\n      <td>186.167282</td>\n    </tr>\n    <tr>\n      <th>2005-01-20</th>\n      <td>180.693802</td>\n      <td>172.037964</td>\n      <td>163.428360</td>\n      <td>161.092438</td>\n      <td>165.828934</td>\n      <td>172.355362</td>\n      <td>183.546616</td>\n    </tr>\n    <tr>\n      <th>...</th>\n      <td>...</td>\n      <td>...</td>\n      <td>...</td>\n      <td>...</td>\n      <td>...</td>\n      <td>...</td>\n      <td>...</td>\n    </tr>\n    <tr>\n      <th>2020-12-19</th>\n      <td>117.023216</td>\n      <td>113.965782</td>\n      <td>110.781898</td>\n      <td>108.499237</td>\n      <td>107.526619</td>\n      <td>108.835838</td>\n      <td>110.496605</td>\n    </tr>\n    <tr>\n      <th>2020-12-20</th>\n      <td>114.820755</td>\n      <td>111.131889</td>\n      <td>109.138031</td>\n      <td>109.425301</td>\n      <td>111.166214</td>\n      <td>114.387962</td>\n      <td>117.375298</td>\n    </tr>\n    <tr>\n      <th>2020-12-21</th>\n      <td>113.346275</td>\n      <td>110.325478</td>\n      <td>109.524384</td>\n      <td>110.962044</td>\n      <td>113.535583</td>\n      <td>117.216187</td>\n      <td>120.581268</td>\n    </tr>\n    <tr>\n      <th>2020-12-22</th>\n      <td>109.478752</td>\n      <td>107.339523</td>\n      <td>108.768921</td>\n      <td>112.784172</td>\n      <td>117.553490</td>\n      <td>122.831802</td>\n      <td>127.140511</td>\n    </tr>\n    <tr>\n      <th>2020-12-23</th>\n      <td>111.749825</td>\n      <td>111.774643</td>\n      <td>113.031616</td>\n      <td>115.244041</td>\n      <td>117.816078</td>\n      <td>121.273506</td>\n      <td>124.490318</td>\n    </tr>\n  </tbody>\n</table>\n<p>5821 rows × 7 columns</p>\n</div>"
     },
     "execution_count": 256,
     "metadata": {},
     "output_type": "execute_result"
    }
   ],
   "source": [
    "pred"
   ],
   "metadata": {
    "collapsed": false,
    "ExecuteTime": {
     "end_time": "2023-07-14T09:56:38.118848270Z",
     "start_time": "2023-07-14T09:56:38.104743202Z"
    }
   }
  },
  {
   "cell_type": "code",
   "execution_count": 264,
   "outputs": [],
   "source": [
    "evaluator = Evaluator(y_true.drop(y_true.tail(1).index),pred)"
   ],
   "metadata": {
    "collapsed": false,
    "ExecuteTime": {
     "end_time": "2023-07-14T10:07:17.438334918Z",
     "start_time": "2023-07-14T10:07:17.396877852Z"
    }
   }
  },
  {
   "cell_type": "code",
   "execution_count": 266,
   "outputs": [
    {
     "name": "stderr",
     "output_type": "stream",
     "text": [
      "/home/franzs/Schreibtisch/ecmi-hydrological-forecasting/venv/lib/python3.11/site-packages/numpy/core/fromnumeric.py:3462: FutureWarning: In a future version, DataFrame.mean(axis=None) will return a scalar mean over the entire DataFrame. To retain the old behavior, use 'frame.mean(axis=0)' or just 'frame.mean()'\n",
      "  return mean(axis=axis, dtype=dtype, out=out, **kwargs)\n",
      "/home/franzs/Schreibtisch/ecmi-hydrological-forecasting/venv/lib/python3.11/site-packages/numpy/core/fromnumeric.py:3462: FutureWarning: In a future version, DataFrame.mean(axis=None) will return a scalar mean over the entire DataFrame. To retain the old behavior, use 'frame.mean(axis=0)' or just 'frame.mean()'\n",
      "  return mean(axis=axis, dtype=dtype, out=out, **kwargs)\n",
      "/home/franzs/Schreibtisch/ecmi-hydrological-forecasting/venv/lib/python3.11/site-packages/numpy/core/fromnumeric.py:3462: FutureWarning: In a future version, DataFrame.mean(axis=None) will return a scalar mean over the entire DataFrame. To retain the old behavior, use 'frame.mean(axis=0)' or just 'frame.mean()'\n",
      "  return mean(axis=axis, dtype=dtype, out=out, **kwargs)\n",
      "/home/franzs/Schreibtisch/ecmi-hydrological-forecasting/venv/lib/python3.11/site-packages/numpy/core/fromnumeric.py:3462: FutureWarning: In a future version, DataFrame.mean(axis=None) will return a scalar mean over the entire DataFrame. To retain the old behavior, use 'frame.mean(axis=0)' or just 'frame.mean()'\n",
      "  return mean(axis=axis, dtype=dtype, out=out, **kwargs)\n",
      "/home/franzs/Schreibtisch/ecmi-hydrological-forecasting/venv/lib/python3.11/site-packages/numpy/core/fromnumeric.py:3462: FutureWarning: In a future version, DataFrame.mean(axis=None) will return a scalar mean over the entire DataFrame. To retain the old behavior, use 'frame.mean(axis=0)' or just 'frame.mean()'\n",
      "  return mean(axis=axis, dtype=dtype, out=out, **kwargs)\n",
      "/home/franzs/Schreibtisch/ecmi-hydrological-forecasting/venv/lib/python3.11/site-packages/numpy/core/fromnumeric.py:3462: FutureWarning: In a future version, DataFrame.mean(axis=None) will return a scalar mean over the entire DataFrame. To retain the old behavior, use 'frame.mean(axis=0)' or just 'frame.mean()'\n",
      "  return mean(axis=axis, dtype=dtype, out=out, **kwargs)\n",
      "/home/franzs/Schreibtisch/ecmi-hydrological-forecasting/venv/lib/python3.11/site-packages/numpy/core/fromnumeric.py:3462: FutureWarning: In a future version, DataFrame.mean(axis=None) will return a scalar mean over the entire DataFrame. To retain the old behavior, use 'frame.mean(axis=0)' or just 'frame.mean()'\n",
      "  return mean(axis=axis, dtype=dtype, out=out, **kwargs)\n",
      "/home/franzs/Schreibtisch/ecmi-hydrological-forecasting/venv/lib/python3.11/site-packages/numpy/core/fromnumeric.py:3462: FutureWarning: In a future version, DataFrame.mean(axis=None) will return a scalar mean over the entire DataFrame. To retain the old behavior, use 'frame.mean(axis=0)' or just 'frame.mean()'\n",
      "  return mean(axis=axis, dtype=dtype, out=out, **kwargs)\n",
      "/home/franzs/Schreibtisch/ecmi-hydrological-forecasting/venv/lib/python3.11/site-packages/numpy/core/fromnumeric.py:3462: FutureWarning: In a future version, DataFrame.mean(axis=None) will return a scalar mean over the entire DataFrame. To retain the old behavior, use 'frame.mean(axis=0)' or just 'frame.mean()'\n",
      "  return mean(axis=axis, dtype=dtype, out=out, **kwargs)\n",
      "/home/franzs/Schreibtisch/ecmi-hydrological-forecasting/venv/lib/python3.11/site-packages/numpy/core/fromnumeric.py:3462: FutureWarning: In a future version, DataFrame.mean(axis=None) will return a scalar mean over the entire DataFrame. To retain the old behavior, use 'frame.mean(axis=0)' or just 'frame.mean()'\n",
      "  return mean(axis=axis, dtype=dtype, out=out, **kwargs)\n",
      "/home/franzs/Schreibtisch/ecmi-hydrological-forecasting/venv/lib/python3.11/site-packages/numpy/core/fromnumeric.py:3462: FutureWarning: In a future version, DataFrame.mean(axis=None) will return a scalar mean over the entire DataFrame. To retain the old behavior, use 'frame.mean(axis=0)' or just 'frame.mean()'\n",
      "  return mean(axis=axis, dtype=dtype, out=out, **kwargs)\n",
      "/home/franzs/Schreibtisch/ecmi-hydrological-forecasting/venv/lib/python3.11/site-packages/numpy/core/fromnumeric.py:3462: FutureWarning: In a future version, DataFrame.mean(axis=None) will return a scalar mean over the entire DataFrame. To retain the old behavior, use 'frame.mean(axis=0)' or just 'frame.mean()'\n",
      "  return mean(axis=axis, dtype=dtype, out=out, **kwargs)\n",
      "/home/franzs/Schreibtisch/ecmi-hydrological-forecasting/venv/lib/python3.11/site-packages/numpy/core/fromnumeric.py:3462: FutureWarning: In a future version, DataFrame.mean(axis=None) will return a scalar mean over the entire DataFrame. To retain the old behavior, use 'frame.mean(axis=0)' or just 'frame.mean()'\n",
      "  return mean(axis=axis, dtype=dtype, out=out, **kwargs)\n",
      "/home/franzs/Schreibtisch/ecmi-hydrological-forecasting/venv/lib/python3.11/site-packages/numpy/core/fromnumeric.py:3462: FutureWarning: In a future version, DataFrame.mean(axis=None) will return a scalar mean over the entire DataFrame. To retain the old behavior, use 'frame.mean(axis=0)' or just 'frame.mean()'\n",
      "  return mean(axis=axis, dtype=dtype, out=out, **kwargs)\n",
      "/home/franzs/Schreibtisch/ecmi-hydrological-forecasting/venv/lib/python3.11/site-packages/numpy/core/fromnumeric.py:3462: FutureWarning: In a future version, DataFrame.mean(axis=None) will return a scalar mean over the entire DataFrame. To retain the old behavior, use 'frame.mean(axis=0)' or just 'frame.mean()'\n",
      "  return mean(axis=axis, dtype=dtype, out=out, **kwargs)\n",
      "/home/franzs/Schreibtisch/ecmi-hydrological-forecasting/venv/lib/python3.11/site-packages/numpy/core/fromnumeric.py:3462: FutureWarning: In a future version, DataFrame.mean(axis=None) will return a scalar mean over the entire DataFrame. To retain the old behavior, use 'frame.mean(axis=0)' or just 'frame.mean()'\n",
      "  return mean(axis=axis, dtype=dtype, out=out, **kwargs)\n",
      "/home/franzs/Schreibtisch/ecmi-hydrological-forecasting/venv/lib/python3.11/site-packages/numpy/core/fromnumeric.py:3462: FutureWarning: In a future version, DataFrame.mean(axis=None) will return a scalar mean over the entire DataFrame. To retain the old behavior, use 'frame.mean(axis=0)' or just 'frame.mean()'\n",
      "  return mean(axis=axis, dtype=dtype, out=out, **kwargs)\n",
      "/home/franzs/Schreibtisch/ecmi-hydrological-forecasting/venv/lib/python3.11/site-packages/numpy/core/fromnumeric.py:3462: FutureWarning: In a future version, DataFrame.mean(axis=None) will return a scalar mean over the entire DataFrame. To retain the old behavior, use 'frame.mean(axis=0)' or just 'frame.mean()'\n",
      "  return mean(axis=axis, dtype=dtype, out=out, **kwargs)\n",
      "/home/franzs/Schreibtisch/ecmi-hydrological-forecasting/venv/lib/python3.11/site-packages/numpy/core/fromnumeric.py:3462: FutureWarning: In a future version, DataFrame.mean(axis=None) will return a scalar mean over the entire DataFrame. To retain the old behavior, use 'frame.mean(axis=0)' or just 'frame.mean()'\n",
      "  return mean(axis=axis, dtype=dtype, out=out, **kwargs)\n"
     ]
    }
   ],
   "source": [
    "evaluator.calculate_all_stats().to_csv('../data/metrics/lstm_metrics.csv')"
   ],
   "metadata": {
    "collapsed": false,
    "ExecuteTime": {
     "end_time": "2023-07-14T10:08:50.721797991Z",
     "start_time": "2023-07-14T10:08:50.678821496Z"
    }
   }
  },
  {
   "cell_type": "code",
   "execution_count": 269,
   "outputs": [],
   "source": [
    "pred.to_csv('../data/metrics/lstm_model_raw_prediction_mod.csv')"
   ],
   "metadata": {
    "collapsed": false,
    "ExecuteTime": {
     "end_time": "2023-07-14T10:19:12.808141501Z",
     "start_time": "2023-07-14T10:19:12.765681269Z"
    }
   }
  },
  {
   "cell_type": "code",
   "execution_count": null,
   "outputs": [],
   "source": [],
   "metadata": {
    "collapsed": false
   }
  }
 ],
 "metadata": {
  "kernelspec": {
   "display_name": "Python 3 (ipykernel)",
   "language": "python",
   "name": "python3"
  },
  "language_info": {
   "codemirror_mode": {
    "name": "ipython",
    "version": 3
   },
   "file_extension": ".py",
   "mimetype": "text/x-python",
   "name": "python",
   "nbconvert_exporter": "python",
   "pygments_lexer": "ipython3",
   "version": "3.8.10"
  }
 },
 "nbformat": 4,
 "nbformat_minor": 5
}
