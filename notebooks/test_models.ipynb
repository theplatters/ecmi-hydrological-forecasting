{
 "cells": [
  {
   "cell_type": "code",
   "execution_count": 1,
   "id": "28bde633",
   "metadata": {
    "ExecuteTime": {
     "end_time": "2023-07-14T17:56:48.219538922Z",
     "start_time": "2023-07-14T17:56:46.734730226Z"
    }
   },
   "outputs": [],
   "source": [
    "import os\n",
    "import sys\n",
    "PROJECT_PATH = os.path.dirname(os.path.dirname(os.path.realpath(\"__file__\")))\n",
    "sys.path.append(PROJECT_PATH)\n",
    "\n",
    "import json\n",
    "import pickle\n",
    "\n",
    "import numpy as np\n",
    "import pandas as pd\n",
    "import torch\n",
    "from torchsummary import summary\n",
    "\n",
    "from src.data.downloader import Downloader\n",
    "from src.model.baseline_model import BaselineModel\n",
    "from src.model.linear_model import LinearModel\n",
    "from src.model.mlp_model import MLPModel\n",
    "from src.model.lstm_model import HydroForecast\n",
    "from src.evaluation.evaluator import Evaluator"
   ]
  },
  {
   "cell_type": "code",
   "execution_count": 23,
   "id": "590c88e7",
   "metadata": {
    "ExecuteTime": {
     "end_time": "2023-07-14T13:20:44.332415072Z",
     "start_time": "2023-07-14T13:20:44.328765570Z"
    }
   },
   "outputs": [],
   "source": [
    "%%capture\n",
    "gdrive_link = \"https://drive.google.com/uc?export=download&id=\"\n",
    "Downloader(gdrive_id=\"1XMqFFSc65UVE3EYh_tgPHtVRnonshjEO\", file_name=\"all_analysis_for_paper.json\") \n",
    "Downloader(files=json.load(open(os.path.join(PROJECT_PATH, \"data\", \"all_analysis_for_paper.json\"))))"
   ]
  },
  {
   "cell_type": "markdown",
   "id": "3295d5b6",
   "metadata": {},
   "source": [
    "# Data loading, preprocessing"
   ]
  },
  {
   "cell_type": "code",
   "execution_count": 8,
   "id": "a525f588",
   "metadata": {
    "ExecuteTime": {
     "end_time": "2023-07-14T17:57:37.483652576Z",
     "start_time": "2023-07-14T17:57:37.312191282Z"
    }
   },
   "outputs": [
    {
     "data": {
      "text/plain": "             1515  1516   1518   1521   1719   1720   1722   1723   2040  \\\nDate                                                                       \n2005-01-01  -80.0  45.0    9.0  387.0  513.0  460.0  274.0  322.0  489.0   \n2005-01-02 -111.0   5.0  -36.0  362.0  505.0  462.0  243.0  310.0  482.0   \n2005-01-03 -123.0  -9.0  -67.0  341.0  499.0  465.0  214.0  270.0  466.0   \n2005-01-04 -132.0 -11.0  -72.0  336.0  498.0  464.0  203.0  260.0  464.0   \n2005-01-05 -127.0  -6.0  -76.0  331.0  496.0  466.0  193.0  258.0  458.0   \n...           ...   ...    ...    ...    ...    ...    ...    ...    ...   \n2020-12-26  -27.0  75.0  -69.0  309.0  478.0  460.0  138.0  204.0  451.0   \n2020-12-27  -94.0  21.0  -50.0  333.0  488.0  460.0  206.0  252.0  464.0   \n2020-12-28 -137.0 -20.0  -92.0  311.0  481.0  459.0  201.0  250.0  461.0   \n2020-12-29 -140.0 -31.0 -118.0  303.0  481.0  462.0  182.0  239.0  457.0   \n2020-12-30  -99.0  -9.0 -117.0  300.0  478.0  457.0  205.0  248.0  466.0   \n\n            2046  ...  1732   1734   2049   2741   2742   2751   2545  \\\nDate              ...                                                   \n2005-01-01   320  ... -47.0   35.0  142.0   86.0  229.0  244.0  222.0   \n2005-01-02   299  ... -46.0   30.0  139.0   85.0  227.0  241.0  198.0   \n2005-01-03   274  ... -47.0   27.0  137.0   75.0  225.0  242.0  198.0   \n2005-01-04   226  ... -50.0   27.0  134.0  109.0  246.0  241.0  198.0   \n2005-01-05   210  ... -38.0   27.0  133.0  149.0  246.0  303.0  202.0   \n...          ...  ...   ...    ...    ...    ...    ...    ...    ...   \n2020-12-26   -78  ... -70.0   52.0  136.0   74.0  194.0  198.0  -18.0   \n2020-12-27    20  ... -88.0   42.0  133.0   82.0  194.0  216.0  -17.0   \n2020-12-28   120  ... -86.0   40.0  133.0   83.0  197.0  215.0  -22.0   \n2020-12-29   132  ...   0.0   53.0  133.0   85.0  197.0  203.0  -24.0   \n2020-12-30   136  ...  12.0  124.0  145.0   80.0  197.0  198.0  -21.0   \n\n               744624      210888      210900  \nDate                                           \n2005-01-01  82.696130  307.000000  288.000000  \n2005-01-02  69.923412  309.000000  306.000000  \n2005-01-03  72.505006  304.000000  306.000000  \n2005-01-04  63.899692  293.000000  293.000000  \n2005-01-05  63.039160  287.000000  282.000000  \n...               ...         ...         ...  \n2020-12-26  31.000000  227.059349  212.846617  \n2020-12-27  19.000000  235.703288  221.319022  \n2020-12-28  24.000000  256.980675  242.174172  \n2020-12-29  32.000000  273.603634  258.467258  \n2020-12-30  50.000000  280.252817  264.984492  \n\n[5843 rows x 48 columns]",
      "text/html": "<div>\n<style scoped>\n    .dataframe tbody tr th:only-of-type {\n        vertical-align: middle;\n    }\n\n    .dataframe tbody tr th {\n        vertical-align: top;\n    }\n\n    .dataframe thead th {\n        text-align: right;\n    }\n</style>\n<table border=\"1\" class=\"dataframe\">\n  <thead>\n    <tr style=\"text-align: right;\">\n      <th></th>\n      <th>1515</th>\n      <th>1516</th>\n      <th>1518</th>\n      <th>1521</th>\n      <th>1719</th>\n      <th>1720</th>\n      <th>1722</th>\n      <th>1723</th>\n      <th>2040</th>\n      <th>2046</th>\n      <th>...</th>\n      <th>1732</th>\n      <th>1734</th>\n      <th>2049</th>\n      <th>2741</th>\n      <th>2742</th>\n      <th>2751</th>\n      <th>2545</th>\n      <th>744624</th>\n      <th>210888</th>\n      <th>210900</th>\n    </tr>\n    <tr>\n      <th>Date</th>\n      <th></th>\n      <th></th>\n      <th></th>\n      <th></th>\n      <th></th>\n      <th></th>\n      <th></th>\n      <th></th>\n      <th></th>\n      <th></th>\n      <th></th>\n      <th></th>\n      <th></th>\n      <th></th>\n      <th></th>\n      <th></th>\n      <th></th>\n      <th></th>\n      <th></th>\n      <th></th>\n      <th></th>\n    </tr>\n  </thead>\n  <tbody>\n    <tr>\n      <th>2005-01-01</th>\n      <td>-80.0</td>\n      <td>45.0</td>\n      <td>9.0</td>\n      <td>387.0</td>\n      <td>513.0</td>\n      <td>460.0</td>\n      <td>274.0</td>\n      <td>322.0</td>\n      <td>489.0</td>\n      <td>320</td>\n      <td>...</td>\n      <td>-47.0</td>\n      <td>35.0</td>\n      <td>142.0</td>\n      <td>86.0</td>\n      <td>229.0</td>\n      <td>244.0</td>\n      <td>222.0</td>\n      <td>82.696130</td>\n      <td>307.000000</td>\n      <td>288.000000</td>\n    </tr>\n    <tr>\n      <th>2005-01-02</th>\n      <td>-111.0</td>\n      <td>5.0</td>\n      <td>-36.0</td>\n      <td>362.0</td>\n      <td>505.0</td>\n      <td>462.0</td>\n      <td>243.0</td>\n      <td>310.0</td>\n      <td>482.0</td>\n      <td>299</td>\n      <td>...</td>\n      <td>-46.0</td>\n      <td>30.0</td>\n      <td>139.0</td>\n      <td>85.0</td>\n      <td>227.0</td>\n      <td>241.0</td>\n      <td>198.0</td>\n      <td>69.923412</td>\n      <td>309.000000</td>\n      <td>306.000000</td>\n    </tr>\n    <tr>\n      <th>2005-01-03</th>\n      <td>-123.0</td>\n      <td>-9.0</td>\n      <td>-67.0</td>\n      <td>341.0</td>\n      <td>499.0</td>\n      <td>465.0</td>\n      <td>214.0</td>\n      <td>270.0</td>\n      <td>466.0</td>\n      <td>274</td>\n      <td>...</td>\n      <td>-47.0</td>\n      <td>27.0</td>\n      <td>137.0</td>\n      <td>75.0</td>\n      <td>225.0</td>\n      <td>242.0</td>\n      <td>198.0</td>\n      <td>72.505006</td>\n      <td>304.000000</td>\n      <td>306.000000</td>\n    </tr>\n    <tr>\n      <th>2005-01-04</th>\n      <td>-132.0</td>\n      <td>-11.0</td>\n      <td>-72.0</td>\n      <td>336.0</td>\n      <td>498.0</td>\n      <td>464.0</td>\n      <td>203.0</td>\n      <td>260.0</td>\n      <td>464.0</td>\n      <td>226</td>\n      <td>...</td>\n      <td>-50.0</td>\n      <td>27.0</td>\n      <td>134.0</td>\n      <td>109.0</td>\n      <td>246.0</td>\n      <td>241.0</td>\n      <td>198.0</td>\n      <td>63.899692</td>\n      <td>293.000000</td>\n      <td>293.000000</td>\n    </tr>\n    <tr>\n      <th>2005-01-05</th>\n      <td>-127.0</td>\n      <td>-6.0</td>\n      <td>-76.0</td>\n      <td>331.0</td>\n      <td>496.0</td>\n      <td>466.0</td>\n      <td>193.0</td>\n      <td>258.0</td>\n      <td>458.0</td>\n      <td>210</td>\n      <td>...</td>\n      <td>-38.0</td>\n      <td>27.0</td>\n      <td>133.0</td>\n      <td>149.0</td>\n      <td>246.0</td>\n      <td>303.0</td>\n      <td>202.0</td>\n      <td>63.039160</td>\n      <td>287.000000</td>\n      <td>282.000000</td>\n    </tr>\n    <tr>\n      <th>...</th>\n      <td>...</td>\n      <td>...</td>\n      <td>...</td>\n      <td>...</td>\n      <td>...</td>\n      <td>...</td>\n      <td>...</td>\n      <td>...</td>\n      <td>...</td>\n      <td>...</td>\n      <td>...</td>\n      <td>...</td>\n      <td>...</td>\n      <td>...</td>\n      <td>...</td>\n      <td>...</td>\n      <td>...</td>\n      <td>...</td>\n      <td>...</td>\n      <td>...</td>\n      <td>...</td>\n    </tr>\n    <tr>\n      <th>2020-12-26</th>\n      <td>-27.0</td>\n      <td>75.0</td>\n      <td>-69.0</td>\n      <td>309.0</td>\n      <td>478.0</td>\n      <td>460.0</td>\n      <td>138.0</td>\n      <td>204.0</td>\n      <td>451.0</td>\n      <td>-78</td>\n      <td>...</td>\n      <td>-70.0</td>\n      <td>52.0</td>\n      <td>136.0</td>\n      <td>74.0</td>\n      <td>194.0</td>\n      <td>198.0</td>\n      <td>-18.0</td>\n      <td>31.000000</td>\n      <td>227.059349</td>\n      <td>212.846617</td>\n    </tr>\n    <tr>\n      <th>2020-12-27</th>\n      <td>-94.0</td>\n      <td>21.0</td>\n      <td>-50.0</td>\n      <td>333.0</td>\n      <td>488.0</td>\n      <td>460.0</td>\n      <td>206.0</td>\n      <td>252.0</td>\n      <td>464.0</td>\n      <td>20</td>\n      <td>...</td>\n      <td>-88.0</td>\n      <td>42.0</td>\n      <td>133.0</td>\n      <td>82.0</td>\n      <td>194.0</td>\n      <td>216.0</td>\n      <td>-17.0</td>\n      <td>19.000000</td>\n      <td>235.703288</td>\n      <td>221.319022</td>\n    </tr>\n    <tr>\n      <th>2020-12-28</th>\n      <td>-137.0</td>\n      <td>-20.0</td>\n      <td>-92.0</td>\n      <td>311.0</td>\n      <td>481.0</td>\n      <td>459.0</td>\n      <td>201.0</td>\n      <td>250.0</td>\n      <td>461.0</td>\n      <td>120</td>\n      <td>...</td>\n      <td>-86.0</td>\n      <td>40.0</td>\n      <td>133.0</td>\n      <td>83.0</td>\n      <td>197.0</td>\n      <td>215.0</td>\n      <td>-22.0</td>\n      <td>24.000000</td>\n      <td>256.980675</td>\n      <td>242.174172</td>\n    </tr>\n    <tr>\n      <th>2020-12-29</th>\n      <td>-140.0</td>\n      <td>-31.0</td>\n      <td>-118.0</td>\n      <td>303.0</td>\n      <td>481.0</td>\n      <td>462.0</td>\n      <td>182.0</td>\n      <td>239.0</td>\n      <td>457.0</td>\n      <td>132</td>\n      <td>...</td>\n      <td>0.0</td>\n      <td>53.0</td>\n      <td>133.0</td>\n      <td>85.0</td>\n      <td>197.0</td>\n      <td>203.0</td>\n      <td>-24.0</td>\n      <td>32.000000</td>\n      <td>273.603634</td>\n      <td>258.467258</td>\n    </tr>\n    <tr>\n      <th>2020-12-30</th>\n      <td>-99.0</td>\n      <td>-9.0</td>\n      <td>-117.0</td>\n      <td>300.0</td>\n      <td>478.0</td>\n      <td>457.0</td>\n      <td>205.0</td>\n      <td>248.0</td>\n      <td>466.0</td>\n      <td>136</td>\n      <td>...</td>\n      <td>12.0</td>\n      <td>124.0</td>\n      <td>145.0</td>\n      <td>80.0</td>\n      <td>197.0</td>\n      <td>198.0</td>\n      <td>-21.0</td>\n      <td>50.000000</td>\n      <td>280.252817</td>\n      <td>264.984492</td>\n    </tr>\n  </tbody>\n</table>\n<p>5843 rows × 48 columns</p>\n</div>"
     },
     "execution_count": 8,
     "metadata": {},
     "output_type": "execute_result"
    }
   ],
   "source": [
    "data_training = pd.read_csv(\"../data/data_training.csv\")\n",
    "data_validation = pd.read_csv('../data/data_validation.csv')\n",
    "\n",
    "data = pd.concat([data_training, data_validation])\n",
    "data[\"Date\"] = pd.to_datetime(data[\"Date\"])\n",
    "data = data.set_index('Date')\n",
    "meta = pd.read_csv(\"../data/meta.csv\")\n",
    "data =  data.loc[data.index >= '2005']\n",
    "\n",
    "data\n"
   ]
  },
  {
   "cell_type": "code",
   "execution_count": 9,
   "id": "edd67da8",
   "metadata": {
    "ExecuteTime": {
     "end_time": "2023-07-14T17:57:37.874221044Z",
     "start_time": "2023-07-14T17:57:37.833882006Z"
    }
   },
   "outputs": [],
   "source": [
    "s_data = data.copy()"
   ]
  },
  {
   "cell_type": "code",
   "execution_count": 10,
   "outputs": [
    {
     "data": {
      "text/plain": "                1515      1516      1518      1521      1719      1720  \\\nDate                                                                     \n2005-01-01  0.031084  0.154385  0.417111  0.610616  0.487570  0.326793   \n2005-01-02 -0.171282 -0.076911  0.161921  0.415236  0.426870  0.342829   \n2005-01-03 -0.249618 -0.157865 -0.013877  0.251117  0.381345  0.366884   \n2005-01-04 -0.308369 -0.169430 -0.042231  0.212041  0.373758  0.358866   \n2005-01-05 -0.275730 -0.140518 -0.064915  0.172965  0.358583  0.374902   \n...              ...       ...       ...       ...       ...       ...   \n2020-12-26  0.377066  0.327857 -0.025219  0.001030  0.222009  0.326793   \n2020-12-27 -0.060307  0.015607  0.082528  0.188595  0.297883  0.326793   \n2020-12-28 -0.341009 -0.221471 -0.155649  0.016661  0.244771  0.318774   \n2020-12-29 -0.360593 -0.285078 -0.303092 -0.045861  0.244771  0.342829   \n2020-12-30 -0.092947 -0.157865 -0.297422 -0.069306  0.222009  0.302738   \n\n                1722      1723      2040      2046  ...      1732      1734  \\\nDate                                                ...                       \n2005-01-01  0.653387  0.735811  0.623071  0.651604  ... -0.698417 -0.614128   \n2005-01-02  0.479478  0.669658  0.594934  0.575059  ... -0.680061 -0.731274   \n2005-01-03  0.316789  0.449147  0.530621  0.483934  ... -0.698417 -0.801561   \n2005-01-04  0.255079  0.394020  0.522582  0.308975  ... -0.753486 -0.801561   \n2005-01-05  0.198979  0.382994  0.498464  0.250655  ... -0.533209 -0.801561   \n...              ...       ...       ...       ...  ...       ...       ...   \n2020-12-26 -0.109570  0.085305  0.470327 -0.799102  ... -1.120614 -0.215833   \n2020-12-27  0.271909  0.349918  0.522582 -0.441893  ... -1.451029 -0.450124   \n2020-12-28  0.243859  0.338892  0.510523 -0.077394  ... -1.414316 -0.496983   \n2020-12-29  0.137269  0.278252  0.494445 -0.033654  ...  0.164333 -0.192404   \n2020-12-30  0.266299  0.327867  0.530621 -0.019074  ...  0.384610  1.471065   \n\n                2049      2741      2742      2751      2545    744624  \\\nDate                                                                     \n2005-01-01  0.401449 -0.564918 -0.016621 -0.752997  1.537664 -0.474505   \n2005-01-02  0.367912 -0.573618 -0.040140 -0.778571  1.318215 -0.610389   \n2005-01-03  0.345554 -0.660612 -0.063659 -0.770046  1.318215 -0.582924   \n2005-01-04  0.312016 -0.364830  0.183294 -0.778571  1.318215 -0.674473   \n2005-01-05  0.300837 -0.016850  0.183294 -0.250047  1.354790 -0.683628   \n...              ...       ...       ...       ...       ...       ...   \n2020-12-26  0.334375 -0.669312 -0.428210 -1.145127 -0.656828 -1.024480   \n2020-12-27  0.300837 -0.599716 -0.428210 -0.991685 -0.647684 -1.152143   \n2020-12-28  0.300837 -0.591017 -0.392931 -1.000210 -0.693402 -1.098950   \n2020-12-29  0.300837 -0.573618 -0.392931 -1.102505 -0.711690 -1.013841   \n2020-12-30  0.434987 -0.617115 -0.392931 -1.145127 -0.684259 -0.822346   \n\n              210888    210900  \nDate                            \n2005-01-01  0.275750 -0.022900  \n2005-01-02  0.286429  0.100309  \n2005-01-03  0.259732  0.100309  \n2005-01-04  0.200998  0.011325  \n2005-01-05  0.168962 -0.063970  \n...              ...       ...  \n2020-12-26 -0.151085 -0.537321  \n2020-12-27 -0.104932 -0.479328  \n2020-12-28  0.008677 -0.336576  \n2020-12-29  0.097433 -0.225050  \n2020-12-30  0.132936 -0.180440  \n\n[5843 rows x 48 columns]",
      "text/html": "<div>\n<style scoped>\n    .dataframe tbody tr th:only-of-type {\n        vertical-align: middle;\n    }\n\n    .dataframe tbody tr th {\n        vertical-align: top;\n    }\n\n    .dataframe thead th {\n        text-align: right;\n    }\n</style>\n<table border=\"1\" class=\"dataframe\">\n  <thead>\n    <tr style=\"text-align: right;\">\n      <th></th>\n      <th>1515</th>\n      <th>1516</th>\n      <th>1518</th>\n      <th>1521</th>\n      <th>1719</th>\n      <th>1720</th>\n      <th>1722</th>\n      <th>1723</th>\n      <th>2040</th>\n      <th>2046</th>\n      <th>...</th>\n      <th>1732</th>\n      <th>1734</th>\n      <th>2049</th>\n      <th>2741</th>\n      <th>2742</th>\n      <th>2751</th>\n      <th>2545</th>\n      <th>744624</th>\n      <th>210888</th>\n      <th>210900</th>\n    </tr>\n    <tr>\n      <th>Date</th>\n      <th></th>\n      <th></th>\n      <th></th>\n      <th></th>\n      <th></th>\n      <th></th>\n      <th></th>\n      <th></th>\n      <th></th>\n      <th></th>\n      <th></th>\n      <th></th>\n      <th></th>\n      <th></th>\n      <th></th>\n      <th></th>\n      <th></th>\n      <th></th>\n      <th></th>\n      <th></th>\n      <th></th>\n    </tr>\n  </thead>\n  <tbody>\n    <tr>\n      <th>2005-01-01</th>\n      <td>0.031084</td>\n      <td>0.154385</td>\n      <td>0.417111</td>\n      <td>0.610616</td>\n      <td>0.487570</td>\n      <td>0.326793</td>\n      <td>0.653387</td>\n      <td>0.735811</td>\n      <td>0.623071</td>\n      <td>0.651604</td>\n      <td>...</td>\n      <td>-0.698417</td>\n      <td>-0.614128</td>\n      <td>0.401449</td>\n      <td>-0.564918</td>\n      <td>-0.016621</td>\n      <td>-0.752997</td>\n      <td>1.537664</td>\n      <td>-0.474505</td>\n      <td>0.275750</td>\n      <td>-0.022900</td>\n    </tr>\n    <tr>\n      <th>2005-01-02</th>\n      <td>-0.171282</td>\n      <td>-0.076911</td>\n      <td>0.161921</td>\n      <td>0.415236</td>\n      <td>0.426870</td>\n      <td>0.342829</td>\n      <td>0.479478</td>\n      <td>0.669658</td>\n      <td>0.594934</td>\n      <td>0.575059</td>\n      <td>...</td>\n      <td>-0.680061</td>\n      <td>-0.731274</td>\n      <td>0.367912</td>\n      <td>-0.573618</td>\n      <td>-0.040140</td>\n      <td>-0.778571</td>\n      <td>1.318215</td>\n      <td>-0.610389</td>\n      <td>0.286429</td>\n      <td>0.100309</td>\n    </tr>\n    <tr>\n      <th>2005-01-03</th>\n      <td>-0.249618</td>\n      <td>-0.157865</td>\n      <td>-0.013877</td>\n      <td>0.251117</td>\n      <td>0.381345</td>\n      <td>0.366884</td>\n      <td>0.316789</td>\n      <td>0.449147</td>\n      <td>0.530621</td>\n      <td>0.483934</td>\n      <td>...</td>\n      <td>-0.698417</td>\n      <td>-0.801561</td>\n      <td>0.345554</td>\n      <td>-0.660612</td>\n      <td>-0.063659</td>\n      <td>-0.770046</td>\n      <td>1.318215</td>\n      <td>-0.582924</td>\n      <td>0.259732</td>\n      <td>0.100309</td>\n    </tr>\n    <tr>\n      <th>2005-01-04</th>\n      <td>-0.308369</td>\n      <td>-0.169430</td>\n      <td>-0.042231</td>\n      <td>0.212041</td>\n      <td>0.373758</td>\n      <td>0.358866</td>\n      <td>0.255079</td>\n      <td>0.394020</td>\n      <td>0.522582</td>\n      <td>0.308975</td>\n      <td>...</td>\n      <td>-0.753486</td>\n      <td>-0.801561</td>\n      <td>0.312016</td>\n      <td>-0.364830</td>\n      <td>0.183294</td>\n      <td>-0.778571</td>\n      <td>1.318215</td>\n      <td>-0.674473</td>\n      <td>0.200998</td>\n      <td>0.011325</td>\n    </tr>\n    <tr>\n      <th>2005-01-05</th>\n      <td>-0.275730</td>\n      <td>-0.140518</td>\n      <td>-0.064915</td>\n      <td>0.172965</td>\n      <td>0.358583</td>\n      <td>0.374902</td>\n      <td>0.198979</td>\n      <td>0.382994</td>\n      <td>0.498464</td>\n      <td>0.250655</td>\n      <td>...</td>\n      <td>-0.533209</td>\n      <td>-0.801561</td>\n      <td>0.300837</td>\n      <td>-0.016850</td>\n      <td>0.183294</td>\n      <td>-0.250047</td>\n      <td>1.354790</td>\n      <td>-0.683628</td>\n      <td>0.168962</td>\n      <td>-0.063970</td>\n    </tr>\n    <tr>\n      <th>...</th>\n      <td>...</td>\n      <td>...</td>\n      <td>...</td>\n      <td>...</td>\n      <td>...</td>\n      <td>...</td>\n      <td>...</td>\n      <td>...</td>\n      <td>...</td>\n      <td>...</td>\n      <td>...</td>\n      <td>...</td>\n      <td>...</td>\n      <td>...</td>\n      <td>...</td>\n      <td>...</td>\n      <td>...</td>\n      <td>...</td>\n      <td>...</td>\n      <td>...</td>\n      <td>...</td>\n    </tr>\n    <tr>\n      <th>2020-12-26</th>\n      <td>0.377066</td>\n      <td>0.327857</td>\n      <td>-0.025219</td>\n      <td>0.001030</td>\n      <td>0.222009</td>\n      <td>0.326793</td>\n      <td>-0.109570</td>\n      <td>0.085305</td>\n      <td>0.470327</td>\n      <td>-0.799102</td>\n      <td>...</td>\n      <td>-1.120614</td>\n      <td>-0.215833</td>\n      <td>0.334375</td>\n      <td>-0.669312</td>\n      <td>-0.428210</td>\n      <td>-1.145127</td>\n      <td>-0.656828</td>\n      <td>-1.024480</td>\n      <td>-0.151085</td>\n      <td>-0.537321</td>\n    </tr>\n    <tr>\n      <th>2020-12-27</th>\n      <td>-0.060307</td>\n      <td>0.015607</td>\n      <td>0.082528</td>\n      <td>0.188595</td>\n      <td>0.297883</td>\n      <td>0.326793</td>\n      <td>0.271909</td>\n      <td>0.349918</td>\n      <td>0.522582</td>\n      <td>-0.441893</td>\n      <td>...</td>\n      <td>-1.451029</td>\n      <td>-0.450124</td>\n      <td>0.300837</td>\n      <td>-0.599716</td>\n      <td>-0.428210</td>\n      <td>-0.991685</td>\n      <td>-0.647684</td>\n      <td>-1.152143</td>\n      <td>-0.104932</td>\n      <td>-0.479328</td>\n    </tr>\n    <tr>\n      <th>2020-12-28</th>\n      <td>-0.341009</td>\n      <td>-0.221471</td>\n      <td>-0.155649</td>\n      <td>0.016661</td>\n      <td>0.244771</td>\n      <td>0.318774</td>\n      <td>0.243859</td>\n      <td>0.338892</td>\n      <td>0.510523</td>\n      <td>-0.077394</td>\n      <td>...</td>\n      <td>-1.414316</td>\n      <td>-0.496983</td>\n      <td>0.300837</td>\n      <td>-0.591017</td>\n      <td>-0.392931</td>\n      <td>-1.000210</td>\n      <td>-0.693402</td>\n      <td>-1.098950</td>\n      <td>0.008677</td>\n      <td>-0.336576</td>\n    </tr>\n    <tr>\n      <th>2020-12-29</th>\n      <td>-0.360593</td>\n      <td>-0.285078</td>\n      <td>-0.303092</td>\n      <td>-0.045861</td>\n      <td>0.244771</td>\n      <td>0.342829</td>\n      <td>0.137269</td>\n      <td>0.278252</td>\n      <td>0.494445</td>\n      <td>-0.033654</td>\n      <td>...</td>\n      <td>0.164333</td>\n      <td>-0.192404</td>\n      <td>0.300837</td>\n      <td>-0.573618</td>\n      <td>-0.392931</td>\n      <td>-1.102505</td>\n      <td>-0.711690</td>\n      <td>-1.013841</td>\n      <td>0.097433</td>\n      <td>-0.225050</td>\n    </tr>\n    <tr>\n      <th>2020-12-30</th>\n      <td>-0.092947</td>\n      <td>-0.157865</td>\n      <td>-0.297422</td>\n      <td>-0.069306</td>\n      <td>0.222009</td>\n      <td>0.302738</td>\n      <td>0.266299</td>\n      <td>0.327867</td>\n      <td>0.530621</td>\n      <td>-0.019074</td>\n      <td>...</td>\n      <td>0.384610</td>\n      <td>1.471065</td>\n      <td>0.434987</td>\n      <td>-0.617115</td>\n      <td>-0.392931</td>\n      <td>-1.145127</td>\n      <td>-0.684259</td>\n      <td>-0.822346</td>\n      <td>0.132936</td>\n      <td>-0.180440</td>\n    </tr>\n  </tbody>\n</table>\n<p>5843 rows × 48 columns</p>\n</div>"
     },
     "execution_count": 10,
     "metadata": {},
     "output_type": "execute_result"
    }
   ],
   "source": [
    "norm_std = pd.read_csv('../data/params/paramsSTDS.csv',header=None)\n",
    "norm_mean = pd.read_csv('../data/params/paramsMean.csv',header=None)\n",
    "\n",
    "mean_szeged = pd.read_csv('../data/params/paramsYMean.csv')\n",
    "std_szeged = pd.read_csv('../data/params/paramsYSTDS.csv')\n",
    "\n",
    "\n",
    "#s_data.drop(s_data.tail(6).index,inplace=True)\n",
    "s_data = (s_data - norm_mean.values.T).div(norm_std.values.T)\n",
    "s_data"
   ],
   "metadata": {
    "collapsed": false,
    "ExecuteTime": {
     "end_time": "2023-07-14T17:57:39.152888594Z",
     "start_time": "2023-07-14T17:57:39.107128267Z"
    }
   }
  },
  {
   "cell_type": "code",
   "execution_count": 11,
   "id": "63018b07",
   "metadata": {
    "ExecuteTime": {
     "end_time": "2023-07-14T17:57:40.988121365Z",
     "start_time": "2023-07-14T17:57:40.953408090Z"
    }
   },
   "outputs": [
    {
     "data": {
      "text/plain": "torch.Size([5822, 15, 48])"
     },
     "execution_count": 11,
     "metadata": {},
     "output_type": "execute_result"
    }
   ],
   "source": [
    "s_data = s_data.iloc[0: -1 -6]\n",
    "windowed_data = np.lib.stride_tricks.sliding_window_view(\n",
    "    s_data, (15, 48)\n",
    ").reshape((-1, 15, 48))\n",
    "\n",
    "windowed_data_cnn = np.transpose(np.lib.stride_tricks.sliding_window_view(\n",
    "    s_data, (15, 48)\n",
    ").reshape((-1, 15, 48)),axes=(0,2,1))\n",
    "\n",
    "win_data_torch = torch.tensor(windowed_data, dtype=torch.float32)\n",
    "\n",
    "win_data_torch_cnn = torch.tensor(windowed_data_cnn, dtype=torch.float32)\n",
    "win_data_torch.shape"
   ]
  },
  {
   "cell_type": "code",
   "execution_count": 12,
   "id": "c722a1a7",
   "metadata": {
    "ExecuteTime": {
     "end_time": "2023-07-14T17:57:41.797534596Z",
     "start_time": "2023-07-14T17:57:41.783338074Z"
    }
   },
   "outputs": [],
   "source": [
    "y_true = pd.read_csv(os.path.join(PROJECT_PATH, \"data\", \"y_true_2005-01-01_2020-12-24.csv\"),\n",
    "                     header=0, index_col=0)\n",
    "y_true.index = pd.to_datetime(y_true.index)\n",
    "y_true.drop(y_true.head(15).index,inplace=True)"
   ]
  },
  {
   "cell_type": "code",
   "execution_count": 13,
   "outputs": [
    {
     "data": {
      "text/plain": "             1day   2day   3day   4day   5day   6day   7day\n2005-01-16  238.0  228.0  215.0  202.0  192.0  181.0  170.0\n2005-01-17  228.0  215.0  202.0  192.0  181.0  170.0  163.0\n2005-01-18  215.0  202.0  192.0  181.0  170.0  163.0  161.0\n2005-01-19  202.0  192.0  181.0  170.0  163.0  161.0  156.0\n2005-01-20  192.0  181.0  170.0  163.0  161.0  156.0  151.0\n...           ...    ...    ...    ...    ...    ...    ...\n2020-12-20  117.0  115.0  112.0  112.0  111.0  107.0  110.0\n2020-12-21  115.0  112.0  112.0  111.0  107.0  110.0  123.0\n2020-12-22  112.0  112.0  111.0  107.0  110.0  123.0  155.0\n2020-12-23  112.0  111.0  107.0  110.0  123.0  155.0  180.0\n2020-12-24  111.0  107.0  110.0  123.0  155.0  180.0  190.0\n\n[5822 rows x 7 columns]",
      "text/html": "<div>\n<style scoped>\n    .dataframe tbody tr th:only-of-type {\n        vertical-align: middle;\n    }\n\n    .dataframe tbody tr th {\n        vertical-align: top;\n    }\n\n    .dataframe thead th {\n        text-align: right;\n    }\n</style>\n<table border=\"1\" class=\"dataframe\">\n  <thead>\n    <tr style=\"text-align: right;\">\n      <th></th>\n      <th>1day</th>\n      <th>2day</th>\n      <th>3day</th>\n      <th>4day</th>\n      <th>5day</th>\n      <th>6day</th>\n      <th>7day</th>\n    </tr>\n  </thead>\n  <tbody>\n    <tr>\n      <th>2005-01-16</th>\n      <td>238.0</td>\n      <td>228.0</td>\n      <td>215.0</td>\n      <td>202.0</td>\n      <td>192.0</td>\n      <td>181.0</td>\n      <td>170.0</td>\n    </tr>\n    <tr>\n      <th>2005-01-17</th>\n      <td>228.0</td>\n      <td>215.0</td>\n      <td>202.0</td>\n      <td>192.0</td>\n      <td>181.0</td>\n      <td>170.0</td>\n      <td>163.0</td>\n    </tr>\n    <tr>\n      <th>2005-01-18</th>\n      <td>215.0</td>\n      <td>202.0</td>\n      <td>192.0</td>\n      <td>181.0</td>\n      <td>170.0</td>\n      <td>163.0</td>\n      <td>161.0</td>\n    </tr>\n    <tr>\n      <th>2005-01-19</th>\n      <td>202.0</td>\n      <td>192.0</td>\n      <td>181.0</td>\n      <td>170.0</td>\n      <td>163.0</td>\n      <td>161.0</td>\n      <td>156.0</td>\n    </tr>\n    <tr>\n      <th>2005-01-20</th>\n      <td>192.0</td>\n      <td>181.0</td>\n      <td>170.0</td>\n      <td>163.0</td>\n      <td>161.0</td>\n      <td>156.0</td>\n      <td>151.0</td>\n    </tr>\n    <tr>\n      <th>...</th>\n      <td>...</td>\n      <td>...</td>\n      <td>...</td>\n      <td>...</td>\n      <td>...</td>\n      <td>...</td>\n      <td>...</td>\n    </tr>\n    <tr>\n      <th>2020-12-20</th>\n      <td>117.0</td>\n      <td>115.0</td>\n      <td>112.0</td>\n      <td>112.0</td>\n      <td>111.0</td>\n      <td>107.0</td>\n      <td>110.0</td>\n    </tr>\n    <tr>\n      <th>2020-12-21</th>\n      <td>115.0</td>\n      <td>112.0</td>\n      <td>112.0</td>\n      <td>111.0</td>\n      <td>107.0</td>\n      <td>110.0</td>\n      <td>123.0</td>\n    </tr>\n    <tr>\n      <th>2020-12-22</th>\n      <td>112.0</td>\n      <td>112.0</td>\n      <td>111.0</td>\n      <td>107.0</td>\n      <td>110.0</td>\n      <td>123.0</td>\n      <td>155.0</td>\n    </tr>\n    <tr>\n      <th>2020-12-23</th>\n      <td>112.0</td>\n      <td>111.0</td>\n      <td>107.0</td>\n      <td>110.0</td>\n      <td>123.0</td>\n      <td>155.0</td>\n      <td>180.0</td>\n    </tr>\n    <tr>\n      <th>2020-12-24</th>\n      <td>111.0</td>\n      <td>107.0</td>\n      <td>110.0</td>\n      <td>123.0</td>\n      <td>155.0</td>\n      <td>180.0</td>\n      <td>190.0</td>\n    </tr>\n  </tbody>\n</table>\n<p>5822 rows × 7 columns</p>\n</div>"
     },
     "execution_count": 13,
     "metadata": {},
     "output_type": "execute_result"
    }
   ],
   "source": [
    "y_true"
   ],
   "metadata": {
    "collapsed": false,
    "ExecuteTime": {
     "end_time": "2023-07-14T17:57:42.910165768Z",
     "start_time": "2023-07-14T17:57:42.904059682Z"
    }
   }
  },
  {
   "cell_type": "markdown",
   "source": [
    "## Loading our lstm"
   ],
   "metadata": {
    "collapsed": false
   }
  },
  {
   "cell_type": "code",
   "execution_count": 109,
   "outputs": [
    {
     "data": {
      "text/plain": "HydroForecast(\n  (lstm): LSTM(48, 12, num_layers=5, batch_first=True)\n  (linear): Linear(in_features=12, out_features=7, bias=True)\n)"
     },
     "execution_count": 109,
     "metadata": {},
     "output_type": "execute_result"
    }
   ],
   "source": [
    "lstm = torch.load('../data/lstm_model.pth')\n",
    "lstm"
   ],
   "metadata": {
    "collapsed": false,
    "ExecuteTime": {
     "end_time": "2023-07-14T14:48:41.005119809Z",
     "start_time": "2023-07-14T14:48:40.949679388Z"
    }
   }
  },
  {
   "cell_type": "markdown",
   "source": [
    "## Load CNN"
   ],
   "metadata": {
    "collapsed": false
   }
  },
  {
   "cell_type": "code",
   "execution_count": 31,
   "outputs": [
    {
     "data": {
      "text/plain": "HydroForecast(\n  (model): Sequential(\n    (0): Conv1d(48, 5, kernel_size=(3,), stride=(1,))\n    (1): ReLU()\n    (2): Conv1d(5, 5, kernel_size=(5,), stride=(1,))\n    (3): ReLU()\n    (4): Conv1d(5, 7, kernel_size=(9,), stride=(1,))\n  )\n)"
     },
     "execution_count": 31,
     "metadata": {},
     "output_type": "execute_result"
    }
   ],
   "source": [
    "cnn = torch.load('../data/cnn_model.pth')\n",
    "cnn"
   ],
   "metadata": {
    "collapsed": false,
    "ExecuteTime": {
     "end_time": "2023-07-14T13:21:00.564556611Z",
     "start_time": "2023-07-14T13:21:00.519172039Z"
    }
   }
  },
  {
   "cell_type": "markdown",
   "source": [
    "## Get predictions"
   ],
   "metadata": {
    "collapsed": false
   }
  },
  {
   "cell_type": "code",
   "execution_count": 32,
   "id": "2f6aeb55",
   "metadata": {
    "ExecuteTime": {
     "end_time": "2023-07-14T13:21:02.217360818Z",
     "start_time": "2023-07-14T13:21:02.212420181Z"
    }
   },
   "outputs": [],
   "source": [
    "def get_predictions(model, wd, st_id = \"2275\"):\n",
    "    pred = pd.DataFrame(\n",
    "        data=model(wd).detach().numpy(),\n",
    "        index=y_true.index,\n",
    "        columns=y_true.columns)\n",
    "\n",
    "    return pred\n",
    "    #return (pred + mean_szeged.iloc[0,0]) * std_szeged.iloc[0,0]"
   ]
  },
  {
   "cell_type": "code",
   "execution_count": 32,
   "outputs": [],
   "source": [],
   "metadata": {
    "collapsed": false,
    "ExecuteTime": {
     "end_time": "2023-07-14T13:21:04.983344527Z",
     "start_time": "2023-07-14T13:21:04.975781948Z"
    }
   }
  },
  {
   "cell_type": "code",
   "execution_count": 34,
   "id": "99d53edb",
   "metadata": {
    "ExecuteTime": {
     "end_time": "2023-07-14T13:21:13.101117036Z",
     "start_time": "2023-07-14T13:21:12.993397060Z"
    }
   },
   "outputs": [
    {
     "data": {
      "text/plain": "                  1day        2day        3day        4day        5day  \\\n2005-01-16  237.218475  230.892242  222.210815  214.501266  211.315491   \n2005-01-17  214.809296  199.537888  186.197571  179.280502  180.448929   \n2005-01-18  208.240646  198.924164  188.705902  185.018951  188.999603   \n2005-01-19  192.461761  180.218506  168.993622  164.619553  168.151733   \n2005-01-20  180.693802  172.037964  163.428360  161.092438  165.828934   \n...                ...         ...         ...         ...         ...   \n2020-12-19  117.023216  113.965782  110.781898  108.499237  107.526619   \n2020-12-20  114.820755  111.131889  109.138031  109.425301  111.166214   \n2020-12-21  113.346275  110.325478  109.524384  110.962044  113.535583   \n2020-12-22  109.478752  107.339523  108.768921  112.784172  117.553490   \n2020-12-23  111.749825  111.774643  113.031616  115.244041  117.816078   \n\n                  6day        7day  \n2005-01-16  212.531555  218.088974  \n2005-01-17  187.150635  197.257462  \n2005-01-18  195.589691  206.675034  \n2005-01-19  174.846207  186.167282  \n2005-01-20  172.355362  183.546616  \n...                ...         ...  \n2020-12-19  108.835838  110.496605  \n2020-12-20  114.387962  117.375298  \n2020-12-21  117.216187  120.581268  \n2020-12-22  122.831802  127.140511  \n2020-12-23  121.273506  124.490318  \n\n[5821 rows x 7 columns]",
      "text/html": "<div>\n<style scoped>\n    .dataframe tbody tr th:only-of-type {\n        vertical-align: middle;\n    }\n\n    .dataframe tbody tr th {\n        vertical-align: top;\n    }\n\n    .dataframe thead th {\n        text-align: right;\n    }\n</style>\n<table border=\"1\" class=\"dataframe\">\n  <thead>\n    <tr style=\"text-align: right;\">\n      <th></th>\n      <th>1day</th>\n      <th>2day</th>\n      <th>3day</th>\n      <th>4day</th>\n      <th>5day</th>\n      <th>6day</th>\n      <th>7day</th>\n    </tr>\n  </thead>\n  <tbody>\n    <tr>\n      <th>2005-01-16</th>\n      <td>237.218475</td>\n      <td>230.892242</td>\n      <td>222.210815</td>\n      <td>214.501266</td>\n      <td>211.315491</td>\n      <td>212.531555</td>\n      <td>218.088974</td>\n    </tr>\n    <tr>\n      <th>2005-01-17</th>\n      <td>214.809296</td>\n      <td>199.537888</td>\n      <td>186.197571</td>\n      <td>179.280502</td>\n      <td>180.448929</td>\n      <td>187.150635</td>\n      <td>197.257462</td>\n    </tr>\n    <tr>\n      <th>2005-01-18</th>\n      <td>208.240646</td>\n      <td>198.924164</td>\n      <td>188.705902</td>\n      <td>185.018951</td>\n      <td>188.999603</td>\n      <td>195.589691</td>\n      <td>206.675034</td>\n    </tr>\n    <tr>\n      <th>2005-01-19</th>\n      <td>192.461761</td>\n      <td>180.218506</td>\n      <td>168.993622</td>\n      <td>164.619553</td>\n      <td>168.151733</td>\n      <td>174.846207</td>\n      <td>186.167282</td>\n    </tr>\n    <tr>\n      <th>2005-01-20</th>\n      <td>180.693802</td>\n      <td>172.037964</td>\n      <td>163.428360</td>\n      <td>161.092438</td>\n      <td>165.828934</td>\n      <td>172.355362</td>\n      <td>183.546616</td>\n    </tr>\n    <tr>\n      <th>...</th>\n      <td>...</td>\n      <td>...</td>\n      <td>...</td>\n      <td>...</td>\n      <td>...</td>\n      <td>...</td>\n      <td>...</td>\n    </tr>\n    <tr>\n      <th>2020-12-19</th>\n      <td>117.023216</td>\n      <td>113.965782</td>\n      <td>110.781898</td>\n      <td>108.499237</td>\n      <td>107.526619</td>\n      <td>108.835838</td>\n      <td>110.496605</td>\n    </tr>\n    <tr>\n      <th>2020-12-20</th>\n      <td>114.820755</td>\n      <td>111.131889</td>\n      <td>109.138031</td>\n      <td>109.425301</td>\n      <td>111.166214</td>\n      <td>114.387962</td>\n      <td>117.375298</td>\n    </tr>\n    <tr>\n      <th>2020-12-21</th>\n      <td>113.346275</td>\n      <td>110.325478</td>\n      <td>109.524384</td>\n      <td>110.962044</td>\n      <td>113.535583</td>\n      <td>117.216187</td>\n      <td>120.581268</td>\n    </tr>\n    <tr>\n      <th>2020-12-22</th>\n      <td>109.478752</td>\n      <td>107.339523</td>\n      <td>108.768921</td>\n      <td>112.784172</td>\n      <td>117.553490</td>\n      <td>122.831802</td>\n      <td>127.140511</td>\n    </tr>\n    <tr>\n      <th>2020-12-23</th>\n      <td>111.749825</td>\n      <td>111.774643</td>\n      <td>113.031616</td>\n      <td>115.244041</td>\n      <td>117.816078</td>\n      <td>121.273506</td>\n      <td>124.490318</td>\n    </tr>\n  </tbody>\n</table>\n<p>5821 rows × 7 columns</p>\n</div>"
     },
     "execution_count": 34,
     "metadata": {},
     "output_type": "execute_result"
    }
   ],
   "source": [
    "pred_lstm = get_predictions(model=lstm, wd = win_data_torch) * std_szeged.iloc[0,0] + mean_szeged.iloc[0,0]\n",
    "pred_lstm.drop(pred_lstm.head(1).index,inplace=True)\n",
    "pred_lstm.index = y_true.index.tolist()[0:-1]\n",
    "\n",
    "pred_lstm\n"
   ]
  },
  {
   "cell_type": "code",
   "execution_count": 106,
   "outputs": [],
   "source": [
    "evaluator = Evaluator(y_true.drop(y_true.tail(1).index),pred_lstm)"
   ],
   "metadata": {
    "collapsed": false,
    "ExecuteTime": {
     "end_time": "2023-07-14T14:43:28.942096698Z",
     "start_time": "2023-07-14T14:43:28.936448522Z"
    }
   }
  },
  {
   "cell_type": "code",
   "execution_count": 108,
   "outputs": [
    {
     "name": "stderr",
     "output_type": "stream",
     "text": [
      "/home/franzs/Schreibtisch/ecmi-hydrological-forecasting/venv/lib/python3.11/site-packages/numpy/core/fromnumeric.py:3462: FutureWarning: In a future version, DataFrame.mean(axis=None) will return a scalar mean over the entire DataFrame. To retain the old behavior, use 'frame.mean(axis=0)' or just 'frame.mean()'\n",
      "  return mean(axis=axis, dtype=dtype, out=out, **kwargs)\n",
      "/home/franzs/Schreibtisch/ecmi-hydrological-forecasting/venv/lib/python3.11/site-packages/numpy/core/fromnumeric.py:3462: FutureWarning: In a future version, DataFrame.mean(axis=None) will return a scalar mean over the entire DataFrame. To retain the old behavior, use 'frame.mean(axis=0)' or just 'frame.mean()'\n",
      "  return mean(axis=axis, dtype=dtype, out=out, **kwargs)\n",
      "/home/franzs/Schreibtisch/ecmi-hydrological-forecasting/venv/lib/python3.11/site-packages/numpy/core/fromnumeric.py:3462: FutureWarning: In a future version, DataFrame.mean(axis=None) will return a scalar mean over the entire DataFrame. To retain the old behavior, use 'frame.mean(axis=0)' or just 'frame.mean()'\n",
      "  return mean(axis=axis, dtype=dtype, out=out, **kwargs)\n",
      "/home/franzs/Schreibtisch/ecmi-hydrological-forecasting/venv/lib/python3.11/site-packages/numpy/core/fromnumeric.py:3462: FutureWarning: In a future version, DataFrame.mean(axis=None) will return a scalar mean over the entire DataFrame. To retain the old behavior, use 'frame.mean(axis=0)' or just 'frame.mean()'\n",
      "  return mean(axis=axis, dtype=dtype, out=out, **kwargs)\n",
      "/home/franzs/Schreibtisch/ecmi-hydrological-forecasting/venv/lib/python3.11/site-packages/numpy/core/fromnumeric.py:3462: FutureWarning: In a future version, DataFrame.mean(axis=None) will return a scalar mean over the entire DataFrame. To retain the old behavior, use 'frame.mean(axis=0)' or just 'frame.mean()'\n",
      "  return mean(axis=axis, dtype=dtype, out=out, **kwargs)\n",
      "/home/franzs/Schreibtisch/ecmi-hydrological-forecasting/venv/lib/python3.11/site-packages/numpy/core/fromnumeric.py:3462: FutureWarning: In a future version, DataFrame.mean(axis=None) will return a scalar mean over the entire DataFrame. To retain the old behavior, use 'frame.mean(axis=0)' or just 'frame.mean()'\n",
      "  return mean(axis=axis, dtype=dtype, out=out, **kwargs)\n",
      "/home/franzs/Schreibtisch/ecmi-hydrological-forecasting/venv/lib/python3.11/site-packages/numpy/core/fromnumeric.py:3462: FutureWarning: In a future version, DataFrame.mean(axis=None) will return a scalar mean over the entire DataFrame. To retain the old behavior, use 'frame.mean(axis=0)' or just 'frame.mean()'\n",
      "  return mean(axis=axis, dtype=dtype, out=out, **kwargs)\n",
      "/home/franzs/Schreibtisch/ecmi-hydrological-forecasting/venv/lib/python3.11/site-packages/numpy/core/fromnumeric.py:3462: FutureWarning: In a future version, DataFrame.mean(axis=None) will return a scalar mean over the entire DataFrame. To retain the old behavior, use 'frame.mean(axis=0)' or just 'frame.mean()'\n",
      "  return mean(axis=axis, dtype=dtype, out=out, **kwargs)\n",
      "/home/franzs/Schreibtisch/ecmi-hydrological-forecasting/venv/lib/python3.11/site-packages/numpy/core/fromnumeric.py:3462: FutureWarning: In a future version, DataFrame.mean(axis=None) will return a scalar mean over the entire DataFrame. To retain the old behavior, use 'frame.mean(axis=0)' or just 'frame.mean()'\n",
      "  return mean(axis=axis, dtype=dtype, out=out, **kwargs)\n",
      "/home/franzs/Schreibtisch/ecmi-hydrological-forecasting/venv/lib/python3.11/site-packages/numpy/core/fromnumeric.py:3462: FutureWarning: In a future version, DataFrame.mean(axis=None) will return a scalar mean over the entire DataFrame. To retain the old behavior, use 'frame.mean(axis=0)' or just 'frame.mean()'\n",
      "  return mean(axis=axis, dtype=dtype, out=out, **kwargs)\n",
      "/home/franzs/Schreibtisch/ecmi-hydrological-forecasting/venv/lib/python3.11/site-packages/numpy/core/fromnumeric.py:3462: FutureWarning: In a future version, DataFrame.mean(axis=None) will return a scalar mean over the entire DataFrame. To retain the old behavior, use 'frame.mean(axis=0)' or just 'frame.mean()'\n",
      "  return mean(axis=axis, dtype=dtype, out=out, **kwargs)\n",
      "/home/franzs/Schreibtisch/ecmi-hydrological-forecasting/venv/lib/python3.11/site-packages/numpy/core/fromnumeric.py:3462: FutureWarning: In a future version, DataFrame.mean(axis=None) will return a scalar mean over the entire DataFrame. To retain the old behavior, use 'frame.mean(axis=0)' or just 'frame.mean()'\n",
      "  return mean(axis=axis, dtype=dtype, out=out, **kwargs)\n",
      "/home/franzs/Schreibtisch/ecmi-hydrological-forecasting/venv/lib/python3.11/site-packages/numpy/core/fromnumeric.py:3462: FutureWarning: In a future version, DataFrame.mean(axis=None) will return a scalar mean over the entire DataFrame. To retain the old behavior, use 'frame.mean(axis=0)' or just 'frame.mean()'\n",
      "  return mean(axis=axis, dtype=dtype, out=out, **kwargs)\n",
      "/home/franzs/Schreibtisch/ecmi-hydrological-forecasting/venv/lib/python3.11/site-packages/numpy/core/fromnumeric.py:3462: FutureWarning: In a future version, DataFrame.mean(axis=None) will return a scalar mean over the entire DataFrame. To retain the old behavior, use 'frame.mean(axis=0)' or just 'frame.mean()'\n",
      "  return mean(axis=axis, dtype=dtype, out=out, **kwargs)\n",
      "/home/franzs/Schreibtisch/ecmi-hydrological-forecasting/venv/lib/python3.11/site-packages/numpy/core/fromnumeric.py:3462: FutureWarning: In a future version, DataFrame.mean(axis=None) will return a scalar mean over the entire DataFrame. To retain the old behavior, use 'frame.mean(axis=0)' or just 'frame.mean()'\n",
      "  return mean(axis=axis, dtype=dtype, out=out, **kwargs)\n",
      "/home/franzs/Schreibtisch/ecmi-hydrological-forecasting/venv/lib/python3.11/site-packages/numpy/core/fromnumeric.py:3462: FutureWarning: In a future version, DataFrame.mean(axis=None) will return a scalar mean over the entire DataFrame. To retain the old behavior, use 'frame.mean(axis=0)' or just 'frame.mean()'\n",
      "  return mean(axis=axis, dtype=dtype, out=out, **kwargs)\n",
      "/home/franzs/Schreibtisch/ecmi-hydrological-forecasting/venv/lib/python3.11/site-packages/numpy/core/fromnumeric.py:3462: FutureWarning: In a future version, DataFrame.mean(axis=None) will return a scalar mean over the entire DataFrame. To retain the old behavior, use 'frame.mean(axis=0)' or just 'frame.mean()'\n",
      "  return mean(axis=axis, dtype=dtype, out=out, **kwargs)\n",
      "/home/franzs/Schreibtisch/ecmi-hydrological-forecasting/venv/lib/python3.11/site-packages/numpy/core/fromnumeric.py:3462: FutureWarning: In a future version, DataFrame.mean(axis=None) will return a scalar mean over the entire DataFrame. To retain the old behavior, use 'frame.mean(axis=0)' or just 'frame.mean()'\n",
      "  return mean(axis=axis, dtype=dtype, out=out, **kwargs)\n",
      "/home/franzs/Schreibtisch/ecmi-hydrological-forecasting/venv/lib/python3.11/site-packages/numpy/core/fromnumeric.py:3462: FutureWarning: In a future version, DataFrame.mean(axis=None) will return a scalar mean over the entire DataFrame. To retain the old behavior, use 'frame.mean(axis=0)' or just 'frame.mean()'\n",
      "  return mean(axis=axis, dtype=dtype, out=out, **kwargs)\n"
     ]
    },
    {
     "data": {
      "text/plain": "           rmse        mae        r2       nse        wi       mape      rmae  \\\n1day  16.147663  11.109172  0.990717  0.990717  0.990683   5.753010  3.333042   \n2day  16.092100  11.262021  0.990781  0.990781  0.990743   5.936040  3.355893   \n3day  17.592340  12.493724  0.988983  0.988983  0.988907   6.624424  3.534646   \n4day  19.701839  13.945592  0.986184  0.986184  0.986016   7.369455  3.734380   \n5day  23.605731  16.388239  0.980168  0.980168  0.979709   8.512484  4.048239   \n6day  30.803500  20.849156  0.966230  0.966230  0.964779  10.480492  4.566088   \n7day  39.756611  26.518922  0.943747  0.943747  0.939671  12.962744  5.149653   \n\n              mse      rrmse     rmsre      nnse      anse     nanse  \\\n1day   260.747035   7.193711  1.077783  0.990802  0.910761  0.918072   \n2day   258.955668   7.169655  1.074127  0.990866  0.909540  0.917044   \n3day   309.490437   7.838796  1.174320  0.989103  0.899656  0.908807   \n4day   388.162449   8.779452  1.315186  0.986372  0.888006  0.899285   \n5day   557.230532  10.519725  1.575836  0.980553  0.868399  0.883704   \n6day   948.855632  13.727748  2.056363  0.967333  0.832582  0.856591   \n7day  1580.588106  17.717764  2.654050  0.946743  0.787054  0.824439   \n\n            fc         lm       nwi      corr  \n1day  0.031344  -4.057264  0.990769  0.995365  \n2day  0.031274  -4.126647  0.990828  0.995414  \n3day  0.032492  -4.687097  0.989029  0.994529  \n4day  0.034779  -5.347730  0.986209  0.993151  \n5day  0.038464  -6.459347  0.980112  0.990181  \n6day  0.043934  -8.489689  0.965977  0.983220  \n7day  0.049971 -11.070333  0.943103  0.971827  ",
      "text/html": "<div>\n<style scoped>\n    .dataframe tbody tr th:only-of-type {\n        vertical-align: middle;\n    }\n\n    .dataframe tbody tr th {\n        vertical-align: top;\n    }\n\n    .dataframe thead th {\n        text-align: right;\n    }\n</style>\n<table border=\"1\" class=\"dataframe\">\n  <thead>\n    <tr style=\"text-align: right;\">\n      <th></th>\n      <th>rmse</th>\n      <th>mae</th>\n      <th>r2</th>\n      <th>nse</th>\n      <th>wi</th>\n      <th>mape</th>\n      <th>rmae</th>\n      <th>mse</th>\n      <th>rrmse</th>\n      <th>rmsre</th>\n      <th>nnse</th>\n      <th>anse</th>\n      <th>nanse</th>\n      <th>fc</th>\n      <th>lm</th>\n      <th>nwi</th>\n      <th>corr</th>\n    </tr>\n  </thead>\n  <tbody>\n    <tr>\n      <th>1day</th>\n      <td>16.147663</td>\n      <td>11.109172</td>\n      <td>0.990717</td>\n      <td>0.990717</td>\n      <td>0.990683</td>\n      <td>5.753010</td>\n      <td>3.333042</td>\n      <td>260.747035</td>\n      <td>7.193711</td>\n      <td>1.077783</td>\n      <td>0.990802</td>\n      <td>0.910761</td>\n      <td>0.918072</td>\n      <td>0.031344</td>\n      <td>-4.057264</td>\n      <td>0.990769</td>\n      <td>0.995365</td>\n    </tr>\n    <tr>\n      <th>2day</th>\n      <td>16.092100</td>\n      <td>11.262021</td>\n      <td>0.990781</td>\n      <td>0.990781</td>\n      <td>0.990743</td>\n      <td>5.936040</td>\n      <td>3.355893</td>\n      <td>258.955668</td>\n      <td>7.169655</td>\n      <td>1.074127</td>\n      <td>0.990866</td>\n      <td>0.909540</td>\n      <td>0.917044</td>\n      <td>0.031274</td>\n      <td>-4.126647</td>\n      <td>0.990828</td>\n      <td>0.995414</td>\n    </tr>\n    <tr>\n      <th>3day</th>\n      <td>17.592340</td>\n      <td>12.493724</td>\n      <td>0.988983</td>\n      <td>0.988983</td>\n      <td>0.988907</td>\n      <td>6.624424</td>\n      <td>3.534646</td>\n      <td>309.490437</td>\n      <td>7.838796</td>\n      <td>1.174320</td>\n      <td>0.989103</td>\n      <td>0.899656</td>\n      <td>0.908807</td>\n      <td>0.032492</td>\n      <td>-4.687097</td>\n      <td>0.989029</td>\n      <td>0.994529</td>\n    </tr>\n    <tr>\n      <th>4day</th>\n      <td>19.701839</td>\n      <td>13.945592</td>\n      <td>0.986184</td>\n      <td>0.986184</td>\n      <td>0.986016</td>\n      <td>7.369455</td>\n      <td>3.734380</td>\n      <td>388.162449</td>\n      <td>8.779452</td>\n      <td>1.315186</td>\n      <td>0.986372</td>\n      <td>0.888006</td>\n      <td>0.899285</td>\n      <td>0.034779</td>\n      <td>-5.347730</td>\n      <td>0.986209</td>\n      <td>0.993151</td>\n    </tr>\n    <tr>\n      <th>5day</th>\n      <td>23.605731</td>\n      <td>16.388239</td>\n      <td>0.980168</td>\n      <td>0.980168</td>\n      <td>0.979709</td>\n      <td>8.512484</td>\n      <td>4.048239</td>\n      <td>557.230532</td>\n      <td>10.519725</td>\n      <td>1.575836</td>\n      <td>0.980553</td>\n      <td>0.868399</td>\n      <td>0.883704</td>\n      <td>0.038464</td>\n      <td>-6.459347</td>\n      <td>0.980112</td>\n      <td>0.990181</td>\n    </tr>\n    <tr>\n      <th>6day</th>\n      <td>30.803500</td>\n      <td>20.849156</td>\n      <td>0.966230</td>\n      <td>0.966230</td>\n      <td>0.964779</td>\n      <td>10.480492</td>\n      <td>4.566088</td>\n      <td>948.855632</td>\n      <td>13.727748</td>\n      <td>2.056363</td>\n      <td>0.967333</td>\n      <td>0.832582</td>\n      <td>0.856591</td>\n      <td>0.043934</td>\n      <td>-8.489689</td>\n      <td>0.965977</td>\n      <td>0.983220</td>\n    </tr>\n    <tr>\n      <th>7day</th>\n      <td>39.756611</td>\n      <td>26.518922</td>\n      <td>0.943747</td>\n      <td>0.943747</td>\n      <td>0.939671</td>\n      <td>12.962744</td>\n      <td>5.149653</td>\n      <td>1580.588106</td>\n      <td>17.717764</td>\n      <td>2.654050</td>\n      <td>0.946743</td>\n      <td>0.787054</td>\n      <td>0.824439</td>\n      <td>0.049971</td>\n      <td>-11.070333</td>\n      <td>0.943103</td>\n      <td>0.971827</td>\n    </tr>\n  </tbody>\n</table>\n</div>"
     },
     "execution_count": 108,
     "metadata": {},
     "output_type": "execute_result"
    }
   ],
   "source": [
    "evaluator.calculate_all_stats()"
   ],
   "metadata": {
    "collapsed": false,
    "ExecuteTime": {
     "end_time": "2023-07-14T14:43:40.594295930Z",
     "start_time": "2023-07-14T14:43:40.545169658Z"
    }
   }
  },
  {
   "cell_type": "code",
   "execution_count": 36,
   "outputs": [],
   "source": [
    "pred_lstm.to_csv('../data/metrics/lstm_model_raw_prediction_mod.csv')"
   ],
   "metadata": {
    "collapsed": false,
    "ExecuteTime": {
     "end_time": "2023-07-14T13:21:26.404524122Z",
     "start_time": "2023-07-14T13:21:26.374814436Z"
    }
   }
  },
  {
   "cell_type": "code",
   "execution_count": 39,
   "outputs": [
    {
     "data": {
      "text/plain": "                  1day        2day        3day        4day        5day  \\\n2005-01-16  237.218475  230.892242  222.210815  214.501266  211.315491   \n2005-01-17  214.809296  199.537888  186.197571  179.280502  180.448929   \n2005-01-18  208.240646  198.924164  188.705902  185.018951  188.999603   \n2005-01-19  192.461761  180.218506  168.993622  164.619553  168.151733   \n2005-01-20  180.693802  172.037964  163.428360  161.092438  165.828934   \n...                ...         ...         ...         ...         ...   \n2020-12-19  117.023216  113.965782  110.781898  108.499237  107.526619   \n2020-12-20  114.820755  111.131889  109.138031  109.425301  111.166214   \n2020-12-21  113.346275  110.325478  109.524384  110.962044  113.535583   \n2020-12-22  109.478752  107.339523  108.768921  112.784172  117.553490   \n2020-12-23  111.749825  111.774643  113.031616  115.244041  117.816078   \n\n                  6day        7day  \n2005-01-16  212.531555  218.088974  \n2005-01-17  187.150635  197.257462  \n2005-01-18  195.589691  206.675034  \n2005-01-19  174.846207  186.167282  \n2005-01-20  172.355362  183.546616  \n...                ...         ...  \n2020-12-19  108.835838  110.496605  \n2020-12-20  114.387962  117.375298  \n2020-12-21  117.216187  120.581268  \n2020-12-22  122.831802  127.140511  \n2020-12-23  121.273506  124.490318  \n\n[5821 rows x 7 columns]",
      "text/html": "<div>\n<style scoped>\n    .dataframe tbody tr th:only-of-type {\n        vertical-align: middle;\n    }\n\n    .dataframe tbody tr th {\n        vertical-align: top;\n    }\n\n    .dataframe thead th {\n        text-align: right;\n    }\n</style>\n<table border=\"1\" class=\"dataframe\">\n  <thead>\n    <tr style=\"text-align: right;\">\n      <th></th>\n      <th>1day</th>\n      <th>2day</th>\n      <th>3day</th>\n      <th>4day</th>\n      <th>5day</th>\n      <th>6day</th>\n      <th>7day</th>\n    </tr>\n  </thead>\n  <tbody>\n    <tr>\n      <th>2005-01-16</th>\n      <td>237.218475</td>\n      <td>230.892242</td>\n      <td>222.210815</td>\n      <td>214.501266</td>\n      <td>211.315491</td>\n      <td>212.531555</td>\n      <td>218.088974</td>\n    </tr>\n    <tr>\n      <th>2005-01-17</th>\n      <td>214.809296</td>\n      <td>199.537888</td>\n      <td>186.197571</td>\n      <td>179.280502</td>\n      <td>180.448929</td>\n      <td>187.150635</td>\n      <td>197.257462</td>\n    </tr>\n    <tr>\n      <th>2005-01-18</th>\n      <td>208.240646</td>\n      <td>198.924164</td>\n      <td>188.705902</td>\n      <td>185.018951</td>\n      <td>188.999603</td>\n      <td>195.589691</td>\n      <td>206.675034</td>\n    </tr>\n    <tr>\n      <th>2005-01-19</th>\n      <td>192.461761</td>\n      <td>180.218506</td>\n      <td>168.993622</td>\n      <td>164.619553</td>\n      <td>168.151733</td>\n      <td>174.846207</td>\n      <td>186.167282</td>\n    </tr>\n    <tr>\n      <th>2005-01-20</th>\n      <td>180.693802</td>\n      <td>172.037964</td>\n      <td>163.428360</td>\n      <td>161.092438</td>\n      <td>165.828934</td>\n      <td>172.355362</td>\n      <td>183.546616</td>\n    </tr>\n    <tr>\n      <th>...</th>\n      <td>...</td>\n      <td>...</td>\n      <td>...</td>\n      <td>...</td>\n      <td>...</td>\n      <td>...</td>\n      <td>...</td>\n    </tr>\n    <tr>\n      <th>2020-12-19</th>\n      <td>117.023216</td>\n      <td>113.965782</td>\n      <td>110.781898</td>\n      <td>108.499237</td>\n      <td>107.526619</td>\n      <td>108.835838</td>\n      <td>110.496605</td>\n    </tr>\n    <tr>\n      <th>2020-12-20</th>\n      <td>114.820755</td>\n      <td>111.131889</td>\n      <td>109.138031</td>\n      <td>109.425301</td>\n      <td>111.166214</td>\n      <td>114.387962</td>\n      <td>117.375298</td>\n    </tr>\n    <tr>\n      <th>2020-12-21</th>\n      <td>113.346275</td>\n      <td>110.325478</td>\n      <td>109.524384</td>\n      <td>110.962044</td>\n      <td>113.535583</td>\n      <td>117.216187</td>\n      <td>120.581268</td>\n    </tr>\n    <tr>\n      <th>2020-12-22</th>\n      <td>109.478752</td>\n      <td>107.339523</td>\n      <td>108.768921</td>\n      <td>112.784172</td>\n      <td>117.553490</td>\n      <td>122.831802</td>\n      <td>127.140511</td>\n    </tr>\n    <tr>\n      <th>2020-12-23</th>\n      <td>111.749825</td>\n      <td>111.774643</td>\n      <td>113.031616</td>\n      <td>115.244041</td>\n      <td>117.816078</td>\n      <td>121.273506</td>\n      <td>124.490318</td>\n    </tr>\n  </tbody>\n</table>\n<p>5821 rows × 7 columns</p>\n</div>"
     },
     "execution_count": 39,
     "metadata": {},
     "output_type": "execute_result"
    }
   ],
   "source": [
    "pred_lstm"
   ],
   "metadata": {
    "collapsed": false,
    "ExecuteTime": {
     "end_time": "2023-07-14T13:24:40.650689345Z",
     "start_time": "2023-07-14T13:24:40.610498594Z"
    }
   }
  },
  {
   "cell_type": "code",
   "execution_count": 44,
   "outputs": [
    {
     "data": {
      "text/plain": "1day     6.299103\n2day     6.714249\n3day     8.124420\n4day     9.572449\n5day    11.433746\n6day    14.426758\n7day    18.062500\ndtype: float64"
     },
     "execution_count": 44,
     "metadata": {},
     "output_type": "execute_result"
    }
   ],
   "source": [
    "abs(y_true - pred_lstm).median()"
   ],
   "metadata": {
    "collapsed": false,
    "ExecuteTime": {
     "end_time": "2023-07-14T13:30:45.599828175Z",
     "start_time": "2023-07-14T13:30:45.557129154Z"
    }
   }
  },
  {
   "cell_type": "code",
   "execution_count": 137,
   "outputs": [
    {
     "name": "stderr",
     "output_type": "stream",
     "text": [
      "/home/franzs/Schreibtisch/ecmi-hydrological-forecasting/venv/lib/python3.11/site-packages/numpy/core/fromnumeric.py:3462: FutureWarning: In a future version, DataFrame.mean(axis=None) will return a scalar mean over the entire DataFrame. To retain the old behavior, use 'frame.mean(axis=0)' or just 'frame.mean()'\n",
      "  return mean(axis=axis, dtype=dtype, out=out, **kwargs)\n",
      "/home/franzs/Schreibtisch/ecmi-hydrological-forecasting/venv/lib/python3.11/site-packages/numpy/core/fromnumeric.py:3462: FutureWarning: In a future version, DataFrame.mean(axis=None) will return a scalar mean over the entire DataFrame. To retain the old behavior, use 'frame.mean(axis=0)' or just 'frame.mean()'\n",
      "  return mean(axis=axis, dtype=dtype, out=out, **kwargs)\n",
      "/home/franzs/Schreibtisch/ecmi-hydrological-forecasting/venv/lib/python3.11/site-packages/numpy/core/fromnumeric.py:3462: FutureWarning: In a future version, DataFrame.mean(axis=None) will return a scalar mean over the entire DataFrame. To retain the old behavior, use 'frame.mean(axis=0)' or just 'frame.mean()'\n",
      "  return mean(axis=axis, dtype=dtype, out=out, **kwargs)\n",
      "/home/franzs/Schreibtisch/ecmi-hydrological-forecasting/venv/lib/python3.11/site-packages/numpy/core/fromnumeric.py:3462: FutureWarning: In a future version, DataFrame.mean(axis=None) will return a scalar mean over the entire DataFrame. To retain the old behavior, use 'frame.mean(axis=0)' or just 'frame.mean()'\n",
      "  return mean(axis=axis, dtype=dtype, out=out, **kwargs)\n",
      "/home/franzs/Schreibtisch/ecmi-hydrological-forecasting/venv/lib/python3.11/site-packages/numpy/core/fromnumeric.py:3462: FutureWarning: In a future version, DataFrame.mean(axis=None) will return a scalar mean over the entire DataFrame. To retain the old behavior, use 'frame.mean(axis=0)' or just 'frame.mean()'\n",
      "  return mean(axis=axis, dtype=dtype, out=out, **kwargs)\n",
      "/home/franzs/Schreibtisch/ecmi-hydrological-forecasting/venv/lib/python3.11/site-packages/numpy/core/fromnumeric.py:3462: FutureWarning: In a future version, DataFrame.mean(axis=None) will return a scalar mean over the entire DataFrame. To retain the old behavior, use 'frame.mean(axis=0)' or just 'frame.mean()'\n",
      "  return mean(axis=axis, dtype=dtype, out=out, **kwargs)\n",
      "/home/franzs/Schreibtisch/ecmi-hydrological-forecasting/venv/lib/python3.11/site-packages/numpy/core/fromnumeric.py:3462: FutureWarning: In a future version, DataFrame.mean(axis=None) will return a scalar mean over the entire DataFrame. To retain the old behavior, use 'frame.mean(axis=0)' or just 'frame.mean()'\n",
      "  return mean(axis=axis, dtype=dtype, out=out, **kwargs)\n",
      "/home/franzs/Schreibtisch/ecmi-hydrological-forecasting/venv/lib/python3.11/site-packages/numpy/core/fromnumeric.py:3462: FutureWarning: In a future version, DataFrame.mean(axis=None) will return a scalar mean over the entire DataFrame. To retain the old behavior, use 'frame.mean(axis=0)' or just 'frame.mean()'\n",
      "  return mean(axis=axis, dtype=dtype, out=out, **kwargs)\n",
      "/home/franzs/Schreibtisch/ecmi-hydrological-forecasting/venv/lib/python3.11/site-packages/numpy/core/fromnumeric.py:3462: FutureWarning: In a future version, DataFrame.mean(axis=None) will return a scalar mean over the entire DataFrame. To retain the old behavior, use 'frame.mean(axis=0)' or just 'frame.mean()'\n",
      "  return mean(axis=axis, dtype=dtype, out=out, **kwargs)\n",
      "/home/franzs/Schreibtisch/ecmi-hydrological-forecasting/venv/lib/python3.11/site-packages/numpy/core/fromnumeric.py:3462: FutureWarning: In a future version, DataFrame.mean(axis=None) will return a scalar mean over the entire DataFrame. To retain the old behavior, use 'frame.mean(axis=0)' or just 'frame.mean()'\n",
      "  return mean(axis=axis, dtype=dtype, out=out, **kwargs)\n",
      "/home/franzs/Schreibtisch/ecmi-hydrological-forecasting/venv/lib/python3.11/site-packages/numpy/core/fromnumeric.py:3462: FutureWarning: In a future version, DataFrame.mean(axis=None) will return a scalar mean over the entire DataFrame. To retain the old behavior, use 'frame.mean(axis=0)' or just 'frame.mean()'\n",
      "  return mean(axis=axis, dtype=dtype, out=out, **kwargs)\n",
      "/home/franzs/Schreibtisch/ecmi-hydrological-forecasting/venv/lib/python3.11/site-packages/numpy/core/fromnumeric.py:3462: FutureWarning: In a future version, DataFrame.mean(axis=None) will return a scalar mean over the entire DataFrame. To retain the old behavior, use 'frame.mean(axis=0)' or just 'frame.mean()'\n",
      "  return mean(axis=axis, dtype=dtype, out=out, **kwargs)\n",
      "/home/franzs/Schreibtisch/ecmi-hydrological-forecasting/venv/lib/python3.11/site-packages/numpy/core/fromnumeric.py:3462: FutureWarning: In a future version, DataFrame.mean(axis=None) will return a scalar mean over the entire DataFrame. To retain the old behavior, use 'frame.mean(axis=0)' or just 'frame.mean()'\n",
      "  return mean(axis=axis, dtype=dtype, out=out, **kwargs)\n",
      "/home/franzs/Schreibtisch/ecmi-hydrological-forecasting/venv/lib/python3.11/site-packages/numpy/core/fromnumeric.py:3462: FutureWarning: In a future version, DataFrame.mean(axis=None) will return a scalar mean over the entire DataFrame. To retain the old behavior, use 'frame.mean(axis=0)' or just 'frame.mean()'\n",
      "  return mean(axis=axis, dtype=dtype, out=out, **kwargs)\n",
      "/home/franzs/Schreibtisch/ecmi-hydrological-forecasting/venv/lib/python3.11/site-packages/numpy/core/fromnumeric.py:3462: FutureWarning: In a future version, DataFrame.mean(axis=None) will return a scalar mean over the entire DataFrame. To retain the old behavior, use 'frame.mean(axis=0)' or just 'frame.mean()'\n",
      "  return mean(axis=axis, dtype=dtype, out=out, **kwargs)\n",
      "/home/franzs/Schreibtisch/ecmi-hydrological-forecasting/venv/lib/python3.11/site-packages/numpy/core/fromnumeric.py:3462: FutureWarning: In a future version, DataFrame.mean(axis=None) will return a scalar mean over the entire DataFrame. To retain the old behavior, use 'frame.mean(axis=0)' or just 'frame.mean()'\n",
      "  return mean(axis=axis, dtype=dtype, out=out, **kwargs)\n",
      "/home/franzs/Schreibtisch/ecmi-hydrological-forecasting/venv/lib/python3.11/site-packages/numpy/core/fromnumeric.py:3462: FutureWarning: In a future version, DataFrame.mean(axis=None) will return a scalar mean over the entire DataFrame. To retain the old behavior, use 'frame.mean(axis=0)' or just 'frame.mean()'\n",
      "  return mean(axis=axis, dtype=dtype, out=out, **kwargs)\n",
      "/home/franzs/Schreibtisch/ecmi-hydrological-forecasting/venv/lib/python3.11/site-packages/numpy/core/fromnumeric.py:3462: FutureWarning: In a future version, DataFrame.mean(axis=None) will return a scalar mean over the entire DataFrame. To retain the old behavior, use 'frame.mean(axis=0)' or just 'frame.mean()'\n",
      "  return mean(axis=axis, dtype=dtype, out=out, **kwargs)\n",
      "/home/franzs/Schreibtisch/ecmi-hydrological-forecasting/venv/lib/python3.11/site-packages/numpy/core/fromnumeric.py:3462: FutureWarning: In a future version, DataFrame.mean(axis=None) will return a scalar mean over the entire DataFrame. To retain the old behavior, use 'frame.mean(axis=0)' or just 'frame.mean()'\n",
      "  return mean(axis=axis, dtype=dtype, out=out, **kwargs)\n"
     ]
    }
   ],
   "source": [
    "pred_cnn= pd.read_csv('../data/models/CNNmodel.csv')\n",
    "pred_cnn.set_index('Date',inplace=True)\n",
    "pred_cnn.index = pd.to_datetime(pred_cnn.index)\n",
    "pred_cnn =pred_cnn * std_szeged.iloc[0, 0] + mean_szeged.iloc[0, 0]\n",
    "pred_cnn.to_csv('../data/metrics/cnn_model_raw_prediction.csv')\n",
    "evaluator_cnn = Evaluator(y_true.iloc[0:-1],pred_cnn)\n",
    "evaluator_cnn.calculate_all_stats().to_csv('../data/metrics/cnn_metrics.csv')"
   ],
   "metadata": {
    "collapsed": false,
    "ExecuteTime": {
     "end_time": "2023-07-14T15:42:09.522752714Z",
     "start_time": "2023-07-14T15:42:09.451169144Z"
    }
   }
  },
  {
   "cell_type": "code",
   "execution_count": 138,
   "outputs": [
    {
     "data": {
      "text/plain": "                1day      2day      3day      4day      5day      6day  \\\nDate                                                                     \n2005-01-16  0.114853  0.072654  0.012716 -0.043672 -0.068863 -0.055186   \n2005-01-17  0.026456 -0.046063 -0.115417 -0.158980 -0.161714 -0.127381   \n2005-01-18 -0.013545 -0.078325 -0.136962 -0.167559 -0.159490 -0.119197   \n2005-01-19 -0.086040 -0.149822 -0.197626 -0.214159 -0.194762 -0.147823   \n2005-01-20 -0.128567 -0.175825 -0.208303 -0.213699 -0.188648 -0.140680   \n...              ...       ...       ...       ...       ...       ...   \n2020-12-19 -0.442136 -0.462325 -0.484613 -0.500706 -0.508159 -0.508559   \n2020-12-20 -0.459178 -0.482155 -0.501177 -0.511827 -0.514504 -0.511645   \n2020-12-21 -0.468882 -0.486630 -0.498511 -0.502621 -0.500624 -0.494943   \n2020-12-22 -0.486634 -0.501941 -0.511002 -0.513691 -0.511581 -0.506279   \n2020-12-23 -0.480411 -0.484783 -0.483538 -0.477257 -0.468541 -0.459364   \n\n                7day  \nDate                  \n2005-01-16 -0.016495  \n2005-01-17 -0.075018  \n2005-01-18 -0.065474  \n2005-01-19 -0.090421  \n2005-01-20 -0.084643  \n...              ...  \n2020-12-19 -0.505779  \n2020-12-20 -0.506393  \n2020-12-21 -0.487949  \n2020-12-22 -0.499279  \n2020-12-23 -0.450890  \n\n[5821 rows x 7 columns]",
      "text/html": "<div>\n<style scoped>\n    .dataframe tbody tr th:only-of-type {\n        vertical-align: middle;\n    }\n\n    .dataframe tbody tr th {\n        vertical-align: top;\n    }\n\n    .dataframe thead th {\n        text-align: right;\n    }\n</style>\n<table border=\"1\" class=\"dataframe\">\n  <thead>\n    <tr style=\"text-align: right;\">\n      <th></th>\n      <th>1day</th>\n      <th>2day</th>\n      <th>3day</th>\n      <th>4day</th>\n      <th>5day</th>\n      <th>6day</th>\n      <th>7day</th>\n    </tr>\n    <tr>\n      <th>Date</th>\n      <th></th>\n      <th></th>\n      <th></th>\n      <th></th>\n      <th></th>\n      <th></th>\n      <th></th>\n    </tr>\n  </thead>\n  <tbody>\n    <tr>\n      <th>2005-01-16</th>\n      <td>0.114853</td>\n      <td>0.072654</td>\n      <td>0.012716</td>\n      <td>-0.043672</td>\n      <td>-0.068863</td>\n      <td>-0.055186</td>\n      <td>-0.016495</td>\n    </tr>\n    <tr>\n      <th>2005-01-17</th>\n      <td>0.026456</td>\n      <td>-0.046063</td>\n      <td>-0.115417</td>\n      <td>-0.158980</td>\n      <td>-0.161714</td>\n      <td>-0.127381</td>\n      <td>-0.075018</td>\n    </tr>\n    <tr>\n      <th>2005-01-18</th>\n      <td>-0.013545</td>\n      <td>-0.078325</td>\n      <td>-0.136962</td>\n      <td>-0.167559</td>\n      <td>-0.159490</td>\n      <td>-0.119197</td>\n      <td>-0.065474</td>\n    </tr>\n    <tr>\n      <th>2005-01-19</th>\n      <td>-0.086040</td>\n      <td>-0.149822</td>\n      <td>-0.197626</td>\n      <td>-0.214159</td>\n      <td>-0.194762</td>\n      <td>-0.147823</td>\n      <td>-0.090421</td>\n    </tr>\n    <tr>\n      <th>2005-01-20</th>\n      <td>-0.128567</td>\n      <td>-0.175825</td>\n      <td>-0.208303</td>\n      <td>-0.213699</td>\n      <td>-0.188648</td>\n      <td>-0.140680</td>\n      <td>-0.084643</td>\n    </tr>\n    <tr>\n      <th>...</th>\n      <td>...</td>\n      <td>...</td>\n      <td>...</td>\n      <td>...</td>\n      <td>...</td>\n      <td>...</td>\n      <td>...</td>\n    </tr>\n    <tr>\n      <th>2020-12-19</th>\n      <td>-0.442136</td>\n      <td>-0.462325</td>\n      <td>-0.484613</td>\n      <td>-0.500706</td>\n      <td>-0.508159</td>\n      <td>-0.508559</td>\n      <td>-0.505779</td>\n    </tr>\n    <tr>\n      <th>2020-12-20</th>\n      <td>-0.459178</td>\n      <td>-0.482155</td>\n      <td>-0.501177</td>\n      <td>-0.511827</td>\n      <td>-0.514504</td>\n      <td>-0.511645</td>\n      <td>-0.506393</td>\n    </tr>\n    <tr>\n      <th>2020-12-21</th>\n      <td>-0.468882</td>\n      <td>-0.486630</td>\n      <td>-0.498511</td>\n      <td>-0.502621</td>\n      <td>-0.500624</td>\n      <td>-0.494943</td>\n      <td>-0.487949</td>\n    </tr>\n    <tr>\n      <th>2020-12-22</th>\n      <td>-0.486634</td>\n      <td>-0.501941</td>\n      <td>-0.511002</td>\n      <td>-0.513691</td>\n      <td>-0.511581</td>\n      <td>-0.506279</td>\n      <td>-0.499279</td>\n    </tr>\n    <tr>\n      <th>2020-12-23</th>\n      <td>-0.480411</td>\n      <td>-0.484783</td>\n      <td>-0.483538</td>\n      <td>-0.477257</td>\n      <td>-0.468541</td>\n      <td>-0.459364</td>\n      <td>-0.450890</td>\n    </tr>\n  </tbody>\n</table>\n<p>5821 rows × 7 columns</p>\n</div>"
     },
     "execution_count": 138,
     "metadata": {},
     "output_type": "execute_result"
    }
   ],
   "source": [
    "pred_lstm = pd.read_csv('../data/metrics/lstm_predictions_nn.csv')\n",
    "pred_lstm.set_index('Date', inplace=True)\n",
    "pred_lstm.index = pd.to_datetime(pred_lstm.index)\n",
    "pred_lstm"
   ],
   "metadata": {
    "collapsed": false,
    "ExecuteTime": {
     "end_time": "2023-07-14T15:42:10.877175247Z",
     "start_time": "2023-07-14T15:42:10.849315245Z"
    }
   }
  },
  {
   "cell_type": "code",
   "execution_count": 139,
   "outputs": [
    {
     "name": "stderr",
     "output_type": "stream",
     "text": [
      "/home/franzs/Schreibtisch/ecmi-hydrological-forecasting/venv/lib/python3.11/site-packages/numpy/core/fromnumeric.py:3462: FutureWarning: In a future version, DataFrame.mean(axis=None) will return a scalar mean over the entire DataFrame. To retain the old behavior, use 'frame.mean(axis=0)' or just 'frame.mean()'\n",
      "  return mean(axis=axis, dtype=dtype, out=out, **kwargs)\n",
      "/home/franzs/Schreibtisch/ecmi-hydrological-forecasting/venv/lib/python3.11/site-packages/numpy/core/fromnumeric.py:3462: FutureWarning: In a future version, DataFrame.mean(axis=None) will return a scalar mean over the entire DataFrame. To retain the old behavior, use 'frame.mean(axis=0)' or just 'frame.mean()'\n",
      "  return mean(axis=axis, dtype=dtype, out=out, **kwargs)\n",
      "/home/franzs/Schreibtisch/ecmi-hydrological-forecasting/venv/lib/python3.11/site-packages/numpy/core/fromnumeric.py:3462: FutureWarning: In a future version, DataFrame.mean(axis=None) will return a scalar mean over the entire DataFrame. To retain the old behavior, use 'frame.mean(axis=0)' or just 'frame.mean()'\n",
      "  return mean(axis=axis, dtype=dtype, out=out, **kwargs)\n",
      "/home/franzs/Schreibtisch/ecmi-hydrological-forecasting/venv/lib/python3.11/site-packages/numpy/core/fromnumeric.py:3462: FutureWarning: In a future version, DataFrame.mean(axis=None) will return a scalar mean over the entire DataFrame. To retain the old behavior, use 'frame.mean(axis=0)' or just 'frame.mean()'\n",
      "  return mean(axis=axis, dtype=dtype, out=out, **kwargs)\n",
      "/home/franzs/Schreibtisch/ecmi-hydrological-forecasting/venv/lib/python3.11/site-packages/numpy/core/fromnumeric.py:3462: FutureWarning: In a future version, DataFrame.mean(axis=None) will return a scalar mean over the entire DataFrame. To retain the old behavior, use 'frame.mean(axis=0)' or just 'frame.mean()'\n",
      "  return mean(axis=axis, dtype=dtype, out=out, **kwargs)\n",
      "/home/franzs/Schreibtisch/ecmi-hydrological-forecasting/venv/lib/python3.11/site-packages/numpy/core/fromnumeric.py:3462: FutureWarning: In a future version, DataFrame.mean(axis=None) will return a scalar mean over the entire DataFrame. To retain the old behavior, use 'frame.mean(axis=0)' or just 'frame.mean()'\n",
      "  return mean(axis=axis, dtype=dtype, out=out, **kwargs)\n",
      "/home/franzs/Schreibtisch/ecmi-hydrological-forecasting/venv/lib/python3.11/site-packages/numpy/core/fromnumeric.py:3462: FutureWarning: In a future version, DataFrame.mean(axis=None) will return a scalar mean over the entire DataFrame. To retain the old behavior, use 'frame.mean(axis=0)' or just 'frame.mean()'\n",
      "  return mean(axis=axis, dtype=dtype, out=out, **kwargs)\n",
      "/home/franzs/Schreibtisch/ecmi-hydrological-forecasting/venv/lib/python3.11/site-packages/numpy/core/fromnumeric.py:3462: FutureWarning: In a future version, DataFrame.mean(axis=None) will return a scalar mean over the entire DataFrame. To retain the old behavior, use 'frame.mean(axis=0)' or just 'frame.mean()'\n",
      "  return mean(axis=axis, dtype=dtype, out=out, **kwargs)\n",
      "/home/franzs/Schreibtisch/ecmi-hydrological-forecasting/venv/lib/python3.11/site-packages/numpy/core/fromnumeric.py:3462: FutureWarning: In a future version, DataFrame.mean(axis=None) will return a scalar mean over the entire DataFrame. To retain the old behavior, use 'frame.mean(axis=0)' or just 'frame.mean()'\n",
      "  return mean(axis=axis, dtype=dtype, out=out, **kwargs)\n",
      "/home/franzs/Schreibtisch/ecmi-hydrological-forecasting/venv/lib/python3.11/site-packages/numpy/core/fromnumeric.py:3462: FutureWarning: In a future version, DataFrame.mean(axis=None) will return a scalar mean over the entire DataFrame. To retain the old behavior, use 'frame.mean(axis=0)' or just 'frame.mean()'\n",
      "  return mean(axis=axis, dtype=dtype, out=out, **kwargs)\n",
      "/home/franzs/Schreibtisch/ecmi-hydrological-forecasting/venv/lib/python3.11/site-packages/numpy/core/fromnumeric.py:3462: FutureWarning: In a future version, DataFrame.mean(axis=None) will return a scalar mean over the entire DataFrame. To retain the old behavior, use 'frame.mean(axis=0)' or just 'frame.mean()'\n",
      "  return mean(axis=axis, dtype=dtype, out=out, **kwargs)\n",
      "/home/franzs/Schreibtisch/ecmi-hydrological-forecasting/venv/lib/python3.11/site-packages/numpy/core/fromnumeric.py:3462: FutureWarning: In a future version, DataFrame.mean(axis=None) will return a scalar mean over the entire DataFrame. To retain the old behavior, use 'frame.mean(axis=0)' or just 'frame.mean()'\n",
      "  return mean(axis=axis, dtype=dtype, out=out, **kwargs)\n",
      "/home/franzs/Schreibtisch/ecmi-hydrological-forecasting/venv/lib/python3.11/site-packages/numpy/core/fromnumeric.py:3462: FutureWarning: In a future version, DataFrame.mean(axis=None) will return a scalar mean over the entire DataFrame. To retain the old behavior, use 'frame.mean(axis=0)' or just 'frame.mean()'\n",
      "  return mean(axis=axis, dtype=dtype, out=out, **kwargs)\n",
      "/home/franzs/Schreibtisch/ecmi-hydrological-forecasting/venv/lib/python3.11/site-packages/numpy/core/fromnumeric.py:3462: FutureWarning: In a future version, DataFrame.mean(axis=None) will return a scalar mean over the entire DataFrame. To retain the old behavior, use 'frame.mean(axis=0)' or just 'frame.mean()'\n",
      "  return mean(axis=axis, dtype=dtype, out=out, **kwargs)\n",
      "/home/franzs/Schreibtisch/ecmi-hydrological-forecasting/venv/lib/python3.11/site-packages/numpy/core/fromnumeric.py:3462: FutureWarning: In a future version, DataFrame.mean(axis=None) will return a scalar mean over the entire DataFrame. To retain the old behavior, use 'frame.mean(axis=0)' or just 'frame.mean()'\n",
      "  return mean(axis=axis, dtype=dtype, out=out, **kwargs)\n",
      "/home/franzs/Schreibtisch/ecmi-hydrological-forecasting/venv/lib/python3.11/site-packages/numpy/core/fromnumeric.py:3462: FutureWarning: In a future version, DataFrame.mean(axis=None) will return a scalar mean over the entire DataFrame. To retain the old behavior, use 'frame.mean(axis=0)' or just 'frame.mean()'\n",
      "  return mean(axis=axis, dtype=dtype, out=out, **kwargs)\n",
      "/home/franzs/Schreibtisch/ecmi-hydrological-forecasting/venv/lib/python3.11/site-packages/numpy/core/fromnumeric.py:3462: FutureWarning: In a future version, DataFrame.mean(axis=None) will return a scalar mean over the entire DataFrame. To retain the old behavior, use 'frame.mean(axis=0)' or just 'frame.mean()'\n",
      "  return mean(axis=axis, dtype=dtype, out=out, **kwargs)\n",
      "/home/franzs/Schreibtisch/ecmi-hydrological-forecasting/venv/lib/python3.11/site-packages/numpy/core/fromnumeric.py:3462: FutureWarning: In a future version, DataFrame.mean(axis=None) will return a scalar mean over the entire DataFrame. To retain the old behavior, use 'frame.mean(axis=0)' or just 'frame.mean()'\n",
      "  return mean(axis=axis, dtype=dtype, out=out, **kwargs)\n",
      "/home/franzs/Schreibtisch/ecmi-hydrological-forecasting/venv/lib/python3.11/site-packages/numpy/core/fromnumeric.py:3462: FutureWarning: In a future version, DataFrame.mean(axis=None) will return a scalar mean over the entire DataFrame. To retain the old behavior, use 'frame.mean(axis=0)' or just 'frame.mean()'\n",
      "  return mean(axis=axis, dtype=dtype, out=out, **kwargs)\n"
     ]
    }
   ],
   "source": [
    "pred_cnn_spatial = pd.read_csv('../data/models/CNNSpatmodel.csv')\n",
    "pred_cnn_spatial .set_index('Date', inplace=True)\n",
    "pred_cnn_spatial .index = pd.to_datetime(pred_cnn_spatial .index)\n",
    "pred_cnn_spatial  = pred_cnn_spatial  * std_szeged.iloc[0, 0] + mean_szeged.iloc[0, 0]\n",
    "#y_true.iloc[0:-1]\n",
    "pred_cnn_spatial.to_csv('../data/metrics/cnn_spatial_model_raw_prediction.csv')\n",
    "evaluator_cnn_spatial = Evaluator(y_true.iloc[0:-1], pred_cnn_spatial)\n",
    "evaluator_cnn_spatial.calculate_all_stats().to_csv('../data/metrics/cnn_spatial_metrics.csv')\n"
   ],
   "metadata": {
    "collapsed": false,
    "ExecuteTime": {
     "end_time": "2023-07-14T15:42:11.490165744Z",
     "start_time": "2023-07-14T15:42:11.423412475Z"
    }
   }
  },
  {
   "cell_type": "code",
   "execution_count": 140,
   "outputs": [
    {
     "name": "stderr",
     "output_type": "stream",
     "text": [
      "/home/franzs/Schreibtisch/ecmi-hydrological-forecasting/venv/lib/python3.11/site-packages/numpy/core/fromnumeric.py:3462: FutureWarning: In a future version, DataFrame.mean(axis=None) will return a scalar mean over the entire DataFrame. To retain the old behavior, use 'frame.mean(axis=0)' or just 'frame.mean()'\n",
      "  return mean(axis=axis, dtype=dtype, out=out, **kwargs)\n",
      "/home/franzs/Schreibtisch/ecmi-hydrological-forecasting/venv/lib/python3.11/site-packages/numpy/core/fromnumeric.py:3462: FutureWarning: In a future version, DataFrame.mean(axis=None) will return a scalar mean over the entire DataFrame. To retain the old behavior, use 'frame.mean(axis=0)' or just 'frame.mean()'\n",
      "  return mean(axis=axis, dtype=dtype, out=out, **kwargs)\n",
      "/home/franzs/Schreibtisch/ecmi-hydrological-forecasting/venv/lib/python3.11/site-packages/numpy/core/fromnumeric.py:3462: FutureWarning: In a future version, DataFrame.mean(axis=None) will return a scalar mean over the entire DataFrame. To retain the old behavior, use 'frame.mean(axis=0)' or just 'frame.mean()'\n",
      "  return mean(axis=axis, dtype=dtype, out=out, **kwargs)\n",
      "/home/franzs/Schreibtisch/ecmi-hydrological-forecasting/venv/lib/python3.11/site-packages/numpy/core/fromnumeric.py:3462: FutureWarning: In a future version, DataFrame.mean(axis=None) will return a scalar mean over the entire DataFrame. To retain the old behavior, use 'frame.mean(axis=0)' or just 'frame.mean()'\n",
      "  return mean(axis=axis, dtype=dtype, out=out, **kwargs)\n",
      "/home/franzs/Schreibtisch/ecmi-hydrological-forecasting/venv/lib/python3.11/site-packages/numpy/core/fromnumeric.py:3462: FutureWarning: In a future version, DataFrame.mean(axis=None) will return a scalar mean over the entire DataFrame. To retain the old behavior, use 'frame.mean(axis=0)' or just 'frame.mean()'\n",
      "  return mean(axis=axis, dtype=dtype, out=out, **kwargs)\n",
      "/home/franzs/Schreibtisch/ecmi-hydrological-forecasting/venv/lib/python3.11/site-packages/numpy/core/fromnumeric.py:3462: FutureWarning: In a future version, DataFrame.mean(axis=None) will return a scalar mean over the entire DataFrame. To retain the old behavior, use 'frame.mean(axis=0)' or just 'frame.mean()'\n",
      "  return mean(axis=axis, dtype=dtype, out=out, **kwargs)\n",
      "/home/franzs/Schreibtisch/ecmi-hydrological-forecasting/venv/lib/python3.11/site-packages/numpy/core/fromnumeric.py:3462: FutureWarning: In a future version, DataFrame.mean(axis=None) will return a scalar mean over the entire DataFrame. To retain the old behavior, use 'frame.mean(axis=0)' or just 'frame.mean()'\n",
      "  return mean(axis=axis, dtype=dtype, out=out, **kwargs)\n",
      "/home/franzs/Schreibtisch/ecmi-hydrological-forecasting/venv/lib/python3.11/site-packages/numpy/core/fromnumeric.py:3462: FutureWarning: In a future version, DataFrame.mean(axis=None) will return a scalar mean over the entire DataFrame. To retain the old behavior, use 'frame.mean(axis=0)' or just 'frame.mean()'\n",
      "  return mean(axis=axis, dtype=dtype, out=out, **kwargs)\n",
      "/home/franzs/Schreibtisch/ecmi-hydrological-forecasting/venv/lib/python3.11/site-packages/numpy/core/fromnumeric.py:3462: FutureWarning: In a future version, DataFrame.mean(axis=None) will return a scalar mean over the entire DataFrame. To retain the old behavior, use 'frame.mean(axis=0)' or just 'frame.mean()'\n",
      "  return mean(axis=axis, dtype=dtype, out=out, **kwargs)\n",
      "/home/franzs/Schreibtisch/ecmi-hydrological-forecasting/venv/lib/python3.11/site-packages/numpy/core/fromnumeric.py:3462: FutureWarning: In a future version, DataFrame.mean(axis=None) will return a scalar mean over the entire DataFrame. To retain the old behavior, use 'frame.mean(axis=0)' or just 'frame.mean()'\n",
      "  return mean(axis=axis, dtype=dtype, out=out, **kwargs)\n",
      "/home/franzs/Schreibtisch/ecmi-hydrological-forecasting/venv/lib/python3.11/site-packages/numpy/core/fromnumeric.py:3462: FutureWarning: In a future version, DataFrame.mean(axis=None) will return a scalar mean over the entire DataFrame. To retain the old behavior, use 'frame.mean(axis=0)' or just 'frame.mean()'\n",
      "  return mean(axis=axis, dtype=dtype, out=out, **kwargs)\n",
      "/home/franzs/Schreibtisch/ecmi-hydrological-forecasting/venv/lib/python3.11/site-packages/numpy/core/fromnumeric.py:3462: FutureWarning: In a future version, DataFrame.mean(axis=None) will return a scalar mean over the entire DataFrame. To retain the old behavior, use 'frame.mean(axis=0)' or just 'frame.mean()'\n",
      "  return mean(axis=axis, dtype=dtype, out=out, **kwargs)\n",
      "/home/franzs/Schreibtisch/ecmi-hydrological-forecasting/venv/lib/python3.11/site-packages/numpy/core/fromnumeric.py:3462: FutureWarning: In a future version, DataFrame.mean(axis=None) will return a scalar mean over the entire DataFrame. To retain the old behavior, use 'frame.mean(axis=0)' or just 'frame.mean()'\n",
      "  return mean(axis=axis, dtype=dtype, out=out, **kwargs)\n",
      "/home/franzs/Schreibtisch/ecmi-hydrological-forecasting/venv/lib/python3.11/site-packages/numpy/core/fromnumeric.py:3462: FutureWarning: In a future version, DataFrame.mean(axis=None) will return a scalar mean over the entire DataFrame. To retain the old behavior, use 'frame.mean(axis=0)' or just 'frame.mean()'\n",
      "  return mean(axis=axis, dtype=dtype, out=out, **kwargs)\n",
      "/home/franzs/Schreibtisch/ecmi-hydrological-forecasting/venv/lib/python3.11/site-packages/numpy/core/fromnumeric.py:3462: FutureWarning: In a future version, DataFrame.mean(axis=None) will return a scalar mean over the entire DataFrame. To retain the old behavior, use 'frame.mean(axis=0)' or just 'frame.mean()'\n",
      "  return mean(axis=axis, dtype=dtype, out=out, **kwargs)\n",
      "/home/franzs/Schreibtisch/ecmi-hydrological-forecasting/venv/lib/python3.11/site-packages/numpy/core/fromnumeric.py:3462: FutureWarning: In a future version, DataFrame.mean(axis=None) will return a scalar mean over the entire DataFrame. To retain the old behavior, use 'frame.mean(axis=0)' or just 'frame.mean()'\n",
      "  return mean(axis=axis, dtype=dtype, out=out, **kwargs)\n",
      "/home/franzs/Schreibtisch/ecmi-hydrological-forecasting/venv/lib/python3.11/site-packages/numpy/core/fromnumeric.py:3462: FutureWarning: In a future version, DataFrame.mean(axis=None) will return a scalar mean over the entire DataFrame. To retain the old behavior, use 'frame.mean(axis=0)' or just 'frame.mean()'\n",
      "  return mean(axis=axis, dtype=dtype, out=out, **kwargs)\n",
      "/home/franzs/Schreibtisch/ecmi-hydrological-forecasting/venv/lib/python3.11/site-packages/numpy/core/fromnumeric.py:3462: FutureWarning: In a future version, DataFrame.mean(axis=None) will return a scalar mean over the entire DataFrame. To retain the old behavior, use 'frame.mean(axis=0)' or just 'frame.mean()'\n",
      "  return mean(axis=axis, dtype=dtype, out=out, **kwargs)\n",
      "/home/franzs/Schreibtisch/ecmi-hydrological-forecasting/venv/lib/python3.11/site-packages/numpy/core/fromnumeric.py:3462: FutureWarning: In a future version, DataFrame.mean(axis=None) will return a scalar mean over the entire DataFrame. To retain the old behavior, use 'frame.mean(axis=0)' or just 'frame.mean()'\n",
      "  return mean(axis=axis, dtype=dtype, out=out, **kwargs)\n"
     ]
    }
   ],
   "source": [
    "pred_lstm_squared = pd.read_csv('../data/models/LSTMmodel_s.csv')\n",
    "pred_lstm_squared.set_index('Date', inplace=True)\n",
    "pred_lstm_squared.index = pd.to_datetime(pred_cnn_spatial.index)\n",
    "pred_lstm_squared = pred_lstm_squared  * std_szeged.iloc[0, 0] + mean_szeged.iloc[0, 0]\n",
    "#y_true.iloc[0:-1]\n",
    "pred_lstm_squared.to_csv('../data/metrics/lstm_squared_raw_prediction.csv')\n",
    "evaluator_cnn_spatial = Evaluator(y_true.iloc[0:-1], pred_lstm_squared)\n",
    "evaluator_cnn_spatial.calculate_all_stats().to_csv('../data/metrics/lstm_squared_metrics.csv')\n"
   ],
   "metadata": {
    "collapsed": false,
    "ExecuteTime": {
     "end_time": "2023-07-14T15:48:04.649173815Z",
     "start_time": "2023-07-14T15:48:04.574508549Z"
    }
   }
  },
  {
   "cell_type": "code",
   "execution_count": 2,
   "outputs": [],
   "source": [
    "def save_metrics(filename1,filename_to_save):\n",
    "    pred = pd.read_csv('../data/models/'+ filename1)\n",
    "    pred.set_index('Date',inplace=True)\n",
    "    pred.index = pd.to_datetime(pred.index)\n",
    "    pred = pred * std_szeged.iloc[0,0] + mean_szeged.iloc[0,0]\n",
    "    pred.to_csv('../data/metrics/' + filename_to_save + '_raw_prediction.csv')\n",
    "    evaluator = Evaluator(y_true.iloc[0:-1], pred)\n",
    "    evaluator.calculate_all_stats().to_csv('../data/metrics/' + filename_to_save + '_metrics.csv')"
   ],
   "metadata": {
    "collapsed": false,
    "ExecuteTime": {
     "end_time": "2023-07-14T17:56:48.222979338Z",
     "start_time": "2023-07-14T17:56:48.221318076Z"
    }
   }
  },
  {
   "cell_type": "code",
   "execution_count": 155,
   "outputs": [
    {
     "name": "stderr",
     "output_type": "stream",
     "text": [
      "/home/franzs/Schreibtisch/ecmi-hydrological-forecasting/venv/lib/python3.11/site-packages/numpy/core/fromnumeric.py:3462: FutureWarning: In a future version, DataFrame.mean(axis=None) will return a scalar mean over the entire DataFrame. To retain the old behavior, use 'frame.mean(axis=0)' or just 'frame.mean()'\n",
      "  return mean(axis=axis, dtype=dtype, out=out, **kwargs)\n",
      "/home/franzs/Schreibtisch/ecmi-hydrological-forecasting/venv/lib/python3.11/site-packages/numpy/core/fromnumeric.py:3462: FutureWarning: In a future version, DataFrame.mean(axis=None) will return a scalar mean over the entire DataFrame. To retain the old behavior, use 'frame.mean(axis=0)' or just 'frame.mean()'\n",
      "  return mean(axis=axis, dtype=dtype, out=out, **kwargs)\n",
      "/home/franzs/Schreibtisch/ecmi-hydrological-forecasting/venv/lib/python3.11/site-packages/numpy/core/fromnumeric.py:3462: FutureWarning: In a future version, DataFrame.mean(axis=None) will return a scalar mean over the entire DataFrame. To retain the old behavior, use 'frame.mean(axis=0)' or just 'frame.mean()'\n",
      "  return mean(axis=axis, dtype=dtype, out=out, **kwargs)\n",
      "/home/franzs/Schreibtisch/ecmi-hydrological-forecasting/venv/lib/python3.11/site-packages/numpy/core/fromnumeric.py:3462: FutureWarning: In a future version, DataFrame.mean(axis=None) will return a scalar mean over the entire DataFrame. To retain the old behavior, use 'frame.mean(axis=0)' or just 'frame.mean()'\n",
      "  return mean(axis=axis, dtype=dtype, out=out, **kwargs)\n",
      "/home/franzs/Schreibtisch/ecmi-hydrological-forecasting/venv/lib/python3.11/site-packages/numpy/core/fromnumeric.py:3462: FutureWarning: In a future version, DataFrame.mean(axis=None) will return a scalar mean over the entire DataFrame. To retain the old behavior, use 'frame.mean(axis=0)' or just 'frame.mean()'\n",
      "  return mean(axis=axis, dtype=dtype, out=out, **kwargs)\n",
      "/home/franzs/Schreibtisch/ecmi-hydrological-forecasting/venv/lib/python3.11/site-packages/numpy/core/fromnumeric.py:3462: FutureWarning: In a future version, DataFrame.mean(axis=None) will return a scalar mean over the entire DataFrame. To retain the old behavior, use 'frame.mean(axis=0)' or just 'frame.mean()'\n",
      "  return mean(axis=axis, dtype=dtype, out=out, **kwargs)\n",
      "/home/franzs/Schreibtisch/ecmi-hydrological-forecasting/venv/lib/python3.11/site-packages/numpy/core/fromnumeric.py:3462: FutureWarning: In a future version, DataFrame.mean(axis=None) will return a scalar mean over the entire DataFrame. To retain the old behavior, use 'frame.mean(axis=0)' or just 'frame.mean()'\n",
      "  return mean(axis=axis, dtype=dtype, out=out, **kwargs)\n",
      "/home/franzs/Schreibtisch/ecmi-hydrological-forecasting/venv/lib/python3.11/site-packages/numpy/core/fromnumeric.py:3462: FutureWarning: In a future version, DataFrame.mean(axis=None) will return a scalar mean over the entire DataFrame. To retain the old behavior, use 'frame.mean(axis=0)' or just 'frame.mean()'\n",
      "  return mean(axis=axis, dtype=dtype, out=out, **kwargs)\n",
      "/home/franzs/Schreibtisch/ecmi-hydrological-forecasting/venv/lib/python3.11/site-packages/numpy/core/fromnumeric.py:3462: FutureWarning: In a future version, DataFrame.mean(axis=None) will return a scalar mean over the entire DataFrame. To retain the old behavior, use 'frame.mean(axis=0)' or just 'frame.mean()'\n",
      "  return mean(axis=axis, dtype=dtype, out=out, **kwargs)\n",
      "/home/franzs/Schreibtisch/ecmi-hydrological-forecasting/venv/lib/python3.11/site-packages/numpy/core/fromnumeric.py:3462: FutureWarning: In a future version, DataFrame.mean(axis=None) will return a scalar mean over the entire DataFrame. To retain the old behavior, use 'frame.mean(axis=0)' or just 'frame.mean()'\n",
      "  return mean(axis=axis, dtype=dtype, out=out, **kwargs)\n",
      "/home/franzs/Schreibtisch/ecmi-hydrological-forecasting/venv/lib/python3.11/site-packages/numpy/core/fromnumeric.py:3462: FutureWarning: In a future version, DataFrame.mean(axis=None) will return a scalar mean over the entire DataFrame. To retain the old behavior, use 'frame.mean(axis=0)' or just 'frame.mean()'\n",
      "  return mean(axis=axis, dtype=dtype, out=out, **kwargs)\n",
      "/home/franzs/Schreibtisch/ecmi-hydrological-forecasting/venv/lib/python3.11/site-packages/numpy/core/fromnumeric.py:3462: FutureWarning: In a future version, DataFrame.mean(axis=None) will return a scalar mean over the entire DataFrame. To retain the old behavior, use 'frame.mean(axis=0)' or just 'frame.mean()'\n",
      "  return mean(axis=axis, dtype=dtype, out=out, **kwargs)\n",
      "/home/franzs/Schreibtisch/ecmi-hydrological-forecasting/venv/lib/python3.11/site-packages/numpy/core/fromnumeric.py:3462: FutureWarning: In a future version, DataFrame.mean(axis=None) will return a scalar mean over the entire DataFrame. To retain the old behavior, use 'frame.mean(axis=0)' or just 'frame.mean()'\n",
      "  return mean(axis=axis, dtype=dtype, out=out, **kwargs)\n",
      "/home/franzs/Schreibtisch/ecmi-hydrological-forecasting/venv/lib/python3.11/site-packages/numpy/core/fromnumeric.py:3462: FutureWarning: In a future version, DataFrame.mean(axis=None) will return a scalar mean over the entire DataFrame. To retain the old behavior, use 'frame.mean(axis=0)' or just 'frame.mean()'\n",
      "  return mean(axis=axis, dtype=dtype, out=out, **kwargs)\n",
      "/home/franzs/Schreibtisch/ecmi-hydrological-forecasting/venv/lib/python3.11/site-packages/numpy/core/fromnumeric.py:3462: FutureWarning: In a future version, DataFrame.mean(axis=None) will return a scalar mean over the entire DataFrame. To retain the old behavior, use 'frame.mean(axis=0)' or just 'frame.mean()'\n",
      "  return mean(axis=axis, dtype=dtype, out=out, **kwargs)\n",
      "/home/franzs/Schreibtisch/ecmi-hydrological-forecasting/venv/lib/python3.11/site-packages/numpy/core/fromnumeric.py:3462: FutureWarning: In a future version, DataFrame.mean(axis=None) will return a scalar mean over the entire DataFrame. To retain the old behavior, use 'frame.mean(axis=0)' or just 'frame.mean()'\n",
      "  return mean(axis=axis, dtype=dtype, out=out, **kwargs)\n",
      "/home/franzs/Schreibtisch/ecmi-hydrological-forecasting/venv/lib/python3.11/site-packages/numpy/core/fromnumeric.py:3462: FutureWarning: In a future version, DataFrame.mean(axis=None) will return a scalar mean over the entire DataFrame. To retain the old behavior, use 'frame.mean(axis=0)' or just 'frame.mean()'\n",
      "  return mean(axis=axis, dtype=dtype, out=out, **kwargs)\n",
      "/home/franzs/Schreibtisch/ecmi-hydrological-forecasting/venv/lib/python3.11/site-packages/numpy/core/fromnumeric.py:3462: FutureWarning: In a future version, DataFrame.mean(axis=None) will return a scalar mean over the entire DataFrame. To retain the old behavior, use 'frame.mean(axis=0)' or just 'frame.mean()'\n",
      "  return mean(axis=axis, dtype=dtype, out=out, **kwargs)\n",
      "/home/franzs/Schreibtisch/ecmi-hydrological-forecasting/venv/lib/python3.11/site-packages/numpy/core/fromnumeric.py:3462: FutureWarning: In a future version, DataFrame.mean(axis=None) will return a scalar mean over the entire DataFrame. To retain the old behavior, use 'frame.mean(axis=0)' or just 'frame.mean()'\n",
      "  return mean(axis=axis, dtype=dtype, out=out, **kwargs)\n"
     ]
    }
   ],
   "source": [
    "save_metrics('CNNmodelloss3.csv','cnn_loss')"
   ],
   "metadata": {
    "collapsed": false,
    "ExecuteTime": {
     "end_time": "2023-07-14T17:41:16.127158567Z",
     "start_time": "2023-07-14T17:41:16.051227573Z"
    }
   }
  },
  {
   "cell_type": "code",
   "execution_count": 156,
   "outputs": [
    {
     "name": "stderr",
     "output_type": "stream",
     "text": [
      "/home/franzs/Schreibtisch/ecmi-hydrological-forecasting/venv/lib/python3.11/site-packages/numpy/core/fromnumeric.py:3462: FutureWarning: In a future version, DataFrame.mean(axis=None) will return a scalar mean over the entire DataFrame. To retain the old behavior, use 'frame.mean(axis=0)' or just 'frame.mean()'\n",
      "  return mean(axis=axis, dtype=dtype, out=out, **kwargs)\n",
      "/home/franzs/Schreibtisch/ecmi-hydrological-forecasting/venv/lib/python3.11/site-packages/numpy/core/fromnumeric.py:3462: FutureWarning: In a future version, DataFrame.mean(axis=None) will return a scalar mean over the entire DataFrame. To retain the old behavior, use 'frame.mean(axis=0)' or just 'frame.mean()'\n",
      "  return mean(axis=axis, dtype=dtype, out=out, **kwargs)\n",
      "/home/franzs/Schreibtisch/ecmi-hydrological-forecasting/venv/lib/python3.11/site-packages/numpy/core/fromnumeric.py:3462: FutureWarning: In a future version, DataFrame.mean(axis=None) will return a scalar mean over the entire DataFrame. To retain the old behavior, use 'frame.mean(axis=0)' or just 'frame.mean()'\n",
      "  return mean(axis=axis, dtype=dtype, out=out, **kwargs)\n",
      "/home/franzs/Schreibtisch/ecmi-hydrological-forecasting/venv/lib/python3.11/site-packages/numpy/core/fromnumeric.py:3462: FutureWarning: In a future version, DataFrame.mean(axis=None) will return a scalar mean over the entire DataFrame. To retain the old behavior, use 'frame.mean(axis=0)' or just 'frame.mean()'\n",
      "  return mean(axis=axis, dtype=dtype, out=out, **kwargs)\n",
      "/home/franzs/Schreibtisch/ecmi-hydrological-forecasting/venv/lib/python3.11/site-packages/numpy/core/fromnumeric.py:3462: FutureWarning: In a future version, DataFrame.mean(axis=None) will return a scalar mean over the entire DataFrame. To retain the old behavior, use 'frame.mean(axis=0)' or just 'frame.mean()'\n",
      "  return mean(axis=axis, dtype=dtype, out=out, **kwargs)\n",
      "/home/franzs/Schreibtisch/ecmi-hydrological-forecasting/venv/lib/python3.11/site-packages/numpy/core/fromnumeric.py:3462: FutureWarning: In a future version, DataFrame.mean(axis=None) will return a scalar mean over the entire DataFrame. To retain the old behavior, use 'frame.mean(axis=0)' or just 'frame.mean()'\n",
      "  return mean(axis=axis, dtype=dtype, out=out, **kwargs)\n",
      "/home/franzs/Schreibtisch/ecmi-hydrological-forecasting/venv/lib/python3.11/site-packages/numpy/core/fromnumeric.py:3462: FutureWarning: In a future version, DataFrame.mean(axis=None) will return a scalar mean over the entire DataFrame. To retain the old behavior, use 'frame.mean(axis=0)' or just 'frame.mean()'\n",
      "  return mean(axis=axis, dtype=dtype, out=out, **kwargs)\n",
      "/home/franzs/Schreibtisch/ecmi-hydrological-forecasting/venv/lib/python3.11/site-packages/numpy/core/fromnumeric.py:3462: FutureWarning: In a future version, DataFrame.mean(axis=None) will return a scalar mean over the entire DataFrame. To retain the old behavior, use 'frame.mean(axis=0)' or just 'frame.mean()'\n",
      "  return mean(axis=axis, dtype=dtype, out=out, **kwargs)\n",
      "/home/franzs/Schreibtisch/ecmi-hydrological-forecasting/venv/lib/python3.11/site-packages/numpy/core/fromnumeric.py:3462: FutureWarning: In a future version, DataFrame.mean(axis=None) will return a scalar mean over the entire DataFrame. To retain the old behavior, use 'frame.mean(axis=0)' or just 'frame.mean()'\n",
      "  return mean(axis=axis, dtype=dtype, out=out, **kwargs)\n",
      "/home/franzs/Schreibtisch/ecmi-hydrological-forecasting/venv/lib/python3.11/site-packages/numpy/core/fromnumeric.py:3462: FutureWarning: In a future version, DataFrame.mean(axis=None) will return a scalar mean over the entire DataFrame. To retain the old behavior, use 'frame.mean(axis=0)' or just 'frame.mean()'\n",
      "  return mean(axis=axis, dtype=dtype, out=out, **kwargs)\n",
      "/home/franzs/Schreibtisch/ecmi-hydrological-forecasting/venv/lib/python3.11/site-packages/numpy/core/fromnumeric.py:3462: FutureWarning: In a future version, DataFrame.mean(axis=None) will return a scalar mean over the entire DataFrame. To retain the old behavior, use 'frame.mean(axis=0)' or just 'frame.mean()'\n",
      "  return mean(axis=axis, dtype=dtype, out=out, **kwargs)\n",
      "/home/franzs/Schreibtisch/ecmi-hydrological-forecasting/venv/lib/python3.11/site-packages/numpy/core/fromnumeric.py:3462: FutureWarning: In a future version, DataFrame.mean(axis=None) will return a scalar mean over the entire DataFrame. To retain the old behavior, use 'frame.mean(axis=0)' or just 'frame.mean()'\n",
      "  return mean(axis=axis, dtype=dtype, out=out, **kwargs)\n",
      "/home/franzs/Schreibtisch/ecmi-hydrological-forecasting/venv/lib/python3.11/site-packages/numpy/core/fromnumeric.py:3462: FutureWarning: In a future version, DataFrame.mean(axis=None) will return a scalar mean over the entire DataFrame. To retain the old behavior, use 'frame.mean(axis=0)' or just 'frame.mean()'\n",
      "  return mean(axis=axis, dtype=dtype, out=out, **kwargs)\n",
      "/home/franzs/Schreibtisch/ecmi-hydrological-forecasting/venv/lib/python3.11/site-packages/numpy/core/fromnumeric.py:3462: FutureWarning: In a future version, DataFrame.mean(axis=None) will return a scalar mean over the entire DataFrame. To retain the old behavior, use 'frame.mean(axis=0)' or just 'frame.mean()'\n",
      "  return mean(axis=axis, dtype=dtype, out=out, **kwargs)\n",
      "/home/franzs/Schreibtisch/ecmi-hydrological-forecasting/venv/lib/python3.11/site-packages/numpy/core/fromnumeric.py:3462: FutureWarning: In a future version, DataFrame.mean(axis=None) will return a scalar mean over the entire DataFrame. To retain the old behavior, use 'frame.mean(axis=0)' or just 'frame.mean()'\n",
      "  return mean(axis=axis, dtype=dtype, out=out, **kwargs)\n",
      "/home/franzs/Schreibtisch/ecmi-hydrological-forecasting/venv/lib/python3.11/site-packages/numpy/core/fromnumeric.py:3462: FutureWarning: In a future version, DataFrame.mean(axis=None) will return a scalar mean over the entire DataFrame. To retain the old behavior, use 'frame.mean(axis=0)' or just 'frame.mean()'\n",
      "  return mean(axis=axis, dtype=dtype, out=out, **kwargs)\n",
      "/home/franzs/Schreibtisch/ecmi-hydrological-forecasting/venv/lib/python3.11/site-packages/numpy/core/fromnumeric.py:3462: FutureWarning: In a future version, DataFrame.mean(axis=None) will return a scalar mean over the entire DataFrame. To retain the old behavior, use 'frame.mean(axis=0)' or just 'frame.mean()'\n",
      "  return mean(axis=axis, dtype=dtype, out=out, **kwargs)\n",
      "/home/franzs/Schreibtisch/ecmi-hydrological-forecasting/venv/lib/python3.11/site-packages/numpy/core/fromnumeric.py:3462: FutureWarning: In a future version, DataFrame.mean(axis=None) will return a scalar mean over the entire DataFrame. To retain the old behavior, use 'frame.mean(axis=0)' or just 'frame.mean()'\n",
      "  return mean(axis=axis, dtype=dtype, out=out, **kwargs)\n",
      "/home/franzs/Schreibtisch/ecmi-hydrological-forecasting/venv/lib/python3.11/site-packages/numpy/core/fromnumeric.py:3462: FutureWarning: In a future version, DataFrame.mean(axis=None) will return a scalar mean over the entire DataFrame. To retain the old behavior, use 'frame.mean(axis=0)' or just 'frame.mean()'\n",
      "  return mean(axis=axis, dtype=dtype, out=out, **kwargs)\n"
     ]
    }
   ],
   "source": [
    "save_metrics('CNNSpatmodelloss3.csv','cnn_loss_spatial')\n"
   ],
   "metadata": {
    "collapsed": false,
    "ExecuteTime": {
     "end_time": "2023-07-14T17:41:16.508419542Z",
     "start_time": "2023-07-14T17:41:16.437747011Z"
    }
   }
  },
  {
   "cell_type": "code",
   "execution_count": 14,
   "outputs": [
    {
     "name": "stderr",
     "output_type": "stream",
     "text": [
      "/home/franzs/Schreibtisch/ecmi-hydrological-forecasting/venv/lib/python3.11/site-packages/numpy/core/fromnumeric.py:3462: FutureWarning: In a future version, DataFrame.mean(axis=None) will return a scalar mean over the entire DataFrame. To retain the old behavior, use 'frame.mean(axis=0)' or just 'frame.mean()'\n",
      "  return mean(axis=axis, dtype=dtype, out=out, **kwargs)\n",
      "/home/franzs/Schreibtisch/ecmi-hydrological-forecasting/venv/lib/python3.11/site-packages/numpy/core/fromnumeric.py:3462: FutureWarning: In a future version, DataFrame.mean(axis=None) will return a scalar mean over the entire DataFrame. To retain the old behavior, use 'frame.mean(axis=0)' or just 'frame.mean()'\n",
      "  return mean(axis=axis, dtype=dtype, out=out, **kwargs)\n",
      "/home/franzs/Schreibtisch/ecmi-hydrological-forecasting/venv/lib/python3.11/site-packages/numpy/core/fromnumeric.py:3462: FutureWarning: In a future version, DataFrame.mean(axis=None) will return a scalar mean over the entire DataFrame. To retain the old behavior, use 'frame.mean(axis=0)' or just 'frame.mean()'\n",
      "  return mean(axis=axis, dtype=dtype, out=out, **kwargs)\n",
      "/home/franzs/Schreibtisch/ecmi-hydrological-forecasting/venv/lib/python3.11/site-packages/numpy/core/fromnumeric.py:3462: FutureWarning: In a future version, DataFrame.mean(axis=None) will return a scalar mean over the entire DataFrame. To retain the old behavior, use 'frame.mean(axis=0)' or just 'frame.mean()'\n",
      "  return mean(axis=axis, dtype=dtype, out=out, **kwargs)\n",
      "/home/franzs/Schreibtisch/ecmi-hydrological-forecasting/venv/lib/python3.11/site-packages/numpy/core/fromnumeric.py:3462: FutureWarning: In a future version, DataFrame.mean(axis=None) will return a scalar mean over the entire DataFrame. To retain the old behavior, use 'frame.mean(axis=0)' or just 'frame.mean()'\n",
      "  return mean(axis=axis, dtype=dtype, out=out, **kwargs)\n",
      "/home/franzs/Schreibtisch/ecmi-hydrological-forecasting/venv/lib/python3.11/site-packages/numpy/core/fromnumeric.py:3462: FutureWarning: In a future version, DataFrame.mean(axis=None) will return a scalar mean over the entire DataFrame. To retain the old behavior, use 'frame.mean(axis=0)' or just 'frame.mean()'\n",
      "  return mean(axis=axis, dtype=dtype, out=out, **kwargs)\n",
      "/home/franzs/Schreibtisch/ecmi-hydrological-forecasting/venv/lib/python3.11/site-packages/numpy/core/fromnumeric.py:3462: FutureWarning: In a future version, DataFrame.mean(axis=None) will return a scalar mean over the entire DataFrame. To retain the old behavior, use 'frame.mean(axis=0)' or just 'frame.mean()'\n",
      "  return mean(axis=axis, dtype=dtype, out=out, **kwargs)\n",
      "/home/franzs/Schreibtisch/ecmi-hydrological-forecasting/venv/lib/python3.11/site-packages/numpy/core/fromnumeric.py:3462: FutureWarning: In a future version, DataFrame.mean(axis=None) will return a scalar mean over the entire DataFrame. To retain the old behavior, use 'frame.mean(axis=0)' or just 'frame.mean()'\n",
      "  return mean(axis=axis, dtype=dtype, out=out, **kwargs)\n",
      "/home/franzs/Schreibtisch/ecmi-hydrological-forecasting/venv/lib/python3.11/site-packages/numpy/core/fromnumeric.py:3462: FutureWarning: In a future version, DataFrame.mean(axis=None) will return a scalar mean over the entire DataFrame. To retain the old behavior, use 'frame.mean(axis=0)' or just 'frame.mean()'\n",
      "  return mean(axis=axis, dtype=dtype, out=out, **kwargs)\n",
      "/home/franzs/Schreibtisch/ecmi-hydrological-forecasting/venv/lib/python3.11/site-packages/numpy/core/fromnumeric.py:3462: FutureWarning: In a future version, DataFrame.mean(axis=None) will return a scalar mean over the entire DataFrame. To retain the old behavior, use 'frame.mean(axis=0)' or just 'frame.mean()'\n",
      "  return mean(axis=axis, dtype=dtype, out=out, **kwargs)\n",
      "/home/franzs/Schreibtisch/ecmi-hydrological-forecasting/venv/lib/python3.11/site-packages/numpy/core/fromnumeric.py:3462: FutureWarning: In a future version, DataFrame.mean(axis=None) will return a scalar mean over the entire DataFrame. To retain the old behavior, use 'frame.mean(axis=0)' or just 'frame.mean()'\n",
      "  return mean(axis=axis, dtype=dtype, out=out, **kwargs)\n",
      "/home/franzs/Schreibtisch/ecmi-hydrological-forecasting/venv/lib/python3.11/site-packages/numpy/core/fromnumeric.py:3462: FutureWarning: In a future version, DataFrame.mean(axis=None) will return a scalar mean over the entire DataFrame. To retain the old behavior, use 'frame.mean(axis=0)' or just 'frame.mean()'\n",
      "  return mean(axis=axis, dtype=dtype, out=out, **kwargs)\n",
      "/home/franzs/Schreibtisch/ecmi-hydrological-forecasting/venv/lib/python3.11/site-packages/numpy/core/fromnumeric.py:3462: FutureWarning: In a future version, DataFrame.mean(axis=None) will return a scalar mean over the entire DataFrame. To retain the old behavior, use 'frame.mean(axis=0)' or just 'frame.mean()'\n",
      "  return mean(axis=axis, dtype=dtype, out=out, **kwargs)\n",
      "/home/franzs/Schreibtisch/ecmi-hydrological-forecasting/venv/lib/python3.11/site-packages/numpy/core/fromnumeric.py:3462: FutureWarning: In a future version, DataFrame.mean(axis=None) will return a scalar mean over the entire DataFrame. To retain the old behavior, use 'frame.mean(axis=0)' or just 'frame.mean()'\n",
      "  return mean(axis=axis, dtype=dtype, out=out, **kwargs)\n",
      "/home/franzs/Schreibtisch/ecmi-hydrological-forecasting/venv/lib/python3.11/site-packages/numpy/core/fromnumeric.py:3462: FutureWarning: In a future version, DataFrame.mean(axis=None) will return a scalar mean over the entire DataFrame. To retain the old behavior, use 'frame.mean(axis=0)' or just 'frame.mean()'\n",
      "  return mean(axis=axis, dtype=dtype, out=out, **kwargs)\n",
      "/home/franzs/Schreibtisch/ecmi-hydrological-forecasting/venv/lib/python3.11/site-packages/numpy/core/fromnumeric.py:3462: FutureWarning: In a future version, DataFrame.mean(axis=None) will return a scalar mean over the entire DataFrame. To retain the old behavior, use 'frame.mean(axis=0)' or just 'frame.mean()'\n",
      "  return mean(axis=axis, dtype=dtype, out=out, **kwargs)\n",
      "/home/franzs/Schreibtisch/ecmi-hydrological-forecasting/venv/lib/python3.11/site-packages/numpy/core/fromnumeric.py:3462: FutureWarning: In a future version, DataFrame.mean(axis=None) will return a scalar mean over the entire DataFrame. To retain the old behavior, use 'frame.mean(axis=0)' or just 'frame.mean()'\n",
      "  return mean(axis=axis, dtype=dtype, out=out, **kwargs)\n",
      "/home/franzs/Schreibtisch/ecmi-hydrological-forecasting/venv/lib/python3.11/site-packages/numpy/core/fromnumeric.py:3462: FutureWarning: In a future version, DataFrame.mean(axis=None) will return a scalar mean over the entire DataFrame. To retain the old behavior, use 'frame.mean(axis=0)' or just 'frame.mean()'\n",
      "  return mean(axis=axis, dtype=dtype, out=out, **kwargs)\n",
      "/home/franzs/Schreibtisch/ecmi-hydrological-forecasting/venv/lib/python3.11/site-packages/numpy/core/fromnumeric.py:3462: FutureWarning: In a future version, DataFrame.mean(axis=None) will return a scalar mean over the entire DataFrame. To retain the old behavior, use 'frame.mean(axis=0)' or just 'frame.mean()'\n",
      "  return mean(axis=axis, dtype=dtype, out=out, **kwargs)\n"
     ]
    }
   ],
   "source": [
    "save_metrics('CNNSpatmodel.csv','cnn_spatial')"
   ],
   "metadata": {
    "collapsed": false,
    "ExecuteTime": {
     "end_time": "2023-07-14T17:57:49.091040180Z",
     "start_time": "2023-07-14T17:57:48.991728443Z"
    }
   }
  },
  {
   "cell_type": "code",
   "execution_count": 15,
   "outputs": [
    {
     "name": "stderr",
     "output_type": "stream",
     "text": [
      "/home/franzs/Schreibtisch/ecmi-hydrological-forecasting/venv/lib/python3.11/site-packages/numpy/core/fromnumeric.py:3462: FutureWarning: In a future version, DataFrame.mean(axis=None) will return a scalar mean over the entire DataFrame. To retain the old behavior, use 'frame.mean(axis=0)' or just 'frame.mean()'\n",
      "  return mean(axis=axis, dtype=dtype, out=out, **kwargs)\n",
      "/home/franzs/Schreibtisch/ecmi-hydrological-forecasting/venv/lib/python3.11/site-packages/numpy/core/fromnumeric.py:3462: FutureWarning: In a future version, DataFrame.mean(axis=None) will return a scalar mean over the entire DataFrame. To retain the old behavior, use 'frame.mean(axis=0)' or just 'frame.mean()'\n",
      "  return mean(axis=axis, dtype=dtype, out=out, **kwargs)\n",
      "/home/franzs/Schreibtisch/ecmi-hydrological-forecasting/venv/lib/python3.11/site-packages/numpy/core/fromnumeric.py:3462: FutureWarning: In a future version, DataFrame.mean(axis=None) will return a scalar mean over the entire DataFrame. To retain the old behavior, use 'frame.mean(axis=0)' or just 'frame.mean()'\n",
      "  return mean(axis=axis, dtype=dtype, out=out, **kwargs)\n",
      "/home/franzs/Schreibtisch/ecmi-hydrological-forecasting/venv/lib/python3.11/site-packages/numpy/core/fromnumeric.py:3462: FutureWarning: In a future version, DataFrame.mean(axis=None) will return a scalar mean over the entire DataFrame. To retain the old behavior, use 'frame.mean(axis=0)' or just 'frame.mean()'\n",
      "  return mean(axis=axis, dtype=dtype, out=out, **kwargs)\n",
      "/home/franzs/Schreibtisch/ecmi-hydrological-forecasting/venv/lib/python3.11/site-packages/numpy/core/fromnumeric.py:3462: FutureWarning: In a future version, DataFrame.mean(axis=None) will return a scalar mean over the entire DataFrame. To retain the old behavior, use 'frame.mean(axis=0)' or just 'frame.mean()'\n",
      "  return mean(axis=axis, dtype=dtype, out=out, **kwargs)\n",
      "/home/franzs/Schreibtisch/ecmi-hydrological-forecasting/venv/lib/python3.11/site-packages/numpy/core/fromnumeric.py:3462: FutureWarning: In a future version, DataFrame.mean(axis=None) will return a scalar mean over the entire DataFrame. To retain the old behavior, use 'frame.mean(axis=0)' or just 'frame.mean()'\n",
      "  return mean(axis=axis, dtype=dtype, out=out, **kwargs)\n",
      "/home/franzs/Schreibtisch/ecmi-hydrological-forecasting/venv/lib/python3.11/site-packages/numpy/core/fromnumeric.py:3462: FutureWarning: In a future version, DataFrame.mean(axis=None) will return a scalar mean over the entire DataFrame. To retain the old behavior, use 'frame.mean(axis=0)' or just 'frame.mean()'\n",
      "  return mean(axis=axis, dtype=dtype, out=out, **kwargs)\n",
      "/home/franzs/Schreibtisch/ecmi-hydrological-forecasting/venv/lib/python3.11/site-packages/numpy/core/fromnumeric.py:3462: FutureWarning: In a future version, DataFrame.mean(axis=None) will return a scalar mean over the entire DataFrame. To retain the old behavior, use 'frame.mean(axis=0)' or just 'frame.mean()'\n",
      "  return mean(axis=axis, dtype=dtype, out=out, **kwargs)\n",
      "/home/franzs/Schreibtisch/ecmi-hydrological-forecasting/venv/lib/python3.11/site-packages/numpy/core/fromnumeric.py:3462: FutureWarning: In a future version, DataFrame.mean(axis=None) will return a scalar mean over the entire DataFrame. To retain the old behavior, use 'frame.mean(axis=0)' or just 'frame.mean()'\n",
      "  return mean(axis=axis, dtype=dtype, out=out, **kwargs)\n",
      "/home/franzs/Schreibtisch/ecmi-hydrological-forecasting/venv/lib/python3.11/site-packages/numpy/core/fromnumeric.py:3462: FutureWarning: In a future version, DataFrame.mean(axis=None) will return a scalar mean over the entire DataFrame. To retain the old behavior, use 'frame.mean(axis=0)' or just 'frame.mean()'\n",
      "  return mean(axis=axis, dtype=dtype, out=out, **kwargs)\n",
      "/home/franzs/Schreibtisch/ecmi-hydrological-forecasting/venv/lib/python3.11/site-packages/numpy/core/fromnumeric.py:3462: FutureWarning: In a future version, DataFrame.mean(axis=None) will return a scalar mean over the entire DataFrame. To retain the old behavior, use 'frame.mean(axis=0)' or just 'frame.mean()'\n",
      "  return mean(axis=axis, dtype=dtype, out=out, **kwargs)\n",
      "/home/franzs/Schreibtisch/ecmi-hydrological-forecasting/venv/lib/python3.11/site-packages/numpy/core/fromnumeric.py:3462: FutureWarning: In a future version, DataFrame.mean(axis=None) will return a scalar mean over the entire DataFrame. To retain the old behavior, use 'frame.mean(axis=0)' or just 'frame.mean()'\n",
      "  return mean(axis=axis, dtype=dtype, out=out, **kwargs)\n",
      "/home/franzs/Schreibtisch/ecmi-hydrological-forecasting/venv/lib/python3.11/site-packages/numpy/core/fromnumeric.py:3462: FutureWarning: In a future version, DataFrame.mean(axis=None) will return a scalar mean over the entire DataFrame. To retain the old behavior, use 'frame.mean(axis=0)' or just 'frame.mean()'\n",
      "  return mean(axis=axis, dtype=dtype, out=out, **kwargs)\n",
      "/home/franzs/Schreibtisch/ecmi-hydrological-forecasting/venv/lib/python3.11/site-packages/numpy/core/fromnumeric.py:3462: FutureWarning: In a future version, DataFrame.mean(axis=None) will return a scalar mean over the entire DataFrame. To retain the old behavior, use 'frame.mean(axis=0)' or just 'frame.mean()'\n",
      "  return mean(axis=axis, dtype=dtype, out=out, **kwargs)\n",
      "/home/franzs/Schreibtisch/ecmi-hydrological-forecasting/venv/lib/python3.11/site-packages/numpy/core/fromnumeric.py:3462: FutureWarning: In a future version, DataFrame.mean(axis=None) will return a scalar mean over the entire DataFrame. To retain the old behavior, use 'frame.mean(axis=0)' or just 'frame.mean()'\n",
      "  return mean(axis=axis, dtype=dtype, out=out, **kwargs)\n",
      "/home/franzs/Schreibtisch/ecmi-hydrological-forecasting/venv/lib/python3.11/site-packages/numpy/core/fromnumeric.py:3462: FutureWarning: In a future version, DataFrame.mean(axis=None) will return a scalar mean over the entire DataFrame. To retain the old behavior, use 'frame.mean(axis=0)' or just 'frame.mean()'\n",
      "  return mean(axis=axis, dtype=dtype, out=out, **kwargs)\n",
      "/home/franzs/Schreibtisch/ecmi-hydrological-forecasting/venv/lib/python3.11/site-packages/numpy/core/fromnumeric.py:3462: FutureWarning: In a future version, DataFrame.mean(axis=None) will return a scalar mean over the entire DataFrame. To retain the old behavior, use 'frame.mean(axis=0)' or just 'frame.mean()'\n",
      "  return mean(axis=axis, dtype=dtype, out=out, **kwargs)\n",
      "/home/franzs/Schreibtisch/ecmi-hydrological-forecasting/venv/lib/python3.11/site-packages/numpy/core/fromnumeric.py:3462: FutureWarning: In a future version, DataFrame.mean(axis=None) will return a scalar mean over the entire DataFrame. To retain the old behavior, use 'frame.mean(axis=0)' or just 'frame.mean()'\n",
      "  return mean(axis=axis, dtype=dtype, out=out, **kwargs)\n",
      "/home/franzs/Schreibtisch/ecmi-hydrological-forecasting/venv/lib/python3.11/site-packages/numpy/core/fromnumeric.py:3462: FutureWarning: In a future version, DataFrame.mean(axis=None) will return a scalar mean over the entire DataFrame. To retain the old behavior, use 'frame.mean(axis=0)' or just 'frame.mean()'\n",
      "  return mean(axis=axis, dtype=dtype, out=out, **kwargs)\n"
     ]
    }
   ],
   "source": [
    "save_metrics('LSTM_S_OPT.csv','lstm_s_opt')"
   ],
   "metadata": {
    "collapsed": false,
    "ExecuteTime": {
     "end_time": "2023-07-14T19:45:06.987171631Z",
     "start_time": "2023-07-14T19:45:06.922736242Z"
    }
   }
  },
  {
   "cell_type": "code",
   "execution_count": 16,
   "outputs": [
    {
     "name": "stderr",
     "output_type": "stream",
     "text": [
      "/home/franzs/Schreibtisch/ecmi-hydrological-forecasting/venv/lib/python3.11/site-packages/numpy/core/fromnumeric.py:3462: FutureWarning: In a future version, DataFrame.mean(axis=None) will return a scalar mean over the entire DataFrame. To retain the old behavior, use 'frame.mean(axis=0)' or just 'frame.mean()'\n",
      "  return mean(axis=axis, dtype=dtype, out=out, **kwargs)\n",
      "/home/franzs/Schreibtisch/ecmi-hydrological-forecasting/venv/lib/python3.11/site-packages/numpy/core/fromnumeric.py:3462: FutureWarning: In a future version, DataFrame.mean(axis=None) will return a scalar mean over the entire DataFrame. To retain the old behavior, use 'frame.mean(axis=0)' or just 'frame.mean()'\n",
      "  return mean(axis=axis, dtype=dtype, out=out, **kwargs)\n",
      "/home/franzs/Schreibtisch/ecmi-hydrological-forecasting/venv/lib/python3.11/site-packages/numpy/core/fromnumeric.py:3462: FutureWarning: In a future version, DataFrame.mean(axis=None) will return a scalar mean over the entire DataFrame. To retain the old behavior, use 'frame.mean(axis=0)' or just 'frame.mean()'\n",
      "  return mean(axis=axis, dtype=dtype, out=out, **kwargs)\n",
      "/home/franzs/Schreibtisch/ecmi-hydrological-forecasting/venv/lib/python3.11/site-packages/numpy/core/fromnumeric.py:3462: FutureWarning: In a future version, DataFrame.mean(axis=None) will return a scalar mean over the entire DataFrame. To retain the old behavior, use 'frame.mean(axis=0)' or just 'frame.mean()'\n",
      "  return mean(axis=axis, dtype=dtype, out=out, **kwargs)\n",
      "/home/franzs/Schreibtisch/ecmi-hydrological-forecasting/venv/lib/python3.11/site-packages/numpy/core/fromnumeric.py:3462: FutureWarning: In a future version, DataFrame.mean(axis=None) will return a scalar mean over the entire DataFrame. To retain the old behavior, use 'frame.mean(axis=0)' or just 'frame.mean()'\n",
      "  return mean(axis=axis, dtype=dtype, out=out, **kwargs)\n",
      "/home/franzs/Schreibtisch/ecmi-hydrological-forecasting/venv/lib/python3.11/site-packages/numpy/core/fromnumeric.py:3462: FutureWarning: In a future version, DataFrame.mean(axis=None) will return a scalar mean over the entire DataFrame. To retain the old behavior, use 'frame.mean(axis=0)' or just 'frame.mean()'\n",
      "  return mean(axis=axis, dtype=dtype, out=out, **kwargs)\n",
      "/home/franzs/Schreibtisch/ecmi-hydrological-forecasting/venv/lib/python3.11/site-packages/numpy/core/fromnumeric.py:3462: FutureWarning: In a future version, DataFrame.mean(axis=None) will return a scalar mean over the entire DataFrame. To retain the old behavior, use 'frame.mean(axis=0)' or just 'frame.mean()'\n",
      "  return mean(axis=axis, dtype=dtype, out=out, **kwargs)\n",
      "/home/franzs/Schreibtisch/ecmi-hydrological-forecasting/venv/lib/python3.11/site-packages/numpy/core/fromnumeric.py:3462: FutureWarning: In a future version, DataFrame.mean(axis=None) will return a scalar mean over the entire DataFrame. To retain the old behavior, use 'frame.mean(axis=0)' or just 'frame.mean()'\n",
      "  return mean(axis=axis, dtype=dtype, out=out, **kwargs)\n",
      "/home/franzs/Schreibtisch/ecmi-hydrological-forecasting/venv/lib/python3.11/site-packages/numpy/core/fromnumeric.py:3462: FutureWarning: In a future version, DataFrame.mean(axis=None) will return a scalar mean over the entire DataFrame. To retain the old behavior, use 'frame.mean(axis=0)' or just 'frame.mean()'\n",
      "  return mean(axis=axis, dtype=dtype, out=out, **kwargs)\n",
      "/home/franzs/Schreibtisch/ecmi-hydrological-forecasting/venv/lib/python3.11/site-packages/numpy/core/fromnumeric.py:3462: FutureWarning: In a future version, DataFrame.mean(axis=None) will return a scalar mean over the entire DataFrame. To retain the old behavior, use 'frame.mean(axis=0)' or just 'frame.mean()'\n",
      "  return mean(axis=axis, dtype=dtype, out=out, **kwargs)\n",
      "/home/franzs/Schreibtisch/ecmi-hydrological-forecasting/venv/lib/python3.11/site-packages/numpy/core/fromnumeric.py:3462: FutureWarning: In a future version, DataFrame.mean(axis=None) will return a scalar mean over the entire DataFrame. To retain the old behavior, use 'frame.mean(axis=0)' or just 'frame.mean()'\n",
      "  return mean(axis=axis, dtype=dtype, out=out, **kwargs)\n",
      "/home/franzs/Schreibtisch/ecmi-hydrological-forecasting/venv/lib/python3.11/site-packages/numpy/core/fromnumeric.py:3462: FutureWarning: In a future version, DataFrame.mean(axis=None) will return a scalar mean over the entire DataFrame. To retain the old behavior, use 'frame.mean(axis=0)' or just 'frame.mean()'\n",
      "  return mean(axis=axis, dtype=dtype, out=out, **kwargs)\n",
      "/home/franzs/Schreibtisch/ecmi-hydrological-forecasting/venv/lib/python3.11/site-packages/numpy/core/fromnumeric.py:3462: FutureWarning: In a future version, DataFrame.mean(axis=None) will return a scalar mean over the entire DataFrame. To retain the old behavior, use 'frame.mean(axis=0)' or just 'frame.mean()'\n",
      "  return mean(axis=axis, dtype=dtype, out=out, **kwargs)\n",
      "/home/franzs/Schreibtisch/ecmi-hydrological-forecasting/venv/lib/python3.11/site-packages/numpy/core/fromnumeric.py:3462: FutureWarning: In a future version, DataFrame.mean(axis=None) will return a scalar mean over the entire DataFrame. To retain the old behavior, use 'frame.mean(axis=0)' or just 'frame.mean()'\n",
      "  return mean(axis=axis, dtype=dtype, out=out, **kwargs)\n",
      "/home/franzs/Schreibtisch/ecmi-hydrological-forecasting/venv/lib/python3.11/site-packages/numpy/core/fromnumeric.py:3462: FutureWarning: In a future version, DataFrame.mean(axis=None) will return a scalar mean over the entire DataFrame. To retain the old behavior, use 'frame.mean(axis=0)' or just 'frame.mean()'\n",
      "  return mean(axis=axis, dtype=dtype, out=out, **kwargs)\n",
      "/home/franzs/Schreibtisch/ecmi-hydrological-forecasting/venv/lib/python3.11/site-packages/numpy/core/fromnumeric.py:3462: FutureWarning: In a future version, DataFrame.mean(axis=None) will return a scalar mean over the entire DataFrame. To retain the old behavior, use 'frame.mean(axis=0)' or just 'frame.mean()'\n",
      "  return mean(axis=axis, dtype=dtype, out=out, **kwargs)\n",
      "/home/franzs/Schreibtisch/ecmi-hydrological-forecasting/venv/lib/python3.11/site-packages/numpy/core/fromnumeric.py:3462: FutureWarning: In a future version, DataFrame.mean(axis=None) will return a scalar mean over the entire DataFrame. To retain the old behavior, use 'frame.mean(axis=0)' or just 'frame.mean()'\n",
      "  return mean(axis=axis, dtype=dtype, out=out, **kwargs)\n",
      "/home/franzs/Schreibtisch/ecmi-hydrological-forecasting/venv/lib/python3.11/site-packages/numpy/core/fromnumeric.py:3462: FutureWarning: In a future version, DataFrame.mean(axis=None) will return a scalar mean over the entire DataFrame. To retain the old behavior, use 'frame.mean(axis=0)' or just 'frame.mean()'\n",
      "  return mean(axis=axis, dtype=dtype, out=out, **kwargs)\n",
      "/home/franzs/Schreibtisch/ecmi-hydrological-forecasting/venv/lib/python3.11/site-packages/numpy/core/fromnumeric.py:3462: FutureWarning: In a future version, DataFrame.mean(axis=None) will return a scalar mean over the entire DataFrame. To retain the old behavior, use 'frame.mean(axis=0)' or just 'frame.mean()'\n",
      "  return mean(axis=axis, dtype=dtype, out=out, **kwargs)\n"
     ]
    }
   ],
   "source": [
    "save_metrics('LSTMcub.csv','lstm_cub')"
   ],
   "metadata": {
    "collapsed": false,
    "ExecuteTime": {
     "end_time": "2023-07-14T21:03:23.155647383Z",
     "start_time": "2023-07-14T21:03:23.095419499Z"
    }
   }
  },
  {
   "cell_type": "code",
   "execution_count": 17,
   "outputs": [
    {
     "name": "stderr",
     "output_type": "stream",
     "text": [
      "/home/franzs/Schreibtisch/ecmi-hydrological-forecasting/venv/lib/python3.11/site-packages/numpy/core/fromnumeric.py:3462: FutureWarning: In a future version, DataFrame.mean(axis=None) will return a scalar mean over the entire DataFrame. To retain the old behavior, use 'frame.mean(axis=0)' or just 'frame.mean()'\n",
      "  return mean(axis=axis, dtype=dtype, out=out, **kwargs)\n",
      "/home/franzs/Schreibtisch/ecmi-hydrological-forecasting/venv/lib/python3.11/site-packages/numpy/core/fromnumeric.py:3462: FutureWarning: In a future version, DataFrame.mean(axis=None) will return a scalar mean over the entire DataFrame. To retain the old behavior, use 'frame.mean(axis=0)' or just 'frame.mean()'\n",
      "  return mean(axis=axis, dtype=dtype, out=out, **kwargs)\n",
      "/home/franzs/Schreibtisch/ecmi-hydrological-forecasting/venv/lib/python3.11/site-packages/numpy/core/fromnumeric.py:3462: FutureWarning: In a future version, DataFrame.mean(axis=None) will return a scalar mean over the entire DataFrame. To retain the old behavior, use 'frame.mean(axis=0)' or just 'frame.mean()'\n",
      "  return mean(axis=axis, dtype=dtype, out=out, **kwargs)\n",
      "/home/franzs/Schreibtisch/ecmi-hydrological-forecasting/venv/lib/python3.11/site-packages/numpy/core/fromnumeric.py:3462: FutureWarning: In a future version, DataFrame.mean(axis=None) will return a scalar mean over the entire DataFrame. To retain the old behavior, use 'frame.mean(axis=0)' or just 'frame.mean()'\n",
      "  return mean(axis=axis, dtype=dtype, out=out, **kwargs)\n",
      "/home/franzs/Schreibtisch/ecmi-hydrological-forecasting/venv/lib/python3.11/site-packages/numpy/core/fromnumeric.py:3462: FutureWarning: In a future version, DataFrame.mean(axis=None) will return a scalar mean over the entire DataFrame. To retain the old behavior, use 'frame.mean(axis=0)' or just 'frame.mean()'\n",
      "  return mean(axis=axis, dtype=dtype, out=out, **kwargs)\n",
      "/home/franzs/Schreibtisch/ecmi-hydrological-forecasting/venv/lib/python3.11/site-packages/numpy/core/fromnumeric.py:3462: FutureWarning: In a future version, DataFrame.mean(axis=None) will return a scalar mean over the entire DataFrame. To retain the old behavior, use 'frame.mean(axis=0)' or just 'frame.mean()'\n",
      "  return mean(axis=axis, dtype=dtype, out=out, **kwargs)\n",
      "/home/franzs/Schreibtisch/ecmi-hydrological-forecasting/venv/lib/python3.11/site-packages/numpy/core/fromnumeric.py:3462: FutureWarning: In a future version, DataFrame.mean(axis=None) will return a scalar mean over the entire DataFrame. To retain the old behavior, use 'frame.mean(axis=0)' or just 'frame.mean()'\n",
      "  return mean(axis=axis, dtype=dtype, out=out, **kwargs)\n",
      "/home/franzs/Schreibtisch/ecmi-hydrological-forecasting/venv/lib/python3.11/site-packages/numpy/core/fromnumeric.py:3462: FutureWarning: In a future version, DataFrame.mean(axis=None) will return a scalar mean over the entire DataFrame. To retain the old behavior, use 'frame.mean(axis=0)' or just 'frame.mean()'\n",
      "  return mean(axis=axis, dtype=dtype, out=out, **kwargs)\n",
      "/home/franzs/Schreibtisch/ecmi-hydrological-forecasting/venv/lib/python3.11/site-packages/numpy/core/fromnumeric.py:3462: FutureWarning: In a future version, DataFrame.mean(axis=None) will return a scalar mean over the entire DataFrame. To retain the old behavior, use 'frame.mean(axis=0)' or just 'frame.mean()'\n",
      "  return mean(axis=axis, dtype=dtype, out=out, **kwargs)\n",
      "/home/franzs/Schreibtisch/ecmi-hydrological-forecasting/venv/lib/python3.11/site-packages/numpy/core/fromnumeric.py:3462: FutureWarning: In a future version, DataFrame.mean(axis=None) will return a scalar mean over the entire DataFrame. To retain the old behavior, use 'frame.mean(axis=0)' or just 'frame.mean()'\n",
      "  return mean(axis=axis, dtype=dtype, out=out, **kwargs)\n",
      "/home/franzs/Schreibtisch/ecmi-hydrological-forecasting/venv/lib/python3.11/site-packages/numpy/core/fromnumeric.py:3462: FutureWarning: In a future version, DataFrame.mean(axis=None) will return a scalar mean over the entire DataFrame. To retain the old behavior, use 'frame.mean(axis=0)' or just 'frame.mean()'\n",
      "  return mean(axis=axis, dtype=dtype, out=out, **kwargs)\n",
      "/home/franzs/Schreibtisch/ecmi-hydrological-forecasting/venv/lib/python3.11/site-packages/numpy/core/fromnumeric.py:3462: FutureWarning: In a future version, DataFrame.mean(axis=None) will return a scalar mean over the entire DataFrame. To retain the old behavior, use 'frame.mean(axis=0)' or just 'frame.mean()'\n",
      "  return mean(axis=axis, dtype=dtype, out=out, **kwargs)\n",
      "/home/franzs/Schreibtisch/ecmi-hydrological-forecasting/venv/lib/python3.11/site-packages/numpy/core/fromnumeric.py:3462: FutureWarning: In a future version, DataFrame.mean(axis=None) will return a scalar mean over the entire DataFrame. To retain the old behavior, use 'frame.mean(axis=0)' or just 'frame.mean()'\n",
      "  return mean(axis=axis, dtype=dtype, out=out, **kwargs)\n",
      "/home/franzs/Schreibtisch/ecmi-hydrological-forecasting/venv/lib/python3.11/site-packages/numpy/core/fromnumeric.py:3462: FutureWarning: In a future version, DataFrame.mean(axis=None) will return a scalar mean over the entire DataFrame. To retain the old behavior, use 'frame.mean(axis=0)' or just 'frame.mean()'\n",
      "  return mean(axis=axis, dtype=dtype, out=out, **kwargs)\n",
      "/home/franzs/Schreibtisch/ecmi-hydrological-forecasting/venv/lib/python3.11/site-packages/numpy/core/fromnumeric.py:3462: FutureWarning: In a future version, DataFrame.mean(axis=None) will return a scalar mean over the entire DataFrame. To retain the old behavior, use 'frame.mean(axis=0)' or just 'frame.mean()'\n",
      "  return mean(axis=axis, dtype=dtype, out=out, **kwargs)\n",
      "/home/franzs/Schreibtisch/ecmi-hydrological-forecasting/venv/lib/python3.11/site-packages/numpy/core/fromnumeric.py:3462: FutureWarning: In a future version, DataFrame.mean(axis=None) will return a scalar mean over the entire DataFrame. To retain the old behavior, use 'frame.mean(axis=0)' or just 'frame.mean()'\n",
      "  return mean(axis=axis, dtype=dtype, out=out, **kwargs)\n",
      "/home/franzs/Schreibtisch/ecmi-hydrological-forecasting/venv/lib/python3.11/site-packages/numpy/core/fromnumeric.py:3462: FutureWarning: In a future version, DataFrame.mean(axis=None) will return a scalar mean over the entire DataFrame. To retain the old behavior, use 'frame.mean(axis=0)' or just 'frame.mean()'\n",
      "  return mean(axis=axis, dtype=dtype, out=out, **kwargs)\n",
      "/home/franzs/Schreibtisch/ecmi-hydrological-forecasting/venv/lib/python3.11/site-packages/numpy/core/fromnumeric.py:3462: FutureWarning: In a future version, DataFrame.mean(axis=None) will return a scalar mean over the entire DataFrame. To retain the old behavior, use 'frame.mean(axis=0)' or just 'frame.mean()'\n",
      "  return mean(axis=axis, dtype=dtype, out=out, **kwargs)\n",
      "/home/franzs/Schreibtisch/ecmi-hydrological-forecasting/venv/lib/python3.11/site-packages/numpy/core/fromnumeric.py:3462: FutureWarning: In a future version, DataFrame.mean(axis=None) will return a scalar mean over the entire DataFrame. To retain the old behavior, use 'frame.mean(axis=0)' or just 'frame.mean()'\n",
      "  return mean(axis=axis, dtype=dtype, out=out, **kwargs)\n"
     ]
    }
   ],
   "source": [
    "save_metrics('LSTMexp.csv','lstm_exp')"
   ],
   "metadata": {
    "collapsed": false,
    "ExecuteTime": {
     "end_time": "2023-07-14T21:03:44.220577833Z",
     "start_time": "2023-07-14T21:03:44.148102814Z"
    }
   }
  },
  {
   "cell_type": "code",
   "execution_count": null,
   "outputs": [],
   "source": [],
   "metadata": {
    "collapsed": false
   }
  }
 ],
 "metadata": {
  "kernelspec": {
   "display_name": "Python 3 (ipykernel)",
   "language": "python",
   "name": "python3"
  },
  "language_info": {
   "codemirror_mode": {
    "name": "ipython",
    "version": 3
   },
   "file_extension": ".py",
   "mimetype": "text/x-python",
   "name": "python",
   "nbconvert_exporter": "python",
   "pygments_lexer": "ipython3",
   "version": "3.8.10"
  }
 },
 "nbformat": 4,
 "nbformat_minor": 5
}
