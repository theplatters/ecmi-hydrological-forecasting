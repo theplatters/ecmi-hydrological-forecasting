{
 "cells": [
  {
   "cell_type": "code",
   "execution_count": 2,
   "id": "28bde633",
   "metadata": {
    "ExecuteTime": {
     "end_time": "2023-07-13T15:44:06.139988910Z",
     "start_time": "2023-07-13T15:44:04.921366021Z"
    }
   },
   "outputs": [],
   "source": [
    "import os\n",
    "import sys\n",
    "PROJECT_PATH = os.path.dirname(os.path.dirname(os.path.realpath(\"__file__\")))\n",
    "sys.path.append(PROJECT_PATH)\n",
    "\n",
    "import json\n",
    "import pickle\n",
    "\n",
    "import numpy as np\n",
    "import pandas as pd\n",
    "import torch\n",
    "from torchsummary import summary\n",
    "\n",
    "from src.data.downloader import Downloader\n",
    "from src.model.baseline_model import BaselineModel\n",
    "from src.model.linear_model import LinearModel\n",
    "from src.model.mlp_model import MLPModel"
   ]
  },
  {
   "cell_type": "code",
   "execution_count": 2,
   "id": "590c88e7",
   "metadata": {},
   "outputs": [],
   "source": [
    "%%capture\n",
    "gdrive_link = \"https://drive.google.com/uc?export=download&id=\"\n",
    "Downloader(gdrive_id=\"1XMqFFSc65UVE3EYh_tgPHtVRnonshjEO\", file_name=\"all_analysis_for_paper.json\") \n",
    "Downloader(files=json.load(open(os.path.join(PROJECT_PATH, \"data\", \"all_analysis_for_paper.json\"))))"
   ]
  },
  {
   "cell_type": "markdown",
   "id": "3295d5b6",
   "metadata": {},
   "source": [
    "# Data loading, preprocessing"
   ]
  },
  {
   "cell_type": "code",
   "execution_count": 4,
   "id": "a525f588",
   "metadata": {
    "ExecuteTime": {
     "end_time": "2023-07-13T15:44:22.549792764Z",
     "start_time": "2023-07-13T15:44:22.356709422Z"
    }
   },
   "outputs": [
    {
     "data": {
      "text/plain": "             1515  1516   1518   1521   1719   1720   1722   1723   2040  \\\nDate                                                                       \n2005-01-01  -80.0  45.0    9.0  387.0  513.0  460.0  274.0  322.0  489.0   \n2005-01-02 -111.0   5.0  -36.0  362.0  505.0  462.0  243.0  310.0  482.0   \n2005-01-03 -123.0  -9.0  -67.0  341.0  499.0  465.0  214.0  270.0  466.0   \n2005-01-04 -132.0 -11.0  -72.0  336.0  498.0  464.0  203.0  260.0  464.0   \n2005-01-05 -127.0  -6.0  -76.0  331.0  496.0  466.0  193.0  258.0  458.0   \n...           ...   ...    ...    ...    ...    ...    ...    ...    ...   \n2020-12-26  -27.0  75.0  -69.0  309.0  478.0  460.0  138.0  204.0  451.0   \n2020-12-27  -94.0  21.0  -50.0  333.0  488.0  460.0  206.0  252.0  464.0   \n2020-12-28 -137.0 -20.0  -92.0  311.0  481.0  459.0  201.0  250.0  461.0   \n2020-12-29 -140.0 -31.0 -118.0  303.0  481.0  462.0  182.0  239.0  457.0   \n2020-12-30  -99.0  -9.0 -117.0  300.0  478.0  457.0  205.0  248.0  466.0   \n\n            2046  ...  1732   1734   2049   2741   2742   2751   2545  \\\nDate              ...                                                   \n2005-01-01   320  ... -47.0   35.0  142.0   86.0  229.0  244.0  222.0   \n2005-01-02   299  ... -46.0   30.0  139.0   85.0  227.0  241.0  198.0   \n2005-01-03   274  ... -47.0   27.0  137.0   75.0  225.0  242.0  198.0   \n2005-01-04   226  ... -50.0   27.0  134.0  109.0  246.0  241.0  198.0   \n2005-01-05   210  ... -38.0   27.0  133.0  149.0  246.0  303.0  202.0   \n...          ...  ...   ...    ...    ...    ...    ...    ...    ...   \n2020-12-26   -78  ... -70.0   52.0  136.0   74.0  194.0  198.0  -18.0   \n2020-12-27    20  ... -88.0   42.0  133.0   82.0  194.0  216.0  -17.0   \n2020-12-28   120  ... -86.0   40.0  133.0   83.0  197.0  215.0  -22.0   \n2020-12-29   132  ...   0.0   53.0  133.0   85.0  197.0  203.0  -24.0   \n2020-12-30   136  ...  12.0  124.0  145.0   80.0  197.0  198.0  -21.0   \n\n               744624      210888      210900  \nDate                                           \n2005-01-01  82.696130  307.000000  288.000000  \n2005-01-02  69.923412  309.000000  306.000000  \n2005-01-03  72.505006  304.000000  306.000000  \n2005-01-04  63.899692  293.000000  293.000000  \n2005-01-05  63.039160  287.000000  282.000000  \n...               ...         ...         ...  \n2020-12-26  31.000000  227.059349  212.846617  \n2020-12-27  19.000000  235.703288  221.319022  \n2020-12-28  24.000000  256.980675  242.174172  \n2020-12-29  32.000000  273.603634  258.467258  \n2020-12-30  50.000000  280.252817  264.984492  \n\n[5843 rows x 48 columns]",
      "text/html": "<div>\n<style scoped>\n    .dataframe tbody tr th:only-of-type {\n        vertical-align: middle;\n    }\n\n    .dataframe tbody tr th {\n        vertical-align: top;\n    }\n\n    .dataframe thead th {\n        text-align: right;\n    }\n</style>\n<table border=\"1\" class=\"dataframe\">\n  <thead>\n    <tr style=\"text-align: right;\">\n      <th></th>\n      <th>1515</th>\n      <th>1516</th>\n      <th>1518</th>\n      <th>1521</th>\n      <th>1719</th>\n      <th>1720</th>\n      <th>1722</th>\n      <th>1723</th>\n      <th>2040</th>\n      <th>2046</th>\n      <th>...</th>\n      <th>1732</th>\n      <th>1734</th>\n      <th>2049</th>\n      <th>2741</th>\n      <th>2742</th>\n      <th>2751</th>\n      <th>2545</th>\n      <th>744624</th>\n      <th>210888</th>\n      <th>210900</th>\n    </tr>\n    <tr>\n      <th>Date</th>\n      <th></th>\n      <th></th>\n      <th></th>\n      <th></th>\n      <th></th>\n      <th></th>\n      <th></th>\n      <th></th>\n      <th></th>\n      <th></th>\n      <th></th>\n      <th></th>\n      <th></th>\n      <th></th>\n      <th></th>\n      <th></th>\n      <th></th>\n      <th></th>\n      <th></th>\n      <th></th>\n      <th></th>\n    </tr>\n  </thead>\n  <tbody>\n    <tr>\n      <th>2005-01-01</th>\n      <td>-80.0</td>\n      <td>45.0</td>\n      <td>9.0</td>\n      <td>387.0</td>\n      <td>513.0</td>\n      <td>460.0</td>\n      <td>274.0</td>\n      <td>322.0</td>\n      <td>489.0</td>\n      <td>320</td>\n      <td>...</td>\n      <td>-47.0</td>\n      <td>35.0</td>\n      <td>142.0</td>\n      <td>86.0</td>\n      <td>229.0</td>\n      <td>244.0</td>\n      <td>222.0</td>\n      <td>82.696130</td>\n      <td>307.000000</td>\n      <td>288.000000</td>\n    </tr>\n    <tr>\n      <th>2005-01-02</th>\n      <td>-111.0</td>\n      <td>5.0</td>\n      <td>-36.0</td>\n      <td>362.0</td>\n      <td>505.0</td>\n      <td>462.0</td>\n      <td>243.0</td>\n      <td>310.0</td>\n      <td>482.0</td>\n      <td>299</td>\n      <td>...</td>\n      <td>-46.0</td>\n      <td>30.0</td>\n      <td>139.0</td>\n      <td>85.0</td>\n      <td>227.0</td>\n      <td>241.0</td>\n      <td>198.0</td>\n      <td>69.923412</td>\n      <td>309.000000</td>\n      <td>306.000000</td>\n    </tr>\n    <tr>\n      <th>2005-01-03</th>\n      <td>-123.0</td>\n      <td>-9.0</td>\n      <td>-67.0</td>\n      <td>341.0</td>\n      <td>499.0</td>\n      <td>465.0</td>\n      <td>214.0</td>\n      <td>270.0</td>\n      <td>466.0</td>\n      <td>274</td>\n      <td>...</td>\n      <td>-47.0</td>\n      <td>27.0</td>\n      <td>137.0</td>\n      <td>75.0</td>\n      <td>225.0</td>\n      <td>242.0</td>\n      <td>198.0</td>\n      <td>72.505006</td>\n      <td>304.000000</td>\n      <td>306.000000</td>\n    </tr>\n    <tr>\n      <th>2005-01-04</th>\n      <td>-132.0</td>\n      <td>-11.0</td>\n      <td>-72.0</td>\n      <td>336.0</td>\n      <td>498.0</td>\n      <td>464.0</td>\n      <td>203.0</td>\n      <td>260.0</td>\n      <td>464.0</td>\n      <td>226</td>\n      <td>...</td>\n      <td>-50.0</td>\n      <td>27.0</td>\n      <td>134.0</td>\n      <td>109.0</td>\n      <td>246.0</td>\n      <td>241.0</td>\n      <td>198.0</td>\n      <td>63.899692</td>\n      <td>293.000000</td>\n      <td>293.000000</td>\n    </tr>\n    <tr>\n      <th>2005-01-05</th>\n      <td>-127.0</td>\n      <td>-6.0</td>\n      <td>-76.0</td>\n      <td>331.0</td>\n      <td>496.0</td>\n      <td>466.0</td>\n      <td>193.0</td>\n      <td>258.0</td>\n      <td>458.0</td>\n      <td>210</td>\n      <td>...</td>\n      <td>-38.0</td>\n      <td>27.0</td>\n      <td>133.0</td>\n      <td>149.0</td>\n      <td>246.0</td>\n      <td>303.0</td>\n      <td>202.0</td>\n      <td>63.039160</td>\n      <td>287.000000</td>\n      <td>282.000000</td>\n    </tr>\n    <tr>\n      <th>...</th>\n      <td>...</td>\n      <td>...</td>\n      <td>...</td>\n      <td>...</td>\n      <td>...</td>\n      <td>...</td>\n      <td>...</td>\n      <td>...</td>\n      <td>...</td>\n      <td>...</td>\n      <td>...</td>\n      <td>...</td>\n      <td>...</td>\n      <td>...</td>\n      <td>...</td>\n      <td>...</td>\n      <td>...</td>\n      <td>...</td>\n      <td>...</td>\n      <td>...</td>\n      <td>...</td>\n    </tr>\n    <tr>\n      <th>2020-12-26</th>\n      <td>-27.0</td>\n      <td>75.0</td>\n      <td>-69.0</td>\n      <td>309.0</td>\n      <td>478.0</td>\n      <td>460.0</td>\n      <td>138.0</td>\n      <td>204.0</td>\n      <td>451.0</td>\n      <td>-78</td>\n      <td>...</td>\n      <td>-70.0</td>\n      <td>52.0</td>\n      <td>136.0</td>\n      <td>74.0</td>\n      <td>194.0</td>\n      <td>198.0</td>\n      <td>-18.0</td>\n      <td>31.000000</td>\n      <td>227.059349</td>\n      <td>212.846617</td>\n    </tr>\n    <tr>\n      <th>2020-12-27</th>\n      <td>-94.0</td>\n      <td>21.0</td>\n      <td>-50.0</td>\n      <td>333.0</td>\n      <td>488.0</td>\n      <td>460.0</td>\n      <td>206.0</td>\n      <td>252.0</td>\n      <td>464.0</td>\n      <td>20</td>\n      <td>...</td>\n      <td>-88.0</td>\n      <td>42.0</td>\n      <td>133.0</td>\n      <td>82.0</td>\n      <td>194.0</td>\n      <td>216.0</td>\n      <td>-17.0</td>\n      <td>19.000000</td>\n      <td>235.703288</td>\n      <td>221.319022</td>\n    </tr>\n    <tr>\n      <th>2020-12-28</th>\n      <td>-137.0</td>\n      <td>-20.0</td>\n      <td>-92.0</td>\n      <td>311.0</td>\n      <td>481.0</td>\n      <td>459.0</td>\n      <td>201.0</td>\n      <td>250.0</td>\n      <td>461.0</td>\n      <td>120</td>\n      <td>...</td>\n      <td>-86.0</td>\n      <td>40.0</td>\n      <td>133.0</td>\n      <td>83.0</td>\n      <td>197.0</td>\n      <td>215.0</td>\n      <td>-22.0</td>\n      <td>24.000000</td>\n      <td>256.980675</td>\n      <td>242.174172</td>\n    </tr>\n    <tr>\n      <th>2020-12-29</th>\n      <td>-140.0</td>\n      <td>-31.0</td>\n      <td>-118.0</td>\n      <td>303.0</td>\n      <td>481.0</td>\n      <td>462.0</td>\n      <td>182.0</td>\n      <td>239.0</td>\n      <td>457.0</td>\n      <td>132</td>\n      <td>...</td>\n      <td>0.0</td>\n      <td>53.0</td>\n      <td>133.0</td>\n      <td>85.0</td>\n      <td>197.0</td>\n      <td>203.0</td>\n      <td>-24.0</td>\n      <td>32.000000</td>\n      <td>273.603634</td>\n      <td>258.467258</td>\n    </tr>\n    <tr>\n      <th>2020-12-30</th>\n      <td>-99.0</td>\n      <td>-9.0</td>\n      <td>-117.0</td>\n      <td>300.0</td>\n      <td>478.0</td>\n      <td>457.0</td>\n      <td>205.0</td>\n      <td>248.0</td>\n      <td>466.0</td>\n      <td>136</td>\n      <td>...</td>\n      <td>12.0</td>\n      <td>124.0</td>\n      <td>145.0</td>\n      <td>80.0</td>\n      <td>197.0</td>\n      <td>198.0</td>\n      <td>-21.0</td>\n      <td>50.000000</td>\n      <td>280.252817</td>\n      <td>264.984492</td>\n    </tr>\n  </tbody>\n</table>\n<p>5843 rows × 48 columns</p>\n</div>"
     },
     "execution_count": 4,
     "metadata": {},
     "output_type": "execute_result"
    }
   ],
   "source": [
    "data_training = pd.read_csv(\"../data/data_training.csv\")\n",
    "data_validation = pd.read_csv('../data/data_validation.csv')\n",
    "\n",
    "data = pd.concat([data_training, data_validation])\n",
    "data[\"Date\"] = pd.to_datetime(data[\"Date\"])\n",
    "data = data.set_index('Date')\n",
    "meta = pd.read_csv(\"../data/meta.csv\")\n",
    "data =  data.loc[data.index >= '2005']\n",
    "\n",
    "data\n"
   ]
  },
  {
   "cell_type": "code",
   "execution_count": 8,
   "id": "9d9e1d15",
   "metadata": {
    "ExecuteTime": {
     "end_time": "2023-07-13T15:47:30.549548585Z",
     "start_time": "2023-07-13T15:47:30.507840291Z"
    }
   },
   "outputs": [
    {
     "name": "stderr",
     "output_type": "stream",
     "text": [
      "/home/franzs/Schreibtisch/ecmi-hydrological-forecasting/venv/lib/python3.11/site-packages/sklearn/base.py:347: InconsistentVersionWarning: Trying to unpickle estimator MinMaxScaler from version 1.2.1 when using version 1.3.0. This might lead to breaking code or invalid results. Use at your own risk. For more info please refer to:\n",
      "https://scikit-learn.org/stable/model_persistence.html#security-maintainability-limitations\n",
      "  warnings.warn(\n"
     ]
    },
    {
     "data": {
      "text/plain": "{'1516': MinMaxScaler(),\n '1719': MinMaxScaler(),\n '1722': MinMaxScaler(),\n '210888': MinMaxScaler(),\n '2271': MinMaxScaler(),\n '2272': MinMaxScaler(),\n '2274': MinMaxScaler(),\n '2275': MinMaxScaler(),\n '2278': MinMaxScaler(),\n '2543': MinMaxScaler(),\n '2753': MinMaxScaler(),\n '2756': MinMaxScaler()}"
     },
     "execution_count": 8,
     "metadata": {},
     "output_type": "execute_result"
    }
   ],
   "source": [
    "filename = os.path.join(PROJECT_PATH, \"data\", \"scaler.pickle\")\n",
    "with open(filename, 'rb') as f:\n",
    "    scaler = pickle.load(f)\n",
    "scaler_dict = {k: v[\"scaler\"] for k, v in scaler.items()}\n",
    "scaler_dict"
   ]
  },
  {
   "cell_type": "code",
   "execution_count": 10,
   "id": "edd67da8",
   "metadata": {
    "ExecuteTime": {
     "end_time": "2023-07-13T15:54:18.936064083Z",
     "start_time": "2023-07-13T15:54:18.896155351Z"
    }
   },
   "outputs": [
    {
     "data": {
      "text/plain": "             1515      1516   1518   1521      1719   1720      1722   1723  \\\nDate                                                                          \n2005-01-01  -80.0  0.238908    9.0  387.0  0.612160  460.0  0.466246  322.0   \n2005-01-02 -111.0  0.204778  -36.0  362.0  0.604757  462.0  0.435196  310.0   \n2005-01-03 -123.0  0.192833  -67.0  341.0  0.599204  465.0  0.406150  270.0   \n2005-01-04 -132.0  0.191126  -72.0  336.0  0.598279  464.0  0.395132  260.0   \n2005-01-05 -127.0  0.195392  -76.0  331.0  0.596428  466.0  0.385116  258.0   \n...           ...       ...    ...    ...       ...    ...       ...    ...   \n2020-12-26  -27.0  0.264505  -69.0  309.0  0.579770  460.0  0.330028  204.0   \n2020-12-27  -94.0  0.218430  -50.0  333.0  0.589025  460.0  0.398137  252.0   \n2020-12-28 -137.0  0.183447  -92.0  311.0  0.582547  459.0  0.393129  250.0   \n2020-12-29 -140.0  0.174061 -118.0  303.0  0.582547  462.0  0.374099  239.0   \n2020-12-30  -99.0  0.192833 -117.0  300.0  0.579770  457.0  0.397135  248.0   \n\n             2040  2046  ...  1732   1734   2049   2741   2742   2751   2545  \\\nDate                     ...                                                   \n2005-01-01  489.0   320  ... -47.0   35.0  142.0   86.0  229.0  244.0  222.0   \n2005-01-02  482.0   299  ... -46.0   30.0  139.0   85.0  227.0  241.0  198.0   \n2005-01-03  466.0   274  ... -47.0   27.0  137.0   75.0  225.0  242.0  198.0   \n2005-01-04  464.0   226  ... -50.0   27.0  134.0  109.0  246.0  241.0  198.0   \n2005-01-05  458.0   210  ... -38.0   27.0  133.0  149.0  246.0  303.0  202.0   \n...           ...   ...  ...   ...    ...    ...    ...    ...    ...    ...   \n2020-12-26  451.0   -78  ... -70.0   52.0  136.0   74.0  194.0  198.0  -18.0   \n2020-12-27  464.0    20  ... -88.0   42.0  133.0   82.0  194.0  216.0  -17.0   \n2020-12-28  461.0   120  ... -86.0   40.0  133.0   83.0  197.0  215.0  -22.0   \n2020-12-29  457.0   132  ...   0.0   53.0  133.0   85.0  197.0  203.0  -24.0   \n2020-12-30  466.0   136  ...  12.0  124.0  145.0   80.0  197.0  198.0  -21.0   \n\n               744624    210888      210900  \nDate                                         \n2005-01-01  82.696130  0.456522  288.000000  \n2005-01-02  69.923412  0.458333  306.000000  \n2005-01-03  72.505006  0.453804  306.000000  \n2005-01-04  63.899692  0.443841  293.000000  \n2005-01-05  63.039160  0.438406  282.000000  \n...               ...       ...         ...  \n2020-12-26  31.000000  0.384112  212.846617  \n2020-12-27  19.000000  0.391941  221.319022  \n2020-12-28  24.000000  0.411214  242.174172  \n2020-12-29  32.000000  0.426271  258.467258  \n2020-12-30  50.000000  0.432294  264.984492  \n\n[5843 rows x 48 columns]",
      "text/html": "<div>\n<style scoped>\n    .dataframe tbody tr th:only-of-type {\n        vertical-align: middle;\n    }\n\n    .dataframe tbody tr th {\n        vertical-align: top;\n    }\n\n    .dataframe thead th {\n        text-align: right;\n    }\n</style>\n<table border=\"1\" class=\"dataframe\">\n  <thead>\n    <tr style=\"text-align: right;\">\n      <th></th>\n      <th>1515</th>\n      <th>1516</th>\n      <th>1518</th>\n      <th>1521</th>\n      <th>1719</th>\n      <th>1720</th>\n      <th>1722</th>\n      <th>1723</th>\n      <th>2040</th>\n      <th>2046</th>\n      <th>...</th>\n      <th>1732</th>\n      <th>1734</th>\n      <th>2049</th>\n      <th>2741</th>\n      <th>2742</th>\n      <th>2751</th>\n      <th>2545</th>\n      <th>744624</th>\n      <th>210888</th>\n      <th>210900</th>\n    </tr>\n    <tr>\n      <th>Date</th>\n      <th></th>\n      <th></th>\n      <th></th>\n      <th></th>\n      <th></th>\n      <th></th>\n      <th></th>\n      <th></th>\n      <th></th>\n      <th></th>\n      <th></th>\n      <th></th>\n      <th></th>\n      <th></th>\n      <th></th>\n      <th></th>\n      <th></th>\n      <th></th>\n      <th></th>\n      <th></th>\n      <th></th>\n    </tr>\n  </thead>\n  <tbody>\n    <tr>\n      <th>2005-01-01</th>\n      <td>-80.0</td>\n      <td>0.238908</td>\n      <td>9.0</td>\n      <td>387.0</td>\n      <td>0.612160</td>\n      <td>460.0</td>\n      <td>0.466246</td>\n      <td>322.0</td>\n      <td>489.0</td>\n      <td>320</td>\n      <td>...</td>\n      <td>-47.0</td>\n      <td>35.0</td>\n      <td>142.0</td>\n      <td>86.0</td>\n      <td>229.0</td>\n      <td>244.0</td>\n      <td>222.0</td>\n      <td>82.696130</td>\n      <td>0.456522</td>\n      <td>288.000000</td>\n    </tr>\n    <tr>\n      <th>2005-01-02</th>\n      <td>-111.0</td>\n      <td>0.204778</td>\n      <td>-36.0</td>\n      <td>362.0</td>\n      <td>0.604757</td>\n      <td>462.0</td>\n      <td>0.435196</td>\n      <td>310.0</td>\n      <td>482.0</td>\n      <td>299</td>\n      <td>...</td>\n      <td>-46.0</td>\n      <td>30.0</td>\n      <td>139.0</td>\n      <td>85.0</td>\n      <td>227.0</td>\n      <td>241.0</td>\n      <td>198.0</td>\n      <td>69.923412</td>\n      <td>0.458333</td>\n      <td>306.000000</td>\n    </tr>\n    <tr>\n      <th>2005-01-03</th>\n      <td>-123.0</td>\n      <td>0.192833</td>\n      <td>-67.0</td>\n      <td>341.0</td>\n      <td>0.599204</td>\n      <td>465.0</td>\n      <td>0.406150</td>\n      <td>270.0</td>\n      <td>466.0</td>\n      <td>274</td>\n      <td>...</td>\n      <td>-47.0</td>\n      <td>27.0</td>\n      <td>137.0</td>\n      <td>75.0</td>\n      <td>225.0</td>\n      <td>242.0</td>\n      <td>198.0</td>\n      <td>72.505006</td>\n      <td>0.453804</td>\n      <td>306.000000</td>\n    </tr>\n    <tr>\n      <th>2005-01-04</th>\n      <td>-132.0</td>\n      <td>0.191126</td>\n      <td>-72.0</td>\n      <td>336.0</td>\n      <td>0.598279</td>\n      <td>464.0</td>\n      <td>0.395132</td>\n      <td>260.0</td>\n      <td>464.0</td>\n      <td>226</td>\n      <td>...</td>\n      <td>-50.0</td>\n      <td>27.0</td>\n      <td>134.0</td>\n      <td>109.0</td>\n      <td>246.0</td>\n      <td>241.0</td>\n      <td>198.0</td>\n      <td>63.899692</td>\n      <td>0.443841</td>\n      <td>293.000000</td>\n    </tr>\n    <tr>\n      <th>2005-01-05</th>\n      <td>-127.0</td>\n      <td>0.195392</td>\n      <td>-76.0</td>\n      <td>331.0</td>\n      <td>0.596428</td>\n      <td>466.0</td>\n      <td>0.385116</td>\n      <td>258.0</td>\n      <td>458.0</td>\n      <td>210</td>\n      <td>...</td>\n      <td>-38.0</td>\n      <td>27.0</td>\n      <td>133.0</td>\n      <td>149.0</td>\n      <td>246.0</td>\n      <td>303.0</td>\n      <td>202.0</td>\n      <td>63.039160</td>\n      <td>0.438406</td>\n      <td>282.000000</td>\n    </tr>\n    <tr>\n      <th>...</th>\n      <td>...</td>\n      <td>...</td>\n      <td>...</td>\n      <td>...</td>\n      <td>...</td>\n      <td>...</td>\n      <td>...</td>\n      <td>...</td>\n      <td>...</td>\n      <td>...</td>\n      <td>...</td>\n      <td>...</td>\n      <td>...</td>\n      <td>...</td>\n      <td>...</td>\n      <td>...</td>\n      <td>...</td>\n      <td>...</td>\n      <td>...</td>\n      <td>...</td>\n      <td>...</td>\n    </tr>\n    <tr>\n      <th>2020-12-26</th>\n      <td>-27.0</td>\n      <td>0.264505</td>\n      <td>-69.0</td>\n      <td>309.0</td>\n      <td>0.579770</td>\n      <td>460.0</td>\n      <td>0.330028</td>\n      <td>204.0</td>\n      <td>451.0</td>\n      <td>-78</td>\n      <td>...</td>\n      <td>-70.0</td>\n      <td>52.0</td>\n      <td>136.0</td>\n      <td>74.0</td>\n      <td>194.0</td>\n      <td>198.0</td>\n      <td>-18.0</td>\n      <td>31.000000</td>\n      <td>0.384112</td>\n      <td>212.846617</td>\n    </tr>\n    <tr>\n      <th>2020-12-27</th>\n      <td>-94.0</td>\n      <td>0.218430</td>\n      <td>-50.0</td>\n      <td>333.0</td>\n      <td>0.589025</td>\n      <td>460.0</td>\n      <td>0.398137</td>\n      <td>252.0</td>\n      <td>464.0</td>\n      <td>20</td>\n      <td>...</td>\n      <td>-88.0</td>\n      <td>42.0</td>\n      <td>133.0</td>\n      <td>82.0</td>\n      <td>194.0</td>\n      <td>216.0</td>\n      <td>-17.0</td>\n      <td>19.000000</td>\n      <td>0.391941</td>\n      <td>221.319022</td>\n    </tr>\n    <tr>\n      <th>2020-12-28</th>\n      <td>-137.0</td>\n      <td>0.183447</td>\n      <td>-92.0</td>\n      <td>311.0</td>\n      <td>0.582547</td>\n      <td>459.0</td>\n      <td>0.393129</td>\n      <td>250.0</td>\n      <td>461.0</td>\n      <td>120</td>\n      <td>...</td>\n      <td>-86.0</td>\n      <td>40.0</td>\n      <td>133.0</td>\n      <td>83.0</td>\n      <td>197.0</td>\n      <td>215.0</td>\n      <td>-22.0</td>\n      <td>24.000000</td>\n      <td>0.411214</td>\n      <td>242.174172</td>\n    </tr>\n    <tr>\n      <th>2020-12-29</th>\n      <td>-140.0</td>\n      <td>0.174061</td>\n      <td>-118.0</td>\n      <td>303.0</td>\n      <td>0.582547</td>\n      <td>462.0</td>\n      <td>0.374099</td>\n      <td>239.0</td>\n      <td>457.0</td>\n      <td>132</td>\n      <td>...</td>\n      <td>0.0</td>\n      <td>53.0</td>\n      <td>133.0</td>\n      <td>85.0</td>\n      <td>197.0</td>\n      <td>203.0</td>\n      <td>-24.0</td>\n      <td>32.000000</td>\n      <td>0.426271</td>\n      <td>258.467258</td>\n    </tr>\n    <tr>\n      <th>2020-12-30</th>\n      <td>-99.0</td>\n      <td>0.192833</td>\n      <td>-117.0</td>\n      <td>300.0</td>\n      <td>0.579770</td>\n      <td>457.0</td>\n      <td>0.397135</td>\n      <td>248.0</td>\n      <td>466.0</td>\n      <td>136</td>\n      <td>...</td>\n      <td>12.0</td>\n      <td>124.0</td>\n      <td>145.0</td>\n      <td>80.0</td>\n      <td>197.0</td>\n      <td>198.0</td>\n      <td>-21.0</td>\n      <td>50.000000</td>\n      <td>0.432294</td>\n      <td>264.984492</td>\n    </tr>\n  </tbody>\n</table>\n<p>5843 rows × 48 columns</p>\n</div>"
     },
     "execution_count": 10,
     "metadata": {},
     "output_type": "execute_result"
    }
   ],
   "source": [
    "s_data = data.copy()\n",
    "for st_id, sclr in scaler_dict.items():\n",
    "    s_data[st_id] = sclr.transform(data[[st_id]])"
   ]
  },
  {
   "cell_type": "code",
   "execution_count": 11,
   "id": "63018b07",
   "metadata": {
    "ExecuteTime": {
     "end_time": "2023-07-13T15:54:29.465130390Z",
     "start_time": "2023-07-13T15:54:29.124086590Z"
    }
   },
   "outputs": [
    {
     "data": {
      "text/plain": "torch.Size([215673, 15, 12])"
     },
     "execution_count": 11,
     "metadata": {},
     "output_type": "execute_result"
    }
   ],
   "source": [
    "windowed_data = np.lib.stride_tricks.sliding_window_view(\n",
    "    s_data, (15, 12)\n",
    ").reshape((-1, 15, 12))\n",
    "win_data_torch = torch.tensor(windowed_data, dtype=torch.float32)\n",
    "win_data_torch.shape"
   ]
  },
  {
   "cell_type": "code",
   "execution_count": 12,
   "id": "c722a1a7",
   "metadata": {
    "ExecuteTime": {
     "end_time": "2023-07-13T15:54:30.993377304Z",
     "start_time": "2023-07-13T15:54:30.946464559Z"
    }
   },
   "outputs": [
    {
     "data": {
      "text/plain": "             1day   2day   3day   4day   5day   6day   7day\n2005-01-01  281.0  290.0  283.0  270.0  252.0  254.0  257.0\n2005-01-02  290.0  283.0  270.0  252.0  254.0  257.0  258.0\n2005-01-03  283.0  270.0  252.0  254.0  257.0  258.0  267.0\n2005-01-04  270.0  252.0  254.0  257.0  258.0  267.0  277.0\n2005-01-05  252.0  254.0  257.0  258.0  267.0  277.0  282.0\n...           ...    ...    ...    ...    ...    ...    ...\n2019-12-20  123.0  124.0  117.0  117.0  119.0  133.0  157.0\n2019-12-21  124.0  117.0  117.0  119.0  133.0  157.0  186.0\n2019-12-22  117.0  117.0  119.0  133.0  157.0  186.0  203.0\n2019-12-23  117.0  119.0  133.0  157.0  186.0  203.0  215.0\n2019-12-24  119.0  133.0  157.0  186.0  203.0  215.0  211.0\n\n[5471 rows x 7 columns]",
      "text/html": "<div>\n<style scoped>\n    .dataframe tbody tr th:only-of-type {\n        vertical-align: middle;\n    }\n\n    .dataframe tbody tr th {\n        vertical-align: top;\n    }\n\n    .dataframe thead th {\n        text-align: right;\n    }\n</style>\n<table border=\"1\" class=\"dataframe\">\n  <thead>\n    <tr style=\"text-align: right;\">\n      <th></th>\n      <th>1day</th>\n      <th>2day</th>\n      <th>3day</th>\n      <th>4day</th>\n      <th>5day</th>\n      <th>6day</th>\n      <th>7day</th>\n    </tr>\n  </thead>\n  <tbody>\n    <tr>\n      <th>2005-01-01</th>\n      <td>281.0</td>\n      <td>290.0</td>\n      <td>283.0</td>\n      <td>270.0</td>\n      <td>252.0</td>\n      <td>254.0</td>\n      <td>257.0</td>\n    </tr>\n    <tr>\n      <th>2005-01-02</th>\n      <td>290.0</td>\n      <td>283.0</td>\n      <td>270.0</td>\n      <td>252.0</td>\n      <td>254.0</td>\n      <td>257.0</td>\n      <td>258.0</td>\n    </tr>\n    <tr>\n      <th>2005-01-03</th>\n      <td>283.0</td>\n      <td>270.0</td>\n      <td>252.0</td>\n      <td>254.0</td>\n      <td>257.0</td>\n      <td>258.0</td>\n      <td>267.0</td>\n    </tr>\n    <tr>\n      <th>2005-01-04</th>\n      <td>270.0</td>\n      <td>252.0</td>\n      <td>254.0</td>\n      <td>257.0</td>\n      <td>258.0</td>\n      <td>267.0</td>\n      <td>277.0</td>\n    </tr>\n    <tr>\n      <th>2005-01-05</th>\n      <td>252.0</td>\n      <td>254.0</td>\n      <td>257.0</td>\n      <td>258.0</td>\n      <td>267.0</td>\n      <td>277.0</td>\n      <td>282.0</td>\n    </tr>\n    <tr>\n      <th>...</th>\n      <td>...</td>\n      <td>...</td>\n      <td>...</td>\n      <td>...</td>\n      <td>...</td>\n      <td>...</td>\n      <td>...</td>\n    </tr>\n    <tr>\n      <th>2019-12-20</th>\n      <td>123.0</td>\n      <td>124.0</td>\n      <td>117.0</td>\n      <td>117.0</td>\n      <td>119.0</td>\n      <td>133.0</td>\n      <td>157.0</td>\n    </tr>\n    <tr>\n      <th>2019-12-21</th>\n      <td>124.0</td>\n      <td>117.0</td>\n      <td>117.0</td>\n      <td>119.0</td>\n      <td>133.0</td>\n      <td>157.0</td>\n      <td>186.0</td>\n    </tr>\n    <tr>\n      <th>2019-12-22</th>\n      <td>117.0</td>\n      <td>117.0</td>\n      <td>119.0</td>\n      <td>133.0</td>\n      <td>157.0</td>\n      <td>186.0</td>\n      <td>203.0</td>\n    </tr>\n    <tr>\n      <th>2019-12-23</th>\n      <td>117.0</td>\n      <td>119.0</td>\n      <td>133.0</td>\n      <td>157.0</td>\n      <td>186.0</td>\n      <td>203.0</td>\n      <td>215.0</td>\n    </tr>\n    <tr>\n      <th>2019-12-24</th>\n      <td>119.0</td>\n      <td>133.0</td>\n      <td>157.0</td>\n      <td>186.0</td>\n      <td>203.0</td>\n      <td>215.0</td>\n      <td>211.0</td>\n    </tr>\n  </tbody>\n</table>\n<p>5471 rows × 7 columns</p>\n</div>"
     },
     "execution_count": 12,
     "metadata": {},
     "output_type": "execute_result"
    }
   ],
   "source": [
    "y_true = pd.read_csv(os.path.join(PROJECT_PATH, \"data\", \"y_true_2005-01-01_2019-12-24.csv\"), \n",
    "                     header=0, index_col=0)\n",
    "y_true.index = pd.to_datetime(y_true.index)\n",
    "y_true"
   ]
  },
  {
   "cell_type": "markdown",
   "id": "0339c259",
   "metadata": {},
   "source": [
    "# Running baseline models"
   ]
  },
  {
   "cell_type": "code",
   "execution_count": 9,
   "id": "3752fef5",
   "metadata": {},
   "outputs": [
    {
     "data": {
      "text/plain": [
       "torch.Size([5471, 7])"
      ]
     },
     "execution_count": 9,
     "metadata": {},
     "output_type": "execute_result"
    }
   ],
   "source": [
    "szeged_idx = np.arange(\n",
    "    len(data.columns)\n",
    ")[np.array(data.columns) == \"2275\"][0]\n",
    "baseline = BaselineModel(horizon=7, target_idx=szeged_idx)\n",
    "baseline(win_data_torch).shape"
   ]
  },
  {
   "cell_type": "code",
   "execution_count": 10,
   "id": "7be2bcc4",
   "metadata": {},
   "outputs": [],
   "source": [
    "device = 'cpu'  # \"cuda:0\" if torch.cuda.is_available() else \"cpu\""
   ]
  },
  {
   "cell_type": "code",
   "execution_count": 11,
   "id": "938b1690",
   "metadata": {},
   "outputs": [],
   "source": [
    "linear = LinearModel(past_window=15, n_features=12, horizon=7)\n",
    "linear.model\n",
    "l_linear = torch.load(os.path.join(PROJECT_PATH, \"data\", \"linear_model.pth\"))"
   ]
  },
  {
   "cell_type": "code",
   "execution_count": 12,
   "id": "ddf59b34",
   "metadata": {},
   "outputs": [
    {
     "name": "stdout",
     "output_type": "stream",
     "text": [
      "----------------------------------------------------------------\n",
      "        Layer (type)               Output Shape         Param #\n",
      "================================================================\n",
      "           Flatten-1                  [-1, 180]               0\n",
      "            Linear-2                    [-1, 7]           1,267\n",
      "================================================================\n",
      "Total params: 1,267\n",
      "Trainable params: 1,267\n",
      "Non-trainable params: 0\n",
      "----------------------------------------------------------------\n",
      "Input size (MB): 0.00\n",
      "Forward/backward pass size (MB): 0.00\n",
      "Params size (MB): 0.00\n",
      "Estimated Total Size (MB): 0.01\n",
      "----------------------------------------------------------------\n"
     ]
    }
   ],
   "source": [
    "summary(linear, (15, 12), device=device)"
   ]
  },
  {
   "cell_type": "code",
   "execution_count": 13,
   "id": "083523dc",
   "metadata": {},
   "outputs": [
    {
     "data": {
      "text/plain": [
       "torch.Size([5471, 7])"
      ]
     },
     "execution_count": 13,
     "metadata": {},
     "output_type": "execute_result"
    }
   ],
   "source": [
    "linear.model.to(\"cpu\")\n",
    "linear.model.load_state_dict(l_linear.state_dict())\n",
    "linear(win_data_torch).shape"
   ]
  },
  {
   "cell_type": "code",
   "execution_count": 14,
   "id": "a7306830",
   "metadata": {},
   "outputs": [],
   "source": [
    "mlp = MLPModel(past_window=15, n_features=12, horizon=7)\n",
    "l_mlp = torch.load(os.path.join(PROJECT_PATH, \"data\", \"mlp_model.pth\"))"
   ]
  },
  {
   "cell_type": "code",
   "execution_count": 15,
   "id": "c4227382",
   "metadata": {},
   "outputs": [
    {
     "name": "stdout",
     "output_type": "stream",
     "text": [
      "----------------------------------------------------------------\n",
      "        Layer (type)               Output Shape         Param #\n",
      "================================================================\n",
      "           Flatten-1                  [-1, 180]               0\n",
      "            Linear-2                  [-1, 256]          46,336\n",
      "              ReLU-3                  [-1, 256]               0\n",
      "            Linear-4                  [-1, 128]          32,896\n",
      "              ReLU-5                  [-1, 128]               0\n",
      "            Linear-6                    [-1, 7]             903\n",
      "================================================================\n",
      "Total params: 80,135\n",
      "Trainable params: 80,135\n",
      "Non-trainable params: 0\n",
      "----------------------------------------------------------------\n",
      "Input size (MB): 0.00\n",
      "Forward/backward pass size (MB): 0.01\n",
      "Params size (MB): 0.31\n",
      "Estimated Total Size (MB): 0.31\n",
      "----------------------------------------------------------------\n"
     ]
    }
   ],
   "source": [
    "summary(mlp, (15, 12), device=device)"
   ]
  },
  {
   "cell_type": "code",
   "execution_count": 16,
   "id": "5bcf3e0d",
   "metadata": {},
   "outputs": [
    {
     "data": {
      "text/plain": [
       "torch.Size([5471, 7])"
      ]
     },
     "execution_count": 16,
     "metadata": {},
     "output_type": "execute_result"
    }
   ],
   "source": [
    "mlp.model.load_state_dict(l_mlp.state_dict())\n",
    "mlp(win_data_torch).shape"
   ]
  },
  {
   "cell_type": "markdown",
   "id": "7af8af10",
   "metadata": {},
   "source": [
    "# Get predictions"
   ]
  },
  {
   "cell_type": "code",
   "execution_count": 24,
   "id": "2f6aeb55",
   "metadata": {},
   "outputs": [],
   "source": [
    "def get_predictions(model, st_id = \"2275\"):\n",
    "    pred = pd.DataFrame(\n",
    "        data=model(win_data_torch).detach().numpy(),\n",
    "        index=y_true.index,\n",
    "        columns=y_true.columns)\n",
    "\n",
    "    for col in pred.columns:\n",
    "        pred[col] = scaler_dict[st_id].inverse_transform(pred[[col]])\n",
    "    return pred"
   ]
  },
  {
   "cell_type": "code",
   "execution_count": 25,
   "id": "99d53edb",
   "metadata": {},
   "outputs": [
    {
     "data": {
      "text/html": [
       "<div>\n",
       "<style scoped>\n",
       "    .dataframe tbody tr th:only-of-type {\n",
       "        vertical-align: middle;\n",
       "    }\n",
       "\n",
       "    .dataframe tbody tr th {\n",
       "        vertical-align: top;\n",
       "    }\n",
       "\n",
       "    .dataframe thead th {\n",
       "        text-align: right;\n",
       "    }\n",
       "</style>\n",
       "<table border=\"1\" class=\"dataframe\">\n",
       "  <thead>\n",
       "    <tr style=\"text-align: right;\">\n",
       "      <th></th>\n",
       "      <th>1day</th>\n",
       "      <th>2day</th>\n",
       "      <th>3day</th>\n",
       "      <th>4day</th>\n",
       "      <th>5day</th>\n",
       "      <th>6day</th>\n",
       "      <th>7day</th>\n",
       "    </tr>\n",
       "  </thead>\n",
       "  <tbody>\n",
       "    <tr>\n",
       "      <th>2005-01-01</th>\n",
       "      <td>251.000000</td>\n",
       "      <td>251.000000</td>\n",
       "      <td>251.000000</td>\n",
       "      <td>251.000000</td>\n",
       "      <td>251.000000</td>\n",
       "      <td>251.000000</td>\n",
       "      <td>251.000000</td>\n",
       "    </tr>\n",
       "    <tr>\n",
       "      <th>2005-01-02</th>\n",
       "      <td>281.000000</td>\n",
       "      <td>281.000000</td>\n",
       "      <td>281.000000</td>\n",
       "      <td>281.000000</td>\n",
       "      <td>281.000000</td>\n",
       "      <td>281.000000</td>\n",
       "      <td>281.000000</td>\n",
       "    </tr>\n",
       "    <tr>\n",
       "      <th>2005-01-03</th>\n",
       "      <td>290.000000</td>\n",
       "      <td>290.000000</td>\n",
       "      <td>290.000000</td>\n",
       "      <td>290.000000</td>\n",
       "      <td>290.000000</td>\n",
       "      <td>290.000000</td>\n",
       "      <td>290.000000</td>\n",
       "    </tr>\n",
       "    <tr>\n",
       "      <th>2005-01-04</th>\n",
       "      <td>283.000000</td>\n",
       "      <td>283.000000</td>\n",
       "      <td>283.000000</td>\n",
       "      <td>283.000000</td>\n",
       "      <td>283.000000</td>\n",
       "      <td>283.000000</td>\n",
       "      <td>283.000000</td>\n",
       "    </tr>\n",
       "    <tr>\n",
       "      <th>2005-01-05</th>\n",
       "      <td>270.000000</td>\n",
       "      <td>270.000000</td>\n",
       "      <td>270.000000</td>\n",
       "      <td>270.000000</td>\n",
       "      <td>270.000000</td>\n",
       "      <td>270.000000</td>\n",
       "      <td>270.000000</td>\n",
       "    </tr>\n",
       "    <tr>\n",
       "      <th>...</th>\n",
       "      <td>...</td>\n",
       "      <td>...</td>\n",
       "      <td>...</td>\n",
       "      <td>...</td>\n",
       "      <td>...</td>\n",
       "      <td>...</td>\n",
       "      <td>...</td>\n",
       "    </tr>\n",
       "    <tr>\n",
       "      <th>2019-12-20</th>\n",
       "      <td>118.000000</td>\n",
       "      <td>118.000000</td>\n",
       "      <td>118.000000</td>\n",
       "      <td>118.000000</td>\n",
       "      <td>118.000000</td>\n",
       "      <td>118.000000</td>\n",
       "      <td>118.000000</td>\n",
       "    </tr>\n",
       "    <tr>\n",
       "      <th>2019-12-21</th>\n",
       "      <td>122.999992</td>\n",
       "      <td>122.999992</td>\n",
       "      <td>122.999992</td>\n",
       "      <td>122.999992</td>\n",
       "      <td>122.999992</td>\n",
       "      <td>122.999992</td>\n",
       "      <td>122.999992</td>\n",
       "    </tr>\n",
       "    <tr>\n",
       "      <th>2019-12-22</th>\n",
       "      <td>123.999992</td>\n",
       "      <td>123.999992</td>\n",
       "      <td>123.999992</td>\n",
       "      <td>123.999992</td>\n",
       "      <td>123.999992</td>\n",
       "      <td>123.999992</td>\n",
       "      <td>123.999992</td>\n",
       "    </tr>\n",
       "    <tr>\n",
       "      <th>2019-12-23</th>\n",
       "      <td>116.999992</td>\n",
       "      <td>116.999992</td>\n",
       "      <td>116.999992</td>\n",
       "      <td>116.999992</td>\n",
       "      <td>116.999992</td>\n",
       "      <td>116.999992</td>\n",
       "      <td>116.999992</td>\n",
       "    </tr>\n",
       "    <tr>\n",
       "      <th>2019-12-24</th>\n",
       "      <td>116.999992</td>\n",
       "      <td>116.999992</td>\n",
       "      <td>116.999992</td>\n",
       "      <td>116.999992</td>\n",
       "      <td>116.999992</td>\n",
       "      <td>116.999992</td>\n",
       "      <td>116.999992</td>\n",
       "    </tr>\n",
       "  </tbody>\n",
       "</table>\n",
       "<p>5471 rows × 7 columns</p>\n",
       "</div>"
      ],
      "text/plain": [
       "                  1day        2day        3day        4day        5day  \\\n",
       "2005-01-01  251.000000  251.000000  251.000000  251.000000  251.000000   \n",
       "2005-01-02  281.000000  281.000000  281.000000  281.000000  281.000000   \n",
       "2005-01-03  290.000000  290.000000  290.000000  290.000000  290.000000   \n",
       "2005-01-04  283.000000  283.000000  283.000000  283.000000  283.000000   \n",
       "2005-01-05  270.000000  270.000000  270.000000  270.000000  270.000000   \n",
       "...                ...         ...         ...         ...         ...   \n",
       "2019-12-20  118.000000  118.000000  118.000000  118.000000  118.000000   \n",
       "2019-12-21  122.999992  122.999992  122.999992  122.999992  122.999992   \n",
       "2019-12-22  123.999992  123.999992  123.999992  123.999992  123.999992   \n",
       "2019-12-23  116.999992  116.999992  116.999992  116.999992  116.999992   \n",
       "2019-12-24  116.999992  116.999992  116.999992  116.999992  116.999992   \n",
       "\n",
       "                  6day        7day  \n",
       "2005-01-01  251.000000  251.000000  \n",
       "2005-01-02  281.000000  281.000000  \n",
       "2005-01-03  290.000000  290.000000  \n",
       "2005-01-04  283.000000  283.000000  \n",
       "2005-01-05  270.000000  270.000000  \n",
       "...                ...         ...  \n",
       "2019-12-20  118.000000  118.000000  \n",
       "2019-12-21  122.999992  122.999992  \n",
       "2019-12-22  123.999992  123.999992  \n",
       "2019-12-23  116.999992  116.999992  \n",
       "2019-12-24  116.999992  116.999992  \n",
       "\n",
       "[5471 rows x 7 columns]"
      ]
     },
     "execution_count": 25,
     "metadata": {},
     "output_type": "execute_result"
    }
   ],
   "source": [
    "get_predictions(model=baseline)"
   ]
  },
  {
   "cell_type": "code",
   "execution_count": 26,
   "id": "44bf67c8",
   "metadata": {},
   "outputs": [
    {
     "data": {
      "text/html": [
       "<div>\n",
       "<style scoped>\n",
       "    .dataframe tbody tr th:only-of-type {\n",
       "        vertical-align: middle;\n",
       "    }\n",
       "\n",
       "    .dataframe tbody tr th {\n",
       "        vertical-align: top;\n",
       "    }\n",
       "\n",
       "    .dataframe thead th {\n",
       "        text-align: right;\n",
       "    }\n",
       "</style>\n",
       "<table border=\"1\" class=\"dataframe\">\n",
       "  <thead>\n",
       "    <tr style=\"text-align: right;\">\n",
       "      <th></th>\n",
       "      <th>1day</th>\n",
       "      <th>2day</th>\n",
       "      <th>3day</th>\n",
       "      <th>4day</th>\n",
       "      <th>5day</th>\n",
       "      <th>6day</th>\n",
       "      <th>7day</th>\n",
       "    </tr>\n",
       "  </thead>\n",
       "  <tbody>\n",
       "    <tr>\n",
       "      <th>2005-01-01</th>\n",
       "      <td>283.279938</td>\n",
       "      <td>290.000610</td>\n",
       "      <td>302.234314</td>\n",
       "      <td>291.485107</td>\n",
       "      <td>293.573059</td>\n",
       "      <td>289.969269</td>\n",
       "      <td>284.621185</td>\n",
       "    </tr>\n",
       "    <tr>\n",
       "      <th>2005-01-02</th>\n",
       "      <td>299.273804</td>\n",
       "      <td>285.124298</td>\n",
       "      <td>287.191498</td>\n",
       "      <td>276.713104</td>\n",
       "      <td>273.201721</td>\n",
       "      <td>258.846252</td>\n",
       "      <td>256.347137</td>\n",
       "    </tr>\n",
       "    <tr>\n",
       "      <th>2005-01-03</th>\n",
       "      <td>290.987885</td>\n",
       "      <td>278.913300</td>\n",
       "      <td>267.998901</td>\n",
       "      <td>255.359329</td>\n",
       "      <td>239.473923</td>\n",
       "      <td>243.977158</td>\n",
       "      <td>255.437943</td>\n",
       "    </tr>\n",
       "    <tr>\n",
       "      <th>2005-01-04</th>\n",
       "      <td>279.119293</td>\n",
       "      <td>254.222382</td>\n",
       "      <td>240.689133</td>\n",
       "      <td>245.658737</td>\n",
       "      <td>234.614212</td>\n",
       "      <td>238.752792</td>\n",
       "      <td>241.292892</td>\n",
       "    </tr>\n",
       "    <tr>\n",
       "      <th>2005-01-05</th>\n",
       "      <td>243.177017</td>\n",
       "      <td>227.446075</td>\n",
       "      <td>231.924957</td>\n",
       "      <td>226.781708</td>\n",
       "      <td>222.826294</td>\n",
       "      <td>226.452240</td>\n",
       "      <td>241.546600</td>\n",
       "    </tr>\n",
       "    <tr>\n",
       "      <th>...</th>\n",
       "      <td>...</td>\n",
       "      <td>...</td>\n",
       "      <td>...</td>\n",
       "      <td>...</td>\n",
       "      <td>...</td>\n",
       "      <td>...</td>\n",
       "      <td>...</td>\n",
       "    </tr>\n",
       "    <tr>\n",
       "      <th>2019-12-20</th>\n",
       "      <td>117.218193</td>\n",
       "      <td>117.482330</td>\n",
       "      <td>118.721832</td>\n",
       "      <td>123.736847</td>\n",
       "      <td>127.621651</td>\n",
       "      <td>126.254417</td>\n",
       "      <td>137.911301</td>\n",
       "    </tr>\n",
       "    <tr>\n",
       "      <th>2019-12-21</th>\n",
       "      <td>125.835815</td>\n",
       "      <td>115.553963</td>\n",
       "      <td>119.570305</td>\n",
       "      <td>113.764359</td>\n",
       "      <td>123.820084</td>\n",
       "      <td>122.564011</td>\n",
       "      <td>135.495331</td>\n",
       "    </tr>\n",
       "    <tr>\n",
       "      <th>2019-12-22</th>\n",
       "      <td>116.240257</td>\n",
       "      <td>112.532196</td>\n",
       "      <td>107.928871</td>\n",
       "      <td>107.734535</td>\n",
       "      <td>115.231689</td>\n",
       "      <td>123.158607</td>\n",
       "      <td>127.177452</td>\n",
       "    </tr>\n",
       "    <tr>\n",
       "      <th>2019-12-23</th>\n",
       "      <td>111.046043</td>\n",
       "      <td>104.793930</td>\n",
       "      <td>110.087883</td>\n",
       "      <td>107.359940</td>\n",
       "      <td>121.677528</td>\n",
       "      <td>121.138115</td>\n",
       "      <td>127.906380</td>\n",
       "    </tr>\n",
       "    <tr>\n",
       "      <th>2019-12-24</th>\n",
       "      <td>110.942528</td>\n",
       "      <td>124.980331</td>\n",
       "      <td>136.248093</td>\n",
       "      <td>141.752808</td>\n",
       "      <td>154.957825</td>\n",
       "      <td>161.217224</td>\n",
       "      <td>163.286560</td>\n",
       "    </tr>\n",
       "  </tbody>\n",
       "</table>\n",
       "<p>5471 rows × 7 columns</p>\n",
       "</div>"
      ],
      "text/plain": [
       "                  1day        2day        3day        4day        5day  \\\n",
       "2005-01-01  283.279938  290.000610  302.234314  291.485107  293.573059   \n",
       "2005-01-02  299.273804  285.124298  287.191498  276.713104  273.201721   \n",
       "2005-01-03  290.987885  278.913300  267.998901  255.359329  239.473923   \n",
       "2005-01-04  279.119293  254.222382  240.689133  245.658737  234.614212   \n",
       "2005-01-05  243.177017  227.446075  231.924957  226.781708  222.826294   \n",
       "...                ...         ...         ...         ...         ...   \n",
       "2019-12-20  117.218193  117.482330  118.721832  123.736847  127.621651   \n",
       "2019-12-21  125.835815  115.553963  119.570305  113.764359  123.820084   \n",
       "2019-12-22  116.240257  112.532196  107.928871  107.734535  115.231689   \n",
       "2019-12-23  111.046043  104.793930  110.087883  107.359940  121.677528   \n",
       "2019-12-24  110.942528  124.980331  136.248093  141.752808  154.957825   \n",
       "\n",
       "                  6day        7day  \n",
       "2005-01-01  289.969269  284.621185  \n",
       "2005-01-02  258.846252  256.347137  \n",
       "2005-01-03  243.977158  255.437943  \n",
       "2005-01-04  238.752792  241.292892  \n",
       "2005-01-05  226.452240  241.546600  \n",
       "...                ...         ...  \n",
       "2019-12-20  126.254417  137.911301  \n",
       "2019-12-21  122.564011  135.495331  \n",
       "2019-12-22  123.158607  127.177452  \n",
       "2019-12-23  121.138115  127.906380  \n",
       "2019-12-24  161.217224  163.286560  \n",
       "\n",
       "[5471 rows x 7 columns]"
      ]
     },
     "execution_count": 26,
     "metadata": {},
     "output_type": "execute_result"
    }
   ],
   "source": [
    "get_predictions(model=linear)"
   ]
  },
  {
   "cell_type": "code",
   "execution_count": 27,
   "id": "d668c85a",
   "metadata": {},
   "outputs": [
    {
     "data": {
      "text/html": [
       "<div>\n",
       "<style scoped>\n",
       "    .dataframe tbody tr th:only-of-type {\n",
       "        vertical-align: middle;\n",
       "    }\n",
       "\n",
       "    .dataframe tbody tr th {\n",
       "        vertical-align: top;\n",
       "    }\n",
       "\n",
       "    .dataframe thead th {\n",
       "        text-align: right;\n",
       "    }\n",
       "</style>\n",
       "<table border=\"1\" class=\"dataframe\">\n",
       "  <thead>\n",
       "    <tr style=\"text-align: right;\">\n",
       "      <th></th>\n",
       "      <th>1day</th>\n",
       "      <th>2day</th>\n",
       "      <th>3day</th>\n",
       "      <th>4day</th>\n",
       "      <th>5day</th>\n",
       "      <th>6day</th>\n",
       "      <th>7day</th>\n",
       "    </tr>\n",
       "  </thead>\n",
       "  <tbody>\n",
       "    <tr>\n",
       "      <th>2005-01-01</th>\n",
       "      <td>266.176025</td>\n",
       "      <td>286.165833</td>\n",
       "      <td>303.614899</td>\n",
       "      <td>315.135773</td>\n",
       "      <td>321.390045</td>\n",
       "      <td>320.636078</td>\n",
       "      <td>320.830658</td>\n",
       "    </tr>\n",
       "    <tr>\n",
       "      <th>2005-01-02</th>\n",
       "      <td>280.764832</td>\n",
       "      <td>278.486877</td>\n",
       "      <td>272.853058</td>\n",
       "      <td>270.835144</td>\n",
       "      <td>264.144348</td>\n",
       "      <td>262.644562</td>\n",
       "      <td>262.746399</td>\n",
       "    </tr>\n",
       "    <tr>\n",
       "      <th>2005-01-03</th>\n",
       "      <td>278.915710</td>\n",
       "      <td>265.665924</td>\n",
       "      <td>252.556137</td>\n",
       "      <td>244.399063</td>\n",
       "      <td>235.686432</td>\n",
       "      <td>237.241302</td>\n",
       "      <td>238.306732</td>\n",
       "    </tr>\n",
       "    <tr>\n",
       "      <th>2005-01-04</th>\n",
       "      <td>265.337402</td>\n",
       "      <td>250.639542</td>\n",
       "      <td>238.935349</td>\n",
       "      <td>230.464462</td>\n",
       "      <td>225.454391</td>\n",
       "      <td>228.665451</td>\n",
       "      <td>234.037888</td>\n",
       "    </tr>\n",
       "    <tr>\n",
       "      <th>2005-01-05</th>\n",
       "      <td>242.479721</td>\n",
       "      <td>235.259964</td>\n",
       "      <td>233.362305</td>\n",
       "      <td>230.349747</td>\n",
       "      <td>235.108231</td>\n",
       "      <td>240.555374</td>\n",
       "      <td>246.867493</td>\n",
       "    </tr>\n",
       "    <tr>\n",
       "      <th>...</th>\n",
       "      <td>...</td>\n",
       "      <td>...</td>\n",
       "      <td>...</td>\n",
       "      <td>...</td>\n",
       "      <td>...</td>\n",
       "      <td>...</td>\n",
       "      <td>...</td>\n",
       "    </tr>\n",
       "    <tr>\n",
       "      <th>2019-12-20</th>\n",
       "      <td>117.328789</td>\n",
       "      <td>119.007515</td>\n",
       "      <td>125.856972</td>\n",
       "      <td>130.000275</td>\n",
       "      <td>136.356964</td>\n",
       "      <td>143.036484</td>\n",
       "      <td>148.404724</td>\n",
       "    </tr>\n",
       "    <tr>\n",
       "      <th>2019-12-21</th>\n",
       "      <td>116.089928</td>\n",
       "      <td>116.225555</td>\n",
       "      <td>122.056183</td>\n",
       "      <td>125.897514</td>\n",
       "      <td>133.662994</td>\n",
       "      <td>139.887405</td>\n",
       "      <td>145.222580</td>\n",
       "    </tr>\n",
       "    <tr>\n",
       "      <th>2019-12-22</th>\n",
       "      <td>116.192131</td>\n",
       "      <td>112.824257</td>\n",
       "      <td>115.741524</td>\n",
       "      <td>117.333801</td>\n",
       "      <td>122.897568</td>\n",
       "      <td>129.452820</td>\n",
       "      <td>134.288803</td>\n",
       "    </tr>\n",
       "    <tr>\n",
       "      <th>2019-12-23</th>\n",
       "      <td>113.119843</td>\n",
       "      <td>109.804390</td>\n",
       "      <td>113.774834</td>\n",
       "      <td>115.258972</td>\n",
       "      <td>121.619537</td>\n",
       "      <td>128.773712</td>\n",
       "      <td>133.195816</td>\n",
       "    </tr>\n",
       "    <tr>\n",
       "      <th>2019-12-24</th>\n",
       "      <td>119.640640</td>\n",
       "      <td>125.081337</td>\n",
       "      <td>137.397720</td>\n",
       "      <td>145.155136</td>\n",
       "      <td>154.437897</td>\n",
       "      <td>160.271484</td>\n",
       "      <td>164.530533</td>\n",
       "    </tr>\n",
       "  </tbody>\n",
       "</table>\n",
       "<p>5471 rows × 7 columns</p>\n",
       "</div>"
      ],
      "text/plain": [
       "                  1day        2day        3day        4day        5day  \\\n",
       "2005-01-01  266.176025  286.165833  303.614899  315.135773  321.390045   \n",
       "2005-01-02  280.764832  278.486877  272.853058  270.835144  264.144348   \n",
       "2005-01-03  278.915710  265.665924  252.556137  244.399063  235.686432   \n",
       "2005-01-04  265.337402  250.639542  238.935349  230.464462  225.454391   \n",
       "2005-01-05  242.479721  235.259964  233.362305  230.349747  235.108231   \n",
       "...                ...         ...         ...         ...         ...   \n",
       "2019-12-20  117.328789  119.007515  125.856972  130.000275  136.356964   \n",
       "2019-12-21  116.089928  116.225555  122.056183  125.897514  133.662994   \n",
       "2019-12-22  116.192131  112.824257  115.741524  117.333801  122.897568   \n",
       "2019-12-23  113.119843  109.804390  113.774834  115.258972  121.619537   \n",
       "2019-12-24  119.640640  125.081337  137.397720  145.155136  154.437897   \n",
       "\n",
       "                  6day        7day  \n",
       "2005-01-01  320.636078  320.830658  \n",
       "2005-01-02  262.644562  262.746399  \n",
       "2005-01-03  237.241302  238.306732  \n",
       "2005-01-04  228.665451  234.037888  \n",
       "2005-01-05  240.555374  246.867493  \n",
       "...                ...         ...  \n",
       "2019-12-20  143.036484  148.404724  \n",
       "2019-12-21  139.887405  145.222580  \n",
       "2019-12-22  129.452820  134.288803  \n",
       "2019-12-23  128.773712  133.195816  \n",
       "2019-12-24  160.271484  164.530533  \n",
       "\n",
       "[5471 rows x 7 columns]"
      ]
     },
     "execution_count": 27,
     "metadata": {},
     "output_type": "execute_result"
    }
   ],
   "source": [
    "get_predictions(model=mlp)"
   ]
  },
  {
   "cell_type": "code",
   "execution_count": null,
   "id": "0fbbea65",
   "metadata": {},
   "outputs": [],
   "source": []
  }
 ],
 "metadata": {
  "kernelspec": {
   "display_name": "Python 3 (ipykernel)",
   "language": "python",
   "name": "python3"
  },
  "language_info": {
   "codemirror_mode": {
    "name": "ipython",
    "version": 3
   },
   "file_extension": ".py",
   "mimetype": "text/x-python",
   "name": "python",
   "nbconvert_exporter": "python",
   "pygments_lexer": "ipython3",
   "version": "3.8.10"
  }
 },
 "nbformat": 4,
 "nbformat_minor": 5
}
