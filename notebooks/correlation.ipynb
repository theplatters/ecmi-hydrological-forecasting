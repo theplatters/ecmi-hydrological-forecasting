{
 "cells": [
  {
   "cell_type": "code",
   "execution_count": 2,
   "metadata": {
    "collapsed": true,
    "ExecuteTime": {
     "end_time": "2023-08-31T12:13:36.918853714Z",
     "start_time": "2023-08-31T12:13:00.808060233Z"
    }
   },
   "outputs": [],
   "source": [
    "import os\n",
    "import sys\n",
    "\n",
    "import json\n",
    "import pickle\n",
    "\n",
    "import scipy\n",
    "import seaborn as sns\n",
    "\n",
    "import numpy as np\n",
    "import pandas as pd\n",
    "from dtw import dtw\n",
    "import torch\n",
    "from torchsummary import summary\n",
    "import matplotlib.pyplot as plt\n",
    "import dcor"
   ]
  },
  {
   "cell_type": "code",
   "execution_count": 3,
   "outputs": [],
   "source": [
    "import matplotlib\n",
    "matplotlib.use('Qt5Agg')"
   ],
   "metadata": {
    "collapsed": false,
    "ExecuteTime": {
     "end_time": "2023-08-31T12:13:36.977890594Z",
     "start_time": "2023-08-31T12:13:36.959813713Z"
    }
   }
  },
  {
   "cell_type": "code",
   "execution_count": 4,
   "outputs": [
    {
     "data": {
      "text/plain": "DatetimeIndex(['1950-12-31', '1951-01-01', '1951-01-02', '1951-01-03',\n               '1951-01-04', '1951-01-05', '1951-01-06', '1951-01-07',\n               '1951-01-08', '1951-01-09',\n               ...\n               '2020-12-21', '2020-12-22', '2020-12-23', '2020-12-24',\n               '2020-12-25', '2020-12-26', '2020-12-27', '2020-12-28',\n               '2020-12-29', '2020-12-30'],\n              dtype='datetime64[ns]', name='Date', length=25568, freq=None)"
     },
     "execution_count": 4,
     "metadata": {},
     "output_type": "execute_result"
    }
   ],
   "source": [
    "data_training = pd.read_csv(\"../data/data_training.csv\")\n",
    "data_validation = pd.read_csv('../data/data_validation.csv')\n",
    "\n",
    "data = pd.concat([data_training, data_validation])\n",
    "data[\"Date\"] = pd.to_datetime(data[\"Date\"])\n",
    "data = data.set_index('Date')\n",
    "meta = pd.read_csv(\"../data/meta.csv\")\n",
    "data.index"
   ],
   "metadata": {
    "collapsed": false,
    "ExecuteTime": {
     "end_time": "2023-08-31T12:13:37.095880754Z",
     "start_time": "2023-08-31T12:13:36.980015317Z"
    }
   }
  },
  {
   "cell_type": "code",
   "execution_count": 56,
   "outputs": [
    {
     "name": "stderr",
     "output_type": "stream",
     "text": [
      "/home/franzs/Schreibtisch/ecmi-hydrological-forecasting/venv/lib/python3.11/site-packages/dcor/_fast_dcov_avl.py:554: UserWarning: Falling back to uncompiled AVL fast distance covariance terms because of TypeError exception raised: No matching definition for argument type(s) array(float64, 1d, C), array(int64, 1d, C), bool. Rembember: only floating point values can be used in the compiled implementations.\n",
      "  warnings.warn(\n"
     ]
    },
    {
     "data": {
      "text/plain": "1515      4\n1516      4\n1518      3\n1521      3\n1719      5\n1720      6\n1722      2\n1723      2\n2040      1\n2046      1\n2048      0\n2271      0\n2272      0\n2274      0\n2275      0\n2278      2\n2543      2\n2753      5\n2756      4\n2757      2\n2760      1\n1514      4\n2041     -1\n1523      5\n2042      1\n2736      7\n1721      3\n1724      3\n1725      3\n2744      6\n2748      7\n2759      2\n1520      3\n1527      4\n1729      4\n1726      5\n2541      2\n1530      6\n1732      4\n1734      4\n2049      5\n2741      4\n2742      6\n2751      5\n2545      4\n744624    2\n210888    0\n210900    0\ndtype: int64"
     },
     "execution_count": 56,
     "metadata": {},
     "output_type": "execute_result"
    }
   ],
   "source": [
    "def pearson(dx, dy):\n",
    "    return scipy.stats.pearsonr(dx,dy)\n",
    "\n",
    "def spearman(dx,dy):\n",
    "    return scipy.stats.spearmanr(dx,dy)\n",
    "\n",
    "def distance_correlation(dx,dy):\n",
    "    return dcor.distance_correlation(dx, dy),0\n",
    "\n",
    "def timewarping(dx,dy):\n",
    "    distance, cost_matrix, acc_cost, path = dtw(np.array(dx).reshape(-1,1),np.array(dy).reshape(-1,1), dist = scipy.spatial.distance.euclidean)\n",
    "    return distance\n",
    "\n",
    "\n",
    "\n",
    "def corr(df,starting_point,interval,method,l,pv,p1):\n",
    "    period2 = df[(df.index >= starting_point - interval) & (df.index <= starting_point + interval)]\n",
    "\n",
    "    for col in df.columns.tolist():\n",
    "        cor, p_value = method(p1['2275'],period2[col])\n",
    "        l.append(cor)\n",
    "        pv.append(p_value)\n",
    "\n",
    "\n",
    "\n",
    "def calculate_correlations(df,starting_point,interval,method):\n",
    "\n",
    "    day = pd.Timedelta(1,'d')\n",
    "    sp = starting_point\n",
    "    l = []\n",
    "    pv = []\n",
    "\n",
    "    period1 = df[(df.index >= starting_point - interval) & (df.index <= starting_point + interval)]\n",
    "    for i in np.linspace(0,5,5):\n",
    "        starting_point = starting_point + day\n",
    "        corr(df,starting_point,interval,method,l,pv,period1)\n",
    "    starting_point =  sp + day\n",
    "    for i in np.linspace(0,50,50):\n",
    "        starting_point = starting_point - day\n",
    "        corr(df,starting_point,interval,method,l,pv,period1)\n",
    "\n",
    "    cm = np.transpose(np.reshape(np.array(l), (-1, len(df.columns))))\n",
    "    pv = np.transpose(np.reshape(np.array(pv), (-1, len(df.columns))))\n",
    "\n",
    "    return cm, pv\n",
    "\n",
    "\n",
    "correlation_matrix, p_values = calculate_correlations(data,pd.Timestamp('2006-01-01'),pd.Timedelta(52,'w'),distance_correlation)\n",
    "\n",
    "cr = pd.DataFrame(data = np.transpose(correlation_matrix), columns=data.columns)\n",
    "cr.idxmax() - 5"
   ],
   "metadata": {
    "collapsed": false,
    "ExecuteTime": {
     "end_time": "2023-08-31T12:43:56.197465547Z",
     "start_time": "2023-08-31T12:43:48.320970953Z"
    }
   }
  },
  {
   "cell_type": "code",
   "execution_count": 57,
   "outputs": [],
   "source": [
    "max_corr = pd.Series((cr.idxmax() - 5),name=\"maximum_correlation\")\n",
    "max_corr.index = max_corr.index.astype(int)"
   ],
   "metadata": {
    "collapsed": false,
    "ExecuteTime": {
     "end_time": "2023-08-31T12:43:56.197674150Z",
     "start_time": "2023-08-31T12:43:56.193841301Z"
    }
   }
  },
  {
   "cell_type": "code",
   "execution_count": 58,
   "outputs": [
    {
     "data": {
      "text/plain": "array(['Tisza', 'Maros', 'Kettős-Körös', 'Hármas-Körös', 'Szamos',\n       'Sebes-Körös', 'Bodrog', 'Fekete-Körös', 'Fehér-Körös', 'Túr',\n       'Sajó', 'Kraszna', 'Hernád', 'Zagyva', 'Berettyó'], dtype=object)"
     },
     "execution_count": 58,
     "metadata": {},
     "output_type": "execute_result"
    }
   ],
   "source": [
    "meta = pd.read_csv(\"../data/meta.csv\")\n",
    "meta = meta.set_index(\"reg_number\")\n",
    "\n",
    "meta_nans_removed = meta.loc[list(map(int,cr.columns.tolist()))]\n",
    "meta_nans_removed = pd.concat([meta_nans_removed, max_corr], axis=1)\n",
    "meta.river.unique()\n"
   ],
   "metadata": {
    "collapsed": false,
    "ExecuteTime": {
     "end_time": "2023-08-31T12:43:56.197882321Z",
     "start_time": "2023-08-31T12:43:56.194279274Z"
    }
   }
  },
  {
   "cell_type": "code",
   "execution_count": 24,
   "outputs": [
    {
     "name": "stderr",
     "output_type": "stream",
     "text": [
      "qt.qpa.wayland: Wayland does not support QWindow::requestActivate()\n"
     ]
    },
    {
     "ename": "KeyboardInterrupt",
     "evalue": "",
     "output_type": "error",
     "traceback": [
      "\u001B[0;31m---------------------------------------------------------------------------\u001B[0m",
      "\u001B[0;31mKeyboardInterrupt\u001B[0m                         Traceback (most recent call last)",
      "Cell \u001B[0;32mIn[24], line 35\u001B[0m\n\u001B[1;32m     31\u001B[0m cbar \u001B[38;5;241m=\u001B[39m plt\u001B[38;5;241m.\u001B[39mcolorbar()\n\u001B[1;32m     32\u001B[0m plt\u001B[38;5;241m.\u001B[39mlegend(actors,rivers)\n\u001B[0;32m---> 35\u001B[0m \u001B[43mplt\u001B[49m\u001B[38;5;241;43m.\u001B[39;49m\u001B[43mshow\u001B[49m\u001B[43m(\u001B[49m\u001B[43m)\u001B[49m\n",
      "File \u001B[0;32m~/Schreibtisch/ecmi-hydrological-forecasting/venv/lib/python3.11/site-packages/matplotlib/pyplot.py:446\u001B[0m, in \u001B[0;36mshow\u001B[0;34m(*args, **kwargs)\u001B[0m\n\u001B[1;32m    402\u001B[0m \u001B[38;5;250m\u001B[39m\u001B[38;5;124;03m\"\"\"\u001B[39;00m\n\u001B[1;32m    403\u001B[0m \u001B[38;5;124;03mDisplay all open figures.\u001B[39;00m\n\u001B[1;32m    404\u001B[0m \n\u001B[0;32m   (...)\u001B[0m\n\u001B[1;32m    443\u001B[0m \u001B[38;5;124;03mexplicitly there.\u001B[39;00m\n\u001B[1;32m    444\u001B[0m \u001B[38;5;124;03m\"\"\"\u001B[39;00m\n\u001B[1;32m    445\u001B[0m _warn_if_gui_out_of_main_thread()\n\u001B[0;32m--> 446\u001B[0m \u001B[38;5;28;01mreturn\u001B[39;00m \u001B[43m_get_backend_mod\u001B[49m\u001B[43m(\u001B[49m\u001B[43m)\u001B[49m\u001B[38;5;241;43m.\u001B[39;49m\u001B[43mshow\u001B[49m\u001B[43m(\u001B[49m\u001B[38;5;241;43m*\u001B[39;49m\u001B[43margs\u001B[49m\u001B[43m,\u001B[49m\u001B[43m \u001B[49m\u001B[38;5;241;43m*\u001B[39;49m\u001B[38;5;241;43m*\u001B[39;49m\u001B[43mkwargs\u001B[49m\u001B[43m)\u001B[49m\n",
      "File \u001B[0;32m~/Schreibtisch/ecmi-hydrological-forecasting/venv/lib/python3.11/site-packages/matplotlib/backend_bases.py:3620\u001B[0m, in \u001B[0;36m_Backend.show\u001B[0;34m(cls, block)\u001B[0m\n\u001B[1;32m   3618\u001B[0m     block \u001B[38;5;241m=\u001B[39m \u001B[38;5;129;01mnot\u001B[39;00m ipython_pylab \u001B[38;5;129;01mand\u001B[39;00m \u001B[38;5;129;01mnot\u001B[39;00m is_interactive()\n\u001B[1;32m   3619\u001B[0m \u001B[38;5;28;01mif\u001B[39;00m block:\n\u001B[0;32m-> 3620\u001B[0m     \u001B[38;5;28;43mcls\u001B[39;49m\u001B[38;5;241;43m.\u001B[39;49m\u001B[43mmainloop\u001B[49m\u001B[43m(\u001B[49m\u001B[43m)\u001B[49m\n",
      "File \u001B[0;32m~/Schreibtisch/ecmi-hydrological-forecasting/venv/lib/python3.11/site-packages/matplotlib/backends/backend_qt.py:602\u001B[0m, in \u001B[0;36mFigureManagerQT.start_main_loop\u001B[0;34m(cls)\u001B[0m\n\u001B[1;32m    600\u001B[0m qapp \u001B[38;5;241m=\u001B[39m QtWidgets\u001B[38;5;241m.\u001B[39mQApplication\u001B[38;5;241m.\u001B[39minstance()\n\u001B[1;32m    601\u001B[0m \u001B[38;5;28;01mif\u001B[39;00m qapp:\n\u001B[0;32m--> 602\u001B[0m \u001B[43m    \u001B[49m\u001B[38;5;28;43;01mwith\u001B[39;49;00m\u001B[43m \u001B[49m\u001B[43m_maybe_allow_interrupt\u001B[49m\u001B[43m(\u001B[49m\u001B[43mqapp\u001B[49m\u001B[43m)\u001B[49m\u001B[43m:\u001B[49m\n\u001B[1;32m    603\u001B[0m \u001B[43m        \u001B[49m\u001B[43mqt_compat\u001B[49m\u001B[38;5;241;43m.\u001B[39;49m\u001B[43m_exec\u001B[49m\u001B[43m(\u001B[49m\u001B[43mqapp\u001B[49m\u001B[43m)\u001B[49m\n",
      "File \u001B[0;32m/usr/lib/python3.11/contextlib.py:144\u001B[0m, in \u001B[0;36m_GeneratorContextManager.__exit__\u001B[0;34m(self, typ, value, traceback)\u001B[0m\n\u001B[1;32m    142\u001B[0m \u001B[38;5;28;01mif\u001B[39;00m typ \u001B[38;5;129;01mis\u001B[39;00m \u001B[38;5;28;01mNone\u001B[39;00m:\n\u001B[1;32m    143\u001B[0m     \u001B[38;5;28;01mtry\u001B[39;00m:\n\u001B[0;32m--> 144\u001B[0m         \u001B[38;5;28mnext\u001B[39m(\u001B[38;5;28mself\u001B[39m\u001B[38;5;241m.\u001B[39mgen)\n\u001B[1;32m    145\u001B[0m     \u001B[38;5;28;01mexcept\u001B[39;00m \u001B[38;5;167;01mStopIteration\u001B[39;00m:\n\u001B[1;32m    146\u001B[0m         \u001B[38;5;28;01mreturn\u001B[39;00m \u001B[38;5;28;01mFalse\u001B[39;00m\n",
      "File \u001B[0;32m~/Schreibtisch/ecmi-hydrological-forecasting/venv/lib/python3.11/site-packages/matplotlib/backends/qt_compat.py:245\u001B[0m, in \u001B[0;36m_maybe_allow_interrupt\u001B[0;34m(qapp)\u001B[0m\n\u001B[1;32m    243\u001B[0m signal\u001B[38;5;241m.\u001B[39msignal(signal\u001B[38;5;241m.\u001B[39mSIGINT, old_sigint_handler)\n\u001B[1;32m    244\u001B[0m \u001B[38;5;28;01mif\u001B[39;00m handler_args \u001B[38;5;129;01mis\u001B[39;00m \u001B[38;5;129;01mnot\u001B[39;00m \u001B[38;5;28;01mNone\u001B[39;00m:\n\u001B[0;32m--> 245\u001B[0m     \u001B[43mold_sigint_handler\u001B[49m\u001B[43m(\u001B[49m\u001B[38;5;241;43m*\u001B[39;49m\u001B[43mhandler_args\u001B[49m\u001B[43m)\u001B[49m\n",
      "\u001B[0;31mKeyboardInterrupt\u001B[0m: "
     ]
    }
   ],
   "source": [
    "marker_dict = {\n",
    "    'Tisza': 'o',\n",
    "    'Maros': 'v',\n",
    "    'Kettős-Körös': '^',\n",
    "    'Hármas-Körös': 'x',\n",
    "    'Szamos': '+',\n",
    "    'Sebes-Körös' : 'D',\n",
    "    'Bodrog' : 'h',\n",
    "    'Túr' : 'd',\n",
    "    'Sajó' : 'X',\n",
    "    'Kraszna' : '1',\n",
    "    'Hernád' : '2',\n",
    "    'Berettyó': '3',\n",
    "    'Fekete-Körös' : '4',\n",
    "    'Fehér-Körös': ',',\n",
    "    'Zagyva': '<'\n",
    "}\n",
    "\n",
    "def rgb(val):\n",
    "    return [[0.4 + min(val * 0.08,0.6),0.2, 0.00 + min(abs(val * 0.10),1.0)]]\n",
    "\n",
    "rivers = []\n",
    "actors = []\n",
    "\n",
    "for index,row in meta_nans_removed.iterrows():\n",
    "    a = plt.scatter(row['EOVx'],row['EOVy'],c=rgb(row['maximum_correlation']),marker=marker_dict[row['river']])\n",
    "    if row['river'] not in rivers:\n",
    "        rivers.append(row['river'])\n",
    "        actors.append(a)\n",
    "\n",
    "cbar = plt.colorbar()\n",
    "plt.legend(actors,rivers)\n",
    "\n",
    "\n",
    "plt.show()"
   ],
   "metadata": {
    "collapsed": false,
    "ExecuteTime": {
     "end_time": "2023-08-31T12:28:16.827213378Z",
     "start_time": "2023-08-31T12:28:12.997497888Z"
    }
   }
  },
  {
   "cell_type": "code",
   "execution_count": null,
   "outputs": [
    {
     "name": "stderr",
     "output_type": "stream",
     "text": [
      "/tmp/ipykernel_10653/1736418240.py:11: MatplotlibDeprecationWarning: The get_cmap function was deprecated in Matplotlib 3.7 and will be removed two minor releases later. Use ``matplotlib.colormaps[name]`` or ``matplotlib.colormaps.get_cmap(obj)`` instead.\n",
      "  cmap = cm.get_cmap('viridis')  # You can choose any colormap you like\n",
      "/tmp/ipykernel_10653/1736418240.py:25: MatplotlibDeprecationWarning: Unable to determine Axes to steal space for Colorbar. Using gca(), but will raise in the future. Either provide the *cax* argument to use as the Axes for the Colorbar, provide the *ax* argument to steal space from it, or add *mappable* to an Axes.\n",
      "  cbar = plt.colorbar(sm)\n",
      "qt.qpa.wayland: Wayland does not support QWindow::requestActivate()\n"
     ]
    }
   ],
   "source": [
    "import matplotlib.pyplot as plt\n",
    "import matplotlib.cm as cm\n",
    "\n",
    "# Your marker_dict and rgb function\n",
    "plt.figure(figsize=(10, 7))\n",
    "# Assuming you have 'meta_nans_removed', 'rivers', and 'actors' defined\n",
    "\n",
    "# Create a ScalarMappable object\n",
    "norm = plt.Normalize(vmin=min(meta_nans_removed['maximum_correlation']),\n",
    "                     vmax=max(meta_nans_removed['maximum_correlation']))\n",
    "cmap = cm.get_cmap('viridis')  # You can choose any colormap you like\n",
    "sm = cm.ScalarMappable(cmap=cmap, norm=norm)\n",
    "\n",
    "for index, row in meta_nans_removed.iterrows():\n",
    "    color_val = row['maximum_correlation']\n",
    "    color = sm.to_rgba(color_val)\n",
    "\n",
    "    a = plt.scatter(row['EOVx'], row['EOVy'], c=[color], marker=marker_dict[row['river']])\n",
    "\n",
    "    if row['river'] not in rivers:\n",
    "        rivers.append(row['river'])\n",
    "        actors.append(a)\n",
    "\n",
    "# Add a colorbar\n",
    "cbar = plt.colorbar(sm)\n",
    "cbar.set_label('$t_x$')\n",
    "\n",
    "plt.xlabel('x coordinates')\n",
    "plt.ylabel('Y coordinates')\n",
    "plt.legend(actors, rivers)\n",
    "plt.show()"
   ],
   "metadata": {
    "collapsed": false,
    "is_executing": true,
    "ExecuteTime": {
     "start_time": "2023-08-31T12:43:58.405122070Z"
    }
   }
  },
  {
   "cell_type": "code",
   "execution_count": 11,
   "outputs": [
    {
     "ename": "NameError",
     "evalue": "name 'data_nans_removed' is not defined",
     "output_type": "error",
     "traceback": [
      "\u001B[0;31m---------------------------------------------------------------------------\u001B[0m",
      "\u001B[0;31mNameError\u001B[0m                                 Traceback (most recent call last)",
      "Cell \u001B[0;32mIn[11], line 13\u001B[0m\n\u001B[1;32m     11\u001B[0m p_values \u001B[38;5;241m=\u001B[39m []\n\u001B[1;32m     12\u001B[0m \u001B[38;5;28;01mfor\u001B[39;00m i \u001B[38;5;129;01min\u001B[39;00m np\u001B[38;5;241m.\u001B[39mlinspace(\u001B[38;5;241m1\u001B[39m,\u001B[38;5;241m10\u001B[39m,\u001B[38;5;241m10\u001B[39m):\n\u001B[0;32m---> 13\u001B[0m     causality_test(\u001B[43mdata_nans_removed\u001B[49m,i,causalities,p_values)\n\u001B[1;32m     15\u001B[0m causalitiy_matrix \u001B[38;5;241m=\u001B[39m np\u001B[38;5;241m.\u001B[39mtranspose(np\u001B[38;5;241m.\u001B[39mreshape(np\u001B[38;5;241m.\u001B[39marray(causalities), (\u001B[38;5;241m-\u001B[39m\u001B[38;5;241m1\u001B[39m, \u001B[38;5;28mlen\u001B[39m(data_nans_removed\u001B[38;5;241m.\u001B[39mcolumns))))\n",
      "\u001B[0;31mNameError\u001B[0m: name 'data_nans_removed' is not defined"
     ]
    }
   ],
   "source": [
    "from statsmodels.tsa.stattools import grangercausalitytests\n",
    "def causality_test(df, lag,l,pv):\n",
    "\n",
    "    for col in df.columns.tolist():\n",
    "        vals = grangercausalitytests(data_nans_removed[['2275',col]], maxlag = [lag],verbose = 0)\n",
    "        l.append(vals[lag][0]['ssr_ftest'][0])\n",
    "        pv.append(vals[lag][0]['ssr_ftest'][1])\n",
    "\n",
    "\n",
    "causalities = []\n",
    "p_values = []\n",
    "for i in np.linspace(1,10,10):\n",
    "    causality_test(data_nans_removed,i,causalities,p_values)\n",
    "\n",
    "causalitiy_matrix = np.transpose(np.reshape(np.array(causalities), (-1, len(data_nans_removed.columns))))"
   ],
   "metadata": {
    "collapsed": false,
    "ExecuteTime": {
     "end_time": "2023-08-31T12:17:28.548117591Z",
     "start_time": "2023-08-31T12:17:28.479031952Z"
    }
   }
  },
  {
   "cell_type": "code",
   "execution_count": null,
   "outputs": [],
   "source": [
    "maximum_correlation = (cr.idxmax() - 5)"
   ],
   "metadata": {
    "collapsed": false
   }
  },
  {
   "cell_type": "code",
   "execution_count": null,
   "outputs": [],
   "source": [
    "pd.DataFrame(maximum_correlation.values, index=maximum_correlation.index).to_csv(\"../data/maximum_correlation.csv\")"
   ],
   "metadata": {
    "collapsed": false
   }
  },
  {
   "cell_type": "code",
   "execution_count": null,
   "outputs": [],
   "source": [
    "maximum_correlation.values"
   ],
   "metadata": {
    "collapsed": false
   }
  },
  {
   "cell_type": "code",
   "execution_count": null,
   "outputs": [],
   "source": [
    "def corr(df,station,starting_point,interval,method,l,pv,p1):\n",
    "    period2 = df[(df.index >= starting_point - interval) & (df.index <= starting_point + interval)]\n",
    "    for col in df.columns.tolist():\n",
    "        cor, p_value = method(p1[station],period2[col])\n",
    "        l.append(cor)\n",
    "        pv.append(p_value)\n",
    "\n",
    "\n",
    "def calculate_correlations(df,starting_point,interval,method):\n",
    "    cross_correlations = []\n",
    "    for station in df.columns:\n",
    "        day = pd.Timedelta(1,'d')\n",
    "        sp = starting_point\n",
    "        l = []\n",
    "        pv = []\n",
    "\n",
    "        period1 = df[(df.index >= starting_point - interval) & (df.index <= starting_point + interval)]\n",
    "        for i in np.linspace(0,5,5):\n",
    "            starting_point = starting_point + day\n",
    "            corr(df,station,starting_point,interval,method,l,pv,period1)\n",
    "        starting_point =  sp + day\n",
    "        for i in np.linspace(0,50,50):\n",
    "            starting_point = starting_point - day\n",
    "            corr(df,station,starting_point,interval,method,l,pv,period1)\n",
    "        cm = np.transpose(np.reshape(np.array(l), (-1, len(df.columns))))\n",
    "        pv = np.transpose(np.reshape(np.array(pv), (-1, len(df.columns))))\n",
    "        cross_correlations.append(cm)\n",
    "    return cross_correlations\n"
   ],
   "metadata": {
    "collapsed": false,
    "ExecuteTime": {
     "start_time": "2023-08-31T12:14:18.863645629Z"
    }
   }
  },
  {
   "cell_type": "code",
   "execution_count": null,
   "outputs": [],
   "source": [
    "cr = calculate_correlations(data,pd.Timestamp('2005-01-01'),pd.Timedelta(52,'w'),pearson)"
   ],
   "metadata": {
    "collapsed": false,
    "ExecuteTime": {
     "start_time": "2023-08-31T12:14:18.863797399Z"
    }
   }
  },
  {
   "cell_type": "code",
   "execution_count": null,
   "outputs": [],
   "source": [
    "correlation_tensor = {}\n",
    "for idx,station in enumerate(data.columns):\n",
    "    correlation_tensor[station] = (pd.DataFrame(data=np.transpose(cr[idx]),columns=data.columns))"
   ],
   "metadata": {
    "collapsed": false,
    "ExecuteTime": {
     "start_time": "2023-08-31T12:14:18.863971918Z"
    }
   }
  },
  {
   "cell_type": "code",
   "execution_count": null,
   "outputs": [],
   "source": [
    "correlation_tensor['1515']"
   ],
   "metadata": {
    "collapsed": false,
    "ExecuteTime": {
     "start_time": "2023-08-31T12:14:18.864124580Z"
    }
   }
  },
  {
   "cell_type": "code",
   "execution_count": null,
   "outputs": [],
   "source": [
    "correlation_tensor_max_corr = {k : v.idxmax() -5 for k,v in correlation_tensor.items() }"
   ],
   "metadata": {
    "collapsed": false,
    "ExecuteTime": {
     "start_time": "2023-08-31T12:14:18.864226414Z"
    }
   }
  },
  {
   "cell_type": "code",
   "execution_count": null,
   "outputs": [],
   "source": [
    "correlation_tensor_max_corr['2275']"
   ],
   "metadata": {
    "collapsed": false,
    "ExecuteTime": {
     "start_time": "2023-08-31T12:14:18.864318372Z"
    }
   }
  },
  {
   "cell_type": "code",
   "execution_count": 76,
   "outputs": [],
   "source": [
    "pd.Series(data = correlation_tensor_max_corr.values(),index=correlation_tensor_max_corr.keys()).to_csv(\"../data/maximum_correlations_every_station.csv\")"
   ],
   "metadata": {
    "collapsed": false,
    "ExecuteTime": {
     "end_time": "2023-07-13T09:48:51.578195462Z",
     "start_time": "2023-07-13T09:48:51.563869719Z"
    }
   }
  },
  {
   "cell_type": "code",
   "execution_count": 2,
   "outputs": [],
   "source": [
    "df = pd.read_csv('../data/maximum_correlations_every_station.csv')"
   ],
   "metadata": {
    "collapsed": false,
    "ExecuteTime": {
     "end_time": "2023-07-13T12:11:03.608184896Z",
     "start_time": "2023-07-13T12:11:03.607505567Z"
    }
   }
  },
  {
   "cell_type": "code",
   "execution_count": 8,
   "outputs": [],
   "source": [
    "df = df.rename(columns={'Unnamed: 0': 'stations'})"
   ],
   "metadata": {
    "collapsed": false,
    "ExecuteTime": {
     "end_time": "2023-07-13T12:13:08.718803723Z",
     "start_time": "2023-07-13T12:13:08.711307733Z"
    }
   }
  },
  {
   "cell_type": "code",
   "execution_count": 23,
   "outputs": [
    {
     "data": {
      "text/plain": "'1515      0\\n1516      0\\n1518     -5\\n1521     -5\\n1719     -4\\n1720     -3\\n1722     -4\\n1723     -4\\n2040     -4\\n2046     -3\\n2048     -2\\n2271     -2\\n2272     -2\\n2274     -2\\n2275     -2\\n2278     -3\\n2543     -4\\n2753     -5\\n2756     -3\\n2757     -2\\n2760     -2\\n1514      0\\n2041     -1\\n1523      0\\n2042     -4\\n2736      1\\n1721     -4\\n1724     -5\\n1725     -5\\n2744      0\\n2748      0\\n2759     -3\\n1520     -5\\n1527      0\\n1729      1\\n1726      1\\n2541     -4\\n1530      0\\n1732      1\\n1734      0\\n2049      1\\n2741     -4\\n2742     -4\\n2751     -5\\n2545      0\\n744624   -3\\n210888   -1\\n210900   -1\\ndtype: int64'"
     },
     "execution_count": 23,
     "metadata": {},
     "output_type": "execute_result"
    }
   ],
   "source": [
    "df.loc[1515][0]"
   ],
   "metadata": {
    "collapsed": false,
    "ExecuteTime": {
     "end_time": "2023-07-13T12:16:36.886969429Z",
     "start_time": "2023-07-13T12:16:36.841549598Z"
    }
   }
  },
  {
   "cell_type": "code",
   "execution_count": 20,
   "outputs": [],
   "source": [
    "df = df.set_index('stations')"
   ],
   "metadata": {
    "collapsed": false,
    "ExecuteTime": {
     "end_time": "2023-07-13T12:16:14.342094998Z",
     "start_time": "2023-07-13T12:16:14.336210610Z"
    }
   }
  },
  {
   "cell_type": "code",
   "execution_count": 11,
   "outputs": [],
   "source": [
    "df.to_csv('../data/maximum_correlations_every_station.csv')"
   ],
   "metadata": {
    "collapsed": false,
    "ExecuteTime": {
     "end_time": "2023-07-13T12:13:43.873092219Z",
     "start_time": "2023-07-13T12:13:43.849207267Z"
    }
   }
  },
  {
   "cell_type": "code",
   "execution_count": 12,
   "outputs": [
    {
     "data": {
      "text/plain": "    Unnamed: 0  stations                                                  0\n0            0      1515  1515      0\\n1516      0\\n1518     -5\\n1521   ...\n1            1      1516  1515      0\\n1516      0\\n1518     -5\\n1521   ...\n2            2      1518  1515      1\\n1516      1\\n1518      0\\n1521   ...\n3            3      1521  1515      1\\n1516      1\\n1518      1\\n1521   ...\n4            4      1719  1515      2\\n1516      1\\n1518      1\\n1521   ...\n5            5      1720  1515       3\\n1516       2\\n1518       2\\n1521...\n6            6      1722  1515      2\\n1516      1\\n1518      1\\n1521   ...\n7            7      1723  1515       2\\n1516       2\\n1518       1\\n1521...\n8            8      2040  1515       3\\n1516       2\\n1518       2\\n1521...\n9            9      2046  1515       3\\n1516       3\\n1518       2\\n1521...\n10          10      2048  1515       4\\n1516       3\\n1518       3\\n1521...\n11          11      2271  1515       4\\n1516       4\\n1518       3\\n1521...\n12          12      2272  1515       4\\n1516       4\\n1518       3\\n1521...\n13          13      2274  1515       4\\n1516       3\\n1518       3\\n1521...\n14          14      2275  1515       4\\n1516       4\\n1518       3\\n1521...\n15          15      2278  1515       4\\n1516       3\\n1518       3\\n1521...\n16          16      2543  1515       3\\n1516       2\\n1518       1\\n1521...\n17          17      2753  1515       1\\n1516       1\\n1518       0\\n1521...\n18          18      2756  1515       3\\n1516       2\\n1518       1\\n1521...\n19          19      2757  1515       4\\n1516       3\\n1518       2\\n1521...\n20          20      2760  1515       4\\n1516       4\\n1518       3\\n1521...\n21          21      1514  1515       0\\n1516      -5\\n1518      -4\\n1521...\n22          22      2041  1515      47\\n1516      48\\n1518      49\\n1521...\n23          23      1523  1515      0\\n1516      0\\n1518     -5\\n1521   ...\n24          24      2042  1515      3\\n1516      2\\n1518      2\\n1521   ...\n25          25      2736  1515      -5\\n1516      -5\\n1518      -5\\n1521...\n26          26      1721  1515      2\\n1516      1\\n1518      1\\n1521   ...\n27          27      1724  1515      2\\n1516      1\\n1518      1\\n1521   ...\n28          28      1725  1515      2\\n1516      2\\n1518      1\\n1521   ...\n29          29      2744  1515      0\\n1516      0\\n1518     -5\\n1521   ...\n30          30      2748  1515      1\\n1516      1\\n1518      0\\n1521   ...\n31          31      2759  1515       4\\n1516       4\\n1518       3\\n1521...\n32          32      1520  1515      1\\n1516      1\\n1518      0\\n1521   ...\n33          33      1527  1515      0\\n1516      0\\n1518     -5\\n1521   ...\n34          34      1729  1515      1\\n1516      0\\n1518      0\\n1521   ...\n35          35      1726  1515      0\\n1516     -5\\n1518     -5\\n1521   ...\n36          36      2541  1515      3\\n1516      2\\n1518      2\\n1521   ...\n37          37      1530  1515      0\\n1516      0\\n1518     -5\\n1521   ...\n38          38      1732  1515       0\\n1516      -5\\n1518      -5\\n1521...\n39          39      1734  1515       0\\n1516       0\\n1518       0\\n1521...\n40          40      2049  1515      1\\n1516      1\\n1518      0\\n1521   ...\n41          41      2741  1515      2\\n1516      2\\n1518      1\\n1521   ...\n42          42      2742  1515      2\\n1516      2\\n1518      1\\n1521   ...\n43          43      2751  1515      1\\n1516      1\\n1518      0\\n1521   ...\n44          44      2545  1515      1\\n1516      0\\n1518      0\\n1521   ...\n45          45    744624  1515      4\\n1516      3\\n1518      3\\n1521   ...\n46          46    210888  1515       9\\n1516       8\\n1518       7\\n1521...\n47          47    210900  1515      6\\n1516      6\\n1518      5\\n1521   ...",
      "text/html": "<div>\n<style scoped>\n    .dataframe tbody tr th:only-of-type {\n        vertical-align: middle;\n    }\n\n    .dataframe tbody tr th {\n        vertical-align: top;\n    }\n\n    .dataframe thead th {\n        text-align: right;\n    }\n</style>\n<table border=\"1\" class=\"dataframe\">\n  <thead>\n    <tr style=\"text-align: right;\">\n      <th></th>\n      <th>Unnamed: 0</th>\n      <th>stations</th>\n      <th>0</th>\n    </tr>\n  </thead>\n  <tbody>\n    <tr>\n      <th>0</th>\n      <td>0</td>\n      <td>1515</td>\n      <td>1515      0\\n1516      0\\n1518     -5\\n1521   ...</td>\n    </tr>\n    <tr>\n      <th>1</th>\n      <td>1</td>\n      <td>1516</td>\n      <td>1515      0\\n1516      0\\n1518     -5\\n1521   ...</td>\n    </tr>\n    <tr>\n      <th>2</th>\n      <td>2</td>\n      <td>1518</td>\n      <td>1515      1\\n1516      1\\n1518      0\\n1521   ...</td>\n    </tr>\n    <tr>\n      <th>3</th>\n      <td>3</td>\n      <td>1521</td>\n      <td>1515      1\\n1516      1\\n1518      1\\n1521   ...</td>\n    </tr>\n    <tr>\n      <th>4</th>\n      <td>4</td>\n      <td>1719</td>\n      <td>1515      2\\n1516      1\\n1518      1\\n1521   ...</td>\n    </tr>\n    <tr>\n      <th>5</th>\n      <td>5</td>\n      <td>1720</td>\n      <td>1515       3\\n1516       2\\n1518       2\\n1521...</td>\n    </tr>\n    <tr>\n      <th>6</th>\n      <td>6</td>\n      <td>1722</td>\n      <td>1515      2\\n1516      1\\n1518      1\\n1521   ...</td>\n    </tr>\n    <tr>\n      <th>7</th>\n      <td>7</td>\n      <td>1723</td>\n      <td>1515       2\\n1516       2\\n1518       1\\n1521...</td>\n    </tr>\n    <tr>\n      <th>8</th>\n      <td>8</td>\n      <td>2040</td>\n      <td>1515       3\\n1516       2\\n1518       2\\n1521...</td>\n    </tr>\n    <tr>\n      <th>9</th>\n      <td>9</td>\n      <td>2046</td>\n      <td>1515       3\\n1516       3\\n1518       2\\n1521...</td>\n    </tr>\n    <tr>\n      <th>10</th>\n      <td>10</td>\n      <td>2048</td>\n      <td>1515       4\\n1516       3\\n1518       3\\n1521...</td>\n    </tr>\n    <tr>\n      <th>11</th>\n      <td>11</td>\n      <td>2271</td>\n      <td>1515       4\\n1516       4\\n1518       3\\n1521...</td>\n    </tr>\n    <tr>\n      <th>12</th>\n      <td>12</td>\n      <td>2272</td>\n      <td>1515       4\\n1516       4\\n1518       3\\n1521...</td>\n    </tr>\n    <tr>\n      <th>13</th>\n      <td>13</td>\n      <td>2274</td>\n      <td>1515       4\\n1516       3\\n1518       3\\n1521...</td>\n    </tr>\n    <tr>\n      <th>14</th>\n      <td>14</td>\n      <td>2275</td>\n      <td>1515       4\\n1516       4\\n1518       3\\n1521...</td>\n    </tr>\n    <tr>\n      <th>15</th>\n      <td>15</td>\n      <td>2278</td>\n      <td>1515       4\\n1516       3\\n1518       3\\n1521...</td>\n    </tr>\n    <tr>\n      <th>16</th>\n      <td>16</td>\n      <td>2543</td>\n      <td>1515       3\\n1516       2\\n1518       1\\n1521...</td>\n    </tr>\n    <tr>\n      <th>17</th>\n      <td>17</td>\n      <td>2753</td>\n      <td>1515       1\\n1516       1\\n1518       0\\n1521...</td>\n    </tr>\n    <tr>\n      <th>18</th>\n      <td>18</td>\n      <td>2756</td>\n      <td>1515       3\\n1516       2\\n1518       1\\n1521...</td>\n    </tr>\n    <tr>\n      <th>19</th>\n      <td>19</td>\n      <td>2757</td>\n      <td>1515       4\\n1516       3\\n1518       2\\n1521...</td>\n    </tr>\n    <tr>\n      <th>20</th>\n      <td>20</td>\n      <td>2760</td>\n      <td>1515       4\\n1516       4\\n1518       3\\n1521...</td>\n    </tr>\n    <tr>\n      <th>21</th>\n      <td>21</td>\n      <td>1514</td>\n      <td>1515       0\\n1516      -5\\n1518      -4\\n1521...</td>\n    </tr>\n    <tr>\n      <th>22</th>\n      <td>22</td>\n      <td>2041</td>\n      <td>1515      47\\n1516      48\\n1518      49\\n1521...</td>\n    </tr>\n    <tr>\n      <th>23</th>\n      <td>23</td>\n      <td>1523</td>\n      <td>1515      0\\n1516      0\\n1518     -5\\n1521   ...</td>\n    </tr>\n    <tr>\n      <th>24</th>\n      <td>24</td>\n      <td>2042</td>\n      <td>1515      3\\n1516      2\\n1518      2\\n1521   ...</td>\n    </tr>\n    <tr>\n      <th>25</th>\n      <td>25</td>\n      <td>2736</td>\n      <td>1515      -5\\n1516      -5\\n1518      -5\\n1521...</td>\n    </tr>\n    <tr>\n      <th>26</th>\n      <td>26</td>\n      <td>1721</td>\n      <td>1515      2\\n1516      1\\n1518      1\\n1521   ...</td>\n    </tr>\n    <tr>\n      <th>27</th>\n      <td>27</td>\n      <td>1724</td>\n      <td>1515      2\\n1516      1\\n1518      1\\n1521   ...</td>\n    </tr>\n    <tr>\n      <th>28</th>\n      <td>28</td>\n      <td>1725</td>\n      <td>1515      2\\n1516      2\\n1518      1\\n1521   ...</td>\n    </tr>\n    <tr>\n      <th>29</th>\n      <td>29</td>\n      <td>2744</td>\n      <td>1515      0\\n1516      0\\n1518     -5\\n1521   ...</td>\n    </tr>\n    <tr>\n      <th>30</th>\n      <td>30</td>\n      <td>2748</td>\n      <td>1515      1\\n1516      1\\n1518      0\\n1521   ...</td>\n    </tr>\n    <tr>\n      <th>31</th>\n      <td>31</td>\n      <td>2759</td>\n      <td>1515       4\\n1516       4\\n1518       3\\n1521...</td>\n    </tr>\n    <tr>\n      <th>32</th>\n      <td>32</td>\n      <td>1520</td>\n      <td>1515      1\\n1516      1\\n1518      0\\n1521   ...</td>\n    </tr>\n    <tr>\n      <th>33</th>\n      <td>33</td>\n      <td>1527</td>\n      <td>1515      0\\n1516      0\\n1518     -5\\n1521   ...</td>\n    </tr>\n    <tr>\n      <th>34</th>\n      <td>34</td>\n      <td>1729</td>\n      <td>1515      1\\n1516      0\\n1518      0\\n1521   ...</td>\n    </tr>\n    <tr>\n      <th>35</th>\n      <td>35</td>\n      <td>1726</td>\n      <td>1515      0\\n1516     -5\\n1518     -5\\n1521   ...</td>\n    </tr>\n    <tr>\n      <th>36</th>\n      <td>36</td>\n      <td>2541</td>\n      <td>1515      3\\n1516      2\\n1518      2\\n1521   ...</td>\n    </tr>\n    <tr>\n      <th>37</th>\n      <td>37</td>\n      <td>1530</td>\n      <td>1515      0\\n1516      0\\n1518     -5\\n1521   ...</td>\n    </tr>\n    <tr>\n      <th>38</th>\n      <td>38</td>\n      <td>1732</td>\n      <td>1515       0\\n1516      -5\\n1518      -5\\n1521...</td>\n    </tr>\n    <tr>\n      <th>39</th>\n      <td>39</td>\n      <td>1734</td>\n      <td>1515       0\\n1516       0\\n1518       0\\n1521...</td>\n    </tr>\n    <tr>\n      <th>40</th>\n      <td>40</td>\n      <td>2049</td>\n      <td>1515      1\\n1516      1\\n1518      0\\n1521   ...</td>\n    </tr>\n    <tr>\n      <th>41</th>\n      <td>41</td>\n      <td>2741</td>\n      <td>1515      2\\n1516      2\\n1518      1\\n1521   ...</td>\n    </tr>\n    <tr>\n      <th>42</th>\n      <td>42</td>\n      <td>2742</td>\n      <td>1515      2\\n1516      2\\n1518      1\\n1521   ...</td>\n    </tr>\n    <tr>\n      <th>43</th>\n      <td>43</td>\n      <td>2751</td>\n      <td>1515      1\\n1516      1\\n1518      0\\n1521   ...</td>\n    </tr>\n    <tr>\n      <th>44</th>\n      <td>44</td>\n      <td>2545</td>\n      <td>1515      1\\n1516      0\\n1518      0\\n1521   ...</td>\n    </tr>\n    <tr>\n      <th>45</th>\n      <td>45</td>\n      <td>744624</td>\n      <td>1515      4\\n1516      3\\n1518      3\\n1521   ...</td>\n    </tr>\n    <tr>\n      <th>46</th>\n      <td>46</td>\n      <td>210888</td>\n      <td>1515       9\\n1516       8\\n1518       7\\n1521...</td>\n    </tr>\n    <tr>\n      <th>47</th>\n      <td>47</td>\n      <td>210900</td>\n      <td>1515      6\\n1516      6\\n1518      5\\n1521   ...</td>\n    </tr>\n  </tbody>\n</table>\n</div>"
     },
     "execution_count": 12,
     "metadata": {},
     "output_type": "execute_result"
    }
   ],
   "source": [
    "pd.read_csv('../data/maximum_correlations_every_station.csv')"
   ],
   "metadata": {
    "collapsed": false,
    "ExecuteTime": {
     "end_time": "2023-07-13T12:13:54.012325532Z",
     "start_time": "2023-07-13T12:13:53.999766929Z"
    }
   }
  },
  {
   "cell_type": "code",
   "execution_count": null,
   "outputs": [],
   "source": [],
   "metadata": {
    "collapsed": false
   }
  }
 ],
 "metadata": {
  "kernelspec": {
   "display_name": "Python 3",
   "language": "python",
   "name": "python3"
  },
  "language_info": {
   "codemirror_mode": {
    "name": "ipython",
    "version": 2
   },
   "file_extension": ".py",
   "mimetype": "text/x-python",
   "name": "python",
   "nbconvert_exporter": "python",
   "pygments_lexer": "ipython2",
   "version": "2.7.6"
  }
 },
 "nbformat": 4,
 "nbformat_minor": 0
}
