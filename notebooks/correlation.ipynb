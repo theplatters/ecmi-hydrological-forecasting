{
 "cells": [
  {
   "cell_type": "code",
   "execution_count": 1,
   "metadata": {
    "collapsed": true,
    "ExecuteTime": {
     "end_time": "2023-07-13T09:03:37.014189032Z",
     "start_time": "2023-07-13T09:03:04.196691340Z"
    }
   },
   "outputs": [],
   "source": [
    "import os\n",
    "import sys\n",
    "\n",
    "import json\n",
    "import pickle\n",
    "\n",
    "import scipy\n",
    "import seaborn as sns\n",
    "\n",
    "import numpy as np\n",
    "import pandas as pd\n",
    "from dtw import dtw\n",
    "import torch\n",
    "from torchsummary import summary\n",
    "import matplotlib.pyplot as plt\n",
    "import dcor"
   ]
  },
  {
   "cell_type": "code",
   "execution_count": 2,
   "outputs": [
    {
     "data": {
      "text/plain": "DatetimeIndex(['1950-12-31', '1951-01-01', '1951-01-02', '1951-01-03',\n               '1951-01-04', '1951-01-05', '1951-01-06', '1951-01-07',\n               '1951-01-08', '1951-01-09',\n               ...\n               '2020-12-21', '2020-12-22', '2020-12-23', '2020-12-24',\n               '2020-12-25', '2020-12-26', '2020-12-27', '2020-12-28',\n               '2020-12-29', '2020-12-30'],\n              dtype='datetime64[ns]', name='Date', length=25568, freq=None)"
     },
     "execution_count": 2,
     "metadata": {},
     "output_type": "execute_result"
    }
   ],
   "source": [
    "data_training = pd.read_csv(\"../data/data_training.csv\")\n",
    "data_validation = pd.read_csv('../data/data_validation.csv')\n",
    "\n",
    "data = pd.concat([data_training, data_validation])\n",
    "data[\"Date\"] = pd.to_datetime(data[\"Date\"])\n",
    "data = data.set_index('Date')\n",
    "meta = pd.read_csv(\"../data/meta.csv\")\n",
    "data.index"
   ],
   "metadata": {
    "collapsed": false,
    "ExecuteTime": {
     "end_time": "2023-07-13T09:03:37.130978474Z",
     "start_time": "2023-07-13T09:03:37.054798913Z"
    }
   }
  },
  {
   "cell_type": "code",
   "execution_count": 3,
   "outputs": [
    {
     "data": {
      "text/plain": "1515       6\n1516       5\n1518       4\n1521       5\n1719       9\n1720      14\n1722       3\n1723       3\n2040       2\n2046       1\n2048       0\n2271       0\n2272       0\n2274       0\n2275       0\n2278       2\n2543       2\n2753       5\n2756       4\n2757       2\n2760       1\n1514       5\n2041      -1\n1523       6\n2042       2\n2736       8\n1721       3\n1724       4\n1725       4\n2744       8\n2748      10\n2759       2\n1520       4\n1527       5\n1729       4\n1726       6\n2541       3\n1530       7\n1732       5\n1734       5\n2049       5\n2741       4\n2742       6\n2751       6\n2545       5\n744624     2\n210888     0\n210900     0\ndtype: int64"
     },
     "execution_count": 3,
     "metadata": {},
     "output_type": "execute_result"
    }
   ],
   "source": [
    "def pearson(dx, dy):\n",
    "    return scipy.stats.pearsonr(dx,dy)\n",
    "\n",
    "def spearman(dx,dy):\n",
    "    return scipy.stats.spearmanr(dx,dy)\n",
    "\n",
    "def distance_correlation(dx,dy):\n",
    "    return dcor.distance_correlation(dx, dy),0\n",
    "\n",
    "def timewarping(dx,dy):\n",
    "    distance, cost_matrix, acc_cost, path = dtw(np.array(dx).reshape(-1,1),np.array(dy).reshape(-1,1), dist = scipy.spatial.distance.euclidean)\n",
    "    return distance\n",
    "\n",
    "\n",
    "\n",
    "def corr(df,starting_point,interval,method,l,pv,p1):\n",
    "    period2 = df[(df.index >= starting_point - interval) & (df.index <= starting_point + interval)]\n",
    "\n",
    "    for col in df.columns.tolist():\n",
    "        cor, p_value = method(p1['2275'],period2[col])\n",
    "        l.append(cor)\n",
    "        pv.append(p_value)\n",
    "\n",
    "\n",
    "\n",
    "def calculate_correlations(df,starting_point,interval,method):\n",
    "\n",
    "    day = pd.Timedelta(1,'d')\n",
    "    sp = starting_point\n",
    "    l = []\n",
    "    pv = []\n",
    "\n",
    "    period1 = df[(df.index >= starting_point - interval) & (df.index <= starting_point + interval)]\n",
    "    for i in np.linspace(0,5,5):\n",
    "        starting_point = starting_point + day\n",
    "        corr(df,starting_point,interval,method,l,pv,period1)\n",
    "    starting_point =  sp + day\n",
    "    for i in np.linspace(0,50,50):\n",
    "        starting_point = starting_point - day\n",
    "        corr(df,starting_point,interval,method,l,pv,period1)\n",
    "\n",
    "    cm = np.transpose(np.reshape(np.array(l), (-1, len(df.columns))))\n",
    "    pv = np.transpose(np.reshape(np.array(pv), (-1, len(df.columns))))\n",
    "\n",
    "    return cm, pv\n",
    "\n",
    "\n",
    "correlation_matrix, p_values = calculate_correlations(data,pd.Timestamp('2006-01-01'),pd.Timedelta(52,'w'),pearson)\n",
    "\n",
    "cr = pd.DataFrame(data = np.transpose(correlation_matrix), columns=data.columns)\n",
    "cr.idxmax() - 5"
   ],
   "metadata": {
    "collapsed": false,
    "ExecuteTime": {
     "end_time": "2023-07-13T09:04:32.438756825Z",
     "start_time": "2023-07-13T09:04:30.660363337Z"
    }
   }
  },
  {
   "cell_type": "code",
   "execution_count": 44,
   "outputs": [],
   "source": [
    "max_corr = pd.Series((cr.idxmax() - 5),name=\"maximum_correlation\")\n",
    "max_corr.index = max_corr.index.astype(int)"
   ],
   "metadata": {
    "collapsed": false,
    "ExecuteTime": {
     "end_time": "2023-07-13T08:23:46.687386044Z",
     "start_time": "2023-07-13T08:23:46.683995428Z"
    }
   }
  },
  {
   "cell_type": "code",
   "execution_count": 45,
   "outputs": [
    {
     "data": {
      "text/plain": "array(['Tisza', 'Maros', 'Kettős-Körös', 'Hármas-Körös', 'Szamos',\n       'Sebes-Körös', 'Bodrog', 'Fekete-Körös', 'Fehér-Körös', 'Túr',\n       'Sajó', 'Kraszna', 'Hernád', 'Zagyva', 'Berettyó'], dtype=object)"
     },
     "execution_count": 45,
     "metadata": {},
     "output_type": "execute_result"
    }
   ],
   "source": [
    "meta = pd.read_csv(\"../data/meta.csv\")\n",
    "meta = meta.set_index(\"reg_number\")\n",
    "\n",
    "meta_nans_removed = meta.loc[list(map(int,cr.columns.tolist()))]\n",
    "meta_nans_removed = pd.concat([meta_nans_removed, max_corr], axis=1)\n",
    "meta.river.unique()\n"
   ],
   "metadata": {
    "collapsed": false,
    "ExecuteTime": {
     "end_time": "2023-07-13T08:23:46.697955189Z",
     "start_time": "2023-07-13T08:23:46.689715525Z"
    }
   }
  },
  {
   "cell_type": "code",
   "execution_count": 50,
   "outputs": [
    {
     "data": {
      "text/plain": "<Figure size 640x480 with 1 Axes>",
      "image/png": "[encoded data removed]"
     },
     "metadata": {},
     "output_type": "display_data"
    }
   ],
   "source": [
    "marker_dict = {\n",
    "    'Tisza': 'o',\n",
    "    'Maros': 'v',\n",
    "    'Kettős-Körös': '^',\n",
    "    'Hármas-Körös': 'x',\n",
    "    'Szamos': '+',\n",
    "    'Sebes-Körös' : 'D',\n",
    "    'Bodrog' : 'h',\n",
    "    'Túr' : 'd',\n",
    "    'Sajó' : 'X',\n",
    "    'Kraszna' : '1',\n",
    "    'Hernád' : '2',\n",
    "    'Berettyó': '3',\n",
    "    'Fekete-Körös' : '4',\n",
    "    'Fehér-Körös': ',',\n",
    "    'Zagyva': '<'\n",
    "}\n",
    "\n",
    "def rgb(val):\n",
    "    return [[0.4 + min(val * 0.08,0.6),0.2, 0.00 + min(abs(val * 0.10),1.0)]]\n",
    "\n",
    "rivers = []\n",
    "actors = []\n",
    "\n",
    "for index,row in meta_nans_removed.iterrows():\n",
    "    a = plt.scatter(row['EOVx'],row['EOVy'],c=rgb(row['maximum_correlation']),marker=marker_dict[row['river']])\n",
    "    if row['river'] not in rivers:\n",
    "        rivers.append(row['river'])\n",
    "        actors.append(a)\n",
    "plt.legend(actors,rivers)\n",
    "plt.show()"
   ],
   "metadata": {
    "collapsed": false,
    "ExecuteTime": {
     "end_time": "2023-07-13T08:24:40.254598057Z",
     "start_time": "2023-07-13T08:24:39.939520714Z"
    }
   }
  },
  {
   "cell_type": "code",
   "execution_count": 42,
   "outputs": [
    {
     "ename": "NameError",
     "evalue": "name 'data_nans_removed' is not defined",
     "output_type": "error",
     "traceback": [
      "\u001B[0;31m---------------------------------------------------------------------------\u001B[0m",
      "\u001B[0;31mNameError\u001B[0m                                 Traceback (most recent call last)",
      "Cell \u001B[0;32mIn[42], line 13\u001B[0m\n\u001B[1;32m     11\u001B[0m p_values \u001B[38;5;241m=\u001B[39m []\n\u001B[1;32m     12\u001B[0m \u001B[38;5;28;01mfor\u001B[39;00m i \u001B[38;5;129;01min\u001B[39;00m np\u001B[38;5;241m.\u001B[39mlinspace(\u001B[38;5;241m1\u001B[39m,\u001B[38;5;241m10\u001B[39m,\u001B[38;5;241m10\u001B[39m):\n\u001B[0;32m---> 13\u001B[0m     causality_test(\u001B[43mdata_nans_removed\u001B[49m,i,causalities,p_values)\n\u001B[1;32m     15\u001B[0m causalitiy_matrix \u001B[38;5;241m=\u001B[39m np\u001B[38;5;241m.\u001B[39mtranspose(np\u001B[38;5;241m.\u001B[39mreshape(np\u001B[38;5;241m.\u001B[39marray(causalities), (\u001B[38;5;241m-\u001B[39m\u001B[38;5;241m1\u001B[39m, \u001B[38;5;28mlen\u001B[39m(data_nans_removed\u001B[38;5;241m.\u001B[39mcolumns))))\n",
      "\u001B[0;31mNameError\u001B[0m: name 'data_nans_removed' is not defined"
     ]
    }
   ],
   "source": [
    "from statsmodels.tsa.stattools import grangercausalitytests\n",
    "def causality_test(df, lag,l,pv):\n",
    "\n",
    "    for col in df.columns.tolist():\n",
    "        vals = grangercausalitytests(data_nans_removed[['2275',col]], maxlag = [lag],verbose = 0)\n",
    "        l.append(vals[lag][0]['ssr_ftest'][0])\n",
    "        pv.append(vals[lag][0]['ssr_ftest'][1])\n",
    "\n",
    "\n",
    "causalities = []\n",
    "p_values = []\n",
    "for i in np.linspace(1,10,10):\n",
    "    causality_test(data_nans_removed,i,causalities,p_values)\n",
    "\n",
    "causalitiy_matrix = np.transpose(np.reshape(np.array(causalities), (-1, len(data_nans_removed.columns))))"
   ],
   "metadata": {
    "collapsed": false,
    "ExecuteTime": {
     "end_time": "2023-07-13T08:23:13.626730223Z",
     "start_time": "2023-07-13T08:23:13.625651134Z"
    }
   }
  },
  {
   "cell_type": "code",
   "execution_count": 10,
   "outputs": [],
   "source": [
    "maximum_correlation = (cr.idxmax() - 5)"
   ],
   "metadata": {
    "collapsed": false,
    "ExecuteTime": {
     "end_time": "2023-07-13T09:06:35.834747642Z",
     "start_time": "2023-07-13T09:06:35.792263015Z"
    }
   }
  },
  {
   "cell_type": "code",
   "execution_count": 18,
   "outputs": [],
   "source": [
    "pd.DataFrame(maximum_correlation.values, index=maximum_correlation.index).to_csv(\"../data/maximum_correlation.csv\")"
   ],
   "metadata": {
    "collapsed": false,
    "ExecuteTime": {
     "end_time": "2023-07-13T09:08:20.735034333Z",
     "start_time": "2023-07-13T09:08:20.730226254Z"
    }
   }
  },
  {
   "cell_type": "code",
   "execution_count": 14,
   "outputs": [
    {
     "data": {
      "text/plain": "array([ 6,  5,  4,  5,  9, 14,  3,  3,  2,  1,  0,  0,  0,  0,  0,  2,  2,\n        5,  4,  2,  1,  5, -1,  6,  2,  8,  3,  4,  4,  8, 10,  2,  4,  5,\n        4,  6,  3,  7,  5,  5,  5,  4,  6,  6,  5,  2,  0,  0])"
     },
     "execution_count": 14,
     "metadata": {},
     "output_type": "execute_result"
    }
   ],
   "source": [
    "maximum_correlation.values"
   ],
   "metadata": {
    "collapsed": false,
    "ExecuteTime": {
     "end_time": "2023-07-13T09:07:32.144272706Z",
     "start_time": "2023-07-13T09:07:32.140205818Z"
    }
   }
  },
  {
   "cell_type": "code",
   "execution_count": null,
   "outputs": [],
   "source": [],
   "metadata": {
    "collapsed": false
   }
  }
 ],
 "metadata": {
  "kernelspec": {
   "display_name": "Python 3",
   "language": "python",
   "name": "python3"
  },
  "language_info": {
   "codemirror_mode": {
    "name": "ipython",
    "version": 2
   },
   "file_extension": ".py",
   "mimetype": "text/x-python",
   "name": "python",
   "nbconvert_exporter": "python",
   "pygments_lexer": "ipython2",
   "version": "2.7.6"
  }
 },
 "nbformat": 4,
 "nbformat_minor": 0
}
