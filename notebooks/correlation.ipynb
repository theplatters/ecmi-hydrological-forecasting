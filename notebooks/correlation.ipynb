{
 "cells": [
  {
   "cell_type": "code",
   "execution_count": 1,
   "metadata": {
    "collapsed": true,
    "ExecuteTime": {
     "end_time": "2023-07-11T08:03:31.817076035Z",
     "start_time": "2023-07-11T08:02:59.715323852Z"
    }
   },
   "outputs": [],
   "source": [
    "import os\n",
    "import sys\n",
    "\n",
    "import json\n",
    "import pickle\n",
    "\n",
    "import scipy\n",
    "import seaborn as sns\n",
    "\n",
    "import numpy as np\n",
    "import pandas as pd\n",
    "from dtw import dtw\n",
    "import torch\n",
    "from torchsummary import summary\n",
    "import matplotlib.pyplot as plt\n",
    "import dcor"
   ]
  },
  {
   "cell_type": "code",
   "execution_count": 162,
   "outputs": [],
   "source": [
    "data = pd.read_csv(\"../data/data.csv\")\n",
    "data.rename(columns = {0:'Date'}, inplace = False)\n",
    "cols = data.columns.tolist()\n",
    "cols = cols[-1:]+cols[1:-1]\n",
    "data  = data[cols]\n",
    "data[\"Date\"] = pd.to_datetime(data[\"Date\"])\n",
    "data = data.set_index(\"Date\")\n",
    "data.index = data.index - pd.Timedelta(days = 1)\n",
    "\n",
    "meta = pd.read_csv(\"../data/meta.csv\")"
   ],
   "metadata": {
    "collapsed": false,
    "ExecuteTime": {
     "end_time": "2023-07-11T09:23:59.921113772Z",
     "start_time": "2023-07-11T09:23:59.782902478Z"
    }
   }
  },
  {
   "cell_type": "markdown",
   "source": [],
   "metadata": {
    "collapsed": false
   }
  },
  {
   "cell_type": "markdown",
   "source": [],
   "metadata": {
    "collapsed": false
   }
  },
  {
   "cell_type": "code",
   "execution_count": 4,
   "outputs": [
    {
     "data": {
      "text/plain": "             1515  1516   1518   1521   1719   1722   1723   2040  2046  \\\nDate                                                                      \n1950-12-31 -114.0  -8.0  -88.0  130.0  238.5  204.5  194.5  305.0   408   \n1951-01-01 -122.0 -22.0 -102.0  110.0  200.5  182.5  160.5  260.0   376   \n1951-01-02 -129.0 -32.0 -119.0   80.0  164.5  164.5  114.5  220.0   334   \n1951-01-03 -134.0 -36.0 -124.0   60.0  132.5  128.5   88.5  182.0   286   \n1951-01-04 -153.0 -52.0 -135.0   50.0  110.5  108.5   80.5  147.0   239   \n...           ...   ...    ...    ...    ...    ...    ...    ...   ...   \n2020-12-26  -27.0  75.0  -69.0  309.0  478.0  138.0  204.0  451.0   -78   \n2020-12-27  -94.0  21.0  -50.0  333.0  488.0  206.0  252.0  464.0    20   \n2020-12-28 -137.0 -20.0  -92.0  311.0  481.0  201.0  250.0  461.0   120   \n2020-12-29 -140.0 -31.0 -118.0  303.0  481.0  182.0  239.0  457.0   132   \n2020-12-30  -99.0  -9.0 -117.0  300.0  478.0  205.0  248.0  466.0   136   \n\n             2048  ...  1527   1729   1726   2541   1530   1734   2741  2545  \\\nDate               ...                                                         \n1950-12-31  376.0  ...   -14  125.5  125.0  120.0   50.0   73.0  217.0  18.0   \n1951-01-01  330.0  ...   -16  117.5  125.0   86.0   28.0   81.0  146.0  20.0   \n1951-01-02  291.0  ...   -18  116.5  121.0   50.0   30.0   73.0  108.0  16.0   \n1951-01-03  242.0  ...   -20  108.5  121.0   24.0   25.0   67.0   82.0  16.0   \n1951-01-04  195.0  ...   -22  106.5  119.0    0.0   32.0   63.0   60.0   6.0   \n...           ...  ...   ...    ...    ...    ...    ...    ...    ...   ...   \n2020-12-26 -153.0  ...   148   46.0   54.0   48.0  155.0   52.0   74.0 -18.0   \n2020-12-27 -101.0  ...   162   45.0   52.0  128.0  154.0   42.0   82.0 -17.0   \n2020-12-28   -2.0  ...   154   46.0   63.0  116.0  145.0   40.0   83.0 -22.0   \n2020-12-29   35.0  ...   127   75.0  157.0   95.0  142.0   53.0   85.0 -24.0   \n2020-12-30   44.0  ...   104  166.0  213.0  119.0  142.0  124.0   80.0 -21.0   \n\n            210888  210900  \nDate                        \n1950-12-31   438.0   414.0  \n1951-01-01   417.0   400.0  \n1951-01-02   390.0   388.0  \n1951-01-03   360.0   370.0  \n1951-01-04   322.0   349.0  \n...            ...     ...  \n2020-12-26   272.0   325.0  \n2020-12-27   272.0   325.0  \n2020-12-28   272.0   325.0  \n2020-12-29   272.0   325.0  \n2020-12-30   272.0   325.0  \n\n[25568 rows x 35 columns]",
      "text/html": "<div>\n<style scoped>\n    .dataframe tbody tr th:only-of-type {\n        vertical-align: middle;\n    }\n\n    .dataframe tbody tr th {\n        vertical-align: top;\n    }\n\n    .dataframe thead th {\n        text-align: right;\n    }\n</style>\n<table border=\"1\" class=\"dataframe\">\n  <thead>\n    <tr style=\"text-align: right;\">\n      <th></th>\n      <th>1515</th>\n      <th>1516</th>\n      <th>1518</th>\n      <th>1521</th>\n      <th>1719</th>\n      <th>1722</th>\n      <th>1723</th>\n      <th>2040</th>\n      <th>2046</th>\n      <th>2048</th>\n      <th>...</th>\n      <th>1527</th>\n      <th>1729</th>\n      <th>1726</th>\n      <th>2541</th>\n      <th>1530</th>\n      <th>1734</th>\n      <th>2741</th>\n      <th>2545</th>\n      <th>210888</th>\n      <th>210900</th>\n    </tr>\n    <tr>\n      <th>Date</th>\n      <th></th>\n      <th></th>\n      <th></th>\n      <th></th>\n      <th></th>\n      <th></th>\n      <th></th>\n      <th></th>\n      <th></th>\n      <th></th>\n      <th></th>\n      <th></th>\n      <th></th>\n      <th></th>\n      <th></th>\n      <th></th>\n      <th></th>\n      <th></th>\n      <th></th>\n      <th></th>\n      <th></th>\n    </tr>\n  </thead>\n  <tbody>\n    <tr>\n      <th>1950-12-31</th>\n      <td>-114.0</td>\n      <td>-8.0</td>\n      <td>-88.0</td>\n      <td>130.0</td>\n      <td>238.5</td>\n      <td>204.5</td>\n      <td>194.5</td>\n      <td>305.0</td>\n      <td>408</td>\n      <td>376.0</td>\n      <td>...</td>\n      <td>-14</td>\n      <td>125.5</td>\n      <td>125.0</td>\n      <td>120.0</td>\n      <td>50.0</td>\n      <td>73.0</td>\n      <td>217.0</td>\n      <td>18.0</td>\n      <td>438.0</td>\n      <td>414.0</td>\n    </tr>\n    <tr>\n      <th>1951-01-01</th>\n      <td>-122.0</td>\n      <td>-22.0</td>\n      <td>-102.0</td>\n      <td>110.0</td>\n      <td>200.5</td>\n      <td>182.5</td>\n      <td>160.5</td>\n      <td>260.0</td>\n      <td>376</td>\n      <td>330.0</td>\n      <td>...</td>\n      <td>-16</td>\n      <td>117.5</td>\n      <td>125.0</td>\n      <td>86.0</td>\n      <td>28.0</td>\n      <td>81.0</td>\n      <td>146.0</td>\n      <td>20.0</td>\n      <td>417.0</td>\n      <td>400.0</td>\n    </tr>\n    <tr>\n      <th>1951-01-02</th>\n      <td>-129.0</td>\n      <td>-32.0</td>\n      <td>-119.0</td>\n      <td>80.0</td>\n      <td>164.5</td>\n      <td>164.5</td>\n      <td>114.5</td>\n      <td>220.0</td>\n      <td>334</td>\n      <td>291.0</td>\n      <td>...</td>\n      <td>-18</td>\n      <td>116.5</td>\n      <td>121.0</td>\n      <td>50.0</td>\n      <td>30.0</td>\n      <td>73.0</td>\n      <td>108.0</td>\n      <td>16.0</td>\n      <td>390.0</td>\n      <td>388.0</td>\n    </tr>\n    <tr>\n      <th>1951-01-03</th>\n      <td>-134.0</td>\n      <td>-36.0</td>\n      <td>-124.0</td>\n      <td>60.0</td>\n      <td>132.5</td>\n      <td>128.5</td>\n      <td>88.5</td>\n      <td>182.0</td>\n      <td>286</td>\n      <td>242.0</td>\n      <td>...</td>\n      <td>-20</td>\n      <td>108.5</td>\n      <td>121.0</td>\n      <td>24.0</td>\n      <td>25.0</td>\n      <td>67.0</td>\n      <td>82.0</td>\n      <td>16.0</td>\n      <td>360.0</td>\n      <td>370.0</td>\n    </tr>\n    <tr>\n      <th>1951-01-04</th>\n      <td>-153.0</td>\n      <td>-52.0</td>\n      <td>-135.0</td>\n      <td>50.0</td>\n      <td>110.5</td>\n      <td>108.5</td>\n      <td>80.5</td>\n      <td>147.0</td>\n      <td>239</td>\n      <td>195.0</td>\n      <td>...</td>\n      <td>-22</td>\n      <td>106.5</td>\n      <td>119.0</td>\n      <td>0.0</td>\n      <td>32.0</td>\n      <td>63.0</td>\n      <td>60.0</td>\n      <td>6.0</td>\n      <td>322.0</td>\n      <td>349.0</td>\n    </tr>\n    <tr>\n      <th>...</th>\n      <td>...</td>\n      <td>...</td>\n      <td>...</td>\n      <td>...</td>\n      <td>...</td>\n      <td>...</td>\n      <td>...</td>\n      <td>...</td>\n      <td>...</td>\n      <td>...</td>\n      <td>...</td>\n      <td>...</td>\n      <td>...</td>\n      <td>...</td>\n      <td>...</td>\n      <td>...</td>\n      <td>...</td>\n      <td>...</td>\n      <td>...</td>\n      <td>...</td>\n      <td>...</td>\n    </tr>\n    <tr>\n      <th>2020-12-26</th>\n      <td>-27.0</td>\n      <td>75.0</td>\n      <td>-69.0</td>\n      <td>309.0</td>\n      <td>478.0</td>\n      <td>138.0</td>\n      <td>204.0</td>\n      <td>451.0</td>\n      <td>-78</td>\n      <td>-153.0</td>\n      <td>...</td>\n      <td>148</td>\n      <td>46.0</td>\n      <td>54.0</td>\n      <td>48.0</td>\n      <td>155.0</td>\n      <td>52.0</td>\n      <td>74.0</td>\n      <td>-18.0</td>\n      <td>272.0</td>\n      <td>325.0</td>\n    </tr>\n    <tr>\n      <th>2020-12-27</th>\n      <td>-94.0</td>\n      <td>21.0</td>\n      <td>-50.0</td>\n      <td>333.0</td>\n      <td>488.0</td>\n      <td>206.0</td>\n      <td>252.0</td>\n      <td>464.0</td>\n      <td>20</td>\n      <td>-101.0</td>\n      <td>...</td>\n      <td>162</td>\n      <td>45.0</td>\n      <td>52.0</td>\n      <td>128.0</td>\n      <td>154.0</td>\n      <td>42.0</td>\n      <td>82.0</td>\n      <td>-17.0</td>\n      <td>272.0</td>\n      <td>325.0</td>\n    </tr>\n    <tr>\n      <th>2020-12-28</th>\n      <td>-137.0</td>\n      <td>-20.0</td>\n      <td>-92.0</td>\n      <td>311.0</td>\n      <td>481.0</td>\n      <td>201.0</td>\n      <td>250.0</td>\n      <td>461.0</td>\n      <td>120</td>\n      <td>-2.0</td>\n      <td>...</td>\n      <td>154</td>\n      <td>46.0</td>\n      <td>63.0</td>\n      <td>116.0</td>\n      <td>145.0</td>\n      <td>40.0</td>\n      <td>83.0</td>\n      <td>-22.0</td>\n      <td>272.0</td>\n      <td>325.0</td>\n    </tr>\n    <tr>\n      <th>2020-12-29</th>\n      <td>-140.0</td>\n      <td>-31.0</td>\n      <td>-118.0</td>\n      <td>303.0</td>\n      <td>481.0</td>\n      <td>182.0</td>\n      <td>239.0</td>\n      <td>457.0</td>\n      <td>132</td>\n      <td>35.0</td>\n      <td>...</td>\n      <td>127</td>\n      <td>75.0</td>\n      <td>157.0</td>\n      <td>95.0</td>\n      <td>142.0</td>\n      <td>53.0</td>\n      <td>85.0</td>\n      <td>-24.0</td>\n      <td>272.0</td>\n      <td>325.0</td>\n    </tr>\n    <tr>\n      <th>2020-12-30</th>\n      <td>-99.0</td>\n      <td>-9.0</td>\n      <td>-117.0</td>\n      <td>300.0</td>\n      <td>478.0</td>\n      <td>205.0</td>\n      <td>248.0</td>\n      <td>466.0</td>\n      <td>136</td>\n      <td>44.0</td>\n      <td>...</td>\n      <td>104</td>\n      <td>166.0</td>\n      <td>213.0</td>\n      <td>119.0</td>\n      <td>142.0</td>\n      <td>124.0</td>\n      <td>80.0</td>\n      <td>-21.0</td>\n      <td>272.0</td>\n      <td>325.0</td>\n    </tr>\n  </tbody>\n</table>\n<p>25568 rows × 35 columns</p>\n</div>"
     },
     "execution_count": 4,
     "metadata": {},
     "output_type": "execute_result"
    }
   ],
   "source": [
    "number_of_nans = data.isna().sum()\n",
    "usable = number_of_nans[number_of_nans < 1000].index\n",
    "data_nans_removed = data[usable].interpolate()\n",
    "data_nans_removed"
   ],
   "metadata": {
    "collapsed": false,
    "ExecuteTime": {
     "end_time": "2023-07-11T08:03:50.973809915Z",
     "start_time": "2023-07-11T08:03:50.922978711Z"
    }
   }
  },
  {
   "cell_type": "code",
   "execution_count": 82,
   "outputs": [],
   "source": [
    "def pearson(dx, dy):\n",
    "    return scipy.stats.pearsonr(dx,dy)\n",
    "\n",
    "def spearman(dx,dy):\n",
    "    return scipy.stats.spearmanr(dx,dy)\n",
    "\n",
    "def distance_correlation(dx,dy):\n",
    "    return dcor.distance_correlation(dx, dy),0\n",
    "\n",
    "def timewarping(dx,dy):\n",
    "    distance, cost_matrix, acc_cost, path = dtw(np.array(dx).reshape(-1,1),np.array(dy).reshape(-1,1), dist = scipy.spatial.distance.euclidean)\n",
    "    return distance\n",
    "\n",
    "def corr(df,starting_point,interval,method,l,pv,p1):\n",
    "    period2 = df[(df.index >= starting_point - interval) & (df.index <= starting_point + interval)]\n",
    "\n",
    "    for col in df.columns.tolist():\n",
    "        cor, p_value = method(p1['2275'],period2[col])\n",
    "        l.append(cor)\n",
    "        pv.append(p_value)\n",
    "\n",
    "\n",
    "\n",
    "def calculate_correlations(df,starting_point,interval,method):\n",
    "\n",
    "    day = pd.Timedelta(1,'d')\n",
    "    sp = starting_point\n",
    "    l = []\n",
    "    pv = []\n",
    "\n",
    "    period1 = df[(df.index >= starting_point - interval) & (df.index <= starting_point + interval)]\n",
    "    for i in np.linspace(0,5,5):\n",
    "        starting_point = starting_point + day\n",
    "        corr(df,starting_point,interval,method,l,pv,period1)\n",
    "    starting_point =  sp + day\n",
    "    for i in np.linspace(0,50,50):\n",
    "        starting_point = starting_point - day\n",
    "        corr(df,starting_point,interval,method,l,pv,period1)\n",
    "\n",
    "    cm = np.transpose(np.reshape(np.array(l), (-1, len(df.columns))))\n",
    "    pv = np.transpose(np.reshape(np.array(pv), (-1, len(df.columns))))\n",
    "\n",
    "    return cm, pv\n",
    "\n",
    "\n",
    "correlation_matrix, p_values = calculate_correlations(data_nans_removed,pd.Timestamp('2006-01-01'),pd.Timedelta(52,'w'),pearson)"
   ],
   "metadata": {
    "collapsed": false,
    "ExecuteTime": {
     "end_time": "2023-07-11T08:55:46.300811010Z",
     "start_time": "2023-07-11T08:55:45.414250914Z"
    }
   }
  },
  {
   "cell_type": "code",
   "execution_count": 83,
   "outputs": [
    {
     "name": "stdout",
     "output_type": "stream",
     "text": [
      "\n",
      "Granger Causality\n",
      "number of lags (no zero) 8\n",
      "ssr based F test:         F=803.6106, p=0.0000  , df_denom=25543, df_num=8\n",
      "ssr based chi2 test:   chi2=6433.1633, p=0.0000  , df=8\n",
      "likelihood ratio test: chi2=5738.0565, p=0.0000  , df=8\n",
      "parameter F test:         F=803.6106, p=0.0000  , df_denom=25543, df_num=8\n"
     ]
    },
    {
     "data": {
      "text/plain": "{8: ({'ssr_ftest': (803.6105689040489, 0.0, 25543.0, 8),\n   'ssr_chi2test': (6433.1632591903835, 0.0, 8),\n   'lrtest': (5738.0564751477505, 0.0, 8),\n   'params_ftest': (803.6105689040236, 0.0, 25543.0, 8.0)},\n  [<statsmodels.regression.linear_model.RegressionResultsWrapper at 0x7eff61624b90>,\n   <statsmodels.regression.linear_model.RegressionResultsWrapper at 0x7eff610a2ad0>,\n   array([[0., 0., 0., 0., 0., 0., 0., 0., 1., 0., 0., 0., 0., 0., 0., 0.,\n           0.],\n          [0., 0., 0., 0., 0., 0., 0., 0., 0., 1., 0., 0., 0., 0., 0., 0.,\n           0.],\n          [0., 0., 0., 0., 0., 0., 0., 0., 0., 0., 1., 0., 0., 0., 0., 0.,\n           0.],\n          [0., 0., 0., 0., 0., 0., 0., 0., 0., 0., 0., 1., 0., 0., 0., 0.,\n           0.],\n          [0., 0., 0., 0., 0., 0., 0., 0., 0., 0., 0., 0., 1., 0., 0., 0.,\n           0.],\n          [0., 0., 0., 0., 0., 0., 0., 0., 0., 0., 0., 0., 0., 1., 0., 0.,\n           0.],\n          [0., 0., 0., 0., 0., 0., 0., 0., 0., 0., 0., 0., 0., 0., 1., 0.,\n           0.],\n          [0., 0., 0., 0., 0., 0., 0., 0., 0., 0., 0., 0., 0., 0., 0., 1.,\n           0.]])])}"
     },
     "execution_count": 83,
     "metadata": {},
     "output_type": "execute_result"
    }
   ],
   "source": [
    "from statsmodels.tsa.stattools import grangercausalitytests\n",
    "\n",
    "grangercausalitytests(data_nans_removed[['2275','1515']], maxlag =[8])"
   ],
   "metadata": {
    "collapsed": false,
    "ExecuteTime": {
     "end_time": "2023-07-11T08:55:46.993686602Z",
     "start_time": "2023-07-11T08:55:46.898753566Z"
    }
   }
  },
  {
   "cell_type": "code",
   "execution_count": 84,
   "outputs": [
    {
     "data": {
      "text/plain": "array([[7.22942098e-122, 1.11287269e-110, 5.28499548e-101, ...,\n        9.46911410e-019, 2.77717065e-017, 5.40063372e-016],\n       [6.85684906e-131, 5.55888889e-118, 1.37661083e-106, ...,\n        1.12110850e-023, 4.15467687e-022, 1.02163528e-020],\n       [1.60944805e-156, 1.97722563e-140, 1.98276840e-126, ...,\n        2.20764986e-024, 6.32398108e-023, 1.20995667e-021],\n       ...,\n       [4.21049849e-101, 7.61203853e-093, 3.49889910e-085, ...,\n        4.27317530e-043, 3.43333195e-042, 3.08184034e-041],\n       [0.00000000e+000, 0.00000000e+000, 0.00000000e+000, ...,\n        2.10792864e-022, 3.66650859e-021, 6.20312895e-020],\n       [0.00000000e+000, 0.00000000e+000, 0.00000000e+000, ...,\n        9.64302301e-019, 2.21936364e-017, 4.41487216e-016]])"
     },
     "execution_count": 84,
     "metadata": {},
     "output_type": "execute_result"
    }
   ],
   "source": [
    "p_values"
   ],
   "metadata": {
    "collapsed": false,
    "ExecuteTime": {
     "end_time": "2023-07-11T08:55:49.176405517Z",
     "start_time": "2023-07-11T08:55:49.173094313Z"
    }
   }
  },
  {
   "cell_type": "code",
   "execution_count": 85,
   "outputs": [
    {
     "data": {
      "text/plain": "[<matplotlib.lines.Line2D at 0x7eff6106c1d0>]"
     },
     "execution_count": 85,
     "metadata": {},
     "output_type": "execute_result"
    },
    {
     "data": {
      "text/plain": "<Figure size 640x480 with 1 Axes>",
      "image/png": "[encoded data removed]"
     },
     "metadata": {},
     "output_type": "display_data"
    }
   ],
   "source": [
    "plt.plot(np.linspace(-5,50,54),np.transpose(correlation_matrix[1,1:100]))"
   ],
   "metadata": {
    "collapsed": false,
    "ExecuteTime": {
     "end_time": "2023-07-11T08:55:50.083150624Z",
     "start_time": "2023-07-11T08:55:49.963612111Z"
    }
   }
  },
  {
   "cell_type": "code",
   "execution_count": 129,
   "outputs": [
    {
     "data": {
      "text/plain": "1515      6\n1516      5\n1518      4\n1521      5\n1719      9\n1722      3\n1723      3\n2040      2\n2046      1\n2048      0\n2271      0\n2272      0\n2274      0\n2275      0\n2278      2\n2543      2\n2753      5\n2756      4\n1514      5\n1523      6\n2736      8\n1721      3\n1724      4\n1725      4\n1520      4\n1527      5\n1729      4\n1726      6\n2541      3\n1530      7\n1734      5\n2741      4\n2545      5\n210888    0\n210900    0\ndtype: int64"
     },
     "execution_count": 129,
     "metadata": {},
     "output_type": "execute_result"
    }
   ],
   "source": [
    "cr = pd.DataFrame(data = np.transpose(correlation_matrix), columns=data_nans_removed.columns)\n",
    "cr.idxmax() - 5"
   ],
   "metadata": {
    "collapsed": false,
    "ExecuteTime": {
     "end_time": "2023-07-11T09:10:07.103747996Z",
     "start_time": "2023-07-11T09:10:07.100913860Z"
    }
   }
  },
  {
   "cell_type": "code",
   "execution_count": 213,
   "outputs": [],
   "source": [
    "max_corr = pd.Series((cr.idxmax() - 5),name=\"maximum_correlation\")\n",
    "max_corr.index = max_corr.index.astype(int)"
   ],
   "metadata": {
    "collapsed": false,
    "ExecuteTime": {
     "end_time": "2023-07-11T09:32:56.001717917Z",
     "start_time": "2023-07-11T09:32:55.998698447Z"
    }
   }
  },
  {
   "cell_type": "code",
   "execution_count": 217,
   "outputs": [],
   "source": [
    "meta = pd.read_csv(\"../data/meta.csv\")\n",
    "meta = meta.set_index(\"reg_number\")\n",
    "\n",
    "meta_nans_removed = meta.loc[list(map(int,cr.columns.tolist()))]\n",
    "meta_nans_removed = pd.concat([meta_nans_removed, max_corr], axis=1)\n"
   ],
   "metadata": {
    "collapsed": false,
    "ExecuteTime": {
     "end_time": "2023-07-11T09:34:24.425537204Z",
     "start_time": "2023-07-11T09:34:24.416464809Z"
    }
   }
  },
  {
   "cell_type": "code",
   "execution_count": 223,
   "outputs": [
    {
     "ename": "ValueError",
     "evalue": "'c' argument must be a color, a sequence of colors, or a sequence of numbers, not a",
     "output_type": "error",
     "traceback": [
      "\u001B[0;31m---------------------------------------------------------------------------\u001B[0m",
      "\u001B[0;31mValueError\u001B[0m                                Traceback (most recent call last)",
      "File \u001B[0;32m~/Schreibtisch/ecmi-hydrological-forecasting/venv/lib/python3.11/site-packages/matplotlib/axes/_axes.py:4381\u001B[0m, in \u001B[0;36mAxes._parse_scatter_color_args\u001B[0;34m(c, edgecolors, kwargs, xsize, get_next_color_func)\u001B[0m\n\u001B[1;32m   4380\u001B[0m \u001B[38;5;28;01mtry\u001B[39;00m:  \u001B[38;5;66;03m# Is 'c' acceptable as PathCollection facecolors?\u001B[39;00m\n\u001B[0;32m-> 4381\u001B[0m     colors \u001B[38;5;241m=\u001B[39m \u001B[43mmcolors\u001B[49m\u001B[38;5;241;43m.\u001B[39;49m\u001B[43mto_rgba_array\u001B[49m\u001B[43m(\u001B[49m\u001B[43mc\u001B[49m\u001B[43m)\u001B[49m\n\u001B[1;32m   4382\u001B[0m \u001B[38;5;28;01mexcept\u001B[39;00m (\u001B[38;5;167;01mTypeError\u001B[39;00m, \u001B[38;5;167;01mValueError\u001B[39;00m) \u001B[38;5;28;01mas\u001B[39;00m err:\n",
      "File \u001B[0;32m~/Schreibtisch/ecmi-hydrological-forecasting/venv/lib/python3.11/site-packages/matplotlib/colors.py:471\u001B[0m, in \u001B[0;36mto_rgba_array\u001B[0;34m(c, alpha)\u001B[0m\n\u001B[1;32m    470\u001B[0m \u001B[38;5;28;01mif\u001B[39;00m \u001B[38;5;28misinstance\u001B[39m(c, \u001B[38;5;28mstr\u001B[39m):\n\u001B[0;32m--> 471\u001B[0m     \u001B[38;5;28;01mraise\u001B[39;00m \u001B[38;5;167;01mValueError\u001B[39;00m(\u001B[38;5;124mf\u001B[39m\u001B[38;5;124m\"\u001B[39m\u001B[38;5;132;01m{\u001B[39;00mc\u001B[38;5;132;01m!r}\u001B[39;00m\u001B[38;5;124m is not a valid color value.\u001B[39m\u001B[38;5;124m\"\u001B[39m)\n\u001B[1;32m    473\u001B[0m \u001B[38;5;28;01mif\u001B[39;00m \u001B[38;5;28mlen\u001B[39m(c) \u001B[38;5;241m==\u001B[39m \u001B[38;5;241m0\u001B[39m:\n",
      "\u001B[0;31mValueError\u001B[0m: 'a' is not a valid color value.",
      "\nThe above exception was the direct cause of the following exception:\n",
      "\u001B[0;31mValueError\u001B[0m                                Traceback (most recent call last)",
      "Cell \u001B[0;32mIn[223], line 3\u001B[0m\n\u001B[1;32m      1\u001B[0m \u001B[38;5;28;01mfrom\u001B[39;00m \u001B[38;5;21;01mmlxtend\u001B[39;00m\u001B[38;5;21;01m.\u001B[39;00m\u001B[38;5;21;01mplotting\u001B[39;00m \u001B[38;5;28;01mimport\u001B[39;00m category_scatter\n\u001B[0;32m----> 3\u001B[0m fig \u001B[38;5;241m=\u001B[39m \u001B[43mcategory_scatter\u001B[49m\u001B[43m(\u001B[49m\u001B[43mx\u001B[49m\u001B[38;5;241;43m=\u001B[39;49m\u001B[38;5;124;43m'\u001B[39;49m\u001B[38;5;124;43mEOVx\u001B[39;49m\u001B[38;5;124;43m'\u001B[39;49m\u001B[43m,\u001B[49m\u001B[43m \u001B[49m\u001B[43my\u001B[49m\u001B[38;5;241;43m=\u001B[39;49m\u001B[38;5;124;43m'\u001B[39;49m\u001B[38;5;124;43mEOVy\u001B[39;49m\u001B[38;5;124;43m'\u001B[39;49m\u001B[43m,\u001B[49m\u001B[43m \u001B[49m\u001B[43mlabel_col\u001B[49m\u001B[38;5;241;43m=\u001B[39;49m\u001B[38;5;124;43m'\u001B[39;49m\u001B[38;5;124;43mriver\u001B[39;49m\u001B[38;5;124;43m'\u001B[39;49m\u001B[43m,\u001B[49m\u001B[43m \u001B[49m\u001B[43mcolors\u001B[49m\u001B[38;5;241;43m=\u001B[39;49m\u001B[38;5;124;43m'\u001B[39;49m\u001B[38;5;124;43mmaximum_correlation\u001B[39;49m\u001B[38;5;124;43m'\u001B[39;49m\u001B[43m,\u001B[49m\n\u001B[1;32m      4\u001B[0m \u001B[43m                       \u001B[49m\u001B[43mdata\u001B[49m\u001B[38;5;241;43m=\u001B[39;49m\u001B[43mmeta_nans_removed\u001B[49m\u001B[43m,\u001B[49m\u001B[43m \u001B[49m\u001B[43mlegend_loc\u001B[49m\u001B[38;5;241;43m=\u001B[39;49m\u001B[38;5;124;43m'\u001B[39;49m\u001B[38;5;124;43mupper right\u001B[39;49m\u001B[38;5;124;43m'\u001B[39;49m\u001B[43m)\u001B[49m\n",
      "File \u001B[0;32m~/Schreibtisch/ecmi-hydrological-forecasting/venv/lib/python3.11/site-packages/mlxtend/plotting/scatter.py:89\u001B[0m, in \u001B[0;36mcategory_scatter\u001B[0;34m(x, y, label_col, data, markers, colors, alpha, markersize, legend_loc)\u001B[0m\n\u001B[1;32m     86\u001B[0m         x_dat \u001B[38;5;241m=\u001B[39m data[data[:, label_col] \u001B[38;5;241m==\u001B[39m lab, x]\n\u001B[1;32m     87\u001B[0m         y_dat \u001B[38;5;241m=\u001B[39m data[data[:, label_col] \u001B[38;5;241m==\u001B[39m lab, y]\n\u001B[0;32m---> 89\u001B[0m     \u001B[43mplt\u001B[49m\u001B[38;5;241;43m.\u001B[39;49m\u001B[43mscatter\u001B[49m\u001B[43m(\u001B[49m\n\u001B[1;32m     90\u001B[0m \u001B[43m        \u001B[49m\u001B[43mx_dat\u001B[49m\u001B[43m,\u001B[49m\n\u001B[1;32m     91\u001B[0m \u001B[43m        \u001B[49m\u001B[43my_dat\u001B[49m\u001B[43m,\u001B[49m\n\u001B[1;32m     92\u001B[0m \u001B[43m        \u001B[49m\u001B[43mc\u001B[49m\u001B[38;5;241;43m=\u001B[39;49m\u001B[38;5;28;43mnext\u001B[39;49m\u001B[43m(\u001B[49m\u001B[43mcolor_gen\u001B[49m\u001B[43m)\u001B[49m\u001B[43m,\u001B[49m\n\u001B[1;32m     93\u001B[0m \u001B[43m        \u001B[49m\u001B[43mmarker\u001B[49m\u001B[38;5;241;43m=\u001B[39;49m\u001B[38;5;28;43mnext\u001B[39;49m\u001B[43m(\u001B[49m\u001B[43mmarker_gen\u001B[49m\u001B[43m)\u001B[49m\u001B[43m,\u001B[49m\n\u001B[1;32m     94\u001B[0m \u001B[43m        \u001B[49m\u001B[43mlabel\u001B[49m\u001B[38;5;241;43m=\u001B[39;49m\u001B[43mlab\u001B[49m\u001B[43m,\u001B[49m\n\u001B[1;32m     95\u001B[0m \u001B[43m        \u001B[49m\u001B[43malpha\u001B[49m\u001B[38;5;241;43m=\u001B[39;49m\u001B[43malpha\u001B[49m\u001B[43m,\u001B[49m\n\u001B[1;32m     96\u001B[0m \u001B[43m        \u001B[49m\u001B[43ms\u001B[49m\u001B[38;5;241;43m=\u001B[39;49m\u001B[43mmarkersize\u001B[49m\u001B[43m,\u001B[49m\n\u001B[1;32m     97\u001B[0m \u001B[43m    \u001B[49m\u001B[43m)\u001B[49m\n\u001B[1;32m     99\u001B[0m \u001B[38;5;28;01mif\u001B[39;00m legend_loc:\n\u001B[1;32m    100\u001B[0m     plt\u001B[38;5;241m.\u001B[39mlegend(loc\u001B[38;5;241m=\u001B[39mlegend_loc, scatterpoints\u001B[38;5;241m=\u001B[39m\u001B[38;5;241m1\u001B[39m)\n",
      "File \u001B[0;32m~/Schreibtisch/ecmi-hydrological-forecasting/venv/lib/python3.11/site-packages/matplotlib/pyplot.py:2798\u001B[0m, in \u001B[0;36mscatter\u001B[0;34m(x, y, s, c, marker, cmap, norm, vmin, vmax, alpha, linewidths, edgecolors, plotnonfinite, data, **kwargs)\u001B[0m\n\u001B[1;32m   2793\u001B[0m \u001B[38;5;129m@_copy_docstring_and_deprecators\u001B[39m(Axes\u001B[38;5;241m.\u001B[39mscatter)\n\u001B[1;32m   2794\u001B[0m \u001B[38;5;28;01mdef\u001B[39;00m \u001B[38;5;21mscatter\u001B[39m(\n\u001B[1;32m   2795\u001B[0m         x, y, s\u001B[38;5;241m=\u001B[39m\u001B[38;5;28;01mNone\u001B[39;00m, c\u001B[38;5;241m=\u001B[39m\u001B[38;5;28;01mNone\u001B[39;00m, marker\u001B[38;5;241m=\u001B[39m\u001B[38;5;28;01mNone\u001B[39;00m, cmap\u001B[38;5;241m=\u001B[39m\u001B[38;5;28;01mNone\u001B[39;00m, norm\u001B[38;5;241m=\u001B[39m\u001B[38;5;28;01mNone\u001B[39;00m,\n\u001B[1;32m   2796\u001B[0m         vmin\u001B[38;5;241m=\u001B[39m\u001B[38;5;28;01mNone\u001B[39;00m, vmax\u001B[38;5;241m=\u001B[39m\u001B[38;5;28;01mNone\u001B[39;00m, alpha\u001B[38;5;241m=\u001B[39m\u001B[38;5;28;01mNone\u001B[39;00m, linewidths\u001B[38;5;241m=\u001B[39m\u001B[38;5;28;01mNone\u001B[39;00m, \u001B[38;5;241m*\u001B[39m,\n\u001B[1;32m   2797\u001B[0m         edgecolors\u001B[38;5;241m=\u001B[39m\u001B[38;5;28;01mNone\u001B[39;00m, plotnonfinite\u001B[38;5;241m=\u001B[39m\u001B[38;5;28;01mFalse\u001B[39;00m, data\u001B[38;5;241m=\u001B[39m\u001B[38;5;28;01mNone\u001B[39;00m, \u001B[38;5;241m*\u001B[39m\u001B[38;5;241m*\u001B[39mkwargs):\n\u001B[0;32m-> 2798\u001B[0m     __ret \u001B[38;5;241m=\u001B[39m \u001B[43mgca\u001B[49m\u001B[43m(\u001B[49m\u001B[43m)\u001B[49m\u001B[38;5;241;43m.\u001B[39;49m\u001B[43mscatter\u001B[49m\u001B[43m(\u001B[49m\n\u001B[1;32m   2799\u001B[0m \u001B[43m        \u001B[49m\u001B[43mx\u001B[49m\u001B[43m,\u001B[49m\u001B[43m \u001B[49m\u001B[43my\u001B[49m\u001B[43m,\u001B[49m\u001B[43m \u001B[49m\u001B[43ms\u001B[49m\u001B[38;5;241;43m=\u001B[39;49m\u001B[43ms\u001B[49m\u001B[43m,\u001B[49m\u001B[43m \u001B[49m\u001B[43mc\u001B[49m\u001B[38;5;241;43m=\u001B[39;49m\u001B[43mc\u001B[49m\u001B[43m,\u001B[49m\u001B[43m \u001B[49m\u001B[43mmarker\u001B[49m\u001B[38;5;241;43m=\u001B[39;49m\u001B[43mmarker\u001B[49m\u001B[43m,\u001B[49m\u001B[43m \u001B[49m\u001B[43mcmap\u001B[49m\u001B[38;5;241;43m=\u001B[39;49m\u001B[43mcmap\u001B[49m\u001B[43m,\u001B[49m\u001B[43m \u001B[49m\u001B[43mnorm\u001B[49m\u001B[38;5;241;43m=\u001B[39;49m\u001B[43mnorm\u001B[49m\u001B[43m,\u001B[49m\n\u001B[1;32m   2800\u001B[0m \u001B[43m        \u001B[49m\u001B[43mvmin\u001B[49m\u001B[38;5;241;43m=\u001B[39;49m\u001B[43mvmin\u001B[49m\u001B[43m,\u001B[49m\u001B[43m \u001B[49m\u001B[43mvmax\u001B[49m\u001B[38;5;241;43m=\u001B[39;49m\u001B[43mvmax\u001B[49m\u001B[43m,\u001B[49m\u001B[43m \u001B[49m\u001B[43malpha\u001B[49m\u001B[38;5;241;43m=\u001B[39;49m\u001B[43malpha\u001B[49m\u001B[43m,\u001B[49m\u001B[43m \u001B[49m\u001B[43mlinewidths\u001B[49m\u001B[38;5;241;43m=\u001B[39;49m\u001B[43mlinewidths\u001B[49m\u001B[43m,\u001B[49m\n\u001B[1;32m   2801\u001B[0m \u001B[43m        \u001B[49m\u001B[43medgecolors\u001B[49m\u001B[38;5;241;43m=\u001B[39;49m\u001B[43medgecolors\u001B[49m\u001B[43m,\u001B[49m\u001B[43m \u001B[49m\u001B[43mplotnonfinite\u001B[49m\u001B[38;5;241;43m=\u001B[39;49m\u001B[43mplotnonfinite\u001B[49m\u001B[43m,\u001B[49m\n\u001B[1;32m   2802\u001B[0m \u001B[43m        \u001B[49m\u001B[38;5;241;43m*\u001B[39;49m\u001B[38;5;241;43m*\u001B[39;49m\u001B[43m(\u001B[49m\u001B[43m{\u001B[49m\u001B[38;5;124;43m\"\u001B[39;49m\u001B[38;5;124;43mdata\u001B[39;49m\u001B[38;5;124;43m\"\u001B[39;49m\u001B[43m:\u001B[49m\u001B[43m \u001B[49m\u001B[43mdata\u001B[49m\u001B[43m}\u001B[49m\u001B[43m \u001B[49m\u001B[38;5;28;43;01mif\u001B[39;49;00m\u001B[43m \u001B[49m\u001B[43mdata\u001B[49m\u001B[43m \u001B[49m\u001B[38;5;129;43;01mis\u001B[39;49;00m\u001B[43m \u001B[49m\u001B[38;5;129;43;01mnot\u001B[39;49;00m\u001B[43m \u001B[49m\u001B[38;5;28;43;01mNone\u001B[39;49;00m\u001B[43m \u001B[49m\u001B[38;5;28;43;01melse\u001B[39;49;00m\u001B[43m \u001B[49m\u001B[43m{\u001B[49m\u001B[43m}\u001B[49m\u001B[43m)\u001B[49m\u001B[43m,\u001B[49m\u001B[43m \u001B[49m\u001B[38;5;241;43m*\u001B[39;49m\u001B[38;5;241;43m*\u001B[39;49m\u001B[43mkwargs\u001B[49m\u001B[43m)\u001B[49m\n\u001B[1;32m   2803\u001B[0m     sci(__ret)\n\u001B[1;32m   2804\u001B[0m     \u001B[38;5;28;01mreturn\u001B[39;00m __ret\n",
      "File \u001B[0;32m~/Schreibtisch/ecmi-hydrological-forecasting/venv/lib/python3.11/site-packages/matplotlib/__init__.py:1433\u001B[0m, in \u001B[0;36m_preprocess_data.<locals>.inner\u001B[0;34m(ax, data, *args, **kwargs)\u001B[0m\n\u001B[1;32m   1430\u001B[0m \u001B[38;5;129m@functools\u001B[39m\u001B[38;5;241m.\u001B[39mwraps(func)\n\u001B[1;32m   1431\u001B[0m \u001B[38;5;28;01mdef\u001B[39;00m \u001B[38;5;21minner\u001B[39m(ax, \u001B[38;5;241m*\u001B[39margs, data\u001B[38;5;241m=\u001B[39m\u001B[38;5;28;01mNone\u001B[39;00m, \u001B[38;5;241m*\u001B[39m\u001B[38;5;241m*\u001B[39mkwargs):\n\u001B[1;32m   1432\u001B[0m     \u001B[38;5;28;01mif\u001B[39;00m data \u001B[38;5;129;01mis\u001B[39;00m \u001B[38;5;28;01mNone\u001B[39;00m:\n\u001B[0;32m-> 1433\u001B[0m         \u001B[38;5;28;01mreturn\u001B[39;00m \u001B[43mfunc\u001B[49m\u001B[43m(\u001B[49m\u001B[43max\u001B[49m\u001B[43m,\u001B[49m\u001B[43m \u001B[49m\u001B[38;5;241;43m*\u001B[39;49m\u001B[38;5;28;43mmap\u001B[39;49m\u001B[43m(\u001B[49m\u001B[43msanitize_sequence\u001B[49m\u001B[43m,\u001B[49m\u001B[43m \u001B[49m\u001B[43margs\u001B[49m\u001B[43m)\u001B[49m\u001B[43m,\u001B[49m\u001B[43m \u001B[49m\u001B[38;5;241;43m*\u001B[39;49m\u001B[38;5;241;43m*\u001B[39;49m\u001B[43mkwargs\u001B[49m\u001B[43m)\u001B[49m\n\u001B[1;32m   1435\u001B[0m     bound \u001B[38;5;241m=\u001B[39m new_sig\u001B[38;5;241m.\u001B[39mbind(ax, \u001B[38;5;241m*\u001B[39margs, \u001B[38;5;241m*\u001B[39m\u001B[38;5;241m*\u001B[39mkwargs)\n\u001B[1;32m   1436\u001B[0m     auto_label \u001B[38;5;241m=\u001B[39m (bound\u001B[38;5;241m.\u001B[39marguments\u001B[38;5;241m.\u001B[39mget(label_namer)\n\u001B[1;32m   1437\u001B[0m                   \u001B[38;5;129;01mor\u001B[39;00m bound\u001B[38;5;241m.\u001B[39mkwargs\u001B[38;5;241m.\u001B[39mget(label_namer))\n",
      "File \u001B[0;32m~/Schreibtisch/ecmi-hydrological-forecasting/venv/lib/python3.11/site-packages/matplotlib/axes/_axes.py:4544\u001B[0m, in \u001B[0;36mAxes.scatter\u001B[0;34m(self, x, y, s, c, marker, cmap, norm, vmin, vmax, alpha, linewidths, edgecolors, plotnonfinite, **kwargs)\u001B[0m\n\u001B[1;32m   4541\u001B[0m \u001B[38;5;28;01mif\u001B[39;00m edgecolors \u001B[38;5;129;01mis\u001B[39;00m \u001B[38;5;28;01mNone\u001B[39;00m:\n\u001B[1;32m   4542\u001B[0m     orig_edgecolor \u001B[38;5;241m=\u001B[39m kwargs\u001B[38;5;241m.\u001B[39mget(\u001B[38;5;124m'\u001B[39m\u001B[38;5;124medgecolor\u001B[39m\u001B[38;5;124m'\u001B[39m, \u001B[38;5;28;01mNone\u001B[39;00m)\n\u001B[1;32m   4543\u001B[0m c, colors, edgecolors \u001B[38;5;241m=\u001B[39m \\\n\u001B[0;32m-> 4544\u001B[0m     \u001B[38;5;28;43mself\u001B[39;49m\u001B[38;5;241;43m.\u001B[39;49m\u001B[43m_parse_scatter_color_args\u001B[49m\u001B[43m(\u001B[49m\n\u001B[1;32m   4545\u001B[0m \u001B[43m        \u001B[49m\u001B[43mc\u001B[49m\u001B[43m,\u001B[49m\u001B[43m \u001B[49m\u001B[43medgecolors\u001B[49m\u001B[43m,\u001B[49m\u001B[43m \u001B[49m\u001B[43mkwargs\u001B[49m\u001B[43m,\u001B[49m\u001B[43m \u001B[49m\u001B[43mx\u001B[49m\u001B[38;5;241;43m.\u001B[39;49m\u001B[43msize\u001B[49m\u001B[43m,\u001B[49m\n\u001B[1;32m   4546\u001B[0m \u001B[43m        \u001B[49m\u001B[43mget_next_color_func\u001B[49m\u001B[38;5;241;43m=\u001B[39;49m\u001B[38;5;28;43mself\u001B[39;49m\u001B[38;5;241;43m.\u001B[39;49m\u001B[43m_get_patches_for_fill\u001B[49m\u001B[38;5;241;43m.\u001B[39;49m\u001B[43mget_next_color\u001B[49m\u001B[43m)\u001B[49m\n\u001B[1;32m   4548\u001B[0m \u001B[38;5;28;01mif\u001B[39;00m plotnonfinite \u001B[38;5;129;01mand\u001B[39;00m colors \u001B[38;5;129;01mis\u001B[39;00m \u001B[38;5;28;01mNone\u001B[39;00m:\n\u001B[1;32m   4549\u001B[0m     c \u001B[38;5;241m=\u001B[39m np\u001B[38;5;241m.\u001B[39mma\u001B[38;5;241m.\u001B[39mmasked_invalid(c)\n",
      "File \u001B[0;32m~/Schreibtisch/ecmi-hydrological-forecasting/venv/lib/python3.11/site-packages/matplotlib/axes/_axes.py:4390\u001B[0m, in \u001B[0;36mAxes._parse_scatter_color_args\u001B[0;34m(c, edgecolors, kwargs, xsize, get_next_color_func)\u001B[0m\n\u001B[1;32m   4387\u001B[0m             \u001B[38;5;28;01mraise\u001B[39;00m invalid_shape_exception(c\u001B[38;5;241m.\u001B[39msize, xsize) \u001B[38;5;28;01mfrom\u001B[39;00m \u001B[38;5;21;01merr\u001B[39;00m\n\u001B[1;32m   4388\u001B[0m         \u001B[38;5;66;03m# Both the mapping *and* the RGBA conversion failed: pretty\u001B[39;00m\n\u001B[1;32m   4389\u001B[0m         \u001B[38;5;66;03m# severe failure => one may appreciate a verbose feedback.\u001B[39;00m\n\u001B[0;32m-> 4390\u001B[0m         \u001B[38;5;28;01mraise\u001B[39;00m \u001B[38;5;167;01mValueError\u001B[39;00m(\n\u001B[1;32m   4391\u001B[0m             \u001B[38;5;124mf\u001B[39m\u001B[38;5;124m\"\u001B[39m\u001B[38;5;124m'\u001B[39m\u001B[38;5;124mc\u001B[39m\u001B[38;5;124m'\u001B[39m\u001B[38;5;124m argument must be a color, a sequence of colors, \u001B[39m\u001B[38;5;124m\"\u001B[39m\n\u001B[1;32m   4392\u001B[0m             \u001B[38;5;124mf\u001B[39m\u001B[38;5;124m\"\u001B[39m\u001B[38;5;124mor a sequence of numbers, not \u001B[39m\u001B[38;5;132;01m{\u001B[39;00mc\u001B[38;5;132;01m}\u001B[39;00m\u001B[38;5;124m\"\u001B[39m) \u001B[38;5;28;01mfrom\u001B[39;00m \u001B[38;5;21;01merr\u001B[39;00m\n\u001B[1;32m   4393\u001B[0m \u001B[38;5;28;01melse\u001B[39;00m:\n\u001B[1;32m   4394\u001B[0m     \u001B[38;5;28;01mif\u001B[39;00m \u001B[38;5;28mlen\u001B[39m(colors) \u001B[38;5;129;01mnot\u001B[39;00m \u001B[38;5;129;01min\u001B[39;00m (\u001B[38;5;241m0\u001B[39m, \u001B[38;5;241m1\u001B[39m, xsize):\n\u001B[1;32m   4395\u001B[0m         \u001B[38;5;66;03m# NB: remember that a single color is also acceptable.\u001B[39;00m\n\u001B[1;32m   4396\u001B[0m         \u001B[38;5;66;03m# Besides *colors* will be an empty array if c == 'none'.\u001B[39;00m\n",
      "\u001B[0;31mValueError\u001B[0m: 'c' argument must be a color, a sequence of colors, or a sequence of numbers, not a"
     ]
    },
    {
     "data": {
      "text/plain": "<Figure size 640x480 with 1 Axes>",
      "image/png": "[encoded data removed]"
     },
     "metadata": {},
     "output_type": "display_data"
    }
   ],
   "source": [
    "\n",
    "from mlxtend.plotting import category_scatter\n",
    "\n",
    "fig = category_scatter(x='EOVx', y='EOVy', label_col='river', colors='maximum_correlation',\n",
    "                       data=meta_nans_removed, legend_loc='upper right')"
   ],
   "metadata": {
    "collapsed": false,
    "ExecuteTime": {
     "end_time": "2023-07-11T09:36:19.783400642Z",
     "start_time": "2023-07-11T09:36:19.537011670Z"
    }
   }
  },
  {
   "cell_type": "code",
   "execution_count": null,
   "outputs": [],
   "source": [],
   "metadata": {
    "collapsed": false
   }
  }
 ],
 "metadata": {
  "kernelspec": {
   "display_name": "Python 3",
   "language": "python",
   "name": "python3"
  },
  "language_info": {
   "codemirror_mode": {
    "name": "ipython",
    "version": 2
   },
   "file_extension": ".py",
   "mimetype": "text/x-python",
   "name": "python",
   "nbconvert_exporter": "python",
   "pygments_lexer": "ipython2",
   "version": "2.7.6"
  }
 },
 "nbformat": 4,
 "nbformat_minor": 0
}
