{
 "cells": [
  {
   "cell_type": "code",
   "execution_count": 1,
   "metadata": {
    "collapsed": true,
    "ExecuteTime": {
     "end_time": "2023-07-14T11:56:31.829751070Z",
     "start_time": "2023-07-14T11:55:59.647915354Z"
    }
   },
   "outputs": [],
   "source": [
    "import os\n",
    "import sys\n",
    "\n",
    "import json\n",
    "import pickle\n",
    "\n",
    "import scipy\n",
    "import seaborn as sns\n",
    "\n",
    "import numpy as np\n",
    "import pandas as pd\n",
    "from dtw import dtw\n",
    "import torch\n",
    "from torchsummary import summary\n",
    "import matplotlib.pyplot as plt\n",
    "import dcor"
   ]
  },
  {
   "cell_type": "code",
   "execution_count": 2,
   "outputs": [],
   "source": [
    "import matplotlib\n",
    "matplotlib.use('Qt5Agg')"
   ],
   "metadata": {
    "collapsed": false,
    "ExecuteTime": {
     "end_time": "2023-07-14T11:56:32.031382491Z",
     "start_time": "2023-07-14T11:56:31.868400035Z"
    }
   }
  },
  {
   "cell_type": "code",
   "execution_count": 3,
   "outputs": [
    {
     "data": {
      "text/plain": "DatetimeIndex(['1950-12-31', '1951-01-01', '1951-01-02', '1951-01-03',\n               '1951-01-04', '1951-01-05', '1951-01-06', '1951-01-07',\n               '1951-01-08', '1951-01-09',\n               ...\n               '2020-12-21', '2020-12-22', '2020-12-23', '2020-12-24',\n               '2020-12-25', '2020-12-26', '2020-12-27', '2020-12-28',\n               '2020-12-29', '2020-12-30'],\n              dtype='datetime64[ns]', name='Date', length=25568, freq=None)"
     },
     "execution_count": 3,
     "metadata": {},
     "output_type": "execute_result"
    }
   ],
   "source": [
    "data_training = pd.read_csv(\"../data/data_training.csv\")\n",
    "data_validation = pd.read_csv('../data/data_validation.csv')\n",
    "\n",
    "data = pd.concat([data_training, data_validation])\n",
    "data[\"Date\"] = pd.to_datetime(data[\"Date\"])\n",
    "data = data.set_index('Date')\n",
    "meta = pd.read_csv(\"../data/meta.csv\")\n",
    "data.index"
   ],
   "metadata": {
    "collapsed": false,
    "ExecuteTime": {
     "end_time": "2023-07-14T11:56:32.133287247Z",
     "start_time": "2023-07-14T11:56:32.032646611Z"
    }
   }
  },
  {
   "cell_type": "code",
   "execution_count": 4,
   "outputs": [
    {
     "data": {
      "text/plain": "1515       6\n1516       5\n1518       4\n1521       5\n1719       9\n1720      14\n1722       3\n1723       3\n2040       2\n2046       1\n2048       0\n2271       0\n2272       0\n2274       0\n2275       0\n2278       2\n2543       2\n2753       5\n2756       4\n2757       2\n2760       1\n1514       5\n2041      -1\n1523       6\n2042       2\n2736       8\n1721       3\n1724       4\n1725       4\n2744       8\n2748      10\n2759       2\n1520       4\n1527       5\n1729       4\n1726       6\n2541       3\n1530       7\n1732       5\n1734       5\n2049       5\n2741       4\n2742       6\n2751       6\n2545       5\n744624     2\n210888     0\n210900     0\ndtype: int64"
     },
     "execution_count": 4,
     "metadata": {},
     "output_type": "execute_result"
    }
   ],
   "source": [
    "def pearson(dx, dy):\n",
    "    return scipy.stats.pearsonr(dx,dy)\n",
    "\n",
    "def spearman(dx,dy):\n",
    "    return scipy.stats.spearmanr(dx,dy)\n",
    "\n",
    "def distance_correlation(dx,dy):\n",
    "    return dcor.distance_correlation(dx, dy),0\n",
    "\n",
    "def timewarping(dx,dy):\n",
    "    distance, cost_matrix, acc_cost, path = dtw(np.array(dx).reshape(-1,1),np.array(dy).reshape(-1,1), dist = scipy.spatial.distance.euclidean)\n",
    "    return distance\n",
    "\n",
    "\n",
    "\n",
    "def corr(df,starting_point,interval,method,l,pv,p1):\n",
    "    period2 = df[(df.index >= starting_point - interval) & (df.index <= starting_point + interval)]\n",
    "\n",
    "    for col in df.columns.tolist():\n",
    "        cor, p_value = method(p1['2275'],period2[col])\n",
    "        l.append(cor)\n",
    "        pv.append(p_value)\n",
    "\n",
    "\n",
    "\n",
    "def calculate_correlations(df,starting_point,interval,method):\n",
    "\n",
    "    day = pd.Timedelta(1,'d')\n",
    "    sp = starting_point\n",
    "    l = []\n",
    "    pv = []\n",
    "\n",
    "    period1 = df[(df.index >= starting_point - interval) & (df.index <= starting_point + interval)]\n",
    "    for i in np.linspace(0,5,5):\n",
    "        starting_point = starting_point + day\n",
    "        corr(df,starting_point,interval,method,l,pv,period1)\n",
    "    starting_point =  sp + day\n",
    "    for i in np.linspace(0,50,50):\n",
    "        starting_point = starting_point - day\n",
    "        corr(df,starting_point,interval,method,l,pv,period1)\n",
    "\n",
    "    cm = np.transpose(np.reshape(np.array(l), (-1, len(df.columns))))\n",
    "    pv = np.transpose(np.reshape(np.array(pv), (-1, len(df.columns))))\n",
    "\n",
    "    return cm, pv\n",
    "\n",
    "\n",
    "correlation_matrix, p_values = calculate_correlations(data,pd.Timestamp('2006-01-01'),pd.Timedelta(52,'w'),pearson)\n",
    "\n",
    "cr = pd.DataFrame(data = np.transpose(correlation_matrix), columns=data.columns)\n",
    "cr.idxmax() - 5"
   ],
   "metadata": {
    "collapsed": false,
    "ExecuteTime": {
     "end_time": "2023-07-14T11:56:33.366721338Z",
     "start_time": "2023-07-14T11:56:32.137938662Z"
    }
   }
  },
  {
   "cell_type": "code",
   "execution_count": 5,
   "outputs": [],
   "source": [
    "max_corr = pd.Series((cr.idxmax() - 5),name=\"maximum_correlation\")\n",
    "max_corr.index = max_corr.index.astype(int)"
   ],
   "metadata": {
    "collapsed": false,
    "ExecuteTime": {
     "end_time": "2023-07-14T11:56:33.369808148Z",
     "start_time": "2023-07-14T11:56:33.368240277Z"
    }
   }
  },
  {
   "cell_type": "code",
   "execution_count": null,
   "outputs": [],
   "source": [
    "meta = pd.read_csv(\"../data/meta.csv\")\n",
    "meta = meta.set_index(\"reg_number\")\n",
    "\n",
    "meta_nans_removed = meta.loc[list(map(int,cr.columns.tolist()))]\n",
    "meta_nans_removed = pd.concat([meta_nans_removed, max_corr], axis=1)\n",
    "meta.river.unique()\n"
   ],
   "metadata": {
    "collapsed": false,
    "ExecuteTime": {
     "start_time": "2023-07-14T11:57:31.608601092Z"
    }
   }
  },
  {
   "cell_type": "code",
   "execution_count": 8,
   "outputs": [
    {
     "name": "stderr",
     "output_type": "stream",
     "text": [
      "qt.qpa.wayland: Wayland does not support QWindow::requestActivate()\n"
     ]
    },
    {
     "ename": "KeyboardInterrupt",
     "evalue": "",
     "output_type": "error",
     "traceback": [
      "\u001B[0;31m---------------------------------------------------------------------------\u001B[0m",
      "\u001B[0;31mKeyboardInterrupt\u001B[0m                         Traceback (most recent call last)",
      "Cell \u001B[0;32mIn[8], line 31\u001B[0m\n\u001B[1;32m     29\u001B[0m         actors\u001B[38;5;241m.\u001B[39mappend(a)\n\u001B[1;32m     30\u001B[0m plt\u001B[38;5;241m.\u001B[39mlegend(actors,rivers)\n\u001B[0;32m---> 31\u001B[0m \u001B[43mplt\u001B[49m\u001B[38;5;241;43m.\u001B[39;49m\u001B[43mshow\u001B[49m\u001B[43m(\u001B[49m\u001B[43m)\u001B[49m\n",
      "File \u001B[0;32m~/Schreibtisch/ecmi-hydrological-forecasting/venv/lib/python3.11/site-packages/matplotlib/pyplot.py:446\u001B[0m, in \u001B[0;36mshow\u001B[0;34m(*args, **kwargs)\u001B[0m\n\u001B[1;32m    402\u001B[0m \u001B[38;5;250m\u001B[39m\u001B[38;5;124;03m\"\"\"\u001B[39;00m\n\u001B[1;32m    403\u001B[0m \u001B[38;5;124;03mDisplay all open figures.\u001B[39;00m\n\u001B[1;32m    404\u001B[0m \n\u001B[0;32m   (...)\u001B[0m\n\u001B[1;32m    443\u001B[0m \u001B[38;5;124;03mexplicitly there.\u001B[39;00m\n\u001B[1;32m    444\u001B[0m \u001B[38;5;124;03m\"\"\"\u001B[39;00m\n\u001B[1;32m    445\u001B[0m _warn_if_gui_out_of_main_thread()\n\u001B[0;32m--> 446\u001B[0m \u001B[38;5;28;01mreturn\u001B[39;00m \u001B[43m_get_backend_mod\u001B[49m\u001B[43m(\u001B[49m\u001B[43m)\u001B[49m\u001B[38;5;241;43m.\u001B[39;49m\u001B[43mshow\u001B[49m\u001B[43m(\u001B[49m\u001B[38;5;241;43m*\u001B[39;49m\u001B[43margs\u001B[49m\u001B[43m,\u001B[49m\u001B[43m \u001B[49m\u001B[38;5;241;43m*\u001B[39;49m\u001B[38;5;241;43m*\u001B[39;49m\u001B[43mkwargs\u001B[49m\u001B[43m)\u001B[49m\n",
      "File \u001B[0;32m~/Schreibtisch/ecmi-hydrological-forecasting/venv/lib/python3.11/site-packages/matplotlib/backend_bases.py:3620\u001B[0m, in \u001B[0;36m_Backend.show\u001B[0;34m(cls, block)\u001B[0m\n\u001B[1;32m   3618\u001B[0m     block \u001B[38;5;241m=\u001B[39m \u001B[38;5;129;01mnot\u001B[39;00m ipython_pylab \u001B[38;5;129;01mand\u001B[39;00m \u001B[38;5;129;01mnot\u001B[39;00m is_interactive()\n\u001B[1;32m   3619\u001B[0m \u001B[38;5;28;01mif\u001B[39;00m block:\n\u001B[0;32m-> 3620\u001B[0m     \u001B[38;5;28;43mcls\u001B[39;49m\u001B[38;5;241;43m.\u001B[39;49m\u001B[43mmainloop\u001B[49m\u001B[43m(\u001B[49m\u001B[43m)\u001B[49m\n",
      "File \u001B[0;32m~/Schreibtisch/ecmi-hydrological-forecasting/venv/lib/python3.11/site-packages/matplotlib/backends/backend_qt.py:602\u001B[0m, in \u001B[0;36mFigureManagerQT.start_main_loop\u001B[0;34m(cls)\u001B[0m\n\u001B[1;32m    600\u001B[0m qapp \u001B[38;5;241m=\u001B[39m QtWidgets\u001B[38;5;241m.\u001B[39mQApplication\u001B[38;5;241m.\u001B[39minstance()\n\u001B[1;32m    601\u001B[0m \u001B[38;5;28;01mif\u001B[39;00m qapp:\n\u001B[0;32m--> 602\u001B[0m \u001B[43m    \u001B[49m\u001B[38;5;28;43;01mwith\u001B[39;49;00m\u001B[43m \u001B[49m\u001B[43m_maybe_allow_interrupt\u001B[49m\u001B[43m(\u001B[49m\u001B[43mqapp\u001B[49m\u001B[43m)\u001B[49m\u001B[43m:\u001B[49m\n\u001B[1;32m    603\u001B[0m \u001B[43m        \u001B[49m\u001B[43mqt_compat\u001B[49m\u001B[38;5;241;43m.\u001B[39;49m\u001B[43m_exec\u001B[49m\u001B[43m(\u001B[49m\u001B[43mqapp\u001B[49m\u001B[43m)\u001B[49m\n",
      "File \u001B[0;32m/usr/lib/python3.11/contextlib.py:144\u001B[0m, in \u001B[0;36m_GeneratorContextManager.__exit__\u001B[0;34m(self, typ, value, traceback)\u001B[0m\n\u001B[1;32m    142\u001B[0m \u001B[38;5;28;01mif\u001B[39;00m typ \u001B[38;5;129;01mis\u001B[39;00m \u001B[38;5;28;01mNone\u001B[39;00m:\n\u001B[1;32m    143\u001B[0m     \u001B[38;5;28;01mtry\u001B[39;00m:\n\u001B[0;32m--> 144\u001B[0m         \u001B[38;5;28mnext\u001B[39m(\u001B[38;5;28mself\u001B[39m\u001B[38;5;241m.\u001B[39mgen)\n\u001B[1;32m    145\u001B[0m     \u001B[38;5;28;01mexcept\u001B[39;00m \u001B[38;5;167;01mStopIteration\u001B[39;00m:\n\u001B[1;32m    146\u001B[0m         \u001B[38;5;28;01mreturn\u001B[39;00m \u001B[38;5;28;01mFalse\u001B[39;00m\n",
      "File \u001B[0;32m~/Schreibtisch/ecmi-hydrological-forecasting/venv/lib/python3.11/site-packages/matplotlib/backends/qt_compat.py:245\u001B[0m, in \u001B[0;36m_maybe_allow_interrupt\u001B[0;34m(qapp)\u001B[0m\n\u001B[1;32m    243\u001B[0m signal\u001B[38;5;241m.\u001B[39msignal(signal\u001B[38;5;241m.\u001B[39mSIGINT, old_sigint_handler)\n\u001B[1;32m    244\u001B[0m \u001B[38;5;28;01mif\u001B[39;00m handler_args \u001B[38;5;129;01mis\u001B[39;00m \u001B[38;5;129;01mnot\u001B[39;00m \u001B[38;5;28;01mNone\u001B[39;00m:\n\u001B[0;32m--> 245\u001B[0m     \u001B[43mold_sigint_handler\u001B[49m\u001B[43m(\u001B[49m\u001B[38;5;241;43m*\u001B[39;49m\u001B[43mhandler_args\u001B[49m\u001B[43m)\u001B[49m\n",
      "\u001B[0;31mKeyboardInterrupt\u001B[0m: "
     ]
    }
   ],
   "source": [
    "marker_dict = {\n",
    "    'Tisza': 'o',\n",
    "    'Maros': 'v',\n",
    "    'Kettős-Körös': '^',\n",
    "    'Hármas-Körös': 'x',\n",
    "    'Szamos': '+',\n",
    "    'Sebes-Körös' : 'D',\n",
    "    'Bodrog' : 'h',\n",
    "    'Túr' : 'd',\n",
    "    'Sajó' : 'X',\n",
    "    'Kraszna' : '1',\n",
    "    'Hernád' : '2',\n",
    "    'Berettyó': '3',\n",
    "    'Fekete-Körös' : '4',\n",
    "    'Fehér-Körös': ',',\n",
    "    'Zagyva': '<'\n",
    "}\n",
    "\n",
    "def rgb(val):\n",
    "    return [[0.4 + min(val * 0.08,0.6),0.2, 0.00 + min(abs(val * 0.10),1.0)]]\n",
    "\n",
    "rivers = []\n",
    "actors = []\n",
    "\n",
    "for index,row in meta_nans_removed.iterrows():\n",
    "    a = plt.scatter(row['EOVx'],row['EOVy'],c=rgb(row['maximum_correlation']),marker=marker_dict[row['river']])\n",
    "    if row['river'] not in rivers:\n",
    "        rivers.append(row['river'])\n",
    "        actors.append(a)\n",
    "plt.legend(actors,rivers)\n",
    "plt.show()"
   ],
   "metadata": {
    "collapsed": false,
    "ExecuteTime": {
     "end_time": "2023-07-14T11:57:37.901481815Z",
     "start_time": "2023-07-14T11:57:34.038660665Z"
    }
   }
  },
  {
   "cell_type": "code",
   "execution_count": null,
   "outputs": [],
   "source": [
    "from statsmodels.tsa.stattools import grangercausalitytests\n",
    "def causality_test(df, lag,l,pv):\n",
    "\n",
    "    for col in df.columns.tolist():\n",
    "        vals = grangercausalitytests(data_nans_removed[['2275',col]], maxlag = [lag],verbose = 0)\n",
    "        l.append(vals[lag][0]['ssr_ftest'][0])\n",
    "        pv.append(vals[lag][0]['ssr_ftest'][1])\n",
    "\n",
    "\n",
    "causalities = []\n",
    "p_values = []\n",
    "for i in np.linspace(1,10,10):\n",
    "    causality_test(data_nans_removed,i,causalities,p_values)\n",
    "\n",
    "causalitiy_matrix = np.transpose(np.reshape(np.array(causalities), (-1, len(data_nans_removed.columns))))"
   ],
   "metadata": {
    "collapsed": false,
    "ExecuteTime": {
     "start_time": "2023-07-14T11:57:31.608499932Z"
    }
   }
  },
  {
   "cell_type": "code",
   "execution_count": null,
   "outputs": [],
   "source": [
    "maximum_correlation = (cr.idxmax() - 5)"
   ],
   "metadata": {
    "collapsed": false
   }
  },
  {
   "cell_type": "code",
   "execution_count": null,
   "outputs": [],
   "source": [
    "pd.DataFrame(maximum_correlation.values, index=maximum_correlation.index).to_csv(\"../data/maximum_correlation.csv\")"
   ],
   "metadata": {
    "collapsed": false
   }
  },
  {
   "cell_type": "code",
   "execution_count": null,
   "outputs": [],
   "source": [
    "maximum_correlation.values"
   ],
   "metadata": {
    "collapsed": false
   }
  },
  {
   "cell_type": "code",
   "execution_count": 10,
   "outputs": [],
   "source": [
    "def corr(df,station,starting_point,interval,method,l,pv,p1):\n",
    "    period2 = df[(df.index >= starting_point - interval) & (df.index <= starting_point + interval)]\n",
    "    for col in df.columns.tolist():\n",
    "        cor, p_value = method(p1[station],period2[col])\n",
    "        l.append(cor)\n",
    "        pv.append(p_value)\n",
    "\n",
    "\n",
    "def calculate_correlations(df,starting_point,interval,method):\n",
    "    cross_correlations = []\n",
    "    for station in df.columns:\n",
    "        day = pd.Timedelta(1,'d')\n",
    "        sp = starting_point\n",
    "        l = []\n",
    "        pv = []\n",
    "\n",
    "        period1 = df[(df.index >= starting_point - interval) & (df.index <= starting_point + interval)]\n",
    "        for i in np.linspace(0,5,5):\n",
    "            starting_point = starting_point + day\n",
    "            corr(df,station,starting_point,interval,method,l,pv,period1)\n",
    "        starting_point =  sp + day\n",
    "        for i in np.linspace(0,50,50):\n",
    "            starting_point = starting_point - day\n",
    "            corr(df,station,starting_point,interval,method,l,pv,period1)\n",
    "        cm = np.transpose(np.reshape(np.array(l), (-1, len(df.columns))))\n",
    "        pv = np.transpose(np.reshape(np.array(pv), (-1, len(df.columns))))\n",
    "        cross_correlations.append(cm)\n",
    "    return cross_correlations\n"
   ],
   "metadata": {
    "collapsed": false,
    "ExecuteTime": {
     "end_time": "2023-07-14T11:58:10.139194375Z",
     "start_time": "2023-07-14T11:58:10.095597697Z"
    }
   }
  },
  {
   "cell_type": "code",
   "execution_count": 11,
   "outputs": [],
   "source": [
    "cr = calculate_correlations(data,pd.Timestamp('2005-01-01'),pd.Timedelta(52,'w'),pearson)"
   ],
   "metadata": {
    "collapsed": false,
    "ExecuteTime": {
     "start_time": "2023-07-14T11:58:12.095216765Z"
    }
   }
  },
  {
   "cell_type": "code",
   "execution_count": null,
   "outputs": [],
   "source": [
    "correlation_tensor = {}\n",
    "for idx,station in enumerate(data.columns):\n",
    "    correlation_tensor[station] = (pd.DataFrame(data=np.transpose(cr[idx]),columns=data.columns))"
   ],
   "metadata": {
    "collapsed": false
   }
  },
  {
   "cell_type": "code",
   "execution_count": 15,
   "outputs": [
    {
     "data": {
      "text/plain": "        1515      1516      1518      1521      1719      1720      1722  \\\n0   0.948032  0.961216  0.971383  0.947838  0.881199  0.315410  0.862137   \n1   0.853993  0.884141  0.926971  0.942456  0.886586  0.347622  0.872581   \n2   0.765502  0.791829  0.851599  0.895240  0.863803  0.364640  0.852466   \n3   0.699120  0.716504  0.775795  0.832350  0.825903  0.364079  0.818035   \n4   0.652985  0.662954  0.714731  0.772750  0.783333  0.351647  0.779625   \n5   1.000000  0.974987  0.942949  0.895707  0.835029  0.274838  0.815754   \n6   0.948083  0.908940  0.868806  0.821326  0.769664  0.236450  0.754448   \n7   0.854223  0.820775  0.790447  0.752710  0.708198  0.205553  0.696896   \n8   0.766183  0.742213  0.725623  0.697926  0.659242  0.186929  0.647751   \n9   0.700814  0.680816  0.675401  0.655546  0.620841  0.175633  0.607141   \n10  0.655046  0.636364  0.636948  0.622443  0.590871  0.165043  0.573122   \n11  0.620686  0.601556  0.604919  0.594985  0.566214  0.156710  0.543465   \n12  0.590740  0.571562  0.576747  0.571562  0.545900  0.154066  0.517266   \n13  0.560561  0.543418  0.551437  0.550648  0.529282  0.154723  0.493810   \n14  0.531482  0.515920  0.528987  0.532115  0.513424  0.149568  0.473113   \n15  0.504537  0.492250  0.511591  0.518486  0.500542  0.143521  0.455961   \n16  0.483592  0.477317  0.501221  0.510484  0.493422  0.146494  0.442015   \n17  0.473302  0.473105  0.497946  0.506329  0.489397  0.155092  0.432014   \n18  0.473965  0.474532  0.497168  0.501616  0.485003  0.161372  0.424467   \n19  0.474308  0.474290  0.493916  0.495362  0.478371  0.161743  0.418737   \n20  0.466258  0.470439  0.491578  0.492146  0.472516  0.157536  0.416483   \n21  0.459759  0.470480  0.493861  0.493968  0.469050  0.149390  0.418426   \n22  0.458578  0.475991  0.502036  0.501871  0.469324  0.138822  0.423674   \n23  0.462911  0.484821  0.514953  0.513318  0.472388  0.127178  0.428929   \n24  0.472533  0.496339  0.526807  0.521828  0.472850  0.115338  0.430469   \n25  0.481072  0.505490  0.533798  0.524985  0.470461  0.110213  0.425179   \n26  0.484283  0.508721  0.534213  0.522009  0.465295  0.119201  0.412164   \n27  0.480808  0.506125  0.526693  0.510811  0.455063  0.127718  0.392700   \n28  0.472037  0.497676  0.511994  0.492989  0.440224  0.126687  0.367720   \n29  0.459492  0.481530  0.490891  0.469783  0.421574  0.123303  0.339188   \n30  0.437946  0.456924  0.463696  0.441530  0.398568  0.123364  0.308961   \n31  0.408466  0.426370  0.434749  0.413245  0.374777  0.122560  0.280617   \n32  0.378787  0.395780  0.406798  0.387691  0.352318  0.122557  0.255399   \n33  0.350682  0.366978  0.383304  0.367208  0.333264  0.125860  0.233019   \n34  0.327537  0.344818  0.366098  0.349958  0.317309  0.129243  0.212716   \n35  0.310518  0.328632  0.351907  0.333120  0.301592  0.127252  0.194491   \n36  0.296485  0.315016  0.338328  0.315869  0.286008  0.122758  0.178637   \n37  0.283038  0.299425  0.321472  0.298827  0.272415  0.121520  0.162975   \n38  0.265805  0.280198  0.303552  0.282369  0.259367  0.118828  0.147623   \n39  0.245043  0.258295  0.286800  0.267979  0.245877  0.112657  0.134784   \n40  0.224589  0.241407  0.275957  0.258418  0.234948  0.107550  0.125288   \n41  0.211276  0.234729  0.273798  0.255211  0.228576  0.107647  0.119444   \n42  0.208960  0.238769  0.278415  0.255088  0.223462  0.105748  0.115140   \n43  0.215741  0.248091  0.284423  0.253248  0.218707  0.102672  0.108527   \n44  0.222393  0.254334  0.284878  0.246124  0.209247  0.098723  0.097139   \n45  0.219907  0.252584  0.277886  0.234225  0.194634  0.090346  0.083235   \n46  0.210492  0.246095  0.266290  0.219687  0.178703  0.080570  0.067520   \n47  0.198506  0.235161  0.250551  0.202842  0.162826  0.080078  0.047300   \n48  0.186406  0.220816  0.231241  0.183133  0.145528  0.083359  0.023968   \n49  0.175143  0.206022  0.209746  0.162226  0.126873  0.079525  0.001448   \n50  0.164193  0.191666  0.190812  0.143268  0.108397  0.071863 -0.019651   \n51  0.154743  0.177530  0.173175  0.124960  0.089062  0.066702 -0.041435   \n52  0.142710  0.162460  0.155299  0.104614  0.067836  0.059235 -0.065154   \n53  0.124952  0.145143  0.134933  0.081268  0.044922  0.050083 -0.090953   \n54  0.102609  0.124420  0.112153  0.057198  0.021090  0.038033 -0.115397   \n\n        1723      2040      2046  ...      1732      1734      2049      2741  \\\n0   0.809591  0.554271  0.803721  ...  0.325888  0.379134  0.603478  0.722922   \n1   0.828029  0.574367  0.836251  ...  0.276151  0.340917  0.544661  0.732812   \n2   0.815910  0.570319  0.847260  ...  0.236978  0.298636  0.488022  0.727511   \n3   0.785580  0.553157  0.840157  ...  0.213565  0.263593  0.445699  0.711337   \n4   0.749544  0.532138  0.821545  ...  0.196689  0.236873  0.414184  0.689756   \n5   0.761067  0.512767  0.758508  ...  0.373756  0.389285  0.647061  0.693862   \n6   0.701778  0.464770  0.711888  ...  0.385502  0.360660  0.660684  0.651114   \n7   0.645801  0.420226  0.669237  ...  0.359611  0.315775  0.643151  0.608734   \n8   0.598902  0.382203  0.630835  ...  0.319968  0.273611  0.605991  0.571704   \n9   0.560878  0.349370  0.597400  ...  0.280170  0.238294  0.564085  0.540298   \n10  0.530073  0.321223  0.567774  ...  0.246126  0.215640  0.528482  0.506749   \n11  0.503211  0.296138  0.541998  ...  0.221065  0.202173  0.502025  0.473014   \n12  0.477262  0.272941  0.519856  ...  0.207662  0.190266  0.481771  0.442644   \n13  0.453523  0.250791  0.500734  ...  0.200210  0.172143  0.461840  0.416752   \n14  0.435007  0.229738  0.484552  ...  0.186471  0.146360  0.439038  0.394707   \n15  0.419018  0.210500  0.471889  ...  0.160794  0.114975  0.411188  0.374611   \n16  0.404412  0.193488  0.462890  ...  0.127537  0.081229  0.382764  0.359528   \n17  0.391634  0.177312  0.457787  ...  0.093338  0.053310  0.359439  0.347850   \n18  0.378985  0.161379  0.456053  ...  0.065513  0.034190  0.342784  0.339594   \n19  0.368823  0.146780  0.458221  ...  0.045715  0.019936  0.330322  0.336471   \n20  0.364172  0.136448  0.463296  ...  0.031509  0.010273  0.319200  0.340992   \n21  0.365761  0.130989  0.468484  ...  0.021877  0.003853  0.308146  0.351180   \n22  0.370130  0.129213  0.471629  ...  0.013843 -0.000234  0.302778  0.363213   \n23  0.373325  0.127360  0.471350  ...  0.009287  0.003206  0.306563  0.372747   \n24  0.373414  0.123723  0.465537  ...  0.013389  0.012931  0.317699  0.375604   \n25  0.367487  0.116359  0.453936  ...  0.022702  0.017096  0.332271  0.376240   \n26  0.354392  0.103751  0.436663  ...  0.028938  0.017890  0.347408  0.376395   \n27  0.333963  0.087249  0.414503  ...  0.031834  0.019476  0.358758  0.372840   \n28  0.309591  0.066973  0.390689  ...  0.030544  0.018910  0.363576  0.362923   \n29  0.283802  0.044251  0.365660  ...  0.021507  0.009996  0.354931  0.346247   \n30  0.256449  0.020556  0.341200  ...  0.006729 -0.006792  0.334503  0.324866   \n31  0.229699 -0.001728  0.316648  ... -0.010694 -0.024235  0.311344  0.303157   \n32  0.204744 -0.022176  0.294337  ... -0.026899 -0.040250  0.289884  0.284925   \n33  0.182560 -0.040429  0.273979  ... -0.040061 -0.053697  0.272697  0.271476   \n34  0.161926 -0.058194  0.256400  ... -0.049855 -0.061499  0.264537  0.262620   \n35  0.142657 -0.074833  0.241104  ... -0.056679 -0.064355  0.261358  0.254587   \n36  0.124118 -0.089523  0.225924  ... -0.063109 -0.060616  0.258247  0.243899   \n37  0.105717 -0.103501  0.211031  ... -0.064615 -0.057599  0.250836  0.229270   \n38  0.089722 -0.118383  0.198910  ... -0.066786 -0.062357  0.237963  0.213809   \n39  0.078037 -0.131814  0.189173  ... -0.077021 -0.074768  0.220137  0.200883   \n40  0.068329 -0.142420  0.182348  ... -0.092340 -0.089184  0.199250  0.192975   \n41  0.060588 -0.150399  0.175986  ... -0.107908 -0.099304  0.180473  0.191915   \n42  0.053508 -0.157471  0.169854  ... -0.120798 -0.106725  0.167631  0.194956   \n43  0.044732 -0.165115  0.161677  ... -0.129819 -0.110234  0.161068  0.197307   \n44  0.032808 -0.175312  0.151061  ... -0.134066 -0.112540  0.158506  0.194044   \n45  0.019536 -0.186897  0.137084  ... -0.138560 -0.116994  0.158166  0.187299   \n46  0.004669 -0.200114  0.119783  ... -0.145673 -0.124970  0.160754  0.178412   \n47 -0.014856 -0.216042  0.099796  ... -0.158087 -0.135437  0.162761  0.165595   \n48 -0.037660 -0.233917  0.079655  ... -0.172306 -0.143376  0.160996  0.145690   \n49 -0.059718 -0.251113  0.060450  ... -0.184121 -0.148416  0.154792  0.119075   \n50 -0.079955 -0.267387  0.040819  ... -0.192619 -0.148225  0.144185  0.088410   \n51 -0.100433 -0.284313  0.020363  ... -0.193210 -0.149998  0.130421  0.055370   \n52 -0.122614 -0.302693  0.000067  ... -0.194322 -0.157840  0.116703  0.021617   \n53 -0.145886 -0.322486 -0.018700  ... -0.201903 -0.170857  0.102998 -0.008776   \n54 -0.167712 -0.341362 -0.033753  ... -0.214434 -0.185111  0.089477 -0.034627   \n\n        2742      2751      2545    744624    210888    210900  \n0   0.653419  0.386093  0.563964  0.721131  0.720016  0.689409  \n1   0.668832  0.370262  0.537886  0.737705  0.753383  0.719141  \n2   0.666828  0.339246  0.507987  0.740890  0.777954  0.740427  \n3   0.648215  0.309149  0.481166  0.727239  0.790752  0.752099  \n4   0.624207  0.286454  0.458946  0.699868  0.792093  0.753936  \n5   0.622013  0.374399  0.569859  0.691701  0.683313  0.655693  \n6   0.577977  0.336388  0.546823  0.657598  0.648533  0.623009  \n7   0.532949  0.290873  0.513206  0.625011  0.617064  0.593574  \n8   0.495588  0.250224  0.480555  0.593461  0.588435  0.565548  \n9   0.468996  0.216743  0.447741  0.560224  0.561849  0.537650  \n10  0.446323  0.190089  0.409840  0.530562  0.537691  0.509941  \n11  0.422516  0.170381  0.374642  0.503515  0.516081  0.482477  \n12  0.394852  0.155032  0.347484  0.480531  0.497733  0.457225  \n13  0.365754  0.136735  0.326847  0.462447  0.482278  0.435798  \n14  0.338918  0.112803  0.307353  0.443332  0.467472  0.417636  \n15  0.316535  0.085430  0.287497  0.422195  0.454239  0.402985  \n16  0.298574  0.059896  0.273341  0.401436  0.443774  0.393024  \n17  0.283019  0.039111  0.265316  0.383278  0.435752  0.387445  \n18  0.269857  0.020928  0.261204  0.369494  0.429811  0.384207  \n19  0.261421  0.004290  0.261801  0.359014  0.426763  0.383708  \n20  0.259292 -0.008433  0.266213  0.351976  0.425259  0.385337  \n21  0.261612 -0.007914  0.276381  0.348745  0.422457  0.387669  \n22  0.267022  0.003532  0.291503  0.346877  0.417880  0.387780  \n23  0.272757  0.019801  0.306011  0.344907  0.410003  0.384379  \n24  0.275550  0.038841  0.316722  0.342119  0.398810  0.376102  \n25  0.277079  0.059488  0.326025  0.334551  0.384056  0.363298  \n26  0.279488  0.078295  0.332171  0.324240  0.366451  0.347446  \n27  0.278110  0.091922  0.333416  0.310973  0.346486  0.329915  \n28  0.270432  0.098213  0.331081  0.292061  0.324617  0.310250  \n29  0.257804  0.095593  0.323291  0.271656  0.302583  0.289959  \n30  0.240884  0.082216  0.310158  0.254015  0.281456  0.271131  \n31  0.223729  0.063016  0.296137  0.237767  0.262087  0.253845  \n32  0.211066  0.047109  0.282172  0.224481  0.244150  0.238289  \n33  0.204547  0.035286  0.268721  0.213316  0.227304  0.224425  \n34  0.201458  0.029373  0.258933  0.200430  0.211335  0.210374  \n35  0.199676  0.027484  0.253841  0.184116  0.194852  0.195135  \n36  0.194564  0.023515  0.253657  0.166081  0.179102  0.179491  \n37  0.182959  0.013086  0.254627  0.150732  0.165779  0.165483  \n38  0.167329 -0.006263  0.252231  0.142114  0.153401  0.153765  \n39  0.154181 -0.030836  0.244353  0.135539  0.141047  0.143537  \n40  0.145265 -0.052123  0.238795  0.129467  0.128948  0.134634  \n41  0.139874 -0.063654  0.239449  0.121551  0.116857  0.126337  \n42  0.136398 -0.062818  0.245453  0.111020  0.103816  0.117345  \n43  0.134172 -0.055386  0.253313  0.101863  0.090024  0.107118  \n44  0.130053 -0.049617  0.260271  0.097509  0.075137  0.094990  \n45  0.123930 -0.046105  0.267144  0.095619  0.059052  0.080883  \n46  0.116156 -0.043019  0.273108  0.094875  0.041655  0.064370  \n47  0.106945 -0.044037  0.274418  0.091291  0.022893  0.044665  \n48  0.092231 -0.051462  0.268782  0.077453  0.003439  0.021042  \n49  0.072030 -0.066075  0.254960  0.055736 -0.016219 -0.004790  \n50  0.048293 -0.085898  0.235641  0.032155 -0.035551 -0.029815  \n51  0.020984 -0.109349  0.213867  0.010310 -0.053906 -0.052949  \n52 -0.006618 -0.136504  0.191317 -0.011873 -0.070712 -0.073805  \n53 -0.031458 -0.165598  0.167695 -0.030147 -0.085608 -0.091325  \n54 -0.052481 -0.192382  0.146343 -0.043072 -0.098218 -0.105890  \n\n[55 rows x 48 columns]",
      "text/html": "<div>\n<style scoped>\n    .dataframe tbody tr th:only-of-type {\n        vertical-align: middle;\n    }\n\n    .dataframe tbody tr th {\n        vertical-align: top;\n    }\n\n    .dataframe thead th {\n        text-align: right;\n    }\n</style>\n<table border=\"1\" class=\"dataframe\">\n  <thead>\n    <tr style=\"text-align: right;\">\n      <th></th>\n      <th>1515</th>\n      <th>1516</th>\n      <th>1518</th>\n      <th>1521</th>\n      <th>1719</th>\n      <th>1720</th>\n      <th>1722</th>\n      <th>1723</th>\n      <th>2040</th>\n      <th>2046</th>\n      <th>...</th>\n      <th>1732</th>\n      <th>1734</th>\n      <th>2049</th>\n      <th>2741</th>\n      <th>2742</th>\n      <th>2751</th>\n      <th>2545</th>\n      <th>744624</th>\n      <th>210888</th>\n      <th>210900</th>\n    </tr>\n  </thead>\n  <tbody>\n    <tr>\n      <th>0</th>\n      <td>0.948032</td>\n      <td>0.961216</td>\n      <td>0.971383</td>\n      <td>0.947838</td>\n      <td>0.881199</td>\n      <td>0.315410</td>\n      <td>0.862137</td>\n      <td>0.809591</td>\n      <td>0.554271</td>\n      <td>0.803721</td>\n      <td>...</td>\n      <td>0.325888</td>\n      <td>0.379134</td>\n      <td>0.603478</td>\n      <td>0.722922</td>\n      <td>0.653419</td>\n      <td>0.386093</td>\n      <td>0.563964</td>\n      <td>0.721131</td>\n      <td>0.720016</td>\n      <td>0.689409</td>\n    </tr>\n    <tr>\n      <th>1</th>\n      <td>0.853993</td>\n      <td>0.884141</td>\n      <td>0.926971</td>\n      <td>0.942456</td>\n      <td>0.886586</td>\n      <td>0.347622</td>\n      <td>0.872581</td>\n      <td>0.828029</td>\n      <td>0.574367</td>\n      <td>0.836251</td>\n      <td>...</td>\n      <td>0.276151</td>\n      <td>0.340917</td>\n      <td>0.544661</td>\n      <td>0.732812</td>\n      <td>0.668832</td>\n      <td>0.370262</td>\n      <td>0.537886</td>\n      <td>0.737705</td>\n      <td>0.753383</td>\n      <td>0.719141</td>\n    </tr>\n    <tr>\n      <th>2</th>\n      <td>0.765502</td>\n      <td>0.791829</td>\n      <td>0.851599</td>\n      <td>0.895240</td>\n      <td>0.863803</td>\n      <td>0.364640</td>\n      <td>0.852466</td>\n      <td>0.815910</td>\n      <td>0.570319</td>\n      <td>0.847260</td>\n      <td>...</td>\n      <td>0.236978</td>\n      <td>0.298636</td>\n      <td>0.488022</td>\n      <td>0.727511</td>\n      <td>0.666828</td>\n      <td>0.339246</td>\n      <td>0.507987</td>\n      <td>0.740890</td>\n      <td>0.777954</td>\n      <td>0.740427</td>\n    </tr>\n    <tr>\n      <th>3</th>\n      <td>0.699120</td>\n      <td>0.716504</td>\n      <td>0.775795</td>\n      <td>0.832350</td>\n      <td>0.825903</td>\n      <td>0.364079</td>\n      <td>0.818035</td>\n      <td>0.785580</td>\n      <td>0.553157</td>\n      <td>0.840157</td>\n      <td>...</td>\n      <td>0.213565</td>\n      <td>0.263593</td>\n      <td>0.445699</td>\n      <td>0.711337</td>\n      <td>0.648215</td>\n      <td>0.309149</td>\n      <td>0.481166</td>\n      <td>0.727239</td>\n      <td>0.790752</td>\n      <td>0.752099</td>\n    </tr>\n    <tr>\n      <th>4</th>\n      <td>0.652985</td>\n      <td>0.662954</td>\n      <td>0.714731</td>\n      <td>0.772750</td>\n      <td>0.783333</td>\n      <td>0.351647</td>\n      <td>0.779625</td>\n      <td>0.749544</td>\n      <td>0.532138</td>\n      <td>0.821545</td>\n      <td>...</td>\n      <td>0.196689</td>\n      <td>0.236873</td>\n      <td>0.414184</td>\n      <td>0.689756</td>\n      <td>0.624207</td>\n      <td>0.286454</td>\n      <td>0.458946</td>\n      <td>0.699868</td>\n      <td>0.792093</td>\n      <td>0.753936</td>\n    </tr>\n    <tr>\n      <th>5</th>\n      <td>1.000000</td>\n      <td>0.974987</td>\n      <td>0.942949</td>\n      <td>0.895707</td>\n      <td>0.835029</td>\n      <td>0.274838</td>\n      <td>0.815754</td>\n      <td>0.761067</td>\n      <td>0.512767</td>\n      <td>0.758508</td>\n      <td>...</td>\n      <td>0.373756</td>\n      <td>0.389285</td>\n      <td>0.647061</td>\n      <td>0.693862</td>\n      <td>0.622013</td>\n      <td>0.374399</td>\n      <td>0.569859</td>\n      <td>0.691701</td>\n      <td>0.683313</td>\n      <td>0.655693</td>\n    </tr>\n    <tr>\n      <th>6</th>\n      <td>0.948083</td>\n      <td>0.908940</td>\n      <td>0.868806</td>\n      <td>0.821326</td>\n      <td>0.769664</td>\n      <td>0.236450</td>\n      <td>0.754448</td>\n      <td>0.701778</td>\n      <td>0.464770</td>\n      <td>0.711888</td>\n      <td>...</td>\n      <td>0.385502</td>\n      <td>0.360660</td>\n      <td>0.660684</td>\n      <td>0.651114</td>\n      <td>0.577977</td>\n      <td>0.336388</td>\n      <td>0.546823</td>\n      <td>0.657598</td>\n      <td>0.648533</td>\n      <td>0.623009</td>\n    </tr>\n    <tr>\n      <th>7</th>\n      <td>0.854223</td>\n      <td>0.820775</td>\n      <td>0.790447</td>\n      <td>0.752710</td>\n      <td>0.708198</td>\n      <td>0.205553</td>\n      <td>0.696896</td>\n      <td>0.645801</td>\n      <td>0.420226</td>\n      <td>0.669237</td>\n      <td>...</td>\n      <td>0.359611</td>\n      <td>0.315775</td>\n      <td>0.643151</td>\n      <td>0.608734</td>\n      <td>0.532949</td>\n      <td>0.290873</td>\n      <td>0.513206</td>\n      <td>0.625011</td>\n      <td>0.617064</td>\n      <td>0.593574</td>\n    </tr>\n    <tr>\n      <th>8</th>\n      <td>0.766183</td>\n      <td>0.742213</td>\n      <td>0.725623</td>\n      <td>0.697926</td>\n      <td>0.659242</td>\n      <td>0.186929</td>\n      <td>0.647751</td>\n      <td>0.598902</td>\n      <td>0.382203</td>\n      <td>0.630835</td>\n      <td>...</td>\n      <td>0.319968</td>\n      <td>0.273611</td>\n      <td>0.605991</td>\n      <td>0.571704</td>\n      <td>0.495588</td>\n      <td>0.250224</td>\n      <td>0.480555</td>\n      <td>0.593461</td>\n      <td>0.588435</td>\n      <td>0.565548</td>\n    </tr>\n    <tr>\n      <th>9</th>\n      <td>0.700814</td>\n      <td>0.680816</td>\n      <td>0.675401</td>\n      <td>0.655546</td>\n      <td>0.620841</td>\n      <td>0.175633</td>\n      <td>0.607141</td>\n      <td>0.560878</td>\n      <td>0.349370</td>\n      <td>0.597400</td>\n      <td>...</td>\n      <td>0.280170</td>\n      <td>0.238294</td>\n      <td>0.564085</td>\n      <td>0.540298</td>\n      <td>0.468996</td>\n      <td>0.216743</td>\n      <td>0.447741</td>\n      <td>0.560224</td>\n      <td>0.561849</td>\n      <td>0.537650</td>\n    </tr>\n    <tr>\n      <th>10</th>\n      <td>0.655046</td>\n      <td>0.636364</td>\n      <td>0.636948</td>\n      <td>0.622443</td>\n      <td>0.590871</td>\n      <td>0.165043</td>\n      <td>0.573122</td>\n      <td>0.530073</td>\n      <td>0.321223</td>\n      <td>0.567774</td>\n      <td>...</td>\n      <td>0.246126</td>\n      <td>0.215640</td>\n      <td>0.528482</td>\n      <td>0.506749</td>\n      <td>0.446323</td>\n      <td>0.190089</td>\n      <td>0.409840</td>\n      <td>0.530562</td>\n      <td>0.537691</td>\n      <td>0.509941</td>\n    </tr>\n    <tr>\n      <th>11</th>\n      <td>0.620686</td>\n      <td>0.601556</td>\n      <td>0.604919</td>\n      <td>0.594985</td>\n      <td>0.566214</td>\n      <td>0.156710</td>\n      <td>0.543465</td>\n      <td>0.503211</td>\n      <td>0.296138</td>\n      <td>0.541998</td>\n      <td>...</td>\n      <td>0.221065</td>\n      <td>0.202173</td>\n      <td>0.502025</td>\n      <td>0.473014</td>\n      <td>0.422516</td>\n      <td>0.170381</td>\n      <td>0.374642</td>\n      <td>0.503515</td>\n      <td>0.516081</td>\n      <td>0.482477</td>\n    </tr>\n    <tr>\n      <th>12</th>\n      <td>0.590740</td>\n      <td>0.571562</td>\n      <td>0.576747</td>\n      <td>0.571562</td>\n      <td>0.545900</td>\n      <td>0.154066</td>\n      <td>0.517266</td>\n      <td>0.477262</td>\n      <td>0.272941</td>\n      <td>0.519856</td>\n      <td>...</td>\n      <td>0.207662</td>\n      <td>0.190266</td>\n      <td>0.481771</td>\n      <td>0.442644</td>\n      <td>0.394852</td>\n      <td>0.155032</td>\n      <td>0.347484</td>\n      <td>0.480531</td>\n      <td>0.497733</td>\n      <td>0.457225</td>\n    </tr>\n    <tr>\n      <th>13</th>\n      <td>0.560561</td>\n      <td>0.543418</td>\n      <td>0.551437</td>\n      <td>0.550648</td>\n      <td>0.529282</td>\n      <td>0.154723</td>\n      <td>0.493810</td>\n      <td>0.453523</td>\n      <td>0.250791</td>\n      <td>0.500734</td>\n      <td>...</td>\n      <td>0.200210</td>\n      <td>0.172143</td>\n      <td>0.461840</td>\n      <td>0.416752</td>\n      <td>0.365754</td>\n      <td>0.136735</td>\n      <td>0.326847</td>\n      <td>0.462447</td>\n      <td>0.482278</td>\n      <td>0.435798</td>\n    </tr>\n    <tr>\n      <th>14</th>\n      <td>0.531482</td>\n      <td>0.515920</td>\n      <td>0.528987</td>\n      <td>0.532115</td>\n      <td>0.513424</td>\n      <td>0.149568</td>\n      <td>0.473113</td>\n      <td>0.435007</td>\n      <td>0.229738</td>\n      <td>0.484552</td>\n      <td>...</td>\n      <td>0.186471</td>\n      <td>0.146360</td>\n      <td>0.439038</td>\n      <td>0.394707</td>\n      <td>0.338918</td>\n      <td>0.112803</td>\n      <td>0.307353</td>\n      <td>0.443332</td>\n      <td>0.467472</td>\n      <td>0.417636</td>\n    </tr>\n    <tr>\n      <th>15</th>\n      <td>0.504537</td>\n      <td>0.492250</td>\n      <td>0.511591</td>\n      <td>0.518486</td>\n      <td>0.500542</td>\n      <td>0.143521</td>\n      <td>0.455961</td>\n      <td>0.419018</td>\n      <td>0.210500</td>\n      <td>0.471889</td>\n      <td>...</td>\n      <td>0.160794</td>\n      <td>0.114975</td>\n      <td>0.411188</td>\n      <td>0.374611</td>\n      <td>0.316535</td>\n      <td>0.085430</td>\n      <td>0.287497</td>\n      <td>0.422195</td>\n      <td>0.454239</td>\n      <td>0.402985</td>\n    </tr>\n    <tr>\n      <th>16</th>\n      <td>0.483592</td>\n      <td>0.477317</td>\n      <td>0.501221</td>\n      <td>0.510484</td>\n      <td>0.493422</td>\n      <td>0.146494</td>\n      <td>0.442015</td>\n      <td>0.404412</td>\n      <td>0.193488</td>\n      <td>0.462890</td>\n      <td>...</td>\n      <td>0.127537</td>\n      <td>0.081229</td>\n      <td>0.382764</td>\n      <td>0.359528</td>\n      <td>0.298574</td>\n      <td>0.059896</td>\n      <td>0.273341</td>\n      <td>0.401436</td>\n      <td>0.443774</td>\n      <td>0.393024</td>\n    </tr>\n    <tr>\n      <th>17</th>\n      <td>0.473302</td>\n      <td>0.473105</td>\n      <td>0.497946</td>\n      <td>0.506329</td>\n      <td>0.489397</td>\n      <td>0.155092</td>\n      <td>0.432014</td>\n      <td>0.391634</td>\n      <td>0.177312</td>\n      <td>0.457787</td>\n      <td>...</td>\n      <td>0.093338</td>\n      <td>0.053310</td>\n      <td>0.359439</td>\n      <td>0.347850</td>\n      <td>0.283019</td>\n      <td>0.039111</td>\n      <td>0.265316</td>\n      <td>0.383278</td>\n      <td>0.435752</td>\n      <td>0.387445</td>\n    </tr>\n    <tr>\n      <th>18</th>\n      <td>0.473965</td>\n      <td>0.474532</td>\n      <td>0.497168</td>\n      <td>0.501616</td>\n      <td>0.485003</td>\n      <td>0.161372</td>\n      <td>0.424467</td>\n      <td>0.378985</td>\n      <td>0.161379</td>\n      <td>0.456053</td>\n      <td>...</td>\n      <td>0.065513</td>\n      <td>0.034190</td>\n      <td>0.342784</td>\n      <td>0.339594</td>\n      <td>0.269857</td>\n      <td>0.020928</td>\n      <td>0.261204</td>\n      <td>0.369494</td>\n      <td>0.429811</td>\n      <td>0.384207</td>\n    </tr>\n    <tr>\n      <th>19</th>\n      <td>0.474308</td>\n      <td>0.474290</td>\n      <td>0.493916</td>\n      <td>0.495362</td>\n      <td>0.478371</td>\n      <td>0.161743</td>\n      <td>0.418737</td>\n      <td>0.368823</td>\n      <td>0.146780</td>\n      <td>0.458221</td>\n      <td>...</td>\n      <td>0.045715</td>\n      <td>0.019936</td>\n      <td>0.330322</td>\n      <td>0.336471</td>\n      <td>0.261421</td>\n      <td>0.004290</td>\n      <td>0.261801</td>\n      <td>0.359014</td>\n      <td>0.426763</td>\n      <td>0.383708</td>\n    </tr>\n    <tr>\n      <th>20</th>\n      <td>0.466258</td>\n      <td>0.470439</td>\n      <td>0.491578</td>\n      <td>0.492146</td>\n      <td>0.472516</td>\n      <td>0.157536</td>\n      <td>0.416483</td>\n      <td>0.364172</td>\n      <td>0.136448</td>\n      <td>0.463296</td>\n      <td>...</td>\n      <td>0.031509</td>\n      <td>0.010273</td>\n      <td>0.319200</td>\n      <td>0.340992</td>\n      <td>0.259292</td>\n      <td>-0.008433</td>\n      <td>0.266213</td>\n      <td>0.351976</td>\n      <td>0.425259</td>\n      <td>0.385337</td>\n    </tr>\n    <tr>\n      <th>21</th>\n      <td>0.459759</td>\n      <td>0.470480</td>\n      <td>0.493861</td>\n      <td>0.493968</td>\n      <td>0.469050</td>\n      <td>0.149390</td>\n      <td>0.418426</td>\n      <td>0.365761</td>\n      <td>0.130989</td>\n      <td>0.468484</td>\n      <td>...</td>\n      <td>0.021877</td>\n      <td>0.003853</td>\n      <td>0.308146</td>\n      <td>0.351180</td>\n      <td>0.261612</td>\n      <td>-0.007914</td>\n      <td>0.276381</td>\n      <td>0.348745</td>\n      <td>0.422457</td>\n      <td>0.387669</td>\n    </tr>\n    <tr>\n      <th>22</th>\n      <td>0.458578</td>\n      <td>0.475991</td>\n      <td>0.502036</td>\n      <td>0.501871</td>\n      <td>0.469324</td>\n      <td>0.138822</td>\n      <td>0.423674</td>\n      <td>0.370130</td>\n      <td>0.129213</td>\n      <td>0.471629</td>\n      <td>...</td>\n      <td>0.013843</td>\n      <td>-0.000234</td>\n      <td>0.302778</td>\n      <td>0.363213</td>\n      <td>0.267022</td>\n      <td>0.003532</td>\n      <td>0.291503</td>\n      <td>0.346877</td>\n      <td>0.417880</td>\n      <td>0.387780</td>\n    </tr>\n    <tr>\n      <th>23</th>\n      <td>0.462911</td>\n      <td>0.484821</td>\n      <td>0.514953</td>\n      <td>0.513318</td>\n      <td>0.472388</td>\n      <td>0.127178</td>\n      <td>0.428929</td>\n      <td>0.373325</td>\n      <td>0.127360</td>\n      <td>0.471350</td>\n      <td>...</td>\n      <td>0.009287</td>\n      <td>0.003206</td>\n      <td>0.306563</td>\n      <td>0.372747</td>\n      <td>0.272757</td>\n      <td>0.019801</td>\n      <td>0.306011</td>\n      <td>0.344907</td>\n      <td>0.410003</td>\n      <td>0.384379</td>\n    </tr>\n    <tr>\n      <th>24</th>\n      <td>0.472533</td>\n      <td>0.496339</td>\n      <td>0.526807</td>\n      <td>0.521828</td>\n      <td>0.472850</td>\n      <td>0.115338</td>\n      <td>0.430469</td>\n      <td>0.373414</td>\n      <td>0.123723</td>\n      <td>0.465537</td>\n      <td>...</td>\n      <td>0.013389</td>\n      <td>0.012931</td>\n      <td>0.317699</td>\n      <td>0.375604</td>\n      <td>0.275550</td>\n      <td>0.038841</td>\n      <td>0.316722</td>\n      <td>0.342119</td>\n      <td>0.398810</td>\n      <td>0.376102</td>\n    </tr>\n    <tr>\n      <th>25</th>\n      <td>0.481072</td>\n      <td>0.505490</td>\n      <td>0.533798</td>\n      <td>0.524985</td>\n      <td>0.470461</td>\n      <td>0.110213</td>\n      <td>0.425179</td>\n      <td>0.367487</td>\n      <td>0.116359</td>\n      <td>0.453936</td>\n      <td>...</td>\n      <td>0.022702</td>\n      <td>0.017096</td>\n      <td>0.332271</td>\n      <td>0.376240</td>\n      <td>0.277079</td>\n      <td>0.059488</td>\n      <td>0.326025</td>\n      <td>0.334551</td>\n      <td>0.384056</td>\n      <td>0.363298</td>\n    </tr>\n    <tr>\n      <th>26</th>\n      <td>0.484283</td>\n      <td>0.508721</td>\n      <td>0.534213</td>\n      <td>0.522009</td>\n      <td>0.465295</td>\n      <td>0.119201</td>\n      <td>0.412164</td>\n      <td>0.354392</td>\n      <td>0.103751</td>\n      <td>0.436663</td>\n      <td>...</td>\n      <td>0.028938</td>\n      <td>0.017890</td>\n      <td>0.347408</td>\n      <td>0.376395</td>\n      <td>0.279488</td>\n      <td>0.078295</td>\n      <td>0.332171</td>\n      <td>0.324240</td>\n      <td>0.366451</td>\n      <td>0.347446</td>\n    </tr>\n    <tr>\n      <th>27</th>\n      <td>0.480808</td>\n      <td>0.506125</td>\n      <td>0.526693</td>\n      <td>0.510811</td>\n      <td>0.455063</td>\n      <td>0.127718</td>\n      <td>0.392700</td>\n      <td>0.333963</td>\n      <td>0.087249</td>\n      <td>0.414503</td>\n      <td>...</td>\n      <td>0.031834</td>\n      <td>0.019476</td>\n      <td>0.358758</td>\n      <td>0.372840</td>\n      <td>0.278110</td>\n      <td>0.091922</td>\n      <td>0.333416</td>\n      <td>0.310973</td>\n      <td>0.346486</td>\n      <td>0.329915</td>\n    </tr>\n    <tr>\n      <th>28</th>\n      <td>0.472037</td>\n      <td>0.497676</td>\n      <td>0.511994</td>\n      <td>0.492989</td>\n      <td>0.440224</td>\n      <td>0.126687</td>\n      <td>0.367720</td>\n      <td>0.309591</td>\n      <td>0.066973</td>\n      <td>0.390689</td>\n      <td>...</td>\n      <td>0.030544</td>\n      <td>0.018910</td>\n      <td>0.363576</td>\n      <td>0.362923</td>\n      <td>0.270432</td>\n      <td>0.098213</td>\n      <td>0.331081</td>\n      <td>0.292061</td>\n      <td>0.324617</td>\n      <td>0.310250</td>\n    </tr>\n    <tr>\n      <th>29</th>\n      <td>0.459492</td>\n      <td>0.481530</td>\n      <td>0.490891</td>\n      <td>0.469783</td>\n      <td>0.421574</td>\n      <td>0.123303</td>\n      <td>0.339188</td>\n      <td>0.283802</td>\n      <td>0.044251</td>\n      <td>0.365660</td>\n      <td>...</td>\n      <td>0.021507</td>\n      <td>0.009996</td>\n      <td>0.354931</td>\n      <td>0.346247</td>\n      <td>0.257804</td>\n      <td>0.095593</td>\n      <td>0.323291</td>\n      <td>0.271656</td>\n      <td>0.302583</td>\n      <td>0.289959</td>\n    </tr>\n    <tr>\n      <th>30</th>\n      <td>0.437946</td>\n      <td>0.456924</td>\n      <td>0.463696</td>\n      <td>0.441530</td>\n      <td>0.398568</td>\n      <td>0.123364</td>\n      <td>0.308961</td>\n      <td>0.256449</td>\n      <td>0.020556</td>\n      <td>0.341200</td>\n      <td>...</td>\n      <td>0.006729</td>\n      <td>-0.006792</td>\n      <td>0.334503</td>\n      <td>0.324866</td>\n      <td>0.240884</td>\n      <td>0.082216</td>\n      <td>0.310158</td>\n      <td>0.254015</td>\n      <td>0.281456</td>\n      <td>0.271131</td>\n    </tr>\n    <tr>\n      <th>31</th>\n      <td>0.408466</td>\n      <td>0.426370</td>\n      <td>0.434749</td>\n      <td>0.413245</td>\n      <td>0.374777</td>\n      <td>0.122560</td>\n      <td>0.280617</td>\n      <td>0.229699</td>\n      <td>-0.001728</td>\n      <td>0.316648</td>\n      <td>...</td>\n      <td>-0.010694</td>\n      <td>-0.024235</td>\n      <td>0.311344</td>\n      <td>0.303157</td>\n      <td>0.223729</td>\n      <td>0.063016</td>\n      <td>0.296137</td>\n      <td>0.237767</td>\n      <td>0.262087</td>\n      <td>0.253845</td>\n    </tr>\n    <tr>\n      <th>32</th>\n      <td>0.378787</td>\n      <td>0.395780</td>\n      <td>0.406798</td>\n      <td>0.387691</td>\n      <td>0.352318</td>\n      <td>0.122557</td>\n      <td>0.255399</td>\n      <td>0.204744</td>\n      <td>-0.022176</td>\n      <td>0.294337</td>\n      <td>...</td>\n      <td>-0.026899</td>\n      <td>-0.040250</td>\n      <td>0.289884</td>\n      <td>0.284925</td>\n      <td>0.211066</td>\n      <td>0.047109</td>\n      <td>0.282172</td>\n      <td>0.224481</td>\n      <td>0.244150</td>\n      <td>0.238289</td>\n    </tr>\n    <tr>\n      <th>33</th>\n      <td>0.350682</td>\n      <td>0.366978</td>\n      <td>0.383304</td>\n      <td>0.367208</td>\n      <td>0.333264</td>\n      <td>0.125860</td>\n      <td>0.233019</td>\n      <td>0.182560</td>\n      <td>-0.040429</td>\n      <td>0.273979</td>\n      <td>...</td>\n      <td>-0.040061</td>\n      <td>-0.053697</td>\n      <td>0.272697</td>\n      <td>0.271476</td>\n      <td>0.204547</td>\n      <td>0.035286</td>\n      <td>0.268721</td>\n      <td>0.213316</td>\n      <td>0.227304</td>\n      <td>0.224425</td>\n    </tr>\n    <tr>\n      <th>34</th>\n      <td>0.327537</td>\n      <td>0.344818</td>\n      <td>0.366098</td>\n      <td>0.349958</td>\n      <td>0.317309</td>\n      <td>0.129243</td>\n      <td>0.212716</td>\n      <td>0.161926</td>\n      <td>-0.058194</td>\n      <td>0.256400</td>\n      <td>...</td>\n      <td>-0.049855</td>\n      <td>-0.061499</td>\n      <td>0.264537</td>\n      <td>0.262620</td>\n      <td>0.201458</td>\n      <td>0.029373</td>\n      <td>0.258933</td>\n      <td>0.200430</td>\n      <td>0.211335</td>\n      <td>0.210374</td>\n    </tr>\n    <tr>\n      <th>35</th>\n      <td>0.310518</td>\n      <td>0.328632</td>\n      <td>0.351907</td>\n      <td>0.333120</td>\n      <td>0.301592</td>\n      <td>0.127252</td>\n      <td>0.194491</td>\n      <td>0.142657</td>\n      <td>-0.074833</td>\n      <td>0.241104</td>\n      <td>...</td>\n      <td>-0.056679</td>\n      <td>-0.064355</td>\n      <td>0.261358</td>\n      <td>0.254587</td>\n      <td>0.199676</td>\n      <td>0.027484</td>\n      <td>0.253841</td>\n      <td>0.184116</td>\n      <td>0.194852</td>\n      <td>0.195135</td>\n    </tr>\n    <tr>\n      <th>36</th>\n      <td>0.296485</td>\n      <td>0.315016</td>\n      <td>0.338328</td>\n      <td>0.315869</td>\n      <td>0.286008</td>\n      <td>0.122758</td>\n      <td>0.178637</td>\n      <td>0.124118</td>\n      <td>-0.089523</td>\n      <td>0.225924</td>\n      <td>...</td>\n      <td>-0.063109</td>\n      <td>-0.060616</td>\n      <td>0.258247</td>\n      <td>0.243899</td>\n      <td>0.194564</td>\n      <td>0.023515</td>\n      <td>0.253657</td>\n      <td>0.166081</td>\n      <td>0.179102</td>\n      <td>0.179491</td>\n    </tr>\n    <tr>\n      <th>37</th>\n      <td>0.283038</td>\n      <td>0.299425</td>\n      <td>0.321472</td>\n      <td>0.298827</td>\n      <td>0.272415</td>\n      <td>0.121520</td>\n      <td>0.162975</td>\n      <td>0.105717</td>\n      <td>-0.103501</td>\n      <td>0.211031</td>\n      <td>...</td>\n      <td>-0.064615</td>\n      <td>-0.057599</td>\n      <td>0.250836</td>\n      <td>0.229270</td>\n      <td>0.182959</td>\n      <td>0.013086</td>\n      <td>0.254627</td>\n      <td>0.150732</td>\n      <td>0.165779</td>\n      <td>0.165483</td>\n    </tr>\n    <tr>\n      <th>38</th>\n      <td>0.265805</td>\n      <td>0.280198</td>\n      <td>0.303552</td>\n      <td>0.282369</td>\n      <td>0.259367</td>\n      <td>0.118828</td>\n      <td>0.147623</td>\n      <td>0.089722</td>\n      <td>-0.118383</td>\n      <td>0.198910</td>\n      <td>...</td>\n      <td>-0.066786</td>\n      <td>-0.062357</td>\n      <td>0.237963</td>\n      <td>0.213809</td>\n      <td>0.167329</td>\n      <td>-0.006263</td>\n      <td>0.252231</td>\n      <td>0.142114</td>\n      <td>0.153401</td>\n      <td>0.153765</td>\n    </tr>\n    <tr>\n      <th>39</th>\n      <td>0.245043</td>\n      <td>0.258295</td>\n      <td>0.286800</td>\n      <td>0.267979</td>\n      <td>0.245877</td>\n      <td>0.112657</td>\n      <td>0.134784</td>\n      <td>0.078037</td>\n      <td>-0.131814</td>\n      <td>0.189173</td>\n      <td>...</td>\n      <td>-0.077021</td>\n      <td>-0.074768</td>\n      <td>0.220137</td>\n      <td>0.200883</td>\n      <td>0.154181</td>\n      <td>-0.030836</td>\n      <td>0.244353</td>\n      <td>0.135539</td>\n      <td>0.141047</td>\n      <td>0.143537</td>\n    </tr>\n    <tr>\n      <th>40</th>\n      <td>0.224589</td>\n      <td>0.241407</td>\n      <td>0.275957</td>\n      <td>0.258418</td>\n      <td>0.234948</td>\n      <td>0.107550</td>\n      <td>0.125288</td>\n      <td>0.068329</td>\n      <td>-0.142420</td>\n      <td>0.182348</td>\n      <td>...</td>\n      <td>-0.092340</td>\n      <td>-0.089184</td>\n      <td>0.199250</td>\n      <td>0.192975</td>\n      <td>0.145265</td>\n      <td>-0.052123</td>\n      <td>0.238795</td>\n      <td>0.129467</td>\n      <td>0.128948</td>\n      <td>0.134634</td>\n    </tr>\n    <tr>\n      <th>41</th>\n      <td>0.211276</td>\n      <td>0.234729</td>\n      <td>0.273798</td>\n      <td>0.255211</td>\n      <td>0.228576</td>\n      <td>0.107647</td>\n      <td>0.119444</td>\n      <td>0.060588</td>\n      <td>-0.150399</td>\n      <td>0.175986</td>\n      <td>...</td>\n      <td>-0.107908</td>\n      <td>-0.099304</td>\n      <td>0.180473</td>\n      <td>0.191915</td>\n      <td>0.139874</td>\n      <td>-0.063654</td>\n      <td>0.239449</td>\n      <td>0.121551</td>\n      <td>0.116857</td>\n      <td>0.126337</td>\n    </tr>\n    <tr>\n      <th>42</th>\n      <td>0.208960</td>\n      <td>0.238769</td>\n      <td>0.278415</td>\n      <td>0.255088</td>\n      <td>0.223462</td>\n      <td>0.105748</td>\n      <td>0.115140</td>\n      <td>0.053508</td>\n      <td>-0.157471</td>\n      <td>0.169854</td>\n      <td>...</td>\n      <td>-0.120798</td>\n      <td>-0.106725</td>\n      <td>0.167631</td>\n      <td>0.194956</td>\n      <td>0.136398</td>\n      <td>-0.062818</td>\n      <td>0.245453</td>\n      <td>0.111020</td>\n      <td>0.103816</td>\n      <td>0.117345</td>\n    </tr>\n    <tr>\n      <th>43</th>\n      <td>0.215741</td>\n      <td>0.248091</td>\n      <td>0.284423</td>\n      <td>0.253248</td>\n      <td>0.218707</td>\n      <td>0.102672</td>\n      <td>0.108527</td>\n      <td>0.044732</td>\n      <td>-0.165115</td>\n      <td>0.161677</td>\n      <td>...</td>\n      <td>-0.129819</td>\n      <td>-0.110234</td>\n      <td>0.161068</td>\n      <td>0.197307</td>\n      <td>0.134172</td>\n      <td>-0.055386</td>\n      <td>0.253313</td>\n      <td>0.101863</td>\n      <td>0.090024</td>\n      <td>0.107118</td>\n    </tr>\n    <tr>\n      <th>44</th>\n      <td>0.222393</td>\n      <td>0.254334</td>\n      <td>0.284878</td>\n      <td>0.246124</td>\n      <td>0.209247</td>\n      <td>0.098723</td>\n      <td>0.097139</td>\n      <td>0.032808</td>\n      <td>-0.175312</td>\n      <td>0.151061</td>\n      <td>...</td>\n      <td>-0.134066</td>\n      <td>-0.112540</td>\n      <td>0.158506</td>\n      <td>0.194044</td>\n      <td>0.130053</td>\n      <td>-0.049617</td>\n      <td>0.260271</td>\n      <td>0.097509</td>\n      <td>0.075137</td>\n      <td>0.094990</td>\n    </tr>\n    <tr>\n      <th>45</th>\n      <td>0.219907</td>\n      <td>0.252584</td>\n      <td>0.277886</td>\n      <td>0.234225</td>\n      <td>0.194634</td>\n      <td>0.090346</td>\n      <td>0.083235</td>\n      <td>0.019536</td>\n      <td>-0.186897</td>\n      <td>0.137084</td>\n      <td>...</td>\n      <td>-0.138560</td>\n      <td>-0.116994</td>\n      <td>0.158166</td>\n      <td>0.187299</td>\n      <td>0.123930</td>\n      <td>-0.046105</td>\n      <td>0.267144</td>\n      <td>0.095619</td>\n      <td>0.059052</td>\n      <td>0.080883</td>\n    </tr>\n    <tr>\n      <th>46</th>\n      <td>0.210492</td>\n      <td>0.246095</td>\n      <td>0.266290</td>\n      <td>0.219687</td>\n      <td>0.178703</td>\n      <td>0.080570</td>\n      <td>0.067520</td>\n      <td>0.004669</td>\n      <td>-0.200114</td>\n      <td>0.119783</td>\n      <td>...</td>\n      <td>-0.145673</td>\n      <td>-0.124970</td>\n      <td>0.160754</td>\n      <td>0.178412</td>\n      <td>0.116156</td>\n      <td>-0.043019</td>\n      <td>0.273108</td>\n      <td>0.094875</td>\n      <td>0.041655</td>\n      <td>0.064370</td>\n    </tr>\n    <tr>\n      <th>47</th>\n      <td>0.198506</td>\n      <td>0.235161</td>\n      <td>0.250551</td>\n      <td>0.202842</td>\n      <td>0.162826</td>\n      <td>0.080078</td>\n      <td>0.047300</td>\n      <td>-0.014856</td>\n      <td>-0.216042</td>\n      <td>0.099796</td>\n      <td>...</td>\n      <td>-0.158087</td>\n      <td>-0.135437</td>\n      <td>0.162761</td>\n      <td>0.165595</td>\n      <td>0.106945</td>\n      <td>-0.044037</td>\n      <td>0.274418</td>\n      <td>0.091291</td>\n      <td>0.022893</td>\n      <td>0.044665</td>\n    </tr>\n    <tr>\n      <th>48</th>\n      <td>0.186406</td>\n      <td>0.220816</td>\n      <td>0.231241</td>\n      <td>0.183133</td>\n      <td>0.145528</td>\n      <td>0.083359</td>\n      <td>0.023968</td>\n      <td>-0.037660</td>\n      <td>-0.233917</td>\n      <td>0.079655</td>\n      <td>...</td>\n      <td>-0.172306</td>\n      <td>-0.143376</td>\n      <td>0.160996</td>\n      <td>0.145690</td>\n      <td>0.092231</td>\n      <td>-0.051462</td>\n      <td>0.268782</td>\n      <td>0.077453</td>\n      <td>0.003439</td>\n      <td>0.021042</td>\n    </tr>\n    <tr>\n      <th>49</th>\n      <td>0.175143</td>\n      <td>0.206022</td>\n      <td>0.209746</td>\n      <td>0.162226</td>\n      <td>0.126873</td>\n      <td>0.079525</td>\n      <td>0.001448</td>\n      <td>-0.059718</td>\n      <td>-0.251113</td>\n      <td>0.060450</td>\n      <td>...</td>\n      <td>-0.184121</td>\n      <td>-0.148416</td>\n      <td>0.154792</td>\n      <td>0.119075</td>\n      <td>0.072030</td>\n      <td>-0.066075</td>\n      <td>0.254960</td>\n      <td>0.055736</td>\n      <td>-0.016219</td>\n      <td>-0.004790</td>\n    </tr>\n    <tr>\n      <th>50</th>\n      <td>0.164193</td>\n      <td>0.191666</td>\n      <td>0.190812</td>\n      <td>0.143268</td>\n      <td>0.108397</td>\n      <td>0.071863</td>\n      <td>-0.019651</td>\n      <td>-0.079955</td>\n      <td>-0.267387</td>\n      <td>0.040819</td>\n      <td>...</td>\n      <td>-0.192619</td>\n      <td>-0.148225</td>\n      <td>0.144185</td>\n      <td>0.088410</td>\n      <td>0.048293</td>\n      <td>-0.085898</td>\n      <td>0.235641</td>\n      <td>0.032155</td>\n      <td>-0.035551</td>\n      <td>-0.029815</td>\n    </tr>\n    <tr>\n      <th>51</th>\n      <td>0.154743</td>\n      <td>0.177530</td>\n      <td>0.173175</td>\n      <td>0.124960</td>\n      <td>0.089062</td>\n      <td>0.066702</td>\n      <td>-0.041435</td>\n      <td>-0.100433</td>\n      <td>-0.284313</td>\n      <td>0.020363</td>\n      <td>...</td>\n      <td>-0.193210</td>\n      <td>-0.149998</td>\n      <td>0.130421</td>\n      <td>0.055370</td>\n      <td>0.020984</td>\n      <td>-0.109349</td>\n      <td>0.213867</td>\n      <td>0.010310</td>\n      <td>-0.053906</td>\n      <td>-0.052949</td>\n    </tr>\n    <tr>\n      <th>52</th>\n      <td>0.142710</td>\n      <td>0.162460</td>\n      <td>0.155299</td>\n      <td>0.104614</td>\n      <td>0.067836</td>\n      <td>0.059235</td>\n      <td>-0.065154</td>\n      <td>-0.122614</td>\n      <td>-0.302693</td>\n      <td>0.000067</td>\n      <td>...</td>\n      <td>-0.194322</td>\n      <td>-0.157840</td>\n      <td>0.116703</td>\n      <td>0.021617</td>\n      <td>-0.006618</td>\n      <td>-0.136504</td>\n      <td>0.191317</td>\n      <td>-0.011873</td>\n      <td>-0.070712</td>\n      <td>-0.073805</td>\n    </tr>\n    <tr>\n      <th>53</th>\n      <td>0.124952</td>\n      <td>0.145143</td>\n      <td>0.134933</td>\n      <td>0.081268</td>\n      <td>0.044922</td>\n      <td>0.050083</td>\n      <td>-0.090953</td>\n      <td>-0.145886</td>\n      <td>-0.322486</td>\n      <td>-0.018700</td>\n      <td>...</td>\n      <td>-0.201903</td>\n      <td>-0.170857</td>\n      <td>0.102998</td>\n      <td>-0.008776</td>\n      <td>-0.031458</td>\n      <td>-0.165598</td>\n      <td>0.167695</td>\n      <td>-0.030147</td>\n      <td>-0.085608</td>\n      <td>-0.091325</td>\n    </tr>\n    <tr>\n      <th>54</th>\n      <td>0.102609</td>\n      <td>0.124420</td>\n      <td>0.112153</td>\n      <td>0.057198</td>\n      <td>0.021090</td>\n      <td>0.038033</td>\n      <td>-0.115397</td>\n      <td>-0.167712</td>\n      <td>-0.341362</td>\n      <td>-0.033753</td>\n      <td>...</td>\n      <td>-0.214434</td>\n      <td>-0.185111</td>\n      <td>0.089477</td>\n      <td>-0.034627</td>\n      <td>-0.052481</td>\n      <td>-0.192382</td>\n      <td>0.146343</td>\n      <td>-0.043072</td>\n      <td>-0.098218</td>\n      <td>-0.105890</td>\n    </tr>\n  </tbody>\n</table>\n<p>55 rows × 48 columns</p>\n</div>"
     },
     "execution_count": 15,
     "metadata": {},
     "output_type": "execute_result"
    }
   ],
   "source": [
    "correlation_tensor['1515']"
   ],
   "metadata": {
    "collapsed": false,
    "ExecuteTime": {
     "end_time": "2023-07-13T10:11:12.174362956Z",
     "start_time": "2023-07-13T10:11:12.168250330Z"
    }
   }
  },
  {
   "cell_type": "code",
   "execution_count": 16,
   "outputs": [],
   "source": [
    "correlation_tensor_max_corr = {k : v.idxmax() -5 for k,v in correlation_tensor.items() }"
   ],
   "metadata": {
    "collapsed": false,
    "ExecuteTime": {
     "end_time": "2023-07-13T10:12:32.499422467Z",
     "start_time": "2023-07-13T10:12:32.455639612Z"
    }
   }
  },
  {
   "cell_type": "code",
   "execution_count": 17,
   "outputs": [
    {
     "data": {
      "text/plain": "1515      0\n1516      0\n1518     -5\n1521     -5\n1719     -4\n1720     -3\n1722     -4\n1723     -4\n2040     -4\n2046     -3\n2048     -2\n2271     -2\n2272     -2\n2274     -2\n2275     -2\n2278     -3\n2543     -4\n2753     -5\n2756     -3\n2757     -2\n2760     -2\n1514      0\n2041     -1\n1523      0\n2042     -4\n2736      1\n1721     -4\n1724     -5\n1725     -5\n2744      0\n2748      0\n2759     -3\n1520     -5\n1527      0\n1729      1\n1726      1\n2541     -4\n1530      0\n1732      1\n1734      0\n2049      1\n2741     -4\n2742     -4\n2751     -5\n2545      0\n744624   -3\n210888   -1\n210900   -1\ndtype: int64"
     },
     "execution_count": 17,
     "metadata": {},
     "output_type": "execute_result"
    }
   ],
   "source": [
    "correlation_tensor_max_corr['1515']"
   ],
   "metadata": {
    "collapsed": false,
    "ExecuteTime": {
     "end_time": "2023-07-13T10:12:33.386927651Z",
     "start_time": "2023-07-13T10:12:33.372915641Z"
    }
   }
  },
  {
   "cell_type": "code",
   "execution_count": 76,
   "outputs": [],
   "source": [
    "pd.Series(data = correlation_tensor_max_corr.values(),index=correlation_tensor_max_corr.keys()).to_csv(\"../data/maximum_correlations_every_station.csv\")"
   ],
   "metadata": {
    "collapsed": false,
    "ExecuteTime": {
     "end_time": "2023-07-13T09:48:51.578195462Z",
     "start_time": "2023-07-13T09:48:51.563869719Z"
    }
   }
  },
  {
   "cell_type": "code",
   "execution_count": 2,
   "outputs": [],
   "source": [
    "df = pd.read_csv('../data/maximum_correlations_every_station.csv')"
   ],
   "metadata": {
    "collapsed": false,
    "ExecuteTime": {
     "end_time": "2023-07-13T12:11:03.608184896Z",
     "start_time": "2023-07-13T12:11:03.607505567Z"
    }
   }
  },
  {
   "cell_type": "code",
   "execution_count": 8,
   "outputs": [],
   "source": [
    "df = df.rename(columns={'Unnamed: 0': 'stations'})"
   ],
   "metadata": {
    "collapsed": false,
    "ExecuteTime": {
     "end_time": "2023-07-13T12:13:08.718803723Z",
     "start_time": "2023-07-13T12:13:08.711307733Z"
    }
   }
  },
  {
   "cell_type": "code",
   "execution_count": 23,
   "outputs": [
    {
     "data": {
      "text/plain": "'1515      0\\n1516      0\\n1518     -5\\n1521     -5\\n1719     -4\\n1720     -3\\n1722     -4\\n1723     -4\\n2040     -4\\n2046     -3\\n2048     -2\\n2271     -2\\n2272     -2\\n2274     -2\\n2275     -2\\n2278     -3\\n2543     -4\\n2753     -5\\n2756     -3\\n2757     -2\\n2760     -2\\n1514      0\\n2041     -1\\n1523      0\\n2042     -4\\n2736      1\\n1721     -4\\n1724     -5\\n1725     -5\\n2744      0\\n2748      0\\n2759     -3\\n1520     -5\\n1527      0\\n1729      1\\n1726      1\\n2541     -4\\n1530      0\\n1732      1\\n1734      0\\n2049      1\\n2741     -4\\n2742     -4\\n2751     -5\\n2545      0\\n744624   -3\\n210888   -1\\n210900   -1\\ndtype: int64'"
     },
     "execution_count": 23,
     "metadata": {},
     "output_type": "execute_result"
    }
   ],
   "source": [
    "df.loc[1515][0]"
   ],
   "metadata": {
    "collapsed": false,
    "ExecuteTime": {
     "end_time": "2023-07-13T12:16:36.886969429Z",
     "start_time": "2023-07-13T12:16:36.841549598Z"
    }
   }
  },
  {
   "cell_type": "code",
   "execution_count": 20,
   "outputs": [],
   "source": [
    "df = df.set_index('stations')"
   ],
   "metadata": {
    "collapsed": false,
    "ExecuteTime": {
     "end_time": "2023-07-13T12:16:14.342094998Z",
     "start_time": "2023-07-13T12:16:14.336210610Z"
    }
   }
  },
  {
   "cell_type": "code",
   "execution_count": 11,
   "outputs": [],
   "source": [
    "df.to_csv('../data/maximum_correlations_every_station.csv')"
   ],
   "metadata": {
    "collapsed": false,
    "ExecuteTime": {
     "end_time": "2023-07-13T12:13:43.873092219Z",
     "start_time": "2023-07-13T12:13:43.849207267Z"
    }
   }
  },
  {
   "cell_type": "code",
   "execution_count": 12,
   "outputs": [
    {
     "data": {
      "text/plain": "    Unnamed: 0  stations                                                  0\n0            0      1515  1515      0\\n1516      0\\n1518     -5\\n1521   ...\n1            1      1516  1515      0\\n1516      0\\n1518     -5\\n1521   ...\n2            2      1518  1515      1\\n1516      1\\n1518      0\\n1521   ...\n3            3      1521  1515      1\\n1516      1\\n1518      1\\n1521   ...\n4            4      1719  1515      2\\n1516      1\\n1518      1\\n1521   ...\n5            5      1720  1515       3\\n1516       2\\n1518       2\\n1521...\n6            6      1722  1515      2\\n1516      1\\n1518      1\\n1521   ...\n7            7      1723  1515       2\\n1516       2\\n1518       1\\n1521...\n8            8      2040  1515       3\\n1516       2\\n1518       2\\n1521...\n9            9      2046  1515       3\\n1516       3\\n1518       2\\n1521...\n10          10      2048  1515       4\\n1516       3\\n1518       3\\n1521...\n11          11      2271  1515       4\\n1516       4\\n1518       3\\n1521...\n12          12      2272  1515       4\\n1516       4\\n1518       3\\n1521...\n13          13      2274  1515       4\\n1516       3\\n1518       3\\n1521...\n14          14      2275  1515       4\\n1516       4\\n1518       3\\n1521...\n15          15      2278  1515       4\\n1516       3\\n1518       3\\n1521...\n16          16      2543  1515       3\\n1516       2\\n1518       1\\n1521...\n17          17      2753  1515       1\\n1516       1\\n1518       0\\n1521...\n18          18      2756  1515       3\\n1516       2\\n1518       1\\n1521...\n19          19      2757  1515       4\\n1516       3\\n1518       2\\n1521...\n20          20      2760  1515       4\\n1516       4\\n1518       3\\n1521...\n21          21      1514  1515       0\\n1516      -5\\n1518      -4\\n1521...\n22          22      2041  1515      47\\n1516      48\\n1518      49\\n1521...\n23          23      1523  1515      0\\n1516      0\\n1518     -5\\n1521   ...\n24          24      2042  1515      3\\n1516      2\\n1518      2\\n1521   ...\n25          25      2736  1515      -5\\n1516      -5\\n1518      -5\\n1521...\n26          26      1721  1515      2\\n1516      1\\n1518      1\\n1521   ...\n27          27      1724  1515      2\\n1516      1\\n1518      1\\n1521   ...\n28          28      1725  1515      2\\n1516      2\\n1518      1\\n1521   ...\n29          29      2744  1515      0\\n1516      0\\n1518     -5\\n1521   ...\n30          30      2748  1515      1\\n1516      1\\n1518      0\\n1521   ...\n31          31      2759  1515       4\\n1516       4\\n1518       3\\n1521...\n32          32      1520  1515      1\\n1516      1\\n1518      0\\n1521   ...\n33          33      1527  1515      0\\n1516      0\\n1518     -5\\n1521   ...\n34          34      1729  1515      1\\n1516      0\\n1518      0\\n1521   ...\n35          35      1726  1515      0\\n1516     -5\\n1518     -5\\n1521   ...\n36          36      2541  1515      3\\n1516      2\\n1518      2\\n1521   ...\n37          37      1530  1515      0\\n1516      0\\n1518     -5\\n1521   ...\n38          38      1732  1515       0\\n1516      -5\\n1518      -5\\n1521...\n39          39      1734  1515       0\\n1516       0\\n1518       0\\n1521...\n40          40      2049  1515      1\\n1516      1\\n1518      0\\n1521   ...\n41          41      2741  1515      2\\n1516      2\\n1518      1\\n1521   ...\n42          42      2742  1515      2\\n1516      2\\n1518      1\\n1521   ...\n43          43      2751  1515      1\\n1516      1\\n1518      0\\n1521   ...\n44          44      2545  1515      1\\n1516      0\\n1518      0\\n1521   ...\n45          45    744624  1515      4\\n1516      3\\n1518      3\\n1521   ...\n46          46    210888  1515       9\\n1516       8\\n1518       7\\n1521...\n47          47    210900  1515      6\\n1516      6\\n1518      5\\n1521   ...",
      "text/html": "<div>\n<style scoped>\n    .dataframe tbody tr th:only-of-type {\n        vertical-align: middle;\n    }\n\n    .dataframe tbody tr th {\n        vertical-align: top;\n    }\n\n    .dataframe thead th {\n        text-align: right;\n    }\n</style>\n<table border=\"1\" class=\"dataframe\">\n  <thead>\n    <tr style=\"text-align: right;\">\n      <th></th>\n      <th>Unnamed: 0</th>\n      <th>stations</th>\n      <th>0</th>\n    </tr>\n  </thead>\n  <tbody>\n    <tr>\n      <th>0</th>\n      <td>0</td>\n      <td>1515</td>\n      <td>1515      0\\n1516      0\\n1518     -5\\n1521   ...</td>\n    </tr>\n    <tr>\n      <th>1</th>\n      <td>1</td>\n      <td>1516</td>\n      <td>1515      0\\n1516      0\\n1518     -5\\n1521   ...</td>\n    </tr>\n    <tr>\n      <th>2</th>\n      <td>2</td>\n      <td>1518</td>\n      <td>1515      1\\n1516      1\\n1518      0\\n1521   ...</td>\n    </tr>\n    <tr>\n      <th>3</th>\n      <td>3</td>\n      <td>1521</td>\n      <td>1515      1\\n1516      1\\n1518      1\\n1521   ...</td>\n    </tr>\n    <tr>\n      <th>4</th>\n      <td>4</td>\n      <td>1719</td>\n      <td>1515      2\\n1516      1\\n1518      1\\n1521   ...</td>\n    </tr>\n    <tr>\n      <th>5</th>\n      <td>5</td>\n      <td>1720</td>\n      <td>1515       3\\n1516       2\\n1518       2\\n1521...</td>\n    </tr>\n    <tr>\n      <th>6</th>\n      <td>6</td>\n      <td>1722</td>\n      <td>1515      2\\n1516      1\\n1518      1\\n1521   ...</td>\n    </tr>\n    <tr>\n      <th>7</th>\n      <td>7</td>\n      <td>1723</td>\n      <td>1515       2\\n1516       2\\n1518       1\\n1521...</td>\n    </tr>\n    <tr>\n      <th>8</th>\n      <td>8</td>\n      <td>2040</td>\n      <td>1515       3\\n1516       2\\n1518       2\\n1521...</td>\n    </tr>\n    <tr>\n      <th>9</th>\n      <td>9</td>\n      <td>2046</td>\n      <td>1515       3\\n1516       3\\n1518       2\\n1521...</td>\n    </tr>\n    <tr>\n      <th>10</th>\n      <td>10</td>\n      <td>2048</td>\n      <td>1515       4\\n1516       3\\n1518       3\\n1521...</td>\n    </tr>\n    <tr>\n      <th>11</th>\n      <td>11</td>\n      <td>2271</td>\n      <td>1515       4\\n1516       4\\n1518       3\\n1521...</td>\n    </tr>\n    <tr>\n      <th>12</th>\n      <td>12</td>\n      <td>2272</td>\n      <td>1515       4\\n1516       4\\n1518       3\\n1521...</td>\n    </tr>\n    <tr>\n      <th>13</th>\n      <td>13</td>\n      <td>2274</td>\n      <td>1515       4\\n1516       3\\n1518       3\\n1521...</td>\n    </tr>\n    <tr>\n      <th>14</th>\n      <td>14</td>\n      <td>2275</td>\n      <td>1515       4\\n1516       4\\n1518       3\\n1521...</td>\n    </tr>\n    <tr>\n      <th>15</th>\n      <td>15</td>\n      <td>2278</td>\n      <td>1515       4\\n1516       3\\n1518       3\\n1521...</td>\n    </tr>\n    <tr>\n      <th>16</th>\n      <td>16</td>\n      <td>2543</td>\n      <td>1515       3\\n1516       2\\n1518       1\\n1521...</td>\n    </tr>\n    <tr>\n      <th>17</th>\n      <td>17</td>\n      <td>2753</td>\n      <td>1515       1\\n1516       1\\n1518       0\\n1521...</td>\n    </tr>\n    <tr>\n      <th>18</th>\n      <td>18</td>\n      <td>2756</td>\n      <td>1515       3\\n1516       2\\n1518       1\\n1521...</td>\n    </tr>\n    <tr>\n      <th>19</th>\n      <td>19</td>\n      <td>2757</td>\n      <td>1515       4\\n1516       3\\n1518       2\\n1521...</td>\n    </tr>\n    <tr>\n      <th>20</th>\n      <td>20</td>\n      <td>2760</td>\n      <td>1515       4\\n1516       4\\n1518       3\\n1521...</td>\n    </tr>\n    <tr>\n      <th>21</th>\n      <td>21</td>\n      <td>1514</td>\n      <td>1515       0\\n1516      -5\\n1518      -4\\n1521...</td>\n    </tr>\n    <tr>\n      <th>22</th>\n      <td>22</td>\n      <td>2041</td>\n      <td>1515      47\\n1516      48\\n1518      49\\n1521...</td>\n    </tr>\n    <tr>\n      <th>23</th>\n      <td>23</td>\n      <td>1523</td>\n      <td>1515      0\\n1516      0\\n1518     -5\\n1521   ...</td>\n    </tr>\n    <tr>\n      <th>24</th>\n      <td>24</td>\n      <td>2042</td>\n      <td>1515      3\\n1516      2\\n1518      2\\n1521   ...</td>\n    </tr>\n    <tr>\n      <th>25</th>\n      <td>25</td>\n      <td>2736</td>\n      <td>1515      -5\\n1516      -5\\n1518      -5\\n1521...</td>\n    </tr>\n    <tr>\n      <th>26</th>\n      <td>26</td>\n      <td>1721</td>\n      <td>1515      2\\n1516      1\\n1518      1\\n1521   ...</td>\n    </tr>\n    <tr>\n      <th>27</th>\n      <td>27</td>\n      <td>1724</td>\n      <td>1515      2\\n1516      1\\n1518      1\\n1521   ...</td>\n    </tr>\n    <tr>\n      <th>28</th>\n      <td>28</td>\n      <td>1725</td>\n      <td>1515      2\\n1516      2\\n1518      1\\n1521   ...</td>\n    </tr>\n    <tr>\n      <th>29</th>\n      <td>29</td>\n      <td>2744</td>\n      <td>1515      0\\n1516      0\\n1518     -5\\n1521   ...</td>\n    </tr>\n    <tr>\n      <th>30</th>\n      <td>30</td>\n      <td>2748</td>\n      <td>1515      1\\n1516      1\\n1518      0\\n1521   ...</td>\n    </tr>\n    <tr>\n      <th>31</th>\n      <td>31</td>\n      <td>2759</td>\n      <td>1515       4\\n1516       4\\n1518       3\\n1521...</td>\n    </tr>\n    <tr>\n      <th>32</th>\n      <td>32</td>\n      <td>1520</td>\n      <td>1515      1\\n1516      1\\n1518      0\\n1521   ...</td>\n    </tr>\n    <tr>\n      <th>33</th>\n      <td>33</td>\n      <td>1527</td>\n      <td>1515      0\\n1516      0\\n1518     -5\\n1521   ...</td>\n    </tr>\n    <tr>\n      <th>34</th>\n      <td>34</td>\n      <td>1729</td>\n      <td>1515      1\\n1516      0\\n1518      0\\n1521   ...</td>\n    </tr>\n    <tr>\n      <th>35</th>\n      <td>35</td>\n      <td>1726</td>\n      <td>1515      0\\n1516     -5\\n1518     -5\\n1521   ...</td>\n    </tr>\n    <tr>\n      <th>36</th>\n      <td>36</td>\n      <td>2541</td>\n      <td>1515      3\\n1516      2\\n1518      2\\n1521   ...</td>\n    </tr>\n    <tr>\n      <th>37</th>\n      <td>37</td>\n      <td>1530</td>\n      <td>1515      0\\n1516      0\\n1518     -5\\n1521   ...</td>\n    </tr>\n    <tr>\n      <th>38</th>\n      <td>38</td>\n      <td>1732</td>\n      <td>1515       0\\n1516      -5\\n1518      -5\\n1521...</td>\n    </tr>\n    <tr>\n      <th>39</th>\n      <td>39</td>\n      <td>1734</td>\n      <td>1515       0\\n1516       0\\n1518       0\\n1521...</td>\n    </tr>\n    <tr>\n      <th>40</th>\n      <td>40</td>\n      <td>2049</td>\n      <td>1515      1\\n1516      1\\n1518      0\\n1521   ...</td>\n    </tr>\n    <tr>\n      <th>41</th>\n      <td>41</td>\n      <td>2741</td>\n      <td>1515      2\\n1516      2\\n1518      1\\n1521   ...</td>\n    </tr>\n    <tr>\n      <th>42</th>\n      <td>42</td>\n      <td>2742</td>\n      <td>1515      2\\n1516      2\\n1518      1\\n1521   ...</td>\n    </tr>\n    <tr>\n      <th>43</th>\n      <td>43</td>\n      <td>2751</td>\n      <td>1515      1\\n1516      1\\n1518      0\\n1521   ...</td>\n    </tr>\n    <tr>\n      <th>44</th>\n      <td>44</td>\n      <td>2545</td>\n      <td>1515      1\\n1516      0\\n1518      0\\n1521   ...</td>\n    </tr>\n    <tr>\n      <th>45</th>\n      <td>45</td>\n      <td>744624</td>\n      <td>1515      4\\n1516      3\\n1518      3\\n1521   ...</td>\n    </tr>\n    <tr>\n      <th>46</th>\n      <td>46</td>\n      <td>210888</td>\n      <td>1515       9\\n1516       8\\n1518       7\\n1521...</td>\n    </tr>\n    <tr>\n      <th>47</th>\n      <td>47</td>\n      <td>210900</td>\n      <td>1515      6\\n1516      6\\n1518      5\\n1521   ...</td>\n    </tr>\n  </tbody>\n</table>\n</div>"
     },
     "execution_count": 12,
     "metadata": {},
     "output_type": "execute_result"
    }
   ],
   "source": [
    "pd.read_csv('../data/maximum_correlations_every_station.csv')"
   ],
   "metadata": {
    "collapsed": false,
    "ExecuteTime": {
     "end_time": "2023-07-13T12:13:54.012325532Z",
     "start_time": "2023-07-13T12:13:53.999766929Z"
    }
   }
  },
  {
   "cell_type": "code",
   "execution_count": null,
   "outputs": [],
   "source": [],
   "metadata": {
    "collapsed": false
   }
  }
 ],
 "metadata": {
  "kernelspec": {
   "display_name": "Python 3",
   "language": "python",
   "name": "python3"
  },
  "language_info": {
   "codemirror_mode": {
    "name": "ipython",
    "version": 2
   },
   "file_extension": ".py",
   "mimetype": "text/x-python",
   "name": "python",
   "nbconvert_exporter": "python",
   "pygments_lexer": "ipython2",
   "version": "2.7.6"
  }
 },
 "nbformat": 4,
 "nbformat_minor": 0
}
